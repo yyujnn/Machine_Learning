{
 "cells": [
  {
   "cell_type": "markdown",
   "id": "bbc6c4cf",
   "metadata": {},
   "source": [
    "### 문제정의\n",
    "- 머신러닝을 통해서 어떤 문제를 해결할 것인가?\n",
    "- 지도 vs 비지도 vs 강화\n",
    "- 지도 : 분류 vs 회귀\n",
    "\n",
    "\n",
    "- 비만을 판단하는 모델을 만들자\n",
    "- 지도학습 --> 분류모델 사용"
   ]
  },
  {
   "cell_type": "markdown",
   "id": "5fbebdd4",
   "metadata": {},
   "source": [
    "### 데이터 수집\n",
    "- csv 파일로 이루어진 데이터 수집\n",
    "- 500명의 성별, 키, 몸무게, 비만도 등급"
   ]
  },
  {
   "cell_type": "code",
   "execution_count": 1,
   "id": "a6295ef0",
   "metadata": {
    "ExecuteTime": {
     "end_time": "2023-05-12T05:33:35.750330Z",
     "start_time": "2023-05-12T05:33:35.185043Z"
    }
   },
   "outputs": [
    {
     "data": {
      "text/html": [
       "<div>\n",
       "<style scoped>\n",
       "    .dataframe tbody tr th:only-of-type {\n",
       "        vertical-align: middle;\n",
       "    }\n",
       "\n",
       "    .dataframe tbody tr th {\n",
       "        vertical-align: top;\n",
       "    }\n",
       "\n",
       "    .dataframe thead th {\n",
       "        text-align: right;\n",
       "    }\n",
       "</style>\n",
       "<table border=\"1\" class=\"dataframe\">\n",
       "  <thead>\n",
       "    <tr style=\"text-align: right;\">\n",
       "      <th></th>\n",
       "      <th>Gender</th>\n",
       "      <th>Height</th>\n",
       "      <th>Weight</th>\n",
       "      <th>Label</th>\n",
       "    </tr>\n",
       "  </thead>\n",
       "  <tbody>\n",
       "    <tr>\n",
       "      <th>0</th>\n",
       "      <td>Male</td>\n",
       "      <td>174</td>\n",
       "      <td>96</td>\n",
       "      <td>Obesity</td>\n",
       "    </tr>\n",
       "    <tr>\n",
       "      <th>1</th>\n",
       "      <td>Male</td>\n",
       "      <td>189</td>\n",
       "      <td>87</td>\n",
       "      <td>Normal</td>\n",
       "    </tr>\n",
       "    <tr>\n",
       "      <th>2</th>\n",
       "      <td>Female</td>\n",
       "      <td>185</td>\n",
       "      <td>110</td>\n",
       "      <td>Obesity</td>\n",
       "    </tr>\n",
       "    <tr>\n",
       "      <th>3</th>\n",
       "      <td>Female</td>\n",
       "      <td>195</td>\n",
       "      <td>104</td>\n",
       "      <td>Overweight</td>\n",
       "    </tr>\n",
       "    <tr>\n",
       "      <th>4</th>\n",
       "      <td>Male</td>\n",
       "      <td>149</td>\n",
       "      <td>61</td>\n",
       "      <td>Overweight</td>\n",
       "    </tr>\n",
       "    <tr>\n",
       "      <th>...</th>\n",
       "      <td>...</td>\n",
       "      <td>...</td>\n",
       "      <td>...</td>\n",
       "      <td>...</td>\n",
       "    </tr>\n",
       "    <tr>\n",
       "      <th>495</th>\n",
       "      <td>Female</td>\n",
       "      <td>150</td>\n",
       "      <td>153</td>\n",
       "      <td>Extreme Obesity</td>\n",
       "    </tr>\n",
       "    <tr>\n",
       "      <th>496</th>\n",
       "      <td>Female</td>\n",
       "      <td>184</td>\n",
       "      <td>121</td>\n",
       "      <td>Obesity</td>\n",
       "    </tr>\n",
       "    <tr>\n",
       "      <th>497</th>\n",
       "      <td>Female</td>\n",
       "      <td>141</td>\n",
       "      <td>136</td>\n",
       "      <td>Extreme Obesity</td>\n",
       "    </tr>\n",
       "    <tr>\n",
       "      <th>498</th>\n",
       "      <td>Male</td>\n",
       "      <td>150</td>\n",
       "      <td>95</td>\n",
       "      <td>Extreme Obesity</td>\n",
       "    </tr>\n",
       "    <tr>\n",
       "      <th>499</th>\n",
       "      <td>Male</td>\n",
       "      <td>173</td>\n",
       "      <td>131</td>\n",
       "      <td>Extreme Obesity</td>\n",
       "    </tr>\n",
       "  </tbody>\n",
       "</table>\n",
       "<p>500 rows × 4 columns</p>\n",
       "</div>"
      ],
      "text/plain": [
       "     Gender  Height  Weight            Label\n",
       "0      Male     174      96          Obesity\n",
       "1      Male     189      87           Normal\n",
       "2    Female     185     110          Obesity\n",
       "3    Female     195     104       Overweight\n",
       "4      Male     149      61       Overweight\n",
       "..      ...     ...     ...              ...\n",
       "495  Female     150     153  Extreme Obesity\n",
       "496  Female     184     121          Obesity\n",
       "497  Female     141     136  Extreme Obesity\n",
       "498    Male     150      95  Extreme Obesity\n",
       "499    Male     173     131  Extreme Obesity\n",
       "\n",
       "[500 rows x 4 columns]"
      ]
     },
     "execution_count": 1,
     "metadata": {},
     "output_type": "execute_result"
    }
   ],
   "source": [
    "# pandas 라이브러리 불러와서 csv 파일의 데이터를 bmi 변수에 담아주기\n",
    "import pandas as pd\n",
    "bmi = pd.read_csv('./data/bmi_500.csv')\n",
    "bmi"
   ]
  },
  {
   "cell_type": "markdown",
   "id": "f969d0d4",
   "metadata": {},
   "source": [
    "### 데이터 전처리\n",
    "- 결측치 처리 : 비어있는 데이터를 채워주기\n",
    "- 이상치 처리 : 정상적인 범위에서 벗어난 데이터 수정하기"
   ]
  },
  {
   "cell_type": "markdown",
   "id": "8707fc51",
   "metadata": {},
   "source": [
    "#### 결측치 확인 \n",
    "- 데이터 정보 및 결측치 확인하는 함수 : info()"
   ]
  },
  {
   "cell_type": "code",
   "execution_count": 2,
   "id": "6aa20fc5",
   "metadata": {
    "ExecuteTime": {
     "end_time": "2023-05-12T05:33:35.780688Z",
     "start_time": "2023-05-12T05:33:35.752325Z"
    }
   },
   "outputs": [
    {
     "name": "stdout",
     "output_type": "stream",
     "text": [
      "<class 'pandas.core.frame.DataFrame'>\n",
      "RangeIndex: 500 entries, 0 to 499\n",
      "Data columns (total 4 columns):\n",
      " #   Column  Non-Null Count  Dtype \n",
      "---  ------  --------------  ----- \n",
      " 0   Gender  500 non-null    object\n",
      " 1   Height  500 non-null    int64 \n",
      " 2   Weight  500 non-null    int64 \n",
      " 3   Label   500 non-null    object\n",
      "dtypes: int64(2), object(2)\n",
      "memory usage: 15.8+ KB\n"
     ]
    }
   ],
   "source": [
    "bmi.info()"
   ]
  },
  {
   "cell_type": "markdown",
   "id": "07217314",
   "metadata": {},
   "source": [
    "#### 이상치 확인\n",
    "- describe() 함수 : 수치형 데이터만 분석 가능, 기술통계"
   ]
  },
  {
   "cell_type": "code",
   "execution_count": 3,
   "id": "883d6808",
   "metadata": {
    "ExecuteTime": {
     "end_time": "2023-05-12T05:33:35.805390Z",
     "start_time": "2023-05-12T05:33:35.782682Z"
    }
   },
   "outputs": [
    {
     "data": {
      "text/html": [
       "<div>\n",
       "<style scoped>\n",
       "    .dataframe tbody tr th:only-of-type {\n",
       "        vertical-align: middle;\n",
       "    }\n",
       "\n",
       "    .dataframe tbody tr th {\n",
       "        vertical-align: top;\n",
       "    }\n",
       "\n",
       "    .dataframe thead th {\n",
       "        text-align: right;\n",
       "    }\n",
       "</style>\n",
       "<table border=\"1\" class=\"dataframe\">\n",
       "  <thead>\n",
       "    <tr style=\"text-align: right;\">\n",
       "      <th></th>\n",
       "      <th>Height</th>\n",
       "      <th>Weight</th>\n",
       "    </tr>\n",
       "  </thead>\n",
       "  <tbody>\n",
       "    <tr>\n",
       "      <th>count</th>\n",
       "      <td>500.000000</td>\n",
       "      <td>500.000000</td>\n",
       "    </tr>\n",
       "    <tr>\n",
       "      <th>mean</th>\n",
       "      <td>169.944000</td>\n",
       "      <td>106.000000</td>\n",
       "    </tr>\n",
       "    <tr>\n",
       "      <th>std</th>\n",
       "      <td>16.375261</td>\n",
       "      <td>32.382607</td>\n",
       "    </tr>\n",
       "    <tr>\n",
       "      <th>min</th>\n",
       "      <td>140.000000</td>\n",
       "      <td>50.000000</td>\n",
       "    </tr>\n",
       "    <tr>\n",
       "      <th>25%</th>\n",
       "      <td>156.000000</td>\n",
       "      <td>80.000000</td>\n",
       "    </tr>\n",
       "    <tr>\n",
       "      <th>50%</th>\n",
       "      <td>170.500000</td>\n",
       "      <td>106.000000</td>\n",
       "    </tr>\n",
       "    <tr>\n",
       "      <th>75%</th>\n",
       "      <td>184.000000</td>\n",
       "      <td>136.000000</td>\n",
       "    </tr>\n",
       "    <tr>\n",
       "      <th>max</th>\n",
       "      <td>199.000000</td>\n",
       "      <td>160.000000</td>\n",
       "    </tr>\n",
       "  </tbody>\n",
       "</table>\n",
       "</div>"
      ],
      "text/plain": [
       "           Height      Weight\n",
       "count  500.000000  500.000000\n",
       "mean   169.944000  106.000000\n",
       "std     16.375261   32.382607\n",
       "min    140.000000   50.000000\n",
       "25%    156.000000   80.000000\n",
       "50%    170.500000  106.000000\n",
       "75%    184.000000  136.000000\n",
       "max    199.000000  160.000000"
      ]
     },
     "execution_count": 3,
     "metadata": {},
     "output_type": "execute_result"
    }
   ],
   "source": [
    "bmi.describe()\n",
    "\n",
    "# count : 데이터 수\n",
    "# mean : 평균깂\n",
    "# std : 표준편차\n",
    "# min : 최소값\n",
    "# 25% : 1분위수\n",
    "# 50% : 중앙값\n",
    "# 75% : 3분위수\n",
    "# max : 최대값\n",
    "\n",
    "# 1. min, max 확인하기\n",
    "# 2. 평균값(mean), 중앙값(50%) 확인하기 ==> 두 수치가 비슷 : 이상치 X\n",
    "# 3. 평균값과 중앙값의 수치가 비슷하지 않다면 min ~ max까지 5개의 간격을 확인하기 \n",
    "#                            ==> 각 구간의 데이터가 고르게 분포되어 있는지 확인\n",
    "\n",
    "#우리 데이터는 거의 다 정상적인 데이터로 판단이 됨"
   ]
  },
  {
   "cell_type": "markdown",
   "id": "d7cc2337",
   "metadata": {},
   "source": [
    "### 탐색적 데이터 분석(EDA)\n",
    "- 데이터를 자세하게 살펴보자\n",
    "- 비만도별로 데이터가 잘 나뉘어져 있는지 확인"
   ]
  },
  {
   "cell_type": "markdown",
   "id": "f47444a2",
   "metadata": {},
   "source": [
    "#### 비만도 등급 확인"
   ]
  },
  {
   "cell_type": "code",
   "execution_count": 4,
   "id": "533f3cb2",
   "metadata": {
    "ExecuteTime": {
     "end_time": "2023-05-12T05:33:35.818847Z",
     "start_time": "2023-05-12T05:33:35.808352Z"
    }
   },
   "outputs": [
    {
     "data": {
      "text/plain": [
       "array(['Obesity', 'Normal', 'Overweight', 'Extreme Obesity', 'Weak',\n",
       "       'Extremely Weak'], dtype=object)"
      ]
     },
     "execution_count": 4,
     "metadata": {},
     "output_type": "execute_result"
    }
   ],
   "source": [
    "# 중복없이 값을 확인하는 함수 : unique()\n",
    "bmi['Label'].unique()"
   ]
  },
  {
   "cell_type": "markdown",
   "id": "e8de6c5b",
   "metadata": {
    "ExecuteTime": {
     "end_time": "2023-05-11T02:18:59.587606Z",
     "start_time": "2023-05-11T02:18:59.571068Z"
    }
   },
   "source": [
    "#### 비만도가 Normal인 사람들만 추려보기"
   ]
  },
  {
   "cell_type": "code",
   "execution_count": 5,
   "id": "3eed8e74",
   "metadata": {
    "ExecuteTime": {
     "end_time": "2023-05-12T05:33:35.834881Z",
     "start_time": "2023-05-12T05:33:35.818847Z"
    }
   },
   "outputs": [
    {
     "data": {
      "text/html": [
       "<div>\n",
       "<style scoped>\n",
       "    .dataframe tbody tr th:only-of-type {\n",
       "        vertical-align: middle;\n",
       "    }\n",
       "\n",
       "    .dataframe tbody tr th {\n",
       "        vertical-align: top;\n",
       "    }\n",
       "\n",
       "    .dataframe thead th {\n",
       "        text-align: right;\n",
       "    }\n",
       "</style>\n",
       "<table border=\"1\" class=\"dataframe\">\n",
       "  <thead>\n",
       "    <tr style=\"text-align: right;\">\n",
       "      <th></th>\n",
       "      <th>Gender</th>\n",
       "      <th>Height</th>\n",
       "      <th>Weight</th>\n",
       "      <th>Label</th>\n",
       "    </tr>\n",
       "  </thead>\n",
       "  <tbody>\n",
       "    <tr>\n",
       "      <th>1</th>\n",
       "      <td>Male</td>\n",
       "      <td>189</td>\n",
       "      <td>87</td>\n",
       "      <td>Normal</td>\n",
       "    </tr>\n",
       "    <tr>\n",
       "      <th>10</th>\n",
       "      <td>Male</td>\n",
       "      <td>195</td>\n",
       "      <td>81</td>\n",
       "      <td>Normal</td>\n",
       "    </tr>\n",
       "    <tr>\n",
       "      <th>13</th>\n",
       "      <td>Male</td>\n",
       "      <td>155</td>\n",
       "      <td>51</td>\n",
       "      <td>Normal</td>\n",
       "    </tr>\n",
       "    <tr>\n",
       "      <th>14</th>\n",
       "      <td>Male</td>\n",
       "      <td>191</td>\n",
       "      <td>79</td>\n",
       "      <td>Normal</td>\n",
       "    </tr>\n",
       "    <tr>\n",
       "      <th>24</th>\n",
       "      <td>Female</td>\n",
       "      <td>172</td>\n",
       "      <td>67</td>\n",
       "      <td>Normal</td>\n",
       "    </tr>\n",
       "    <tr>\n",
       "      <th>...</th>\n",
       "      <td>...</td>\n",
       "      <td>...</td>\n",
       "      <td>...</td>\n",
       "      <td>...</td>\n",
       "    </tr>\n",
       "    <tr>\n",
       "      <th>472</th>\n",
       "      <td>Female</td>\n",
       "      <td>178</td>\n",
       "      <td>65</td>\n",
       "      <td>Normal</td>\n",
       "    </tr>\n",
       "    <tr>\n",
       "      <th>477</th>\n",
       "      <td>Male</td>\n",
       "      <td>167</td>\n",
       "      <td>64</td>\n",
       "      <td>Normal</td>\n",
       "    </tr>\n",
       "    <tr>\n",
       "      <th>478</th>\n",
       "      <td>Female</td>\n",
       "      <td>151</td>\n",
       "      <td>55</td>\n",
       "      <td>Normal</td>\n",
       "    </tr>\n",
       "    <tr>\n",
       "      <th>487</th>\n",
       "      <td>Male</td>\n",
       "      <td>187</td>\n",
       "      <td>80</td>\n",
       "      <td>Normal</td>\n",
       "    </tr>\n",
       "    <tr>\n",
       "      <th>490</th>\n",
       "      <td>Female</td>\n",
       "      <td>164</td>\n",
       "      <td>59</td>\n",
       "      <td>Normal</td>\n",
       "    </tr>\n",
       "  </tbody>\n",
       "</table>\n",
       "<p>69 rows × 4 columns</p>\n",
       "</div>"
      ],
      "text/plain": [
       "     Gender  Height  Weight   Label\n",
       "1      Male     189      87  Normal\n",
       "10     Male     195      81  Normal\n",
       "13     Male     155      51  Normal\n",
       "14     Male     191      79  Normal\n",
       "24   Female     172      67  Normal\n",
       "..      ...     ...     ...     ...\n",
       "472  Female     178      65  Normal\n",
       "477    Male     167      64  Normal\n",
       "478  Female     151      55  Normal\n",
       "487    Male     187      80  Normal\n",
       "490  Female     164      59  Normal\n",
       "\n",
       "[69 rows x 4 columns]"
      ]
     },
     "execution_count": 5,
     "metadata": {},
     "output_type": "execute_result"
    }
   ],
   "source": [
    "# 불리언 인덱싱을 사용하여 Normal 등급인 사람만 꺼내오기\n",
    "normal = bmi['Label']=='Normal'\n",
    "# 산점도를 이용하여 데이터를 표현\n",
    "scatter_data = bmi.loc[normal] # 라벨이 'Normal'인 전체 행에 대한 데이터를 가지고 와서 변수에 저장\n",
    "scatter_data"
   ]
  },
  {
   "cell_type": "markdown",
   "id": "13f13ddc",
   "metadata": {},
   "source": [
    "#### Normal인 사람들을 그래프로 그리기"
   ]
  },
  {
   "cell_type": "code",
   "execution_count": 6,
   "id": "c03f7526",
   "metadata": {
    "ExecuteTime": {
     "end_time": "2023-05-12T05:33:36.814614Z",
     "start_time": "2023-05-12T05:33:35.835851Z"
    }
   },
   "outputs": [
    {
     "data": {
      "image/png": "[encoded data removed]",
      "text/plain": [
       "<Figure size 640x480 with 1 Axes>"
      ]
     },
     "metadata": {},
     "output_type": "display_data"
    }
   ],
   "source": [
    "import matplotlib.pyplot as plt\n",
    "\n",
    "# plt.scatter(x,y) --> 산점도 차트\n",
    "plt.scatter(scatter_data['Height'], scatter_data['Weight'], color = 'blue', label = 'Normal')\n",
    "\n",
    "plt.legend() # 차트에서 그린 label 출력\n",
    "plt.show()"
   ]
  },
  {
   "cell_type": "markdown",
   "id": "cb611a7b",
   "metadata": {},
   "source": [
    "#### 비만도가 'Obesity' 인 사람만 추려서 그래프로 그려보기"
   ]
  },
  {
   "cell_type": "code",
   "execution_count": 7,
   "id": "8dd28317",
   "metadata": {
    "ExecuteTime": {
     "end_time": "2023-05-12T05:33:36.968158Z",
     "start_time": "2023-05-12T05:33:36.816991Z"
    }
   },
   "outputs": [
    {
     "data": {
      "image/png": "[encoded data removed]",
      "text/plain": [
       "<Figure size 640x480 with 1 Axes>"
      ]
     },
     "metadata": {},
     "output_type": "display_data"
    }
   ],
   "source": [
    "obesity = bmi['Label']=='Obesity'\n",
    "scatter_data = bmi.loc[obesity]\n",
    "plt.scatter(scatter_data['Height'], scatter_data['Weight'], color='green', label ='Obesity')\n",
    "plt.legend()\n",
    "plt.show()"
   ]
  },
  {
   "cell_type": "code",
   "execution_count": 8,
   "id": "4c4e1bcf",
   "metadata": {
    "ExecuteTime": {
     "end_time": "2023-05-12T05:33:37.148921Z",
     "start_time": "2023-05-12T05:33:36.970121Z"
    }
   },
   "outputs": [
    {
     "data": {
      "image/png": "[encoded data removed]",
      "text/plain": [
       "<Figure size 640x480 with 1 Axes>"
      ]
     },
     "metadata": {},
     "output_type": "display_data"
    }
   ],
   "source": [
    "obesity = bmi['Label']=='Obesity'\n",
    "scatter_data = bmi.loc[obesity]\n",
    "plt.scatter(scatter_data['Height'], scatter_data['Weight'], color='green', label ='Obesity')\n",
    "\n",
    "normal = bmi['Label']=='Normal'\n",
    "scatter_data = bmi.loc[normal]\n",
    "plt.scatter(scatter_data['Height'], scatter_data['Weight'], color = 'blue', label = 'Normal')\n",
    "\n",
    "\n",
    "plt.legend()\n",
    "plt.show()"
   ]
  },
  {
   "cell_type": "markdown",
   "id": "3f34697f",
   "metadata": {},
   "source": [
    "#### 함수로 만들어서 그래프 그리기\n",
    "- 반복되는 부분을 함수로 간략화(코드 간략화)"
   ]
  },
  {
   "cell_type": "code",
   "execution_count": 9,
   "id": "70772b94",
   "metadata": {
    "ExecuteTime": {
     "end_time": "2023-05-12T05:33:37.168611Z",
     "start_time": "2023-05-12T05:33:37.151913Z"
    }
   },
   "outputs": [],
   "source": [
    "def myScatter(label, color):\n",
    "    bmi_result = bmi['Label']== label\n",
    "    scatter_data = bmi.loc[bmi_result]\n",
    "    plt.scatter(scatter_data['Height'], scatter_data['Weight'], color = color, label = label)"
   ]
  },
  {
   "cell_type": "markdown",
   "id": "40ad68b6",
   "metadata": {},
   "source": [
    "#### 전체 그래프 그리기"
   ]
  },
  {
   "cell_type": "code",
   "execution_count": 37,
   "id": "4480c0a5",
   "metadata": {
    "ExecuteTime": {
     "end_time": "2023-05-12T06:34:21.225563Z",
     "start_time": "2023-05-12T06:34:20.957856Z"
    }
   },
   "outputs": [
    {
     "data": {
      "image/png": "[encoded data removed]",
      "text/plain": [
       "<Figure size 1200x800 with 1 Axes>"
      ]
     },
     "metadata": {},
     "output_type": "display_data"
    }
   ],
   "source": [
    "# 'Obesity', 'Normal', 'Overweight', 'Extreme Obesity', 'Weak', 'Extremely Weak'\n",
    "\n",
    "# 그래프 크기 조절\n",
    "plt.figure(figsize=(12,8))\n",
    "\n",
    "myScatter('Extreme Obesity', 'red')\n",
    "myScatter('Obesity', 'orange')\n",
    "myScatter('Normal','lightblue')\n",
    "myScatter('Weak', 'palevioletred')\n",
    "myScatter('Extremely Weak','purple')\n",
    "\n",
    "plt.legend(loc='upper right')\n",
    "plt.show()"
   ]
  },
  {
   "cell_type": "code",
   "execution_count": 11,
   "id": "c80ab200",
   "metadata": {
    "ExecuteTime": {
     "end_time": "2023-05-12T05:33:37.454386Z",
     "start_time": "2023-05-12T05:33:37.434194Z"
    }
   },
   "outputs": [
    {
     "data": {
      "text/html": [
       "<div>\n",
       "<style scoped>\n",
       "    .dataframe tbody tr th:only-of-type {\n",
       "        vertical-align: middle;\n",
       "    }\n",
       "\n",
       "    .dataframe tbody tr th {\n",
       "        vertical-align: top;\n",
       "    }\n",
       "\n",
       "    .dataframe thead th {\n",
       "        text-align: right;\n",
       "    }\n",
       "</style>\n",
       "<table border=\"1\" class=\"dataframe\">\n",
       "  <thead>\n",
       "    <tr style=\"text-align: right;\">\n",
       "      <th></th>\n",
       "      <th>Gender</th>\n",
       "      <th>Height</th>\n",
       "      <th>Weight</th>\n",
       "      <th>Label</th>\n",
       "    </tr>\n",
       "  </thead>\n",
       "  <tbody>\n",
       "    <tr>\n",
       "      <th>165</th>\n",
       "      <td>Male</td>\n",
       "      <td>181</td>\n",
       "      <td>78</td>\n",
       "      <td>Normal</td>\n",
       "    </tr>\n",
       "    <tr>\n",
       "      <th>231</th>\n",
       "      <td>Female</td>\n",
       "      <td>153</td>\n",
       "      <td>78</td>\n",
       "      <td>Normal</td>\n",
       "    </tr>\n",
       "    <tr>\n",
       "      <th>234</th>\n",
       "      <td>Male</td>\n",
       "      <td>145</td>\n",
       "      <td>78</td>\n",
       "      <td>Obesity</td>\n",
       "    </tr>\n",
       "  </tbody>\n",
       "</table>\n",
       "</div>"
      ],
      "text/plain": [
       "     Gender  Height  Weight    Label\n",
       "165    Male     181      78   Normal\n",
       "231  Female     153      78   Normal\n",
       "234    Male     145      78  Obesity"
      ]
     },
     "execution_count": 11,
     "metadata": {},
     "output_type": "execute_result"
    }
   ],
   "source": [
    "# 이상치 수정하기\n",
    "# 키가 153이고 몸무게가 78인 사람이 Noraml로 잘못 표기\n",
    "# Normal -> Obesity로 변경\n",
    "\n",
    "bmi.loc[bmi['Weight']==78]"
   ]
  },
  {
   "cell_type": "code",
   "execution_count": 12,
   "id": "b66e9b24",
   "metadata": {
    "ExecuteTime": {
     "end_time": "2023-05-12T05:33:37.469577Z",
     "start_time": "2023-05-12T05:33:37.454386Z"
    }
   },
   "outputs": [],
   "source": [
    "bmi.loc[231, 'Label'] = 'Obesity'"
   ]
  },
  {
   "cell_type": "markdown",
   "id": "0fb7fb40",
   "metadata": {},
   "source": [
    "### 모델 생성 및 하이퍼 파라미터 조정\n",
    "- 머신러닝 모델 불러와서 사용하는 단계"
   ]
  },
  {
   "cell_type": "markdown",
   "id": "98c01508",
   "metadata": {
    "ExecuteTime": {
     "end_time": "2023-05-11T03:11:23.469443Z",
     "start_time": "2023-05-11T03:11:23.464345Z"
    }
   },
   "source": [
    "#### 모델 불러오기\n",
    "- KNN 모델"
   ]
  },
  {
   "cell_type": "code",
   "execution_count": 13,
   "id": "aa1fc842",
   "metadata": {
    "ExecuteTime": {
     "end_time": "2023-05-12T05:33:38.333975Z",
     "start_time": "2023-05-12T05:33:37.470780Z"
    }
   },
   "outputs": [],
   "source": [
    "from sklearn.neighbors import KNeighborsClassifier"
   ]
  },
  {
   "cell_type": "code",
   "execution_count": 14,
   "id": "08c9850e",
   "metadata": {
    "ExecuteTime": {
     "end_time": "2023-05-12T05:33:38.352663Z",
     "start_time": "2023-05-12T05:33:38.334971Z"
    }
   },
   "outputs": [],
   "source": [
    "# 모델 생성\n",
    "knn_model = KNeighborsClassifier(n_neighbors=4)"
   ]
  },
  {
   "cell_type": "markdown",
   "id": "893633a0",
   "metadata": {},
   "source": [
    "#### 문제데이터와 정답데이터로 분리"
   ]
  },
  {
   "cell_type": "code",
   "execution_count": 15,
   "id": "4467417f",
   "metadata": {
    "ExecuteTime": {
     "end_time": "2023-05-12T05:33:38.371250Z",
     "start_time": "2023-05-12T05:33:38.354657Z"
    }
   },
   "outputs": [
    {
     "data": {
      "text/html": [
       "<div>\n",
       "<style scoped>\n",
       "    .dataframe tbody tr th:only-of-type {\n",
       "        vertical-align: middle;\n",
       "    }\n",
       "\n",
       "    .dataframe tbody tr th {\n",
       "        vertical-align: top;\n",
       "    }\n",
       "\n",
       "    .dataframe thead th {\n",
       "        text-align: right;\n",
       "    }\n",
       "</style>\n",
       "<table border=\"1\" class=\"dataframe\">\n",
       "  <thead>\n",
       "    <tr style=\"text-align: right;\">\n",
       "      <th></th>\n",
       "      <th>Height</th>\n",
       "      <th>Weight</th>\n",
       "    </tr>\n",
       "  </thead>\n",
       "  <tbody>\n",
       "    <tr>\n",
       "      <th>0</th>\n",
       "      <td>174</td>\n",
       "      <td>96</td>\n",
       "    </tr>\n",
       "    <tr>\n",
       "      <th>1</th>\n",
       "      <td>189</td>\n",
       "      <td>87</td>\n",
       "    </tr>\n",
       "    <tr>\n",
       "      <th>2</th>\n",
       "      <td>185</td>\n",
       "      <td>110</td>\n",
       "    </tr>\n",
       "    <tr>\n",
       "      <th>3</th>\n",
       "      <td>195</td>\n",
       "      <td>104</td>\n",
       "    </tr>\n",
       "    <tr>\n",
       "      <th>4</th>\n",
       "      <td>149</td>\n",
       "      <td>61</td>\n",
       "    </tr>\n",
       "    <tr>\n",
       "      <th>...</th>\n",
       "      <td>...</td>\n",
       "      <td>...</td>\n",
       "    </tr>\n",
       "    <tr>\n",
       "      <th>495</th>\n",
       "      <td>150</td>\n",
       "      <td>153</td>\n",
       "    </tr>\n",
       "    <tr>\n",
       "      <th>496</th>\n",
       "      <td>184</td>\n",
       "      <td>121</td>\n",
       "    </tr>\n",
       "    <tr>\n",
       "      <th>497</th>\n",
       "      <td>141</td>\n",
       "      <td>136</td>\n",
       "    </tr>\n",
       "    <tr>\n",
       "      <th>498</th>\n",
       "      <td>150</td>\n",
       "      <td>95</td>\n",
       "    </tr>\n",
       "    <tr>\n",
       "      <th>499</th>\n",
       "      <td>173</td>\n",
       "      <td>131</td>\n",
       "    </tr>\n",
       "  </tbody>\n",
       "</table>\n",
       "<p>500 rows × 2 columns</p>\n",
       "</div>"
      ],
      "text/plain": [
       "     Height  Weight\n",
       "0       174      96\n",
       "1       189      87\n",
       "2       185     110\n",
       "3       195     104\n",
       "4       149      61\n",
       "..      ...     ...\n",
       "495     150     153\n",
       "496     184     121\n",
       "497     141     136\n",
       "498     150      95\n",
       "499     173     131\n",
       "\n",
       "[500 rows x 2 columns]"
      ]
     },
     "metadata": {},
     "output_type": "display_data"
    },
    {
     "data": {
      "text/plain": [
       "0              Obesity\n",
       "1               Normal\n",
       "2              Obesity\n",
       "3           Overweight\n",
       "4           Overweight\n",
       "            ...       \n",
       "495    Extreme Obesity\n",
       "496            Obesity\n",
       "497    Extreme Obesity\n",
       "498    Extreme Obesity\n",
       "499    Extreme Obesity\n",
       "Name: Label, Length: 500, dtype: object"
      ]
     },
     "metadata": {},
     "output_type": "display_data"
    }
   ],
   "source": [
    "# 머신러닝은 수치형 데이터만 학습할 수 있음\n",
    "# 문자형 데이터 - 성별 컬럼은 학습할 수 없음\n",
    "# 키/몸무게 컬럼만 문제 데이터\n",
    "\n",
    "# 문제 데이터 : Height, Weight\n",
    "X = bmi.loc[:, 'Height':'Weight'] \n",
    "display(X)\n",
    "\n",
    "# 정답 데이터 : Label\n",
    "y = bmi.loc[:, 'Label']\n",
    "display(y)"
   ]
  },
  {
   "cell_type": "markdown",
   "id": "ec6053b3",
   "metadata": {},
   "source": [
    "#### 학습을 위해 훈련용(train)과 평가용(test)으로 분리 \n",
    "- 훈련 : 평가 = 7 : 3"
   ]
  },
  {
   "cell_type": "code",
   "execution_count": 16,
   "id": "27593e6d",
   "metadata": {
    "ExecuteTime": {
     "end_time": "2023-05-12T05:33:38.390101Z",
     "start_time": "2023-05-12T05:33:38.372248Z"
    }
   },
   "outputs": [],
   "source": [
    "# 훈련용 문제\n",
    "X_train = X.iloc[:350]\n",
    "# 테스트용 문제\n",
    "X_test = X.iloc[350:]\n",
    "# 훈련용 답\n",
    "y_train = y.iloc[:350]\n",
    "# 테스트용 답\n",
    "y_test = y.iloc[350:]"
   ]
  },
  {
   "cell_type": "code",
   "execution_count": 17,
   "id": "857b1156",
   "metadata": {
    "ExecuteTime": {
     "end_time": "2023-05-12T05:33:38.405636Z",
     "start_time": "2023-05-12T05:33:38.390101Z"
    }
   },
   "outputs": [
    {
     "name": "stdout",
     "output_type": "stream",
     "text": [
      "훈련용 문제 :  (350, 2)\n",
      "테스트용 문제 :  (150, 2)\n",
      "훈련용 답 :  (350,)\n",
      "테스트용 답 :  (150,)\n"
     ]
    }
   ],
   "source": [
    "print('훈련용 문제 : ',X_train.shape)\n",
    "print('테스트용 문제 : ',X_test.shape)\n",
    "print('훈련용 답 : ', y_train.shape)\n",
    "print('테스트용 답 : ', y_test.shape)"
   ]
  },
  {
   "cell_type": "markdown",
   "id": "ac9718cb",
   "metadata": {},
   "source": [
    "### 모델 학습"
   ]
  },
  {
   "cell_type": "code",
   "execution_count": 18,
   "id": "3ef88ae2",
   "metadata": {
    "ExecuteTime": {
     "end_time": "2023-05-12T05:33:38.421303Z",
     "start_time": "2023-05-12T05:33:38.406466Z"
    }
   },
   "outputs": [
    {
     "data": {
      "text/plain": [
       "KNeighborsClassifier(n_neighbors=4)"
      ]
     },
     "execution_count": 18,
     "metadata": {},
     "output_type": "execute_result"
    }
   ],
   "source": [
    "# fit(문제, 정답)\n",
    "knn_model.fit(X_train, y_train)"
   ]
  },
  {
   "cell_type": "markdown",
   "id": "f0755d24",
   "metadata": {},
   "source": [
    "### 모델 평가\n",
    "- 새로운 데이터에 대해서 예측\n",
    "- 모델이 제대로 만들어졌는지 평가"
   ]
  },
  {
   "cell_type": "code",
   "execution_count": 32,
   "id": "d62f773b",
   "metadata": {
    "ExecuteTime": {
     "end_time": "2023-05-12T05:57:38.842647Z",
     "start_time": "2023-05-12T05:57:38.824450Z"
    }
   },
   "outputs": [
    {
     "data": {
      "text/plain": [
       "array(['Normal'], dtype=object)"
      ]
     },
     "execution_count": 32,
     "metadata": {},
     "output_type": "execute_result"
    }
   ],
   "source": [
    "# 예측 \n",
    "knn_model.predict([[174,68]])"
   ]
  },
  {
   "cell_type": "code",
   "execution_count": 31,
   "id": "670b7b95",
   "metadata": {
    "ExecuteTime": {
     "end_time": "2023-05-12T05:57:34.097967Z",
     "start_time": "2023-05-12T05:57:34.080609Z"
    },
    "scrolled": true
   },
   "outputs": [
    {
     "data": {
      "text/plain": [
       "0.8933333333333333"
      ]
     },
     "execution_count": 31,
     "metadata": {},
     "output_type": "execute_result"
    }
   ],
   "source": [
    "# 평가 : 만들어진 모델에 평가 --> 학습에 사용하지 않은 새로운 문제(예측)와 정답(예측과 비교)이 필요\n",
    "# 평가 수치 : 몇 개를 맞췄는지 확인\n",
    "# score( 평가용 문제 데이터, 평가용 정답 데이터 )\n",
    "# 평가용 문제데이터를 학습을 통해 발견한 규칙으로 예측 ==> 예측에 대한 정답(실제 정답은 아님)\n",
    "# 평가용 정답데이터와 예측된 정답을 비교해서 백분율로 나타낸 값\n",
    "\n",
    "knn_model.score(X_test, y_test)\n",
    "\n",
    "# 150개중 134개 맞춤 ==> 정확도(accutacy) 89.3%"
   ]
  },
  {
   "cell_type": "code",
   "execution_count": 30,
   "id": "8b50bcd1",
   "metadata": {
    "ExecuteTime": {
     "end_time": "2023-05-12T05:57:31.663996Z",
     "start_time": "2023-05-12T05:57:31.640215Z"
    }
   },
   "outputs": [
    {
     "data": {
      "text/plain": [
       "0.9542857142857143"
      ]
     },
     "execution_count": 30,
     "metadata": {},
     "output_type": "execute_result"
    }
   ],
   "source": [
    "knn_model.score(X_train,y_train)\n",
    "\n",
    "# 테스트용 데이터보다 정확도가 높게 나오는 이유는 규칙을 찾는데 사용된 데이터를 기반으로 모델을 평가했기 때문에 score가 높음"
   ]
  },
  {
   "cell_type": "code",
   "execution_count": 29,
   "id": "091f58ac",
   "metadata": {
    "ExecuteTime": {
     "end_time": "2023-05-12T05:57:03.192453Z",
     "start_time": "2023-05-12T05:57:03.177409Z"
    }
   },
   "outputs": [],
   "source": [
    "# warning 없애기\n",
    "import warnings\n",
    "warnings.filterwarnings('ignore')"
   ]
  },
  {
   "cell_type": "markdown",
   "id": "1a6b919a",
   "metadata": {},
   "source": [
    "### 하이퍼 파라미터 튜닝하기\n",
    "- KNN 모델의 하이퍼 파라미터(n_neighbors)의 변화에 따라 score값을 확인\n",
    "- 최적의 하이퍼 파라미터를 찾기 위해서"
   ]
  },
  {
   "cell_type": "code",
   "execution_count": 46,
   "id": "2874e247",
   "metadata": {
    "ExecuteTime": {
     "end_time": "2023-05-12T07:30:59.208167Z",
     "start_time": "2023-05-12T07:30:58.558909Z"
    }
   },
   "outputs": [],
   "source": [
    "from sklearn.neighbors import KNeighborsClassifier\n",
    "# 점수를 저장할 lsit 생성\n",
    "train_acc = []\n",
    "test_acc = []\n",
    "\n",
    "# n_neighbors를 1~30까지 생성\n",
    "for i in range(1, 31) :\n",
    "    # n_neighbors를 변경해가면서 모델을 생성\n",
    "    knn_model = KNeighborsClassifier(n_neighbors = i)\n",
    "    # 생성된 모델에 학습\n",
    "    knn_model.fit(X_train, y_train)\n",
    "    \n",
    "    # 만들어진 규칙으로 score값 저장\n",
    "    # 과대적합, 과소적합 확인을 위한 데이터로 저장\n",
    "    train_acc.append(knn_model.score(X_train, y_train))\n",
    "    test_acc.append(knn_model.score(X_test, y_test))\n",
    "    \n",
    "#print(f\"{i}번째 score : {knn_model.score(X_test, Y_test)}\")"
   ]
  },
  {
   "cell_type": "markdown",
   "id": "e43dba0f",
   "metadata": {},
   "source": [
    "KNN : K-미지의 수 / N-Nearest / N-Neighbors\n",
    "- 가까운 이웃을 찾아서 예측 포인트로 사용\n",
    "- 분류 : 이웃 중에서 많은 값으로 예측\n",
    "- 회귀 : 이웃의 값의 평균값으로 예측\n",
    "- 장점 : 간단하게 사용가능하고 성능이 괜찮음\n",
    "- 단점 : 특성 값의 범위(scale)를 모두 다 동일하게 맞춰줘야 판단을 잘 함\n"
   ]
  },
  {
   "cell_type": "markdown",
   "id": "befef5d3",
   "metadata": {},
   "source": [
    "== 일반적인 상황 ==  \n",
    "\n",
    "과대적합 : 규칙이 너무 많아서 특정 데이터(학습에 사용한)만 맞춤  \n",
    "과소적합 : 규칙이 너무 없어서 아무것도 못 맞춤  \n",
    "일반화 : 규칙이 적당해서 잘 맞춤  \n",
    "==> 일반화가 잘 된 모델을 찾는 것(머신러닝을 진행하면서 가져야 할 목표)  \n",
    "\n",
    "\n",
    "== 머신러닝 상황 ==  \n",
    "\n",
    "과대적합 :   \n",
    "- 훈련세트에 너무 많이 학습해서 규칙이 훈련세트에 맞춰짐  \n",
    "- 훈련세트는 잘 맞추지만 평가세트는 잘 맞추지 못하는 현상  \n",
    "\n",
    "과소적합 :   \n",
    "- 훈련세트에 너무 적게 학습해서 규칙이 조금만 만들어짐  \n",
    "- 훈련세트도 잘 맞추지 못하고, 평가세트도 잘 맞추지 못함  \n",
    "\n",
    "일반화   \n",
    "- 훈련세트에 적당히 학습해서 규칙이 적당하게 만들어짐  \n",
    "- 훈련세트는 적당히 맞추고, 평가세트를 잘 맞추는 현상 "
   ]
  },
  {
   "cell_type": "code",
   "execution_count": 47,
   "id": "453ea1d9",
   "metadata": {
    "ExecuteTime": {
     "end_time": "2023-05-12T07:31:01.437656Z",
     "start_time": "2023-05-12T07:31:01.279743Z"
    }
   },
   "outputs": [
    {
     "data": {
      "image/png": "[encoded data removed]",
      "text/plain": [
       "<Figure size 640x480 with 1 Axes>"
      ]
     },
     "metadata": {},
     "output_type": "display_data"
    }
   ],
   "source": [
    "# 모델 복잡도 - 그래프로 확인하기\n",
    "import matplotlib.pyplot as plt\n",
    "# 선그래프(x,y축 값이 필요)\n",
    "# X축 : n_neighbors = range(1,31)\n",
    "# y축 : 정확도(accuracy)\n",
    "plt.plot(range(1,31), train_acc, label = 'Train')\n",
    "plt.plot(range(1,31), test_acc, label = 'Test')\n",
    "plt.legend()\n",
    "\n",
    "plt.show()"
   ]
  },
  {
   "attachments": {
    "image.png": {
     "image/png": "[encoded data removed]"
    }
   },
   "cell_type": "markdown",
   "id": "607b7091",
   "metadata": {},
   "source": [
    "![image.png](attachment:image.png)"
   ]
  },
  {
   "cell_type": "code",
   "execution_count": null,
   "id": "067cd9b4",
   "metadata": {},
   "outputs": [],
   "source": []
  },
  {
   "cell_type": "code",
   "execution_count": null,
   "id": "30d88dd6",
   "metadata": {},
   "outputs": [],
   "source": []
  },
  {
   "cell_type": "code",
   "execution_count": null,
   "id": "cf2a8d87",
   "metadata": {},
   "outputs": [],
   "source": []
  },
  {
   "cell_type": "code",
   "execution_count": null,
   "id": "b7206bea",
   "metadata": {},
   "outputs": [],
   "source": []
  },
  {
   "cell_type": "code",
   "execution_count": null,
   "id": "e4571f6c",
   "metadata": {},
   "outputs": [],
   "source": []
  },
  {
   "cell_type": "code",
   "execution_count": null,
   "id": "514cf53c",
   "metadata": {},
   "outputs": [],
   "source": []
  },
  {
   "cell_type": "code",
   "execution_count": null,
   "id": "fd51e8a9",
   "metadata": {},
   "outputs": [],
   "source": []
  },
  {
   "cell_type": "code",
   "execution_count": null,
   "id": "2ba4abb3",
   "metadata": {},
   "outputs": [],
   "source": []
  },
  {
   "cell_type": "code",
   "execution_count": null,
   "id": "9c0b494e",
   "metadata": {},
   "outputs": [],
   "source": []
  },
  {
   "cell_type": "code",
   "execution_count": null,
   "id": "8df3182c",
   "metadata": {},
   "outputs": [],
   "source": []
  },
  {
   "cell_type": "code",
   "execution_count": null,
   "id": "baa71da7",
   "metadata": {},
   "outputs": [],
   "source": []
  },
  {
   "cell_type": "code",
   "execution_count": null,
   "id": "cbbe4af0",
   "metadata": {},
   "outputs": [],
   "source": []
  },
  {
   "cell_type": "code",
   "execution_count": null,
   "id": "21331fb6",
   "metadata": {},
   "outputs": [],
   "source": []
  }
 ],
 "metadata": {
  "kernelspec": {
   "display_name": "Python 3 (ipykernel)",
   "language": "python",
   "name": "python3"
  },
  "language_info": {
   "codemirror_mode": {
    "name": "ipython",
    "version": 3
   },
   "file_extension": ".py",
   "mimetype": "text/x-python",
   "name": "python",
   "nbconvert_exporter": "python",
   "pygments_lexer": "ipython3",
   "version": "3.9.13"
  },
  "toc": {
   "base_numbering": 1,
   "nav_menu": {},
   "number_sections": true,
   "sideBar": true,
   "skip_h1_title": false,
   "title_cell": "Table of Contents",
   "title_sidebar": "Contents",
   "toc_cell": false,
   "toc_position": {},
   "toc_section_display": true,
   "toc_window_display": false
  },
  "varInspector": {
   "cols": {
    "lenName": 16,
    "lenType": 16,
    "lenVar": 40
   },
   "kernels_config": {
    "python": {
     "delete_cmd_postfix": "",
     "delete_cmd_prefix": "del ",
     "library": "var_list.py",
     "varRefreshCmd": "print(var_dic_list())"
    },
    "r": {
     "delete_cmd_postfix": ") ",
     "delete_cmd_prefix": "rm(",
     "library": "var_list.r",
     "varRefreshCmd": "cat(var_dic_list()) "
    }
   },
   "types_to_exclude": [
    "module",
    "function",
    "builtin_function_or_method",
    "instance",
    "_Feature"
   ],
   "window_display": false
  }
 },
 "nbformat": 4,
 "nbformat_minor": 5
}
