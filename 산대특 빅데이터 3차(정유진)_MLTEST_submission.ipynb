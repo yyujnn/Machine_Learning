{
 "cells": [
  {
   "cell_type": "markdown",
   "metadata": {},
   "source": [
    "### 머신러닝 시험 답안지(MLTEST_submission)\n",
    "- 파일명에 본인 성명 기입하시오(Enter your name in the file name.)\n",
    "- 수업 중 배웠던 내용을 상기하여 최선을 다해 문제 풀어주세요.(Recall what you learned in class and do your best to solve the problem.)"
   ]
  },
  {
   "cell_type": "markdown",
   "metadata": {},
   "source": [
    "#### Question1"
   ]
  },
  {
   "cell_type": "markdown",
   "metadata": {},
   "source": [
    "문제 1-1. "
   ]
  },
  {
   "cell_type": "markdown",
   "metadata": {},
   "source": [
    "- 지도학습\n",
    "(1) 의료 영상 이미지를 활용한 종양 유무 판단  \n",
    "(2) 자율 주행차의 방향 결정\n",
    "(3) 다양한 악기 소리가 섞여 있는 소리데이터에서 악기 소리 구분\n",
    "(5) 의심되는 신용카드 거래 데이터를 이용한 불법 사용 판단"
   ]
  },
  {
   "cell_type": "markdown",
   "metadata": {},
   "source": [
    "- 비지도학습\n",
    "(4) 블로그 글의 주제 구분\n",
    "(6) 고객들의 성향에 따라 고객 그룹핑  \n",
    "(7) 바둑 프로그램에서 다음 수 결정\n",
    "(8) 손글씨 숫자 인식"
   ]
  },
  {
   "cell_type": "markdown",
   "metadata": {},
   "source": [
    "문제 1-2."
   ]
  },
  {
   "cell_type": "markdown",
   "metadata": {
    "ExecuteTime": {
     "end_time": "2023-06-05T02:08:50.589226Z",
     "start_time": "2023-06-05T02:08:50.569134Z"
    }
   },
   "source": [
    "㉤ 비즈니스 이해 및 문제 정의 -> ㉠ 데이터 수집 ->   \n",
    "㉢ 데이터 전처리와 탐색 -> ㉡ 데이터에 대한 모델훈련 ->㉣ 모델 성능 평가"
   ]
  },
  {
   "cell_type": "markdown",
   "metadata": {},
   "source": [
    "#### Question2"
   ]
  },
  {
   "cell_type": "markdown",
   "metadata": {},
   "source": [
    "문제 2-1."
   ]
  },
  {
   "cell_type": "markdown",
   "metadata": {
    "ExecuteTime": {
     "end_time": "2023-06-05T03:45:58.382103Z",
     "start_time": "2023-06-05T03:45:58.360893Z"
    }
   },
   "source": [
    "㉠ (a. 통계학적) ㉡ (b. 머신러닝 기반) ㉢ (a. 통계학적) ㉣ (b. 머신러닝 기반)"
   ]
  },
  {
   "cell_type": "markdown",
   "metadata": {},
   "source": [
    "#### Question3"
   ]
  },
  {
   "cell_type": "markdown",
   "metadata": {},
   "source": [
    "문제 3-1."
   ]
  },
  {
   "cell_type": "markdown",
   "metadata": {},
   "source": [
    "지도학습"
   ]
  },
  {
   "cell_type": "markdown",
   "metadata": {},
   "source": [
    "문제 3-2."
   ]
  },
  {
   "cell_type": "markdown",
   "metadata": {
    "ExecuteTime": {
     "end_time": "2023-06-05T03:45:58.384098Z",
     "start_time": "2023-06-05T03:45:58.384098Z"
    }
   },
   "source": [
    "비지도학습"
   ]
  },
  {
   "cell_type": "markdown",
   "metadata": {},
   "source": [
    "#### Question4"
   ]
  },
  {
   "cell_type": "markdown",
   "metadata": {},
   "source": [
    "문제 4-1."
   ]
  },
  {
   "cell_type": "markdown",
   "metadata": {
    "ExecuteTime": {
     "end_time": "2023-06-05T03:45:58.385065Z",
     "start_time": "2023-06-05T03:45:58.385065Z"
    }
   },
   "source": [
    "(3) 훈련 데이터와 테스트 데이터에서 오차의 차이가 최소가 되는 부분이기 때문\n",
    "(4) 훈련 데이터와 테스트 데이터의 오차가 가장 급격히 떨어지는 부분이기 때문"
   ]
  },
  {
   "cell_type": "markdown",
   "metadata": {},
   "source": [
    "문제 4-2."
   ]
  },
  {
   "cell_type": "markdown",
   "metadata": {},
   "source": [
    "과대적합"
   ]
  },
  {
   "cell_type": "markdown",
   "metadata": {},
   "source": [
    "문제 4-3."
   ]
  },
  {
   "cell_type": "markdown",
   "metadata": {},
   "source": [
    "0.3"
   ]
  },
  {
   "cell_type": "markdown",
   "metadata": {},
   "source": [
    "#### Question5"
   ]
  },
  {
   "cell_type": "markdown",
   "metadata": {},
   "source": [
    "문제 5-1."
   ]
  },
  {
   "cell_type": "markdown",
   "metadata": {},
   "source": [
    "(3) 데이터 편향이 발생하기 쉽다."
   ]
  },
  {
   "cell_type": "markdown",
   "metadata": {},
   "source": [
    "#### Question6"
   ]
  },
  {
   "cell_type": "markdown",
   "metadata": {},
   "source": [
    "문제 6-1."
   ]
  },
  {
   "cell_type": "markdown",
   "metadata": {},
   "source": [
    "(1) 데이터를 여러 개의 세트로 분리하고 여러 개의 훈련 세트와 테스트 세트를 각각 평가한다\n",
    "(4) 고정된 훈련 세트와 테스트 세트만으로 훈련을 하면 테스트 세트에 과적합이 되는 문제가 \n",
    "발생할 수 있다."
   ]
  },
  {
   "cell_type": "markdown",
   "metadata": {},
   "source": [
    "문제 6-2."
   ]
  },
  {
   "cell_type": "code",
   "execution_count": 2,
   "metadata": {
    "ExecuteTime": {
     "end_time": "2023-06-05T03:45:59.395952Z",
     "start_time": "2023-06-05T03:45:58.437576Z"
    }
   },
   "outputs": [],
   "source": [
    "# 도구 불러오기(Bring up tools)\n",
    "from sklearn.datasets import load_iris\n",
    "from sklearn.model_selection import train_test_split\n",
    "from sklearn.neighbors import KNeighborsClassifier\n",
    "from sklearn.model_selection import cross_val_score"
   ]
  },
  {
   "cell_type": "code",
   "execution_count": 3,
   "metadata": {
    "ExecuteTime": {
     "end_time": "2023-06-05T03:45:59.412618Z",
     "start_time": "2023-06-05T03:45:59.397371Z"
    }
   },
   "outputs": [],
   "source": [
    "# (1) iris data 불러오기 (Import iris data)"
   ]
  },
  {
   "cell_type": "code",
   "execution_count": 4,
   "metadata": {
    "ExecuteTime": {
     "end_time": "2023-06-05T03:45:59.430593Z",
     "start_time": "2023-06-05T03:45:59.414628Z"
    }
   },
   "outputs": [],
   "source": [
    "iris_data = load_iris()"
   ]
  },
  {
   "cell_type": "code",
   "execution_count": 5,
   "metadata": {
    "ExecuteTime": {
     "end_time": "2023-06-05T03:45:59.445977Z",
     "start_time": "2023-06-05T03:45:59.435571Z"
    }
   },
   "outputs": [],
   "source": [
    "# (2) iris data 문제와 답 분리 (iris data problem and answer separation)"
   ]
  },
  {
   "cell_type": "code",
   "execution_count": 6,
   "metadata": {
    "ExecuteTime": {
     "end_time": "2023-06-05T03:45:59.828877Z",
     "start_time": "2023-06-05T03:45:59.447972Z"
    }
   },
   "outputs": [],
   "source": [
    "import pandas as pd\n",
    "X = pd.DataFrame(data = iris_data['data'],\n",
    "            columns = iris_data['feature_names'])\n",
    "y = iris_data['target']"
   ]
  },
  {
   "cell_type": "code",
   "execution_count": 7,
   "metadata": {
    "ExecuteTime": {
     "end_time": "2023-06-05T03:45:59.844417Z",
     "start_time": "2023-06-05T03:45:59.828877Z"
    }
   },
   "outputs": [],
   "source": [
    "# (3) 분리된 문제와 답을 train data와 test data로 분리(Separate problems and answers into train data and test data)"
   ]
  },
  {
   "cell_type": "code",
   "execution_count": 8,
   "metadata": {
    "ExecuteTime": {
     "end_time": "2023-06-05T03:45:59.870632Z",
     "start_time": "2023-06-05T03:45:59.846412Z"
    }
   },
   "outputs": [],
   "source": [
    "X_train, X_test, y_train, y_test = train_test_split(X, y, test_size = 0.3, random_state= 65 )"
   ]
  },
  {
   "cell_type": "code",
   "execution_count": 9,
   "metadata": {
    "ExecuteTime": {
     "end_time": "2023-06-05T03:45:59.880511Z",
     "start_time": "2023-06-05T03:45:59.870632Z"
    }
   },
   "outputs": [],
   "source": [
    "# (4) KNN분류기 모델 생성 (이웃 수는 3) (Create a KNN classifier model (the number of neighbors is 3))"
   ]
  },
  {
   "cell_type": "code",
   "execution_count": 10,
   "metadata": {
    "ExecuteTime": {
     "end_time": "2023-06-05T03:45:59.895390Z",
     "start_time": "2023-06-05T03:45:59.880511Z"
    }
   },
   "outputs": [],
   "source": [
    "knn_model = KNeighborsClassifier(n_neighbors=3)"
   ]
  },
  {
   "cell_type": "code",
   "execution_count": 11,
   "metadata": {
    "ExecuteTime": {
     "end_time": "2023-06-05T03:45:59.913353Z",
     "start_time": "2023-06-05T03:45:59.897914Z"
    }
   },
   "outputs": [],
   "source": [
    "# (5) 교차검증 실행 (5 조각으로 나눠 진행) (Cross-validation run (split into 5 pieces))"
   ]
  },
  {
   "cell_type": "code",
   "execution_count": 12,
   "metadata": {
    "ExecuteTime": {
     "end_time": "2023-06-05T03:45:59.961144Z",
     "start_time": "2023-06-05T03:45:59.920496Z"
    }
   },
   "outputs": [
    {
     "name": "stderr",
     "output_type": "stream",
     "text": [
      "C:\\Users\\smhrd\\anaconda3\\lib\\site-packages\\sklearn\\neighbors\\_classification.py:228: FutureWarning: Unlike other reduction functions (e.g. `skew`, `kurtosis`), the default behavior of `mode` typically preserves the axis it acts along. In SciPy 1.11.0, this behavior will change: the default value of `keepdims` will become False, the `axis` over which the statistic is taken will be eliminated, and the value None will no longer be accepted. Set `keepdims` to True or False to avoid this warning.\n",
      "  mode, _ = stats.mode(_y[neigh_ind, k], axis=1)\n",
      "C:\\Users\\smhrd\\anaconda3\\lib\\site-packages\\sklearn\\neighbors\\_classification.py:228: FutureWarning: Unlike other reduction functions (e.g. `skew`, `kurtosis`), the default behavior of `mode` typically preserves the axis it acts along. In SciPy 1.11.0, this behavior will change: the default value of `keepdims` will become False, the `axis` over which the statistic is taken will be eliminated, and the value None will no longer be accepted. Set `keepdims` to True or False to avoid this warning.\n",
      "  mode, _ = stats.mode(_y[neigh_ind, k], axis=1)\n",
      "C:\\Users\\smhrd\\anaconda3\\lib\\site-packages\\sklearn\\neighbors\\_classification.py:228: FutureWarning: Unlike other reduction functions (e.g. `skew`, `kurtosis`), the default behavior of `mode` typically preserves the axis it acts along. In SciPy 1.11.0, this behavior will change: the default value of `keepdims` will become False, the `axis` over which the statistic is taken will be eliminated, and the value None will no longer be accepted. Set `keepdims` to True or False to avoid this warning.\n",
      "  mode, _ = stats.mode(_y[neigh_ind, k], axis=1)\n",
      "C:\\Users\\smhrd\\anaconda3\\lib\\site-packages\\sklearn\\neighbors\\_classification.py:228: FutureWarning: Unlike other reduction functions (e.g. `skew`, `kurtosis`), the default behavior of `mode` typically preserves the axis it acts along. In SciPy 1.11.0, this behavior will change: the default value of `keepdims` will become False, the `axis` over which the statistic is taken will be eliminated, and the value None will no longer be accepted. Set `keepdims` to True or False to avoid this warning.\n",
      "  mode, _ = stats.mode(_y[neigh_ind, k], axis=1)\n",
      "C:\\Users\\smhrd\\anaconda3\\lib\\site-packages\\sklearn\\neighbors\\_classification.py:228: FutureWarning: Unlike other reduction functions (e.g. `skew`, `kurtosis`), the default behavior of `mode` typically preserves the axis it acts along. In SciPy 1.11.0, this behavior will change: the default value of `keepdims` will become False, the `axis` over which the statistic is taken will be eliminated, and the value None will no longer be accepted. Set `keepdims` to True or False to avoid this warning.\n",
      "  mode, _ = stats.mode(_y[neigh_ind, k], axis=1)\n"
     ]
    }
   ],
   "source": [
    "knn_model.fit(X_train, y_train)\n",
    "knn_result = cross_val_score(knn_model, X_train, y_train, cv= 5)"
   ]
  },
  {
   "cell_type": "code",
   "execution_count": 13,
   "metadata": {
    "ExecuteTime": {
     "end_time": "2023-06-05T03:45:59.979096Z",
     "start_time": "2023-06-05T03:45:59.962143Z"
    }
   },
   "outputs": [],
   "source": [
    "# (6) 결과 확인(실행결과 참고) (Check the result (refer to the execution result))"
   ]
  },
  {
   "cell_type": "code",
   "execution_count": 14,
   "metadata": {
    "ExecuteTime": {
     "end_time": "2023-06-05T03:46:00.027331Z",
     "start_time": "2023-06-05T03:45:59.986038Z"
    }
   },
   "outputs": [
    {
     "name": "stdout",
     "output_type": "stream",
     "text": [
      "[0.95238095 0.95238095 0.95238095 1.         1.        ]\n",
      "0.9714285714285713\n"
     ]
    }
   ],
   "source": [
    "print(knn_result)\n",
    "print(knn_result.mean())"
   ]
  },
  {
   "cell_type": "markdown",
   "metadata": {},
   "source": [
    "#### Question7"
   ]
  },
  {
   "cell_type": "markdown",
   "metadata": {},
   "source": [
    "문제 7-1."
   ]
  },
  {
   "cell_type": "markdown",
   "metadata": {},
   "source": [
    "(2) 라벨 데이터가 편향되어 있어 과소적합이 발생할 수 있다."
   ]
  },
  {
   "cell_type": "markdown",
   "metadata": {},
   "source": [
    "#### Question8"
   ]
  },
  {
   "cell_type": "markdown",
   "metadata": {},
   "source": [
    "문제 8-1."
   ]
  },
  {
   "cell_type": "markdown",
   "metadata": {},
   "source": [
    "인코딩(원핫인코딩)"
   ]
  },
  {
   "cell_type": "markdown",
   "metadata": {},
   "source": [
    "문제 8-2."
   ]
  },
  {
   "cell_type": "markdown",
   "metadata": {},
   "source": [
    "(1) 각 컬럼의 클래스 수에 맞게 새로운 컬럼을 생성하고 해당 클래스의 위치에는 1을,  \n",
    "    다른 클래스의 위치에는 0을 부여한다.\n",
    "(3) 클래스의 수가 많다면 컬럼이 너무 많아져서 메모리 측면에서 비효율적이 될 수 있다."
   ]
  },
  {
   "cell_type": "markdown",
   "metadata": {},
   "source": [
    "#### Question9"
   ]
  },
  {
   "cell_type": "markdown",
   "metadata": {},
   "source": [
    "문제 9-1."
   ]
  },
  {
   "cell_type": "markdown",
   "metadata": {},
   "source": [
    "(1) 데이터 세트의 확률분포 등에 대한 고려가 필요하다.\n",
    "(3) 알고리즘이 이해하기 쉽고 직관적이다. \n",
    "(6) 이웃의 수가 많아지면 모델이 단순해진다. \n",
    "(8) 근접한 이웃의 수를 결정하는 것이 중요하다.  "
   ]
  },
  {
   "cell_type": "markdown",
   "metadata": {},
   "source": [
    "문제 9-2."
   ]
  },
  {
   "cell_type": "markdown",
   "metadata": {},
   "source": [
    "(1) 분류에만 활용 가능한 모델이다. \n",
    "(3) 특성 중요도를 계산할 수 있어 다른 모델의 분석에서 특성선택방법으로 활용할 수 있다.\n",
    "(5) 목표변수와 가장 연관성이 높은 변수의 순서대로 불순도나 엔트로피 등이 낮아지는 방향으\n",
    "로 나무 형태로 가지를 분할하면서 분류 규칙을 만들어 내는 기법이다. \n",
    "(7) 분류 규칙 해석이 가능하여 분류결과 이유를 설명해야 할 경우 유용하다."
   ]
  },
  {
   "cell_type": "markdown",
   "metadata": {},
   "source": [
    "문제 9-3."
   ]
  },
  {
   "cell_type": "markdown",
   "metadata": {},
   "source": [
    "(1) max_depth \n",
    "(2) max_leaf_nodes\n",
    "(3) min_samples_split\n",
    "(4) min_samples_leaf"
   ]
  },
  {
   "cell_type": "markdown",
   "metadata": {},
   "source": [
    "#### Question10"
   ]
  },
  {
   "cell_type": "markdown",
   "metadata": {},
   "source": [
    "문제 10-1."
   ]
  },
  {
   "cell_type": "markdown",
   "metadata": {},
   "source": [
    "(1) 이상치나 데이터의 변화에 강인하다. \n",
    "(2) 결측치와 불완전 자료가 있을 때도 잘 작동한다. \n",
    "(3) 종속변수 y와 한 개 이상의 독립변수 x와의 선형 상관관계를 모델링하는 것이다.\n",
    "(5) 데이터를 가장 잘 표현하는 선을 찾는 것이 선형회귀 모델의 궁극적인 목표이다."
   ]
  },
  {
   "cell_type": "markdown",
   "metadata": {},
   "source": [
    "문제 10-2."
   ]
  },
  {
   "cell_type": "markdown",
   "metadata": {},
   "source": [
    "(1) L1 규제와 L2 규제로 구분된다. \n",
    "(3) L1 규제는 0이 되는 가중치가 발생할 수 있다.\n",
    "(4) L1 규제는 특성 간의 가중치의 차이를 줄여준다. "
   ]
  },
  {
   "cell_type": "markdown",
   "metadata": {},
   "source": [
    "#### Question11"
   ]
  },
  {
   "cell_type": "markdown",
   "metadata": {},
   "source": [
    "문제 11-1."
   ]
  },
  {
   "cell_type": "markdown",
   "metadata": {},
   "source": [
    "(1) 스팸 메일 여부 판단\n",
    "(3) 고객 이탈 / 유지 예측\n",
    "(5) 특정 질병 발생 여부 예측"
   ]
  },
  {
   "cell_type": "markdown",
   "metadata": {},
   "source": [
    "#### Question12"
   ]
  },
  {
   "cell_type": "markdown",
   "metadata": {},
   "source": [
    "문제 12-1."
   ]
  },
  {
   "cell_type": "markdown",
   "metadata": {},
   "source": [
    "(2) 새로운 특성을 추출하여 특성을 추가한다.\n",
    "(3) 다양한 전처리(재그룹핑, 범주화 등)를 통해 데이터를 최적화한다.\n",
    "(4) 하이퍼 파라미터를 변경해가면서 최적의 파라미터를 찾는다. \n",
    "(5) 다른 모델을 사용해본다. "
   ]
  },
  {
   "cell_type": "markdown",
   "metadata": {},
   "source": [
    "### 수고하셨습니다 ."
   ]
  }
 ],
 "metadata": {
  "kernelspec": {
   "display_name": "Python 3 (ipykernel)",
   "language": "python",
   "name": "python3"
  },
  "language_info": {
   "codemirror_mode": {
    "name": "ipython",
    "version": 3
   },
   "file_extension": ".py",
   "mimetype": "text/x-python",
   "name": "python",
   "nbconvert_exporter": "python",
   "pygments_lexer": "ipython3",
   "version": "3.9.13"
  },
  "toc": {
   "base_numbering": 1,
   "nav_menu": {},
   "number_sections": true,
   "sideBar": true,
   "skip_h1_title": false,
   "title_cell": "Table of Contents",
   "title_sidebar": "Contents",
   "toc_cell": false,
   "toc_position": {},
   "toc_section_display": true,
   "toc_window_display": false
  },
  "varInspector": {
   "cols": {
    "lenName": 16,
    "lenType": 16,
    "lenVar": 40
   },
   "kernels_config": {
    "python": {
     "delete_cmd_postfix": "",
     "delete_cmd_prefix": "del ",
     "library": "var_list.py",
     "varRefreshCmd": "print(var_dic_list())"
    },
    "r": {
     "delete_cmd_postfix": ") ",
     "delete_cmd_prefix": "rm(",
     "library": "var_list.r",
     "varRefreshCmd": "cat(var_dic_list()) "
    }
   },
   "types_to_exclude": [
    "module",
    "function",
    "builtin_function_or_method",
    "instance",
    "_Feature"
   ],
   "window_display": false
  }
 },
 "nbformat": 4,
 "nbformat_minor": 4
}
