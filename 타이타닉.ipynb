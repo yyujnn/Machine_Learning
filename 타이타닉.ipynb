{
 "cells": [
  {
   "cell_type": "markdown",
   "id": "8bd5e32f",
   "metadata": {},
   "source": [
    "### 문제정의\n",
    "- 타이타닉 데이터를 활용하여 생존과 사망을 구분하는 머신러닝 모델 만들자"
   ]
  },
  {
   "cell_type": "markdown",
   "id": "b4bb553f",
   "metadata": {},
   "source": [
    "### 데이터 수집\n",
    "- kaggle 사이트에서 데이터 다운로드"
   ]
  },
  {
   "cell_type": "code",
   "execution_count": 1,
   "id": "bda5b655",
   "metadata": {
    "ExecuteTime": {
     "end_time": "2023-05-22T06:52:38.567469Z",
     "start_time": "2023-05-22T06:52:37.991646Z"
    }
   },
   "outputs": [],
   "source": [
    "# train 변수 : 문제 가져오기\n",
    "# test 변수 : 정답 가져오기\n",
    "\n",
    "import pandas as pd\n",
    "train = pd.read_csv('./data/titanic/train.csv')\n",
    "test = pd.read_csv('./data/titanic/test.csv')"
   ]
  },
  {
   "cell_type": "code",
   "execution_count": 2,
   "id": "65129d3d",
   "metadata": {
    "ExecuteTime": {
     "end_time": "2023-05-22T06:52:38.583486Z",
     "start_time": "2023-05-22T06:52:38.573457Z"
    }
   },
   "outputs": [
    {
     "name": "stdout",
     "output_type": "stream",
     "text": [
      "(891, 12)\n",
      "(418, 11)\n"
     ]
    }
   ],
   "source": [
    "print(train.shape) # 891개의 데이터, 12개의 특성\n",
    "print(test.shape) # 418개의 데이터, 11개의 특성, Survived 컬럼이 없다 ==> \"규칙을 통해 예측할 내용.\""
   ]
  },
  {
   "cell_type": "markdown",
   "id": "42b5f916",
   "metadata": {},
   "source": [
    "### 데이터 전처리\n",
    "- 결측치 & 이상치 확인"
   ]
  },
  {
   "cell_type": "markdown",
   "id": "f1d9de7a",
   "metadata": {},
   "source": [
    "#### 결측치 확인\n",
    "- info()"
   ]
  },
  {
   "cell_type": "code",
   "execution_count": 3,
   "id": "4399e787",
   "metadata": {
    "ExecuteTime": {
     "end_time": "2023-05-22T06:52:38.599429Z",
     "start_time": "2023-05-22T06:52:38.585438Z"
    }
   },
   "outputs": [
    {
     "name": "stdout",
     "output_type": "stream",
     "text": [
      "<class 'pandas.core.frame.DataFrame'>\n",
      "RangeIndex: 891 entries, 0 to 890\n",
      "Data columns (total 12 columns):\n",
      " #   Column       Non-Null Count  Dtype  \n",
      "---  ------       --------------  -----  \n",
      " 0   PassengerId  891 non-null    int64  \n",
      " 1   Survived     891 non-null    int64  \n",
      " 2   Pclass       891 non-null    int64  \n",
      " 3   Name         891 non-null    object \n",
      " 4   Sex          891 non-null    object \n",
      " 5   Age          714 non-null    float64\n",
      " 6   SibSp        891 non-null    int64  \n",
      " 7   Parch        891 non-null    int64  \n",
      " 8   Ticket       891 non-null    object \n",
      " 9   Fare         891 non-null    float64\n",
      " 10  Cabin        204 non-null    object \n",
      " 11  Embarked     889 non-null    object \n",
      "dtypes: float64(2), int64(5), object(5)\n",
      "memory usage: 83.7+ KB\n"
     ]
    }
   ],
   "source": [
    "train.info()"
   ]
  },
  {
   "attachments": {
    "image.png": {
     "image/png": "[encoded data removed]"
    }
   },
   "cell_type": "markdown",
   "id": "1685826f",
   "metadata": {},
   "source": [
    "- 결측치 컬럼\n",
    "![image.png](attachment:image.png)\n",
    "<br>\n",
    "+ 머신러닝 학습을 위해 Object -> 숫자형 자료로 변경 컬럼:  \n",
    "Name, Sex, Ticket, Cabin, Embarked"
   ]
  },
  {
   "cell_type": "code",
   "execution_count": 4,
   "id": "1f46baa4",
   "metadata": {
    "ExecuteTime": {
     "end_time": "2023-05-22T06:52:38.615356Z",
     "start_time": "2023-05-22T06:52:38.602392Z"
    }
   },
   "outputs": [
    {
     "name": "stdout",
     "output_type": "stream",
     "text": [
      "<class 'pandas.core.frame.DataFrame'>\n",
      "RangeIndex: 418 entries, 0 to 417\n",
      "Data columns (total 11 columns):\n",
      " #   Column       Non-Null Count  Dtype  \n",
      "---  ------       --------------  -----  \n",
      " 0   PassengerId  418 non-null    int64  \n",
      " 1   Pclass       418 non-null    int64  \n",
      " 2   Name         418 non-null    object \n",
      " 3   Sex          418 non-null    object \n",
      " 4   Age          332 non-null    float64\n",
      " 5   SibSp        418 non-null    int64  \n",
      " 6   Parch        418 non-null    int64  \n",
      " 7   Ticket       418 non-null    object \n",
      " 8   Fare         417 non-null    float64\n",
      " 9   Cabin        91 non-null     object \n",
      " 10  Embarked     418 non-null    object \n",
      "dtypes: float64(2), int64(4), object(5)\n",
      "memory usage: 36.0+ KB\n"
     ]
    }
   ],
   "source": [
    "# (Test 데이터)\n",
    "\n",
    "test.info()\n",
    "# 결측치 컬럼 : Age, Fare, Cabin\n",
    "# 숫자형 자료로 (타입)변경 컬럼 : Name, Sex, Ticket, Cabin, Embarked"
   ]
  },
  {
   "cell_type": "markdown",
   "id": "a2d5f8ce",
   "metadata": {},
   "source": [
    "#### 이상치 확인\n",
    "- describe() 사용"
   ]
  },
  {
   "cell_type": "code",
   "execution_count": 5,
   "id": "18d8e016",
   "metadata": {
    "ExecuteTime": {
     "end_time": "2023-05-22T06:52:38.662669Z",
     "start_time": "2023-05-22T06:52:38.616353Z"
    }
   },
   "outputs": [
    {
     "data": {
      "text/html": [
       "<div>\n",
       "<style scoped>\n",
       "    .dataframe tbody tr th:only-of-type {\n",
       "        vertical-align: middle;\n",
       "    }\n",
       "\n",
       "    .dataframe tbody tr th {\n",
       "        vertical-align: top;\n",
       "    }\n",
       "\n",
       "    .dataframe thead th {\n",
       "        text-align: right;\n",
       "    }\n",
       "</style>\n",
       "<table border=\"1\" class=\"dataframe\">\n",
       "  <thead>\n",
       "    <tr style=\"text-align: right;\">\n",
       "      <th></th>\n",
       "      <th>PassengerId</th>\n",
       "      <th>Survived</th>\n",
       "      <th>Pclass</th>\n",
       "      <th>Age</th>\n",
       "      <th>SibSp</th>\n",
       "      <th>Parch</th>\n",
       "      <th>Fare</th>\n",
       "    </tr>\n",
       "  </thead>\n",
       "  <tbody>\n",
       "    <tr>\n",
       "      <th>count</th>\n",
       "      <td>891.000000</td>\n",
       "      <td>891.000000</td>\n",
       "      <td>891.000000</td>\n",
       "      <td>714.000000</td>\n",
       "      <td>891.000000</td>\n",
       "      <td>891.000000</td>\n",
       "      <td>891.000000</td>\n",
       "    </tr>\n",
       "    <tr>\n",
       "      <th>mean</th>\n",
       "      <td>446.000000</td>\n",
       "      <td>0.383838</td>\n",
       "      <td>2.308642</td>\n",
       "      <td>29.699118</td>\n",
       "      <td>0.523008</td>\n",
       "      <td>0.381594</td>\n",
       "      <td>32.204208</td>\n",
       "    </tr>\n",
       "    <tr>\n",
       "      <th>std</th>\n",
       "      <td>257.353842</td>\n",
       "      <td>0.486592</td>\n",
       "      <td>0.836071</td>\n",
       "      <td>14.526497</td>\n",
       "      <td>1.102743</td>\n",
       "      <td>0.806057</td>\n",
       "      <td>49.693429</td>\n",
       "    </tr>\n",
       "    <tr>\n",
       "      <th>min</th>\n",
       "      <td>1.000000</td>\n",
       "      <td>0.000000</td>\n",
       "      <td>1.000000</td>\n",
       "      <td>0.420000</td>\n",
       "      <td>0.000000</td>\n",
       "      <td>0.000000</td>\n",
       "      <td>0.000000</td>\n",
       "    </tr>\n",
       "    <tr>\n",
       "      <th>25%</th>\n",
       "      <td>223.500000</td>\n",
       "      <td>0.000000</td>\n",
       "      <td>2.000000</td>\n",
       "      <td>20.125000</td>\n",
       "      <td>0.000000</td>\n",
       "      <td>0.000000</td>\n",
       "      <td>7.910400</td>\n",
       "    </tr>\n",
       "    <tr>\n",
       "      <th>50%</th>\n",
       "      <td>446.000000</td>\n",
       "      <td>0.000000</td>\n",
       "      <td>3.000000</td>\n",
       "      <td>28.000000</td>\n",
       "      <td>0.000000</td>\n",
       "      <td>0.000000</td>\n",
       "      <td>14.454200</td>\n",
       "    </tr>\n",
       "    <tr>\n",
       "      <th>75%</th>\n",
       "      <td>668.500000</td>\n",
       "      <td>1.000000</td>\n",
       "      <td>3.000000</td>\n",
       "      <td>38.000000</td>\n",
       "      <td>1.000000</td>\n",
       "      <td>0.000000</td>\n",
       "      <td>31.000000</td>\n",
       "    </tr>\n",
       "    <tr>\n",
       "      <th>max</th>\n",
       "      <td>891.000000</td>\n",
       "      <td>1.000000</td>\n",
       "      <td>3.000000</td>\n",
       "      <td>80.000000</td>\n",
       "      <td>8.000000</td>\n",
       "      <td>6.000000</td>\n",
       "      <td>512.329200</td>\n",
       "    </tr>\n",
       "  </tbody>\n",
       "</table>\n",
       "</div>"
      ],
      "text/plain": [
       "       PassengerId    Survived      Pclass         Age       SibSp  \\\n",
       "count   891.000000  891.000000  891.000000  714.000000  891.000000   \n",
       "mean    446.000000    0.383838    2.308642   29.699118    0.523008   \n",
       "std     257.353842    0.486592    0.836071   14.526497    1.102743   \n",
       "min       1.000000    0.000000    1.000000    0.420000    0.000000   \n",
       "25%     223.500000    0.000000    2.000000   20.125000    0.000000   \n",
       "50%     446.000000    0.000000    3.000000   28.000000    0.000000   \n",
       "75%     668.500000    1.000000    3.000000   38.000000    1.000000   \n",
       "max     891.000000    1.000000    3.000000   80.000000    8.000000   \n",
       "\n",
       "            Parch        Fare  \n",
       "count  891.000000  891.000000  \n",
       "mean     0.381594   32.204208  \n",
       "std      0.806057   49.693429  \n",
       "min      0.000000    0.000000  \n",
       "25%      0.000000    7.910400  \n",
       "50%      0.000000   14.454200  \n",
       "75%      0.000000   31.000000  \n",
       "max      6.000000  512.329200  "
      ]
     },
     "execution_count": 5,
     "metadata": {},
     "output_type": "execute_result"
    }
   ],
   "source": [
    "train.describe()\n",
    "# Fare : 평균이 어느정도 의미 있다.\n",
    "#        평균과 중앙값을 비교했을때 평균>중앙값 라는 것은?\n",
    "#        1. 티켓의 가격이 잘못 \n",
    "#        2. 데이터 수집이 잘못\n",
    "#        3. 진짜 1등급을 넘어서는 가격이 존재\n",
    "# PassengerId = 승객의 번호. 필요없는 데이터임   -- 컬럼 삭제할 예정\n",
    "# Survived(0,1) : 38% 생존한 의미\n",
    "# Pclass(1, 2, 3) : 객실 등급, 평균이라는 의미 X\n",
    "# Age : 평균값이 의미 0, 20 ~ 30대 승객이 많응\n",
    "# SibSp : 형제자매수, 배우자 수 -> 이상치 의미X\n",
    "# Parch : 부모, 자식의 수 - >이상치 의미X\n",
    "\n",
    "# 크게 이상치가 있다고 볼 수 없다."
   ]
  },
  {
   "cell_type": "markdown",
   "id": "076c0723",
   "metadata": {},
   "source": [
    "#### Embarked 결측치 채우기"
   ]
  },
  {
   "cell_type": "code",
   "execution_count": 6,
   "id": "076a9841",
   "metadata": {
    "ExecuteTime": {
     "end_time": "2023-05-22T06:52:38.678627Z",
     "start_time": "2023-05-22T06:52:38.664664Z"
    }
   },
   "outputs": [
    {
     "data": {
      "text/plain": [
       "S    644\n",
       "C    168\n",
       "Q     77\n",
       "Name: Embarked, dtype: int64"
      ]
     },
     "execution_count": 6,
     "metadata": {},
     "output_type": "execute_result"
    }
   ],
   "source": [
    "# 데이터의 중복을 제거하고 데이터의 종류 확인, 데이터당 갯수의 분포를 확인\n",
    "# train['Embarked'] = 889의 승선항 알파벳이 좌라락\n",
    "\n",
    "# 해당 컬럼의 데이터 갯수를 세어주는 함수 : value_counts()\n",
    "train['Embarked'].value_counts()\n",
    "\n",
    "# 결측치를 채울때 주의할 점\n",
    "# - 어떤 이유로 값을 채울 것인가 확인\n",
    "# 탑승하는 항구의 값을 채우기 위해 다른 컬럼이나 추가적인 정보 확인이 필요\n",
    "# 탑승하는 항구별로 티켓의 가격이 다른지 확인하는 게 의미가 있을 수 있음 \n",
    "\n",
    "# 💛 '결측치가 2개이므로 전체적인 흐름에 영향을 주지는 않을 것 같다'"
   ]
  },
  {
   "cell_type": "code",
   "execution_count": 7,
   "id": "bd21bd59",
   "metadata": {
    "ExecuteTime": {
     "end_time": "2023-05-22T06:52:38.694584Z",
     "start_time": "2023-05-22T06:52:38.680621Z"
    }
   },
   "outputs": [],
   "source": [
    "# 결측치 2개 (891 -> 889) 를 최빈값 (='S'값)==> 대표값으로 채우기 ❕\n",
    "# 전체 결측치를 한번에 채워주는 함수 : fillna(입력값)\n",
    "train['Embarked'].fillna('S', inplace=True) # 변경된 값을 저장"
   ]
  },
  {
   "cell_type": "code",
   "execution_count": 8,
   "id": "eb3000ee",
   "metadata": {
    "ExecuteTime": {
     "end_time": "2023-05-22T06:52:38.710541Z",
     "start_time": "2023-05-22T06:52:38.696579Z"
    }
   },
   "outputs": [
    {
     "name": "stdout",
     "output_type": "stream",
     "text": [
      "<class 'pandas.core.frame.DataFrame'>\n",
      "RangeIndex: 891 entries, 0 to 890\n",
      "Data columns (total 12 columns):\n",
      " #   Column       Non-Null Count  Dtype  \n",
      "---  ------       --------------  -----  \n",
      " 0   PassengerId  891 non-null    int64  \n",
      " 1   Survived     891 non-null    int64  \n",
      " 2   Pclass       891 non-null    int64  \n",
      " 3   Name         891 non-null    object \n",
      " 4   Sex          891 non-null    object \n",
      " 5   Age          714 non-null    float64\n",
      " 6   SibSp        891 non-null    int64  \n",
      " 7   Parch        891 non-null    int64  \n",
      " 8   Ticket       891 non-null    object \n",
      " 9   Fare         891 non-null    float64\n",
      " 10  Cabin        204 non-null    object \n",
      " 11  Embarked     891 non-null    object \n",
      "dtypes: float64(2), int64(5), object(5)\n",
      "memory usage: 83.7+ KB\n"
     ]
    }
   ],
   "source": [
    "train.info()"
   ]
  },
  {
   "cell_type": "markdown",
   "id": "fa23665c",
   "metadata": {},
   "source": [
    "#### Fare 결측치 채우기"
   ]
  },
  {
   "cell_type": "code",
   "execution_count": 9,
   "id": "6d113cca",
   "metadata": {
    "ExecuteTime": {
     "end_time": "2023-05-22T06:52:38.726499Z",
     "start_time": "2023-05-22T06:52:38.712536Z"
    },
    "scrolled": true
   },
   "outputs": [
    {
     "name": "stdout",
     "output_type": "stream",
     "text": [
      "<class 'pandas.core.frame.DataFrame'>\n",
      "RangeIndex: 418 entries, 0 to 417\n",
      "Data columns (total 11 columns):\n",
      " #   Column       Non-Null Count  Dtype  \n",
      "---  ------       --------------  -----  \n",
      " 0   PassengerId  418 non-null    int64  \n",
      " 1   Pclass       418 non-null    int64  \n",
      " 2   Name         418 non-null    object \n",
      " 3   Sex          418 non-null    object \n",
      " 4   Age          332 non-null    float64\n",
      " 5   SibSp        418 non-null    int64  \n",
      " 6   Parch        418 non-null    int64  \n",
      " 7   Ticket       418 non-null    object \n",
      " 8   Fare         417 non-null    float64\n",
      " 9   Cabin        91 non-null     object \n",
      " 10  Embarked     418 non-null    object \n",
      "dtypes: float64(2), int64(4), object(5)\n",
      "memory usage: 36.0+ KB\n"
     ]
    }
   ],
   "source": [
    "test.info()"
   ]
  },
  {
   "cell_type": "code",
   "execution_count": 10,
   "id": "a343ee9f",
   "metadata": {
    "ExecuteTime": {
     "end_time": "2023-05-22T06:52:38.742456Z",
     "start_time": "2023-05-22T06:52:38.731486Z"
    }
   },
   "outputs": [],
   "source": [
    "# Embarked 결측치는 그 컬럼의 최빈값으로 채웠지만 (최빈=대표값)\n",
    "# Fare 은 연속적 숫자 값으로, 최빈값이 있더라도 큰 의미는 없을 것 같음\n",
    "\n",
    "# 중앙값을 사용해서 결측치를 채워보자\n",
    "test['Fare'].fillna(14.454200, inplace=True)  # 중앙값으로 변경하고 저장"
   ]
  },
  {
   "cell_type": "markdown",
   "id": "39779328",
   "metadata": {},
   "source": [
    "#### Age, Cabin 결측치 채우기\n",
    "- Age, Cabin 은 결측치가 많기 때문에 다른 방법으로 결측치를 채워야 함"
   ]
  },
  {
   "cell_type": "markdown",
   "id": "e03aefe9",
   "metadata": {},
   "source": [
    "#### Age 결측치 채우기\n",
    "- 다른 컬럼들과의 '상관관계'를 사용해서 결측치를 채우기"
   ]
  },
  {
   "cell_type": "code",
   "execution_count": 11,
   "id": "98a4937c",
   "metadata": {
    "ExecuteTime": {
     "end_time": "2023-05-22T06:52:38.758413Z",
     "start_time": "2023-05-22T06:52:38.744451Z"
    }
   },
   "outputs": [
    {
     "data": {
      "text/html": [
       "<div>\n",
       "<style scoped>\n",
       "    .dataframe tbody tr th:only-of-type {\n",
       "        vertical-align: middle;\n",
       "    }\n",
       "\n",
       "    .dataframe tbody tr th {\n",
       "        vertical-align: top;\n",
       "    }\n",
       "\n",
       "    .dataframe thead th {\n",
       "        text-align: right;\n",
       "    }\n",
       "</style>\n",
       "<table border=\"1\" class=\"dataframe\">\n",
       "  <thead>\n",
       "    <tr style=\"text-align: right;\">\n",
       "      <th></th>\n",
       "      <th>PassengerId</th>\n",
       "      <th>Survived</th>\n",
       "      <th>Pclass</th>\n",
       "      <th>Age</th>\n",
       "      <th>SibSp</th>\n",
       "      <th>Parch</th>\n",
       "      <th>Fare</th>\n",
       "    </tr>\n",
       "  </thead>\n",
       "  <tbody>\n",
       "    <tr>\n",
       "      <th>PassengerId</th>\n",
       "      <td>1.000000</td>\n",
       "      <td>-0.005007</td>\n",
       "      <td>-0.035144</td>\n",
       "      <td>0.036847</td>\n",
       "      <td>-0.057527</td>\n",
       "      <td>-0.001652</td>\n",
       "      <td>0.012658</td>\n",
       "    </tr>\n",
       "    <tr>\n",
       "      <th>Survived</th>\n",
       "      <td>-0.005007</td>\n",
       "      <td>1.000000</td>\n",
       "      <td>-0.338481</td>\n",
       "      <td>-0.077221</td>\n",
       "      <td>-0.035322</td>\n",
       "      <td>0.081629</td>\n",
       "      <td>0.257307</td>\n",
       "    </tr>\n",
       "    <tr>\n",
       "      <th>Pclass</th>\n",
       "      <td>-0.035144</td>\n",
       "      <td>-0.338481</td>\n",
       "      <td>1.000000</td>\n",
       "      <td>-0.369226</td>\n",
       "      <td>0.083081</td>\n",
       "      <td>0.018443</td>\n",
       "      <td>-0.549500</td>\n",
       "    </tr>\n",
       "    <tr>\n",
       "      <th>Age</th>\n",
       "      <td>0.036847</td>\n",
       "      <td>-0.077221</td>\n",
       "      <td>-0.369226</td>\n",
       "      <td>1.000000</td>\n",
       "      <td>-0.308247</td>\n",
       "      <td>-0.189119</td>\n",
       "      <td>0.096067</td>\n",
       "    </tr>\n",
       "    <tr>\n",
       "      <th>SibSp</th>\n",
       "      <td>-0.057527</td>\n",
       "      <td>-0.035322</td>\n",
       "      <td>0.083081</td>\n",
       "      <td>-0.308247</td>\n",
       "      <td>1.000000</td>\n",
       "      <td>0.414838</td>\n",
       "      <td>0.159651</td>\n",
       "    </tr>\n",
       "    <tr>\n",
       "      <th>Parch</th>\n",
       "      <td>-0.001652</td>\n",
       "      <td>0.081629</td>\n",
       "      <td>0.018443</td>\n",
       "      <td>-0.189119</td>\n",
       "      <td>0.414838</td>\n",
       "      <td>1.000000</td>\n",
       "      <td>0.216225</td>\n",
       "    </tr>\n",
       "    <tr>\n",
       "      <th>Fare</th>\n",
       "      <td>0.012658</td>\n",
       "      <td>0.257307</td>\n",
       "      <td>-0.549500</td>\n",
       "      <td>0.096067</td>\n",
       "      <td>0.159651</td>\n",
       "      <td>0.216225</td>\n",
       "      <td>1.000000</td>\n",
       "    </tr>\n",
       "  </tbody>\n",
       "</table>\n",
       "</div>"
      ],
      "text/plain": [
       "             PassengerId  Survived    Pclass       Age     SibSp     Parch  \\\n",
       "PassengerId     1.000000 -0.005007 -0.035144  0.036847 -0.057527 -0.001652   \n",
       "Survived       -0.005007  1.000000 -0.338481 -0.077221 -0.035322  0.081629   \n",
       "Pclass         -0.035144 -0.338481  1.000000 -0.369226  0.083081  0.018443   \n",
       "Age             0.036847 -0.077221 -0.369226  1.000000 -0.308247 -0.189119   \n",
       "SibSp          -0.057527 -0.035322  0.083081 -0.308247  1.000000  0.414838   \n",
       "Parch          -0.001652  0.081629  0.018443 -0.189119  0.414838  1.000000   \n",
       "Fare            0.012658  0.257307 -0.549500  0.096067  0.159651  0.216225   \n",
       "\n",
       "                 Fare  \n",
       "PassengerId  0.012658  \n",
       "Survived     0.257307  \n",
       "Pclass      -0.549500  \n",
       "Age          0.096067  \n",
       "SibSp        0.159651  \n",
       "Parch        0.216225  \n",
       "Fare         1.000000  "
      ]
     },
     "execution_count": 11,
     "metadata": {},
     "output_type": "execute_result"
    }
   ],
   "source": [
    "# 상관관계를 쉽게 보여주는 함수 = corr() \n",
    "train.corr()\n",
    "# -1 ~ 1 사이의 숫자로 표현\n",
    "\n",
    "# \"-1\" 에 가까울 수록 반비례 : 나이가 많을 수록, 객실 등급이 높아진다.\n",
    "# \"1\" 에 가까울 수록 정비례(비례)\n",
    "\n",
    "# 수치 앞의 부호로 정비례, 반비례를 판단하고, \n",
    "# 숫자의 절대값이 1에 가까울 수록 좋음.\n",
    "\n",
    "# 형제자매/배우자, 객실등급은 나이와 상관이 있을 것이다~ 라고 유추가 된다."
   ]
  },
  {
   "cell_type": "code",
   "execution_count": 12,
   "id": "ddaabfeb",
   "metadata": {
    "ExecuteTime": {
     "end_time": "2023-05-22T06:52:38.774370Z",
     "start_time": "2023-05-22T06:52:38.760409Z"
    }
   },
   "outputs": [
    {
     "data": {
      "text/html": [
       "<div>\n",
       "<style scoped>\n",
       "    .dataframe tbody tr th:only-of-type {\n",
       "        vertical-align: middle;\n",
       "    }\n",
       "\n",
       "    .dataframe tbody tr th {\n",
       "        vertical-align: top;\n",
       "    }\n",
       "\n",
       "    .dataframe thead th {\n",
       "        text-align: right;\n",
       "    }\n",
       "</style>\n",
       "<table border=\"1\" class=\"dataframe\">\n",
       "  <thead>\n",
       "    <tr style=\"text-align: right;\">\n",
       "      <th></th>\n",
       "      <th>Age</th>\n",
       "    </tr>\n",
       "    <tr>\n",
       "      <th>Pclass</th>\n",
       "      <th></th>\n",
       "    </tr>\n",
       "  </thead>\n",
       "  <tbody>\n",
       "    <tr>\n",
       "      <th>1</th>\n",
       "      <td>37.0</td>\n",
       "    </tr>\n",
       "    <tr>\n",
       "      <th>2</th>\n",
       "      <td>29.0</td>\n",
       "    </tr>\n",
       "    <tr>\n",
       "      <th>3</th>\n",
       "      <td>24.0</td>\n",
       "    </tr>\n",
       "  </tbody>\n",
       "</table>\n",
       "</div>"
      ],
      "text/plain": [
       "         Age\n",
       "Pclass      \n",
       "1       37.0\n",
       "2       29.0\n",
       "3       24.0"
      ]
     },
     "execution_count": 12,
     "metadata": {},
     "output_type": "execute_result"
    }
   ],
   "source": [
    "# Age 컬럼을 Pclass 컬럼과 비교해서 결측치 채우기\n",
    "#train[['Pclass','Age']] = train 데이터에서 Pclass 와 Age 컬럼이 좌라락 \n",
    "\n",
    "train[['Pclass','Age']].groupby(by='Pclass').median()\n",
    "# = 각 Pclass 에 따른 age 값의 중앙값\n",
    "# Pclass = 1, 2, 3 : 숫자이지만 등급을 나타내는 범주형 자료\n"
   ]
  },
  {
   "cell_type": "code",
   "execution_count": 13,
   "id": "2ae4e3f1",
   "metadata": {
    "ExecuteTime": {
     "end_time": "2023-05-22T06:52:38.790328Z",
     "start_time": "2023-05-22T06:52:38.776366Z"
    }
   },
   "outputs": [
    {
     "data": {
      "text/html": [
       "<div>\n",
       "<style scoped>\n",
       "    .dataframe tbody tr th:only-of-type {\n",
       "        vertical-align: middle;\n",
       "    }\n",
       "\n",
       "    .dataframe tbody tr th {\n",
       "        vertical-align: top;\n",
       "    }\n",
       "\n",
       "    .dataframe thead th {\n",
       "        text-align: right;\n",
       "    }\n",
       "</style>\n",
       "<table border=\"1\" class=\"dataframe\">\n",
       "  <thead>\n",
       "    <tr style=\"text-align: right;\">\n",
       "      <th></th>\n",
       "      <th></th>\n",
       "      <th>Age</th>\n",
       "    </tr>\n",
       "    <tr>\n",
       "      <th>Pclass</th>\n",
       "      <th>Sex</th>\n",
       "      <th></th>\n",
       "    </tr>\n",
       "  </thead>\n",
       "  <tbody>\n",
       "    <tr>\n",
       "      <th rowspan=\"2\" valign=\"top\">1</th>\n",
       "      <th>female</th>\n",
       "      <td>35.0</td>\n",
       "    </tr>\n",
       "    <tr>\n",
       "      <th>male</th>\n",
       "      <td>40.0</td>\n",
       "    </tr>\n",
       "    <tr>\n",
       "      <th rowspan=\"2\" valign=\"top\">2</th>\n",
       "      <th>female</th>\n",
       "      <td>28.0</td>\n",
       "    </tr>\n",
       "    <tr>\n",
       "      <th>male</th>\n",
       "      <td>30.0</td>\n",
       "    </tr>\n",
       "    <tr>\n",
       "      <th rowspan=\"2\" valign=\"top\">3</th>\n",
       "      <th>female</th>\n",
       "      <td>21.5</td>\n",
       "    </tr>\n",
       "    <tr>\n",
       "      <th>male</th>\n",
       "      <td>25.0</td>\n",
       "    </tr>\n",
       "  </tbody>\n",
       "</table>\n",
       "</div>"
      ],
      "text/plain": [
       "                Age\n",
       "Pclass Sex         \n",
       "1      female  35.0\n",
       "       male    40.0\n",
       "2      female  28.0\n",
       "       male    30.0\n",
       "3      female  21.5\n",
       "       male    25.0"
      ]
     },
     "execution_count": 13,
     "metadata": {},
     "output_type": "execute_result"
    }
   ],
   "source": [
    "# Age 컬럼을 Pclass, Sex 컬럼과 비교해서 결측치 채우기\n",
    "\n",
    "age_table = train[['Pclass', 'Sex', 'Age']].groupby(by=['Pclass', 'Sex']).median()\n",
    "age_table"
   ]
  },
  {
   "cell_type": "code",
   "execution_count": 14,
   "id": "44cf5a2c",
   "metadata": {
    "ExecuteTime": {
     "end_time": "2023-05-22T06:52:38.806286Z",
     "start_time": "2023-05-22T06:52:38.792323Z"
    }
   },
   "outputs": [
    {
     "data": {
      "text/plain": [
       "PassengerId                   6\n",
       "Survived                      0\n",
       "Pclass                        3\n",
       "Name           Moran, Mr. James\n",
       "Sex                        male\n",
       "Age                         NaN\n",
       "SibSp                         0\n",
       "Parch                         0\n",
       "Ticket                   330877\n",
       "Fare                     8.4583\n",
       "Cabin                       NaN\n",
       "Embarked                      Q\n",
       "Name: 5, dtype: object"
      ]
     },
     "execution_count": 14,
     "metadata": {},
     "output_type": "execute_result"
    }
   ],
   "source": [
    "train.iloc[5] # 승객 한명의 정보 (행)"
   ]
  },
  {
   "cell_type": "code",
   "execution_count": 15,
   "id": "11c70e1d",
   "metadata": {
    "ExecuteTime": {
     "end_time": "2023-05-22T06:52:38.822243Z",
     "start_time": "2023-05-22T06:52:38.808280Z"
    }
   },
   "outputs": [],
   "source": [
    "# 하나의 행을 가지고 와서\n",
    "# Age가 결측치가 아니면 --> 원래 가지고 있던 값을 그대로 사용\n",
    "# Age가 결측치라면 Pclass, Sex를 확인하고 해당하는 값을 age_table 검색 후 \n",
    "# 해당 값으로 'Age'결측치 채우기 ❕\n",
    "\n",
    "# 꺼내오는 하나의 행 정보가 넘파이-배열 의 형태임 -> 넘파이 import\n",
    "import numpy as np\n",
    "\n",
    "# isnan - 결측치 면\n",
    "def fill_age(person) :\n",
    "    if np.isnan(person['Age']) : # 꺼내온 정보에서 Age 컬럼이 결측치\n",
    "                                # 두개의 컬럼을 가져오기\n",
    "        return age_table.loc[person['Pclass'], person['Sex']]['Age']\n",
    "    else : # Age 컬럼이 결측치가 아님\n",
    "        return person['Age']"
   ]
  },
  {
   "cell_type": "code",
   "execution_count": 16,
   "id": "6a5258c0",
   "metadata": {
    "ExecuteTime": {
     "end_time": "2023-05-22T06:52:38.838200Z",
     "start_time": "2023-05-22T06:52:38.824238Z"
    }
   },
   "outputs": [],
   "source": [
    "# 행과 열단위의 계산을 진행 ==> 행, 열 단위의 데이터를 사용 : apply()\n",
    "# train-891개, test = 418개 데이터"
   ]
  },
  {
   "cell_type": "code",
   "execution_count": 17,
   "id": "07e5b81c",
   "metadata": {
    "ExecuteTime": {
     "end_time": "2023-05-22T06:52:38.901032Z",
     "start_time": "2023-05-22T06:52:38.840195Z"
    }
   },
   "outputs": [
    {
     "data": {
      "text/plain": [
       "0      22.0\n",
       "1      38.0\n",
       "2      26.0\n",
       "3      35.0\n",
       "4      35.0\n",
       "       ... \n",
       "886    27.0\n",
       "887    19.0\n",
       "888    21.5\n",
       "889    26.0\n",
       "890    32.0\n",
       "Length: 891, dtype: float64"
      ]
     },
     "execution_count": 17,
     "metadata": {},
     "output_type": "execute_result"
    }
   ],
   "source": [
    "# apply() : 행과 열단위로 복잡한 계산을 할 때 사용\n",
    "train.apply(fill_age, axis = 1) # 행단위로 출력"
   ]
  },
  {
   "cell_type": "code",
   "execution_count": 18,
   "id": "00f72981",
   "metadata": {
    "ExecuteTime": {
     "end_time": "2023-05-22T06:52:38.980818Z",
     "start_time": "2023-05-22T06:52:38.903027Z"
    }
   },
   "outputs": [],
   "source": [
    "# 결측치가 채워진 Age 컬럼 출력\n",
    "train['Age'] = train.apply(fill_age, axis=1)\n",
    "test['Age'] = train.apply(fill_age, axis=1)"
   ]
  },
  {
   "cell_type": "code",
   "execution_count": 19,
   "id": "25faa705",
   "metadata": {
    "ExecuteTime": {
     "end_time": "2023-05-22T06:52:38.996776Z",
     "start_time": "2023-05-22T06:52:38.982813Z"
    }
   },
   "outputs": [
    {
     "data": {
      "text/plain": [
       "0      22.0\n",
       "1      38.0\n",
       "2      26.0\n",
       "3      35.0\n",
       "4      35.0\n",
       "       ... \n",
       "886    27.0\n",
       "887    19.0\n",
       "888    21.5\n",
       "889    26.0\n",
       "890    32.0\n",
       "Name: Age, Length: 891, dtype: float64"
      ]
     },
     "execution_count": 19,
     "metadata": {},
     "output_type": "execute_result"
    }
   ],
   "source": [
    "train['Age']"
   ]
  },
  {
   "cell_type": "code",
   "execution_count": 20,
   "id": "c9f831b5",
   "metadata": {
    "ExecuteTime": {
     "end_time": "2023-05-22T06:52:39.012733Z",
     "start_time": "2023-05-22T06:52:38.998770Z"
    }
   },
   "outputs": [
    {
     "name": "stdout",
     "output_type": "stream",
     "text": [
      "<class 'pandas.core.frame.DataFrame'>\n",
      "RangeIndex: 418 entries, 0 to 417\n",
      "Data columns (total 11 columns):\n",
      " #   Column       Non-Null Count  Dtype  \n",
      "---  ------       --------------  -----  \n",
      " 0   PassengerId  418 non-null    int64  \n",
      " 1   Pclass       418 non-null    int64  \n",
      " 2   Name         418 non-null    object \n",
      " 3   Sex          418 non-null    object \n",
      " 4   Age          418 non-null    float64\n",
      " 5   SibSp        418 non-null    int64  \n",
      " 6   Parch        418 non-null    int64  \n",
      " 7   Ticket       418 non-null    object \n",
      " 8   Fare         418 non-null    float64\n",
      " 9   Cabin        91 non-null     object \n",
      " 10  Embarked     418 non-null    object \n",
      "dtypes: float64(2), int64(4), object(5)\n",
      "memory usage: 36.0+ KB\n"
     ]
    }
   ],
   "source": [
    "test.info()"
   ]
  },
  {
   "cell_type": "markdown",
   "id": "482f4d4f",
   "metadata": {},
   "source": [
    "#### Cabin 결측치 채우기"
   ]
  },
  {
   "cell_type": "code",
   "execution_count": 21,
   "id": "e3da89c9",
   "metadata": {
    "ExecuteTime": {
     "end_time": "2023-05-22T06:52:39.028690Z",
     "start_time": "2023-05-22T06:52:39.014728Z"
    }
   },
   "outputs": [
    {
     "data": {
      "text/plain": [
       "array([nan, 'C85', 'C123', 'E46', 'G6', 'C103', 'D56', 'A6',\n",
       "       'C23 C25 C27', 'B78', 'D33', 'B30', 'C52', 'B28', 'C83', 'F33',\n",
       "       'F G73', 'E31', 'A5', 'D10 D12', 'D26', 'C110', 'B58 B60', 'E101',\n",
       "       'F E69', 'D47', 'B86', 'F2', 'C2', 'E33', 'B19', 'A7', 'C49', 'F4',\n",
       "       'A32', 'B4', 'B80', 'A31', 'D36', 'D15', 'C93', 'C78', 'D35',\n",
       "       'C87', 'B77', 'E67', 'B94', 'C125', 'C99', 'C118', 'D7', 'A19',\n",
       "       'B49', 'D', 'C22 C26', 'C106', 'C65', 'E36', 'C54',\n",
       "       'B57 B59 B63 B66', 'C7', 'E34', 'C32', 'B18', 'C124', 'C91', 'E40',\n",
       "       'T', 'C128', 'D37', 'B35', 'E50', 'C82', 'B96 B98', 'E10', 'E44',\n",
       "       'A34', 'C104', 'C111', 'C92', 'E38', 'D21', 'E12', 'E63', 'A14',\n",
       "       'B37', 'C30', 'D20', 'B79', 'E25', 'D46', 'B73', 'C95', 'B38',\n",
       "       'B39', 'B22', 'C86', 'C70', 'A16', 'C101', 'C68', 'A10', 'E68',\n",
       "       'B41', 'A20', 'D19', 'D50', 'D9', 'A23', 'B50', 'A26', 'D48',\n",
       "       'E58', 'C126', 'B71', 'B51 B53 B55', 'D49', 'B5', 'B20', 'F G63',\n",
       "       'C62 C64', 'E24', 'C90', 'C45', 'E8', 'B101', 'D45', 'C46', 'D30',\n",
       "       'E121', 'D11', 'E77', 'F38', 'B3', 'D6', 'B82 B84', 'D17', 'A36',\n",
       "       'B102', 'B69', 'E49', 'C47', 'D28', 'E17', 'A24', 'C50', 'B42',\n",
       "       'C148'], dtype=object)"
      ]
     },
     "execution_count": 21,
     "metadata": {},
     "output_type": "execute_result"
    }
   ],
   "source": [
    "train['Cabin'].unique()  # 안겹치게 값 가져오기\n",
    "# 앞의 알파벳 : 타이타닉 호의 구역\n",
    "# 뒤 숫자 : 방번호\n",
    "# 너무 데이터의 종류가 많아서 규칙을 만들기에 부적합\n",
    "# 앞의 알파벳만 사용해서 공통특성으로 그룹화할 것"
   ]
  },
  {
   "cell_type": "code",
   "execution_count": 22,
   "id": "bdce3834",
   "metadata": {
    "ExecuteTime": {
     "end_time": "2023-05-22T06:52:39.043650Z",
     "start_time": "2023-05-22T06:52:39.030685Z"
    }
   },
   "outputs": [],
   "source": [
    "train['Cabin'].str[0]   # 문자열 인덱싱으로 맨 앞 알파벳만 가져오기\n",
    "train['Cabin'] = train['Cabin'].str[0]\n",
    "test['Cabin'] = train['Cabin'].str[0]"
   ]
  },
  {
   "cell_type": "code",
   "execution_count": 23,
   "id": "e78c7158",
   "metadata": {
    "ExecuteTime": {
     "end_time": "2023-05-22T06:52:39.059608Z",
     "start_time": "2023-05-22T06:52:39.045645Z"
    }
   },
   "outputs": [
    {
     "data": {
      "text/plain": [
       "array([nan, 'C', 'E', 'G', 'D', 'A', 'B', 'F', 'T'], dtype=object)"
      ]
     },
     "execution_count": 23,
     "metadata": {},
     "output_type": "execute_result"
    }
   ],
   "source": [
    "train['Cabin'].unique()"
   ]
  },
  {
   "cell_type": "code",
   "execution_count": 24,
   "id": "d2c334f4",
   "metadata": {
    "ExecuteTime": {
     "end_time": "2023-05-22T06:52:39.075565Z",
     "start_time": "2023-05-22T06:52:39.061602Z"
    }
   },
   "outputs": [
    {
     "data": {
      "text/plain": [
       "C    59\n",
       "B    47\n",
       "D    33\n",
       "E    32\n",
       "A    15\n",
       "F    13\n",
       "G     4\n",
       "T     1\n",
       "Name: Cabin, dtype: int64"
      ]
     },
     "execution_count": 24,
     "metadata": {},
     "output_type": "execute_result"
    }
   ],
   "source": [
    "# 각각의 알파벳에 해당하는 데이터 갯수를 확인해주는 함수\n",
    "train['Cabin'].value_counts()"
   ]
  },
  {
   "cell_type": "code",
   "execution_count": 25,
   "id": "d3928dee",
   "metadata": {
    "ExecuteTime": {
     "end_time": "2023-05-22T06:52:39.091522Z",
     "start_time": "2023-05-22T06:52:39.077559Z"
    }
   },
   "outputs": [],
   "source": [
    "# 결측치가 가장 많은 컬럼\n",
    "# 결측치들을 하나의 데이터로 가정\n",
    "#              -> 결측치가 사망자의 데이터. 데이터를 받지 못해 많은 것\n",
    "\n",
    "# 'N'이라고 지정할 것\n",
    "train['Cabin'].fillna('N', inplace=True)\n",
    "test['Cabin'].fillna('N', inplace=True)"
   ]
  },
  {
   "cell_type": "code",
   "execution_count": 26,
   "id": "5f9d9475",
   "metadata": {
    "ExecuteTime": {
     "end_time": "2023-05-22T06:52:39.107480Z",
     "start_time": "2023-05-22T06:52:39.093517Z"
    }
   },
   "outputs": [
    {
     "data": {
      "text/plain": [
       "N    687\n",
       "C     59\n",
       "B     47\n",
       "D     33\n",
       "E     32\n",
       "A     15\n",
       "F     13\n",
       "G      4\n",
       "T      1\n",
       "Name: Cabin, dtype: int64"
      ]
     },
     "execution_count": 26,
     "metadata": {},
     "output_type": "execute_result"
    }
   ],
   "source": [
    "train['Cabin'].value_counts()"
   ]
  },
  {
   "cell_type": "code",
   "execution_count": 27,
   "id": "c6b163e7",
   "metadata": {
    "ExecuteTime": {
     "end_time": "2023-05-22T06:52:39.123437Z",
     "start_time": "2023-05-22T06:52:39.109474Z"
    }
   },
   "outputs": [
    {
     "name": "stdout",
     "output_type": "stream",
     "text": [
      "<class 'pandas.core.frame.DataFrame'>\n",
      "RangeIndex: 891 entries, 0 to 890\n",
      "Data columns (total 12 columns):\n",
      " #   Column       Non-Null Count  Dtype  \n",
      "---  ------       --------------  -----  \n",
      " 0   PassengerId  891 non-null    int64  \n",
      " 1   Survived     891 non-null    int64  \n",
      " 2   Pclass       891 non-null    int64  \n",
      " 3   Name         891 non-null    object \n",
      " 4   Sex          891 non-null    object \n",
      " 5   Age          891 non-null    float64\n",
      " 6   SibSp        891 non-null    int64  \n",
      " 7   Parch        891 non-null    int64  \n",
      " 8   Ticket       891 non-null    object \n",
      " 9   Fare         891 non-null    float64\n",
      " 10  Cabin        891 non-null    object \n",
      " 11  Embarked     891 non-null    object \n",
      "dtypes: float64(2), int64(5), object(5)\n",
      "memory usage: 83.7+ KB\n"
     ]
    }
   ],
   "source": [
    "train.info()"
   ]
  },
  {
   "cell_type": "code",
   "execution_count": 28,
   "id": "ee62aa22",
   "metadata": {
    "ExecuteTime": {
     "end_time": "2023-05-22T06:52:39.154354Z",
     "start_time": "2023-05-22T06:52:39.130418Z"
    }
   },
   "outputs": [
    {
     "name": "stdout",
     "output_type": "stream",
     "text": [
      "<class 'pandas.core.frame.DataFrame'>\n",
      "RangeIndex: 418 entries, 0 to 417\n",
      "Data columns (total 11 columns):\n",
      " #   Column       Non-Null Count  Dtype  \n",
      "---  ------       --------------  -----  \n",
      " 0   PassengerId  418 non-null    int64  \n",
      " 1   Pclass       418 non-null    int64  \n",
      " 2   Name         418 non-null    object \n",
      " 3   Sex          418 non-null    object \n",
      " 4   Age          418 non-null    float64\n",
      " 5   SibSp        418 non-null    int64  \n",
      " 6   Parch        418 non-null    int64  \n",
      " 7   Ticket       418 non-null    object \n",
      " 8   Fare         418 non-null    float64\n",
      " 9   Cabin        418 non-null    object \n",
      " 10  Embarked     418 non-null    object \n",
      "dtypes: float64(2), int64(4), object(5)\n",
      "memory usage: 36.0+ KB\n"
     ]
    }
   ],
   "source": [
    "test.info()"
   ]
  },
  {
   "cell_type": "markdown",
   "id": "14a5eb73",
   "metadata": {},
   "source": [
    "#### PassengerId 삭제\n",
    "- 승객의 탑승번호는 생존과 연관이 없으므로 필요없는 데이터이다."
   ]
  },
  {
   "cell_type": "code",
   "execution_count": 29,
   "id": "3fffccde",
   "metadata": {
    "ExecuteTime": {
     "end_time": "2023-05-22T06:52:39.170312Z",
     "start_time": "2023-05-22T06:52:39.156349Z"
    }
   },
   "outputs": [],
   "source": [
    "# 행이나 열 단위로 데이터삭제 : drop()\n",
    "train.drop('PassengerId', axis=1, inplace=True)\n",
    "test.drop('PassengerId', axis=1, inplace=True)"
   ]
  },
  {
   "cell_type": "code",
   "execution_count": 30,
   "id": "0422e1ef",
   "metadata": {
    "ExecuteTime": {
     "end_time": "2023-05-22T06:52:39.186269Z",
     "start_time": "2023-05-22T06:52:39.172306Z"
    }
   },
   "outputs": [
    {
     "name": "stdout",
     "output_type": "stream",
     "text": [
      "(891, 11)\n",
      "(418, 10)\n"
     ]
    }
   ],
   "source": [
    "print(train.shape)\n",
    "print(test.shape)"
   ]
  },
  {
   "cell_type": "code",
   "execution_count": 31,
   "id": "f8e8ebfb",
   "metadata": {
    "ExecuteTime": {
     "end_time": "2023-05-22T06:52:39.218183Z",
     "start_time": "2023-05-22T06:52:39.188263Z"
    },
    "scrolled": true
   },
   "outputs": [
    {
     "data": {
      "text/html": [
       "<div>\n",
       "<style scoped>\n",
       "    .dataframe tbody tr th:only-of-type {\n",
       "        vertical-align: middle;\n",
       "    }\n",
       "\n",
       "    .dataframe tbody tr th {\n",
       "        vertical-align: top;\n",
       "    }\n",
       "\n",
       "    .dataframe thead th {\n",
       "        text-align: right;\n",
       "    }\n",
       "</style>\n",
       "<table border=\"1\" class=\"dataframe\">\n",
       "  <thead>\n",
       "    <tr style=\"text-align: right;\">\n",
       "      <th></th>\n",
       "      <th>Pclass</th>\n",
       "      <th>Name</th>\n",
       "      <th>Sex</th>\n",
       "      <th>Age</th>\n",
       "      <th>SibSp</th>\n",
       "      <th>Parch</th>\n",
       "      <th>Ticket</th>\n",
       "      <th>Fare</th>\n",
       "      <th>Cabin</th>\n",
       "      <th>Embarked</th>\n",
       "    </tr>\n",
       "  </thead>\n",
       "  <tbody>\n",
       "    <tr>\n",
       "      <th>0</th>\n",
       "      <td>3</td>\n",
       "      <td>Kelly, Mr. James</td>\n",
       "      <td>male</td>\n",
       "      <td>22.0</td>\n",
       "      <td>0</td>\n",
       "      <td>0</td>\n",
       "      <td>330911</td>\n",
       "      <td>7.8292</td>\n",
       "      <td>N</td>\n",
       "      <td>Q</td>\n",
       "    </tr>\n",
       "    <tr>\n",
       "      <th>1</th>\n",
       "      <td>3</td>\n",
       "      <td>Wilkes, Mrs. James (Ellen Needs)</td>\n",
       "      <td>female</td>\n",
       "      <td>38.0</td>\n",
       "      <td>1</td>\n",
       "      <td>0</td>\n",
       "      <td>363272</td>\n",
       "      <td>7.0000</td>\n",
       "      <td>C</td>\n",
       "      <td>S</td>\n",
       "    </tr>\n",
       "    <tr>\n",
       "      <th>2</th>\n",
       "      <td>2</td>\n",
       "      <td>Myles, Mr. Thomas Francis</td>\n",
       "      <td>male</td>\n",
       "      <td>26.0</td>\n",
       "      <td>0</td>\n",
       "      <td>0</td>\n",
       "      <td>240276</td>\n",
       "      <td>9.6875</td>\n",
       "      <td>N</td>\n",
       "      <td>Q</td>\n",
       "    </tr>\n",
       "    <tr>\n",
       "      <th>3</th>\n",
       "      <td>3</td>\n",
       "      <td>Wirz, Mr. Albert</td>\n",
       "      <td>male</td>\n",
       "      <td>35.0</td>\n",
       "      <td>0</td>\n",
       "      <td>0</td>\n",
       "      <td>315154</td>\n",
       "      <td>8.6625</td>\n",
       "      <td>C</td>\n",
       "      <td>S</td>\n",
       "    </tr>\n",
       "    <tr>\n",
       "      <th>4</th>\n",
       "      <td>3</td>\n",
       "      <td>Hirvonen, Mrs. Alexander (Helga E Lindqvist)</td>\n",
       "      <td>female</td>\n",
       "      <td>35.0</td>\n",
       "      <td>1</td>\n",
       "      <td>1</td>\n",
       "      <td>3101298</td>\n",
       "      <td>12.2875</td>\n",
       "      <td>N</td>\n",
       "      <td>S</td>\n",
       "    </tr>\n",
       "    <tr>\n",
       "      <th>...</th>\n",
       "      <td>...</td>\n",
       "      <td>...</td>\n",
       "      <td>...</td>\n",
       "      <td>...</td>\n",
       "      <td>...</td>\n",
       "      <td>...</td>\n",
       "      <td>...</td>\n",
       "      <td>...</td>\n",
       "      <td>...</td>\n",
       "      <td>...</td>\n",
       "    </tr>\n",
       "    <tr>\n",
       "      <th>413</th>\n",
       "      <td>3</td>\n",
       "      <td>Spector, Mr. Woolf</td>\n",
       "      <td>male</td>\n",
       "      <td>30.0</td>\n",
       "      <td>0</td>\n",
       "      <td>0</td>\n",
       "      <td>A.5. 3236</td>\n",
       "      <td>8.0500</td>\n",
       "      <td>N</td>\n",
       "      <td>S</td>\n",
       "    </tr>\n",
       "    <tr>\n",
       "      <th>414</th>\n",
       "      <td>1</td>\n",
       "      <td>Oliva y Ocana, Dona. Fermina</td>\n",
       "      <td>female</td>\n",
       "      <td>44.0</td>\n",
       "      <td>0</td>\n",
       "      <td>0</td>\n",
       "      <td>PC 17758</td>\n",
       "      <td>108.9000</td>\n",
       "      <td>N</td>\n",
       "      <td>C</td>\n",
       "    </tr>\n",
       "    <tr>\n",
       "      <th>415</th>\n",
       "      <td>3</td>\n",
       "      <td>Saether, Mr. Simon Sivertsen</td>\n",
       "      <td>male</td>\n",
       "      <td>21.5</td>\n",
       "      <td>0</td>\n",
       "      <td>0</td>\n",
       "      <td>SOTON/O.Q. 3101262</td>\n",
       "      <td>7.2500</td>\n",
       "      <td>N</td>\n",
       "      <td>S</td>\n",
       "    </tr>\n",
       "    <tr>\n",
       "      <th>416</th>\n",
       "      <td>3</td>\n",
       "      <td>Ware, Mr. Frederick</td>\n",
       "      <td>male</td>\n",
       "      <td>34.0</td>\n",
       "      <td>0</td>\n",
       "      <td>0</td>\n",
       "      <td>359309</td>\n",
       "      <td>8.0500</td>\n",
       "      <td>N</td>\n",
       "      <td>S</td>\n",
       "    </tr>\n",
       "    <tr>\n",
       "      <th>417</th>\n",
       "      <td>3</td>\n",
       "      <td>Peter, Master. Michael J</td>\n",
       "      <td>male</td>\n",
       "      <td>18.0</td>\n",
       "      <td>1</td>\n",
       "      <td>1</td>\n",
       "      <td>2668</td>\n",
       "      <td>22.3583</td>\n",
       "      <td>N</td>\n",
       "      <td>C</td>\n",
       "    </tr>\n",
       "  </tbody>\n",
       "</table>\n",
       "<p>418 rows × 10 columns</p>\n",
       "</div>"
      ],
      "text/plain": [
       "     Pclass                                          Name     Sex   Age  \\\n",
       "0         3                              Kelly, Mr. James    male  22.0   \n",
       "1         3              Wilkes, Mrs. James (Ellen Needs)  female  38.0   \n",
       "2         2                     Myles, Mr. Thomas Francis    male  26.0   \n",
       "3         3                              Wirz, Mr. Albert    male  35.0   \n",
       "4         3  Hirvonen, Mrs. Alexander (Helga E Lindqvist)  female  35.0   \n",
       "..      ...                                           ...     ...   ...   \n",
       "413       3                            Spector, Mr. Woolf    male  30.0   \n",
       "414       1                  Oliva y Ocana, Dona. Fermina  female  44.0   \n",
       "415       3                  Saether, Mr. Simon Sivertsen    male  21.5   \n",
       "416       3                           Ware, Mr. Frederick    male  34.0   \n",
       "417       3                      Peter, Master. Michael J    male  18.0   \n",
       "\n",
       "     SibSp  Parch              Ticket      Fare Cabin Embarked  \n",
       "0        0      0              330911    7.8292     N        Q  \n",
       "1        1      0              363272    7.0000     C        S  \n",
       "2        0      0              240276    9.6875     N        Q  \n",
       "3        0      0              315154    8.6625     C        S  \n",
       "4        1      1             3101298   12.2875     N        S  \n",
       "..     ...    ...                 ...       ...   ...      ...  \n",
       "413      0      0           A.5. 3236    8.0500     N        S  \n",
       "414      0      0            PC 17758  108.9000     N        C  \n",
       "415      0      0  SOTON/O.Q. 3101262    7.2500     N        S  \n",
       "416      0      0              359309    8.0500     N        S  \n",
       "417      1      1                2668   22.3583     N        C  \n",
       "\n",
       "[418 rows x 10 columns]"
      ]
     },
     "execution_count": 31,
     "metadata": {},
     "output_type": "execute_result"
    }
   ],
   "source": [
    "test"
   ]
  },
  {
   "cell_type": "markdown",
   "id": "1ea8de60",
   "metadata": {},
   "source": [
    "#### Text 데이터 전처리\n",
    "- Name, Ticket"
   ]
  },
  {
   "cell_type": "markdown",
   "id": "7e1a0bda",
   "metadata": {},
   "source": [
    "##### Name\n",
    "- 이름데이터의 공통점 : 이름과 성 사이 호칭이 존재\n",
    "- 이름이라는 글자자체는 중요하지 않다. --> 호칭으로 그룹화 한 것들을 숫자로 바꿈"
   ]
  },
  {
   "cell_type": "code",
   "execution_count": 32,
   "id": "02a7dc0c",
   "metadata": {
    "ExecuteTime": {
     "end_time": "2023-05-22T06:52:39.234140Z",
     "start_time": "2023-05-22T06:52:39.220177Z"
    }
   },
   "outputs": [
    {
     "data": {
      "text/plain": [
       "'Mr'"
      ]
     },
     "execution_count": 32,
     "metadata": {},
     "output_type": "execute_result"
    }
   ],
   "source": [
    "# 목표 = Mr 꺼내오기\n",
    "train['Name'].iloc[0]\n",
    "\n",
    "# 중간에 있는 호칭만 사용하기\n",
    "# train['Name'].iloc[0].split(',')[1] => ' Mr. Owen Harris'\n",
    "train['Name'].iloc[0].split(',')[1].split('.')[0].strip() \n",
    "\n",
    "# 공백 제거 strip()"
   ]
  },
  {
   "cell_type": "code",
   "execution_count": 33,
   "id": "c9d7d389",
   "metadata": {
    "ExecuteTime": {
     "end_time": "2023-05-22T06:52:39.249101Z",
     "start_time": "2023-05-22T06:52:39.236135Z"
    }
   },
   "outputs": [
    {
     "data": {
      "text/plain": [
       "0                                Braund, Mr. Owen Harris\n",
       "1      Cumings, Mrs. John Bradley (Florence Briggs Th...\n",
       "2                                 Heikkinen, Miss. Laina\n",
       "3           Futrelle, Mrs. Jacques Heath (Lily May Peel)\n",
       "4                               Allen, Mr. William Henry\n",
       "                             ...                        \n",
       "886                                Montvila, Rev. Juozas\n",
       "887                         Graham, Miss. Margaret Edith\n",
       "888             Johnston, Miss. Catherine Helen \"Carrie\"\n",
       "889                                Behr, Mr. Karl Howell\n",
       "890                                  Dooley, Mr. Patrick\n",
       "Name: Name, Length: 891, dtype: object"
      ]
     },
     "execution_count": 33,
     "metadata": {},
     "output_type": "execute_result"
    }
   ],
   "source": [
    "train['Name']"
   ]
  },
  {
   "cell_type": "code",
   "execution_count": 34,
   "id": "a5853e4e",
   "metadata": {
    "ExecuteTime": {
     "end_time": "2023-05-22T06:52:39.264060Z",
     "start_time": "2023-05-22T06:52:39.251095Z"
    }
   },
   "outputs": [],
   "source": [
    "# 중간 호칭을 가져오는 함수 만들기\n",
    "\n",
    "def split_name(name) :\n",
    "    return name.split(',')[1].split('.')[0].strip()"
   ]
  },
  {
   "cell_type": "code",
   "execution_count": 35,
   "id": "f9a3317b",
   "metadata": {
    "ExecuteTime": {
     "end_time": "2023-05-22T06:52:39.280018Z",
     "start_time": "2023-05-22T06:52:39.266055Z"
    }
   },
   "outputs": [],
   "source": [
    "# apply() 함수 적용, 하나의 행씩 처리 할 것 \n",
    "train['Name'] = train['Name'].apply(split_name)\n",
    "test['Name'] = test['Name'].apply(split_name)"
   ]
  },
  {
   "cell_type": "code",
   "execution_count": 36,
   "id": "d8419ce0",
   "metadata": {
    "ExecuteTime": {
     "end_time": "2023-05-22T06:52:39.295975Z",
     "start_time": "2023-05-22T06:52:39.282013Z"
    }
   },
   "outputs": [
    {
     "data": {
      "text/plain": [
       "Mr        240\n",
       "Miss       78\n",
       "Mrs        72\n",
       "Master     21\n",
       "Col         2\n",
       "Rev         2\n",
       "Ms          1\n",
       "Dr          1\n",
       "Dona        1\n",
       "Name: Name, dtype: int64"
      ]
     },
     "execution_count": 36,
     "metadata": {},
     "output_type": "execute_result"
    }
   ],
   "source": [
    "test['Name'].value_counts()"
   ]
  },
  {
   "cell_type": "code",
   "execution_count": 37,
   "id": "84b478cb",
   "metadata": {
    "ExecuteTime": {
     "end_time": "2023-05-22T06:52:39.311932Z",
     "start_time": "2023-05-22T06:52:39.297970Z"
    }
   },
   "outputs": [],
   "source": [
    "# 가지수가 별로 없는 데이터는 사용하지 않는 게 좋음 ==> 과대 적합을 피하기 위해\n",
    "# 사용하지 않거나, 다른 데이터 대체 (other)\n",
    "train['Name'].value_counts()\n",
    "convert_title_dic = {\n",
    "    'Mr' : 'Mr',             \n",
    "    'Miss' : 'Miss',\n",
    "    'Mrs' : 'Mrs',\n",
    "    'Master' : 'Master',         \n",
    "    'Dr' : 'Dr',             \n",
    "    'Rev' : 'Rev',            \n",
    "    'Mlle' : 'Other',             \n",
    "    'Major' : 'Other',            \n",
    "    'Col' : 'Other',              \n",
    "    'the Countess' : 'Other',     \n",
    "    'Capt' : 'Other',             \n",
    "    'Ms' : 'Other',                \n",
    "    'Sir' : 'Other',              \n",
    "    'Lady' : 'Other',             \n",
    "    'Mme' : 'Other',              \n",
    "    'Don' : 'Other',              \n",
    "    'Jonkheer' : 'Other',\n",
    "    'Dona' : 'Other'}"
   ]
  },
  {
   "cell_type": "code",
   "execution_count": 38,
   "id": "e2a9f8e9",
   "metadata": {
    "ExecuteTime": {
     "end_time": "2023-05-22T06:52:39.327890Z",
     "start_time": "2023-05-22T06:52:39.313948Z"
    }
   },
   "outputs": [],
   "source": [
    "# key 값을 value 값으로 대체해주는 함수 : map()\n",
    "train['Name'] = train['Name'].map(convert_title_dic)\n",
    "test['Name'] = test['Name'].map(convert_title_dic)"
   ]
  },
  {
   "cell_type": "code",
   "execution_count": 39,
   "id": "d5710a53",
   "metadata": {
    "ExecuteTime": {
     "end_time": "2023-05-22T06:52:39.343847Z",
     "start_time": "2023-05-22T06:52:39.329885Z"
    }
   },
   "outputs": [
    {
     "data": {
      "text/plain": [
       "array(['Mr', 'Mrs', 'Miss', 'Master', 'Other', 'Rev', 'Dr'], dtype=object)"
      ]
     },
     "execution_count": 39,
     "metadata": {},
     "output_type": "execute_result"
    }
   ],
   "source": [
    "train['Name'].unique()"
   ]
  },
  {
   "cell_type": "code",
   "execution_count": 40,
   "id": "4f6d8bab",
   "metadata": {
    "ExecuteTime": {
     "end_time": "2023-05-22T06:52:39.359805Z",
     "start_time": "2023-05-22T06:52:39.345842Z"
    }
   },
   "outputs": [
    {
     "name": "stdout",
     "output_type": "stream",
     "text": [
      "<class 'pandas.core.frame.DataFrame'>\n",
      "RangeIndex: 418 entries, 0 to 417\n",
      "Data columns (total 10 columns):\n",
      " #   Column    Non-Null Count  Dtype  \n",
      "---  ------    --------------  -----  \n",
      " 0   Pclass    418 non-null    int64  \n",
      " 1   Name      418 non-null    object \n",
      " 2   Sex       418 non-null    object \n",
      " 3   Age       418 non-null    float64\n",
      " 4   SibSp     418 non-null    int64  \n",
      " 5   Parch     418 non-null    int64  \n",
      " 6   Ticket    418 non-null    object \n",
      " 7   Fare      418 non-null    float64\n",
      " 8   Cabin     418 non-null    object \n",
      " 9   Embarked  418 non-null    object \n",
      "dtypes: float64(2), int64(3), object(5)\n",
      "memory usage: 32.8+ KB\n"
     ]
    }
   ],
   "source": [
    "test.info()"
   ]
  },
  {
   "cell_type": "code",
   "execution_count": 41,
   "id": "dbd4f257",
   "metadata": {
    "ExecuteTime": {
     "end_time": "2023-05-22T06:52:39.375762Z",
     "start_time": "2023-05-22T06:52:39.361799Z"
    }
   },
   "outputs": [
    {
     "name": "stdout",
     "output_type": "stream",
     "text": [
      "<class 'pandas.core.frame.DataFrame'>\n",
      "RangeIndex: 891 entries, 0 to 890\n",
      "Data columns (total 11 columns):\n",
      " #   Column    Non-Null Count  Dtype  \n",
      "---  ------    --------------  -----  \n",
      " 0   Survived  891 non-null    int64  \n",
      " 1   Pclass    891 non-null    int64  \n",
      " 2   Name      891 non-null    object \n",
      " 3   Sex       891 non-null    object \n",
      " 4   Age       891 non-null    float64\n",
      " 5   SibSp     891 non-null    int64  \n",
      " 6   Parch     891 non-null    int64  \n",
      " 7   Ticket    891 non-null    object \n",
      " 8   Fare      891 non-null    float64\n",
      " 9   Cabin     891 non-null    object \n",
      " 10  Embarked  891 non-null    object \n",
      "dtypes: float64(2), int64(4), object(5)\n",
      "memory usage: 76.7+ KB\n"
     ]
    }
   ],
   "source": [
    "train.info()"
   ]
  },
  {
   "cell_type": "code",
   "execution_count": 42,
   "id": "ae01e55e",
   "metadata": {
    "ExecuteTime": {
     "end_time": "2023-05-22T06:52:39.391719Z",
     "start_time": "2023-05-22T06:52:39.376762Z"
    }
   },
   "outputs": [
    {
     "data": {
      "text/plain": [
       "Index(['Survived', 'Pclass', 'Name', 'Sex', 'Age', 'SibSp', 'Parch', 'Ticket',\n",
       "       'Fare', 'Cabin', 'Embarked'],\n",
       "      dtype='object')"
      ]
     },
     "execution_count": 42,
     "metadata": {},
     "output_type": "execute_result"
    }
   ],
   "source": [
    "train.columns"
   ]
  },
  {
   "cell_type": "code",
   "execution_count": 43,
   "id": "d9cb46e8",
   "metadata": {
    "ExecuteTime": {
     "end_time": "2023-05-22T06:52:39.407676Z",
     "start_time": "2023-05-22T06:52:39.393713Z"
    }
   },
   "outputs": [
    {
     "data": {
      "text/plain": [
       "Index(['Pclass', 'Name', 'Sex', 'Age', 'SibSp', 'Parch', 'Ticket', 'Fare',\n",
       "       'Cabin', 'Embarked'],\n",
       "      dtype='object')"
      ]
     },
     "execution_count": 43,
     "metadata": {},
     "output_type": "execute_result"
    }
   ],
   "source": [
    "test.columns"
   ]
  },
  {
   "cell_type": "markdown",
   "id": "519a2955",
   "metadata": {},
   "source": [
    "#### Ticket"
   ]
  },
  {
   "cell_type": "code",
   "execution_count": 44,
   "id": "6ae273f0",
   "metadata": {
    "ExecuteTime": {
     "end_time": "2023-05-22T06:52:39.423634Z",
     "start_time": "2023-05-22T06:52:39.409671Z"
    }
   },
   "outputs": [
    {
     "data": {
      "text/plain": [
       "0             A/5 21171\n",
       "1              PC 17599\n",
       "2      STON/O2. 3101282\n",
       "3                113803\n",
       "4                373450\n",
       "             ...       \n",
       "886              211536\n",
       "887              112053\n",
       "888          W./C. 6607\n",
       "889              111369\n",
       "890              370376\n",
       "Name: Ticket, Length: 891, dtype: object"
      ]
     },
     "execution_count": 44,
     "metadata": {},
     "output_type": "execute_result"
    }
   ],
   "source": [
    "train['Ticket']"
   ]
  },
  {
   "cell_type": "code",
   "execution_count": 45,
   "id": "3a18d8a1",
   "metadata": {
    "ExecuteTime": {
     "end_time": "2023-05-22T06:52:39.439591Z",
     "start_time": "2023-05-22T06:52:39.425629Z"
    }
   },
   "outputs": [
    {
     "data": {
      "text/plain": [
       "681"
      ]
     },
     "execution_count": 45,
     "metadata": {},
     "output_type": "execute_result"
    }
   ],
   "source": [
    "len(train['Ticket'].unique())\n",
    "# 891 -> 681\n",
    "#다른 탑승객과 동일한 티켓이름을 가진 사람이 210명"
   ]
  },
  {
   "cell_type": "code",
   "execution_count": 46,
   "id": "5b65dff7",
   "metadata": {
    "ExecuteTime": {
     "end_time": "2023-05-22T06:52:39.455549Z",
     "start_time": "2023-05-22T06:52:39.441586Z"
    }
   },
   "outputs": [],
   "source": [
    "# 공통점을 발견하는게 쉽지 않고, 예측을 하는데 별로 도움이 되지 않는 데이터 ==> 삭제 \n",
    "train.drop('Ticket', axis = 1, inplace = True)\n",
    "test.drop('Ticket', axis = 1, inplace = True)"
   ]
  },
  {
   "cell_type": "code",
   "execution_count": 47,
   "id": "d6b71436",
   "metadata": {
    "ExecuteTime": {
     "end_time": "2023-05-22T06:52:39.471506Z",
     "start_time": "2023-05-22T06:52:39.457543Z"
    }
   },
   "outputs": [
    {
     "name": "stdout",
     "output_type": "stream",
     "text": [
      "(891, 10)\n",
      "(418, 9)\n"
     ]
    }
   ],
   "source": [
    "print(train.shape)\n",
    "print(test.shape)"
   ]
  },
  {
   "cell_type": "markdown",
   "id": "65b8cf8e",
   "metadata": {},
   "source": [
    "### 탐색적 데이터 분석 (EDA)\n",
    "- 통계치가 별 의미가 없으므로 데이터를 그래프로 확인"
   ]
  },
  {
   "cell_type": "code",
   "execution_count": 48,
   "id": "cc1a0d2f",
   "metadata": {
    "ExecuteTime": {
     "end_time": "2023-05-22T06:52:41.062398Z",
     "start_time": "2023-05-22T06:52:39.473500Z"
    }
   },
   "outputs": [],
   "source": [
    "# 그래프를 그려주는 라이브러리 불러오기\n",
    "import matplotlib.pyplot as plt\n",
    "import seaborn as sns  # 그래프를 쉽게 그려주는 라이브러리"
   ]
  },
  {
   "cell_type": "code",
   "execution_count": 49,
   "id": "48b6c2bb",
   "metadata": {
    "ExecuteTime": {
     "end_time": "2023-05-22T06:52:41.078010Z",
     "start_time": "2023-05-22T06:52:41.064094Z"
    }
   },
   "outputs": [
    {
     "name": "stdout",
     "output_type": "stream",
     "text": [
      "<class 'pandas.core.frame.DataFrame'>\n",
      "RangeIndex: 891 entries, 0 to 890\n",
      "Data columns (total 10 columns):\n",
      " #   Column    Non-Null Count  Dtype  \n",
      "---  ------    --------------  -----  \n",
      " 0   Survived  891 non-null    int64  \n",
      " 1   Pclass    891 non-null    int64  \n",
      " 2   Name      891 non-null    object \n",
      " 3   Sex       891 non-null    object \n",
      " 4   Age       891 non-null    float64\n",
      " 5   SibSp     891 non-null    int64  \n",
      " 6   Parch     891 non-null    int64  \n",
      " 7   Fare      891 non-null    float64\n",
      " 8   Cabin     891 non-null    object \n",
      " 9   Embarked  891 non-null    object \n",
      "dtypes: float64(2), int64(4), object(4)\n",
      "memory usage: 69.7+ KB\n"
     ]
    }
   ],
   "source": [
    "train.info()"
   ]
  },
  {
   "cell_type": "markdown",
   "id": "44c768c8",
   "metadata": {},
   "source": [
    "#### 범주형 데이터 \n",
    "- object 타입\n",
    "- Name, Sex, Cabin, Embarked, Pclass\n",
    "- bar 차트 사용\n",
    "- Pclass : 정수형 데이터타입이지만, 연속된 숫자가 아닌 객실의 등급이므로 범주형으로 처리"
   ]
  },
  {
   "cell_type": "code",
   "execution_count": 50,
   "id": "96de2c06",
   "metadata": {
    "ExecuteTime": {
     "end_time": "2023-05-22T06:52:41.109627Z",
     "start_time": "2023-05-22T06:52:41.080008Z"
    }
   },
   "outputs": [
    {
     "data": {
      "text/html": [
       "<div>\n",
       "<style scoped>\n",
       "    .dataframe tbody tr th:only-of-type {\n",
       "        vertical-align: middle;\n",
       "    }\n",
       "\n",
       "    .dataframe tbody tr th {\n",
       "        vertical-align: top;\n",
       "    }\n",
       "\n",
       "    .dataframe thead th {\n",
       "        text-align: right;\n",
       "    }\n",
       "</style>\n",
       "<table border=\"1\" class=\"dataframe\">\n",
       "  <thead>\n",
       "    <tr style=\"text-align: right;\">\n",
       "      <th></th>\n",
       "      <th>Survived</th>\n",
       "      <th>Pclass</th>\n",
       "      <th>Name</th>\n",
       "      <th>Sex</th>\n",
       "      <th>Age</th>\n",
       "      <th>SibSp</th>\n",
       "      <th>Parch</th>\n",
       "      <th>Fare</th>\n",
       "      <th>Cabin</th>\n",
       "      <th>Embarked</th>\n",
       "    </tr>\n",
       "  </thead>\n",
       "  <tbody>\n",
       "    <tr>\n",
       "      <th>0</th>\n",
       "      <td>0</td>\n",
       "      <td>3</td>\n",
       "      <td>Mr</td>\n",
       "      <td>male</td>\n",
       "      <td>22.0</td>\n",
       "      <td>1</td>\n",
       "      <td>0</td>\n",
       "      <td>7.2500</td>\n",
       "      <td>N</td>\n",
       "      <td>S</td>\n",
       "    </tr>\n",
       "    <tr>\n",
       "      <th>1</th>\n",
       "      <td>1</td>\n",
       "      <td>1</td>\n",
       "      <td>Mrs</td>\n",
       "      <td>female</td>\n",
       "      <td>38.0</td>\n",
       "      <td>1</td>\n",
       "      <td>0</td>\n",
       "      <td>71.2833</td>\n",
       "      <td>C</td>\n",
       "      <td>C</td>\n",
       "    </tr>\n",
       "    <tr>\n",
       "      <th>2</th>\n",
       "      <td>1</td>\n",
       "      <td>3</td>\n",
       "      <td>Miss</td>\n",
       "      <td>female</td>\n",
       "      <td>26.0</td>\n",
       "      <td>0</td>\n",
       "      <td>0</td>\n",
       "      <td>7.9250</td>\n",
       "      <td>N</td>\n",
       "      <td>S</td>\n",
       "    </tr>\n",
       "    <tr>\n",
       "      <th>3</th>\n",
       "      <td>1</td>\n",
       "      <td>1</td>\n",
       "      <td>Mrs</td>\n",
       "      <td>female</td>\n",
       "      <td>35.0</td>\n",
       "      <td>1</td>\n",
       "      <td>0</td>\n",
       "      <td>53.1000</td>\n",
       "      <td>C</td>\n",
       "      <td>S</td>\n",
       "    </tr>\n",
       "    <tr>\n",
       "      <th>4</th>\n",
       "      <td>0</td>\n",
       "      <td>3</td>\n",
       "      <td>Mr</td>\n",
       "      <td>male</td>\n",
       "      <td>35.0</td>\n",
       "      <td>0</td>\n",
       "      <td>0</td>\n",
       "      <td>8.0500</td>\n",
       "      <td>N</td>\n",
       "      <td>S</td>\n",
       "    </tr>\n",
       "  </tbody>\n",
       "</table>\n",
       "</div>"
      ],
      "text/plain": [
       "   Survived  Pclass  Name     Sex   Age  SibSp  Parch     Fare Cabin Embarked\n",
       "0         0       3    Mr    male  22.0      1      0   7.2500     N        S\n",
       "1         1       1   Mrs  female  38.0      1      0  71.2833     C        C\n",
       "2         1       3  Miss  female  26.0      0      0   7.9250     N        S\n",
       "3         1       1   Mrs  female  35.0      1      0  53.1000     C        S\n",
       "4         0       3    Mr    male  35.0      0      0   8.0500     N        S"
      ]
     },
     "execution_count": 50,
     "metadata": {},
     "output_type": "execute_result"
    }
   ],
   "source": [
    "train.head()"
   ]
  },
  {
   "cell_type": "markdown",
   "id": "eacad665",
   "metadata": {},
   "source": [
    "##### Cabin 시각화 "
   ]
  },
  {
   "cell_type": "code",
   "execution_count": 51,
   "id": "eb3dbbfd",
   "metadata": {
    "ExecuteTime": {
     "end_time": "2023-05-22T06:52:41.410846Z",
     "start_time": "2023-05-22T06:52:41.111624Z"
    },
    "scrolled": true
   },
   "outputs": [
    {
     "data": {
      "image/png": "[encoded data removed]",
      "text/plain": [
       "<Figure size 640x480 with 1 Axes>"
      ]
     },
     "metadata": {},
     "output_type": "display_data"
    }
   ],
   "source": [
    "sns.countplot(data=train, x='Cabin', hue='Survived') # 두 개의 값 보여준다.\n",
    "plt.show()\n",
    "\n",
    "# 하나의 X축에 2개의 값이 존재\n",
    "# countplot : 값의 갯수 , y\n",
    "# x : 객실의 구역 - Cabin\n",
    "# hue : x축에서 생존자/사망자의 count - Survived\n",
    "# cabin의 결측치를 N이라는 값으로 채운게 어느정도 의미가 있는 것을 확인\n",
    "# 데이터를 살펴보고 의미를 찾아가는 과정"
   ]
  },
  {
   "cell_type": "markdown",
   "id": "7e019703",
   "metadata": {},
   "source": [
    "- N의 값을 가지고 있는 사람들이 많이 죽었음.\n",
    "- 임의로 채운 데이터이지만(N) 분석 활용에 괜찮을 거 같음."
   ]
  },
  {
   "cell_type": "markdown",
   "id": "a0f929f1",
   "metadata": {},
   "source": [
    "##### Pclass 시각화"
   ]
  },
  {
   "cell_type": "code",
   "execution_count": 52,
   "id": "fc5a3d88",
   "metadata": {
    "ExecuteTime": {
     "end_time": "2023-05-22T06:52:41.552511Z",
     "start_time": "2023-05-22T06:52:41.412816Z"
    }
   },
   "outputs": [
    {
     "data": {
      "image/png": "[encoded data removed]",
      "text/plain": [
       "<Figure size 640x480 with 1 Axes>"
      ]
     },
     "metadata": {},
     "output_type": "display_data"
    }
   ],
   "source": [
    "sns.countplot(data=train, x='Pclass', hue='Survived') # 두 개의 값 보여준다.\n",
    "plt.show()"
   ]
  },
  {
   "cell_type": "markdown",
   "id": "f038ec6e",
   "metadata": {},
   "source": [
    "- 객실 등급이 높아질수록 생존율이 올라간다."
   ]
  },
  {
   "cell_type": "markdown",
   "id": "68c103ab",
   "metadata": {},
   "source": [
    "##### Cabin 과 Pclass 시각화"
   ]
  },
  {
   "cell_type": "code",
   "execution_count": 53,
   "id": "6031f03a",
   "metadata": {
    "ExecuteTime": {
     "end_time": "2023-05-22T06:52:41.769154Z",
     "start_time": "2023-05-22T06:52:41.554475Z"
    }
   },
   "outputs": [
    {
     "data": {
      "image/png": "[encoded data removed]",
      "text/plain": [
       "<Figure size 640x480 with 1 Axes>"
      ]
     },
     "metadata": {},
     "output_type": "display_data"
    }
   ],
   "source": [
    "sns.countplot(data=train, x='Cabin', hue='Pclass') # Pclass로 카운팅\n",
    "plt.show()"
   ]
  },
  {
   "cell_type": "markdown",
   "id": "9c7549be",
   "metadata": {},
   "source": [
    "- N구역 사람들은 3등 객실에 사람들이 많았기 때문에 사망율도 높았다.\n",
    "- A, B, C, D, E 구역은 1등 객실의 사람들이 많음  \n",
    "==> 머신러닝을 위한 특성들을 정리하는 과정"
   ]
  },
  {
   "cell_type": "code",
   "execution_count": 54,
   "id": "0dd6aecd",
   "metadata": {
    "ExecuteTime": {
     "end_time": "2023-05-22T06:52:41.895428Z",
     "start_time": "2023-05-22T06:52:41.771137Z"
    }
   },
   "outputs": [
    {
     "data": {
      "image/png": "[encoded data removed]",
      "text/plain": [
       "<Figure size 640x480 with 1 Axes>"
      ]
     },
     "metadata": {},
     "output_type": "display_data"
    }
   ],
   "source": [
    "sns.countplot(data=train, x='Sex', hue='Survived') # Pclass로 카운팅\n",
    "plt.show()"
   ]
  },
  {
   "cell_type": "markdown",
   "id": "c015f696",
   "metadata": {},
   "source": [
    "- 남성은 사망비율이 높다  \n",
    "- 여성은 생존 비율이 높다"
   ]
  },
  {
   "cell_type": "code",
   "execution_count": 55,
   "id": "c369815c",
   "metadata": {
    "ExecuteTime": {
     "end_time": "2023-05-22T06:52:42.052955Z",
     "start_time": "2023-05-22T06:52:41.897421Z"
    }
   },
   "outputs": [
    {
     "data": {
      "image/png": "[encoded data removed]",
      "text/plain": [
       "<Figure size 640x480 with 1 Axes>"
      ]
     },
     "metadata": {},
     "output_type": "display_data"
    }
   ],
   "source": [
    "sns.countplot(data=train, x='Embarked', hue='Pclass') # Pclass로 카운팅\n",
    "plt.show()"
   ]
  },
  {
   "cell_type": "markdown",
   "id": "b99b3e44",
   "metadata": {},
   "source": [
    "- Q라는 도시는 3등 객실의 탑승객이 많은 것을 보면 S,C에 비해 좀 낙후된 것 아닐까 하는 의문\n",
    "- 각 탑승 항구에 따른 연관성 생각해 볼 필요가 있음"
   ]
  },
  {
   "cell_type": "markdown",
   "id": "0532acdd",
   "metadata": {},
   "source": [
    "#### 숫자형 데이터\n",
    "- 구간을 나눠서 데이터의 분포를 추정하는 그래프\n",
    "- 히스토그램"
   ]
  },
  {
   "cell_type": "markdown",
   "id": "bc16b5ad",
   "metadata": {},
   "source": [
    "##### Sex, Age, Survived 시각화"
   ]
  },
  {
   "cell_type": "code",
   "execution_count": 56,
   "id": "b1b15937",
   "metadata": {
    "ExecuteTime": {
     "end_time": "2023-05-22T06:52:42.227259Z",
     "start_time": "2023-05-22T06:52:42.054955Z"
    }
   },
   "outputs": [
    {
     "data": {
      "image/png": "[encoded data removed]",
      "text/plain": [
       "<Figure size 640x480 with 1 Axes>"
      ]
     },
     "metadata": {},
     "output_type": "display_data"
    }
   ],
   "source": [
    "# 나이별 생존자와 서명자의 비율을 성별로 나타내준 그래프\n",
    "\n",
    "sns.violinplot(data=train, x=\"Sex\", y= 'Age', hue=\"Survived\", split=True )\n",
    "plt.show()\n",
    "\n"
   ]
  },
  {
   "cell_type": "markdown",
   "id": "3e5a340a",
   "metadata": {},
   "source": [
    "- 20, 40 대 사이가 많이 사망했고,\n",
    "- 어린아이 중에서는 남자아이가 여자아이에 비해 많이 생존했다."
   ]
  },
  {
   "cell_type": "markdown",
   "id": "e7866ae6",
   "metadata": {},
   "source": [
    "##### Sex, Fare, Survived 시각화"
   ]
  },
  {
   "cell_type": "code",
   "execution_count": 57,
   "id": "fbd2bb04",
   "metadata": {
    "ExecuteTime": {
     "end_time": "2023-05-22T06:52:42.400369Z",
     "start_time": "2023-05-22T06:52:42.229225Z"
    }
   },
   "outputs": [
    {
     "data": {
      "image/png": "[encoded data removed]",
      "text/plain": [
       "<Figure size 640x480 with 1 Axes>"
      ]
     },
     "metadata": {},
     "output_type": "display_data"
    }
   ],
   "source": [
    "sns.violinplot(data=train, x=\"Sex\", y= 'Fare', hue=\"Survived\", split=True )\n",
    "plt.show()"
   ]
  },
  {
   "cell_type": "markdown",
   "id": "f2633f2b",
   "metadata": {},
   "source": [
    "- 요금이 싼 사람은 상대적으로 많이 사망했다."
   ]
  },
  {
   "cell_type": "markdown",
   "id": "a52247e7",
   "metadata": {},
   "source": [
    "#### 특성 공학\n",
    "- 특성공학 : 가지고 있는 특성을 기반으로 새로운 특성을 만드는 것\n",
    "- SibSp + Parch을 더해서 가족의 숫자라는 새로운 컬럼을 생성 ==> 가족의 수 특성"
   ]
  },
  {
   "cell_type": "code",
   "execution_count": 58,
   "id": "9350b135",
   "metadata": {
    "ExecuteTime": {
     "end_time": "2023-05-22T06:52:42.416361Z",
     "start_time": "2023-05-22T06:52:42.402368Z"
    }
   },
   "outputs": [
    {
     "data": {
      "text/plain": [
       "Index(['Survived', 'Pclass', 'Name', 'Sex', 'Age', 'SibSp', 'Parch', 'Fare',\n",
       "       'Cabin', 'Embarked'],\n",
       "      dtype='object')"
      ]
     },
     "execution_count": 58,
     "metadata": {},
     "output_type": "execute_result"
    }
   ],
   "source": [
    "train.columns"
   ]
  },
  {
   "cell_type": "markdown",
   "id": "8041ff91",
   "metadata": {},
   "source": [
    "##### 가족의  수 특성 만들기\n",
    "- SibSp(형제자매수, 배우자수) + Parch(부모자식의 수) +1(본인) ==> Family_size(가족의 수)\n"
   ]
  },
  {
   "cell_type": "code",
   "execution_count": 59,
   "id": "d895efa6",
   "metadata": {
    "ExecuteTime": {
     "end_time": "2023-05-22T06:52:42.432288Z",
     "start_time": "2023-05-22T06:52:42.418325Z"
    }
   },
   "outputs": [],
   "source": [
    "train['Family_size'] = train['SibSp'] + train['Parch'] + 1"
   ]
  },
  {
   "cell_type": "code",
   "execution_count": 60,
   "id": "2d6e514f",
   "metadata": {
    "ExecuteTime": {
     "end_time": "2023-05-22T06:52:42.447911Z",
     "start_time": "2023-05-22T06:52:42.434282Z"
    }
   },
   "outputs": [],
   "source": [
    "test['Family_size'] = test['SibSp'] + test['Parch'] + 1"
   ]
  },
  {
   "cell_type": "code",
   "execution_count": 61,
   "id": "37a3e494",
   "metadata": {
    "ExecuteTime": {
     "end_time": "2023-05-22T06:52:42.463622Z",
     "start_time": "2023-05-22T06:52:42.449602Z"
    }
   },
   "outputs": [
    {
     "data": {
      "text/html": [
       "<div>\n",
       "<style scoped>\n",
       "    .dataframe tbody tr th:only-of-type {\n",
       "        vertical-align: middle;\n",
       "    }\n",
       "\n",
       "    .dataframe tbody tr th {\n",
       "        vertical-align: top;\n",
       "    }\n",
       "\n",
       "    .dataframe thead th {\n",
       "        text-align: right;\n",
       "    }\n",
       "</style>\n",
       "<table border=\"1\" class=\"dataframe\">\n",
       "  <thead>\n",
       "    <tr style=\"text-align: right;\">\n",
       "      <th></th>\n",
       "      <th>Survived</th>\n",
       "      <th>Pclass</th>\n",
       "      <th>Name</th>\n",
       "      <th>Sex</th>\n",
       "      <th>Age</th>\n",
       "      <th>SibSp</th>\n",
       "      <th>Parch</th>\n",
       "      <th>Fare</th>\n",
       "      <th>Cabin</th>\n",
       "      <th>Embarked</th>\n",
       "      <th>Family_size</th>\n",
       "    </tr>\n",
       "  </thead>\n",
       "  <tbody>\n",
       "    <tr>\n",
       "      <th>0</th>\n",
       "      <td>0</td>\n",
       "      <td>3</td>\n",
       "      <td>Mr</td>\n",
       "      <td>male</td>\n",
       "      <td>22.0</td>\n",
       "      <td>1</td>\n",
       "      <td>0</td>\n",
       "      <td>7.2500</td>\n",
       "      <td>N</td>\n",
       "      <td>S</td>\n",
       "      <td>2</td>\n",
       "    </tr>\n",
       "    <tr>\n",
       "      <th>1</th>\n",
       "      <td>1</td>\n",
       "      <td>1</td>\n",
       "      <td>Mrs</td>\n",
       "      <td>female</td>\n",
       "      <td>38.0</td>\n",
       "      <td>1</td>\n",
       "      <td>0</td>\n",
       "      <td>71.2833</td>\n",
       "      <td>C</td>\n",
       "      <td>C</td>\n",
       "      <td>2</td>\n",
       "    </tr>\n",
       "    <tr>\n",
       "      <th>2</th>\n",
       "      <td>1</td>\n",
       "      <td>3</td>\n",
       "      <td>Miss</td>\n",
       "      <td>female</td>\n",
       "      <td>26.0</td>\n",
       "      <td>0</td>\n",
       "      <td>0</td>\n",
       "      <td>7.9250</td>\n",
       "      <td>N</td>\n",
       "      <td>S</td>\n",
       "      <td>1</td>\n",
       "    </tr>\n",
       "    <tr>\n",
       "      <th>3</th>\n",
       "      <td>1</td>\n",
       "      <td>1</td>\n",
       "      <td>Mrs</td>\n",
       "      <td>female</td>\n",
       "      <td>35.0</td>\n",
       "      <td>1</td>\n",
       "      <td>0</td>\n",
       "      <td>53.1000</td>\n",
       "      <td>C</td>\n",
       "      <td>S</td>\n",
       "      <td>2</td>\n",
       "    </tr>\n",
       "    <tr>\n",
       "      <th>4</th>\n",
       "      <td>0</td>\n",
       "      <td>3</td>\n",
       "      <td>Mr</td>\n",
       "      <td>male</td>\n",
       "      <td>35.0</td>\n",
       "      <td>0</td>\n",
       "      <td>0</td>\n",
       "      <td>8.0500</td>\n",
       "      <td>N</td>\n",
       "      <td>S</td>\n",
       "      <td>1</td>\n",
       "    </tr>\n",
       "  </tbody>\n",
       "</table>\n",
       "</div>"
      ],
      "text/plain": [
       "   Survived  Pclass  Name     Sex   Age  SibSp  Parch     Fare Cabin Embarked  \\\n",
       "0         0       3    Mr    male  22.0      1      0   7.2500     N        S   \n",
       "1         1       1   Mrs  female  38.0      1      0  71.2833     C        C   \n",
       "2         1       3  Miss  female  26.0      0      0   7.9250     N        S   \n",
       "3         1       1   Mrs  female  35.0      1      0  53.1000     C        S   \n",
       "4         0       3    Mr    male  35.0      0      0   8.0500     N        S   \n",
       "\n",
       "   Family_size  \n",
       "0            2  \n",
       "1            2  \n",
       "2            1  \n",
       "3            2  \n",
       "4            1  "
      ]
     },
     "execution_count": 61,
     "metadata": {},
     "output_type": "execute_result"
    }
   ],
   "source": [
    "train.head()"
   ]
  },
  {
   "cell_type": "code",
   "execution_count": 62,
   "id": "809b349f",
   "metadata": {
    "ExecuteTime": {
     "end_time": "2023-05-22T06:52:42.668249Z",
     "start_time": "2023-05-22T06:52:42.465614Z"
    }
   },
   "outputs": [
    {
     "data": {
      "image/png": "[encoded data removed]",
      "text/plain": [
       "<Figure size 640x480 with 1 Axes>"
      ]
     },
     "metadata": {},
     "output_type": "display_data"
    }
   ],
   "source": [
    "sns.countplot(data=train, x='Family_size', hue='Survived') # 두 개의 값 보여준다.\n",
    "plt.show()"
   ]
  },
  {
   "cell_type": "markdown",
   "id": "948100a4",
   "metadata": {},
   "source": [
    "- 전체 데이터가 3개의 구간으로 나누어져 있음을 확인 -- Family_size\n",
    "- 1 : 사망이 높은 비율 - Alone\n",
    "- 2 ~ 4: 생존이 높은 비율 - Small\n",
    "- 5 ~ 11 : 사망이 높은 비율 - Large\n",
    "- 구간별로 수치형 데이터를 범주형으로 변경해주는 함수 ==>> Binning"
   ]
  },
  {
   "cell_type": "code",
   "execution_count": 63,
   "id": "dfba270c",
   "metadata": {
    "ExecuteTime": {
     "end_time": "2023-05-22T06:52:42.683213Z",
     "start_time": "2023-05-22T06:52:42.670271Z"
    }
   },
   "outputs": [],
   "source": [
    "# pd.cut()\n",
    "# 필요한 정보\n",
    "# 1. 구간에 대한 정보 : bins\n",
    "# 2. 구간의 범주(라벨), 이름: labels"
   ]
  },
  {
   "cell_type": "code",
   "execution_count": 64,
   "id": "63434482",
   "metadata": {
    "ExecuteTime": {
     "end_time": "2023-05-22T06:52:42.699194Z",
     "start_time": "2023-05-22T06:52:42.685209Z"
    }
   },
   "outputs": [],
   "source": [
    "bins = [0, 1, 4, 11]   # 0초과 ~ 1 이하, 1초과 ~ 4 이하, 4초과 ~ 11이하 \n",
    "labels = ['Alone', 'Small', 'Large']"
   ]
  },
  {
   "cell_type": "code",
   "execution_count": 65,
   "id": "7d5c0607",
   "metadata": {
    "ExecuteTime": {
     "end_time": "2023-05-22T06:52:42.715162Z",
     "start_time": "2023-05-22T06:52:42.701165Z"
    }
   },
   "outputs": [],
   "source": [
    "train['Family_group'] = pd.cut(train['Family_size'], bins= bins, labels = labels)\n",
    "test['Family_group'] = pd.cut(test['Family_size'], bins= bins, labels = labels)"
   ]
  },
  {
   "cell_type": "code",
   "execution_count": 66,
   "id": "fdd080da",
   "metadata": {
    "ExecuteTime": {
     "end_time": "2023-05-22T06:52:42.731108Z",
     "start_time": "2023-05-22T06:52:42.717121Z"
    }
   },
   "outputs": [
    {
     "data": {
      "text/html": [
       "<div>\n",
       "<style scoped>\n",
       "    .dataframe tbody tr th:only-of-type {\n",
       "        vertical-align: middle;\n",
       "    }\n",
       "\n",
       "    .dataframe tbody tr th {\n",
       "        vertical-align: top;\n",
       "    }\n",
       "\n",
       "    .dataframe thead th {\n",
       "        text-align: right;\n",
       "    }\n",
       "</style>\n",
       "<table border=\"1\" class=\"dataframe\">\n",
       "  <thead>\n",
       "    <tr style=\"text-align: right;\">\n",
       "      <th></th>\n",
       "      <th>Survived</th>\n",
       "      <th>Pclass</th>\n",
       "      <th>Name</th>\n",
       "      <th>Sex</th>\n",
       "      <th>Age</th>\n",
       "      <th>SibSp</th>\n",
       "      <th>Parch</th>\n",
       "      <th>Fare</th>\n",
       "      <th>Cabin</th>\n",
       "      <th>Embarked</th>\n",
       "      <th>Family_size</th>\n",
       "      <th>Family_group</th>\n",
       "    </tr>\n",
       "  </thead>\n",
       "  <tbody>\n",
       "    <tr>\n",
       "      <th>0</th>\n",
       "      <td>0</td>\n",
       "      <td>3</td>\n",
       "      <td>Mr</td>\n",
       "      <td>male</td>\n",
       "      <td>22.0</td>\n",
       "      <td>1</td>\n",
       "      <td>0</td>\n",
       "      <td>7.2500</td>\n",
       "      <td>N</td>\n",
       "      <td>S</td>\n",
       "      <td>2</td>\n",
       "      <td>Small</td>\n",
       "    </tr>\n",
       "    <tr>\n",
       "      <th>1</th>\n",
       "      <td>1</td>\n",
       "      <td>1</td>\n",
       "      <td>Mrs</td>\n",
       "      <td>female</td>\n",
       "      <td>38.0</td>\n",
       "      <td>1</td>\n",
       "      <td>0</td>\n",
       "      <td>71.2833</td>\n",
       "      <td>C</td>\n",
       "      <td>C</td>\n",
       "      <td>2</td>\n",
       "      <td>Small</td>\n",
       "    </tr>\n",
       "    <tr>\n",
       "      <th>2</th>\n",
       "      <td>1</td>\n",
       "      <td>3</td>\n",
       "      <td>Miss</td>\n",
       "      <td>female</td>\n",
       "      <td>26.0</td>\n",
       "      <td>0</td>\n",
       "      <td>0</td>\n",
       "      <td>7.9250</td>\n",
       "      <td>N</td>\n",
       "      <td>S</td>\n",
       "      <td>1</td>\n",
       "      <td>Alone</td>\n",
       "    </tr>\n",
       "    <tr>\n",
       "      <th>3</th>\n",
       "      <td>1</td>\n",
       "      <td>1</td>\n",
       "      <td>Mrs</td>\n",
       "      <td>female</td>\n",
       "      <td>35.0</td>\n",
       "      <td>1</td>\n",
       "      <td>0</td>\n",
       "      <td>53.1000</td>\n",
       "      <td>C</td>\n",
       "      <td>S</td>\n",
       "      <td>2</td>\n",
       "      <td>Small</td>\n",
       "    </tr>\n",
       "    <tr>\n",
       "      <th>4</th>\n",
       "      <td>0</td>\n",
       "      <td>3</td>\n",
       "      <td>Mr</td>\n",
       "      <td>male</td>\n",
       "      <td>35.0</td>\n",
       "      <td>0</td>\n",
       "      <td>0</td>\n",
       "      <td>8.0500</td>\n",
       "      <td>N</td>\n",
       "      <td>S</td>\n",
       "      <td>1</td>\n",
       "      <td>Alone</td>\n",
       "    </tr>\n",
       "  </tbody>\n",
       "</table>\n",
       "</div>"
      ],
      "text/plain": [
       "   Survived  Pclass  Name     Sex   Age  SibSp  Parch     Fare Cabin Embarked  \\\n",
       "0         0       3    Mr    male  22.0      1      0   7.2500     N        S   \n",
       "1         1       1   Mrs  female  38.0      1      0  71.2833     C        C   \n",
       "2         1       3  Miss  female  26.0      0      0   7.9250     N        S   \n",
       "3         1       1   Mrs  female  35.0      1      0  53.1000     C        S   \n",
       "4         0       3    Mr    male  35.0      0      0   8.0500     N        S   \n",
       "\n",
       "   Family_size Family_group  \n",
       "0            2        Small  \n",
       "1            2        Small  \n",
       "2            1        Alone  \n",
       "3            2        Small  \n",
       "4            1        Alone  "
      ]
     },
     "execution_count": 66,
     "metadata": {},
     "output_type": "execute_result"
    }
   ],
   "source": [
    "train.head()"
   ]
  },
  {
   "cell_type": "markdown",
   "id": "1824bfcf",
   "metadata": {},
   "source": [
    "##### Family_group 시각화"
   ]
  },
  {
   "cell_type": "code",
   "execution_count": 67,
   "id": "765ea667",
   "metadata": {
    "ExecuteTime": {
     "end_time": "2023-05-22T06:52:42.873735Z",
     "start_time": "2023-05-22T06:52:42.733105Z"
    }
   },
   "outputs": [
    {
     "data": {
      "image/png": "[encoded data removed]",
      "text/plain": [
       "<Figure size 640x480 with 1 Axes>"
      ]
     },
     "metadata": {},
     "output_type": "display_data"
    }
   ],
   "source": [
    "sns.countplot(data=train, x='Family_group', hue= 'Survived')\n",
    "plt.show()"
   ]
  },
  {
   "cell_type": "code",
   "execution_count": 68,
   "id": "2c883741",
   "metadata": {
    "ExecuteTime": {
     "end_time": "2023-05-22T06:52:42.889692Z",
     "start_time": "2023-05-22T06:52:42.875728Z"
    }
   },
   "outputs": [
    {
     "data": {
      "text/html": [
       "<div>\n",
       "<style scoped>\n",
       "    .dataframe tbody tr th:only-of-type {\n",
       "        vertical-align: middle;\n",
       "    }\n",
       "\n",
       "    .dataframe tbody tr th {\n",
       "        vertical-align: top;\n",
       "    }\n",
       "\n",
       "    .dataframe thead th {\n",
       "        text-align: right;\n",
       "    }\n",
       "</style>\n",
       "<table border=\"1\" class=\"dataframe\">\n",
       "  <thead>\n",
       "    <tr style=\"text-align: right;\">\n",
       "      <th></th>\n",
       "      <th>Survived</th>\n",
       "      <th>Pclass</th>\n",
       "      <th>Name</th>\n",
       "      <th>Sex</th>\n",
       "      <th>Age</th>\n",
       "      <th>SibSp</th>\n",
       "      <th>Parch</th>\n",
       "      <th>Fare</th>\n",
       "      <th>Cabin</th>\n",
       "      <th>Embarked</th>\n",
       "      <th>Family_size</th>\n",
       "      <th>Family_group</th>\n",
       "    </tr>\n",
       "  </thead>\n",
       "  <tbody>\n",
       "    <tr>\n",
       "      <th>0</th>\n",
       "      <td>0</td>\n",
       "      <td>3</td>\n",
       "      <td>Mr</td>\n",
       "      <td>male</td>\n",
       "      <td>22.0</td>\n",
       "      <td>1</td>\n",
       "      <td>0</td>\n",
       "      <td>7.2500</td>\n",
       "      <td>N</td>\n",
       "      <td>S</td>\n",
       "      <td>2</td>\n",
       "      <td>Small</td>\n",
       "    </tr>\n",
       "    <tr>\n",
       "      <th>1</th>\n",
       "      <td>1</td>\n",
       "      <td>1</td>\n",
       "      <td>Mrs</td>\n",
       "      <td>female</td>\n",
       "      <td>38.0</td>\n",
       "      <td>1</td>\n",
       "      <td>0</td>\n",
       "      <td>71.2833</td>\n",
       "      <td>C</td>\n",
       "      <td>C</td>\n",
       "      <td>2</td>\n",
       "      <td>Small</td>\n",
       "    </tr>\n",
       "    <tr>\n",
       "      <th>2</th>\n",
       "      <td>1</td>\n",
       "      <td>3</td>\n",
       "      <td>Miss</td>\n",
       "      <td>female</td>\n",
       "      <td>26.0</td>\n",
       "      <td>0</td>\n",
       "      <td>0</td>\n",
       "      <td>7.9250</td>\n",
       "      <td>N</td>\n",
       "      <td>S</td>\n",
       "      <td>1</td>\n",
       "      <td>Alone</td>\n",
       "    </tr>\n",
       "    <tr>\n",
       "      <th>3</th>\n",
       "      <td>1</td>\n",
       "      <td>1</td>\n",
       "      <td>Mrs</td>\n",
       "      <td>female</td>\n",
       "      <td>35.0</td>\n",
       "      <td>1</td>\n",
       "      <td>0</td>\n",
       "      <td>53.1000</td>\n",
       "      <td>C</td>\n",
       "      <td>S</td>\n",
       "      <td>2</td>\n",
       "      <td>Small</td>\n",
       "    </tr>\n",
       "    <tr>\n",
       "      <th>4</th>\n",
       "      <td>0</td>\n",
       "      <td>3</td>\n",
       "      <td>Mr</td>\n",
       "      <td>male</td>\n",
       "      <td>35.0</td>\n",
       "      <td>0</td>\n",
       "      <td>0</td>\n",
       "      <td>8.0500</td>\n",
       "      <td>N</td>\n",
       "      <td>S</td>\n",
       "      <td>1</td>\n",
       "      <td>Alone</td>\n",
       "    </tr>\n",
       "  </tbody>\n",
       "</table>\n",
       "</div>"
      ],
      "text/plain": [
       "   Survived  Pclass  Name     Sex   Age  SibSp  Parch     Fare Cabin Embarked  \\\n",
       "0         0       3    Mr    male  22.0      1      0   7.2500     N        S   \n",
       "1         1       1   Mrs  female  38.0      1      0  71.2833     C        C   \n",
       "2         1       3  Miss  female  26.0      0      0   7.9250     N        S   \n",
       "3         1       1   Mrs  female  35.0      1      0  53.1000     C        S   \n",
       "4         0       3    Mr    male  35.0      0      0   8.0500     N        S   \n",
       "\n",
       "   Family_size Family_group  \n",
       "0            2        Small  \n",
       "1            2        Small  \n",
       "2            1        Alone  \n",
       "3            2        Small  \n",
       "4            1        Alone  "
      ]
     },
     "execution_count": 68,
     "metadata": {},
     "output_type": "execute_result"
    }
   ],
   "source": [
    "train.head()"
   ]
  },
  {
   "cell_type": "markdown",
   "id": "66266fe1",
   "metadata": {},
   "source": [
    "#### 글자 데이터를 숫자 데이터로 변환\n",
    "- 원 핫 인코딩을 사용"
   ]
  },
  {
   "cell_type": "code",
   "execution_count": 69,
   "id": "25514ac3",
   "metadata": {
    "ExecuteTime": {
     "end_time": "2023-05-22T06:52:42.904621Z",
     "start_time": "2023-05-22T06:52:42.891657Z"
    }
   },
   "outputs": [],
   "source": [
    "# 문자데이터 name , sex, cabin, embarked, family_group\n",
    "# categorical feature\n",
    "cat_feature = ['Name', 'Sex', 'Cabin', 'Embarked', 'Family_group']"
   ]
  },
  {
   "cell_type": "code",
   "execution_count": 70,
   "id": "e746c6b1",
   "metadata": {
    "ExecuteTime": {
     "end_time": "2023-05-22T06:52:42.920653Z",
     "start_time": "2023-05-22T06:52:42.906616Z"
    }
   },
   "outputs": [],
   "source": [
    "# 가지고 있는 데이터는 train과 test로 나누어져 있음.\n",
    "# 두 데이터가 다를 수 있음. ( Survived 컬럼 - train엔 있고, test엔 없다.)\n",
    "# 원 핫 인코딩을 위한 train + test 합쳐서 수행 ==> 데이터가 다르면 오류"
   ]
  },
  {
   "cell_type": "markdown",
   "id": "338ea546",
   "metadata": {},
   "source": [
    "##### train에 있는 Survived 분리"
   ]
  },
  {
   "cell_type": "code",
   "execution_count": 71,
   "id": "dfe1589f",
   "metadata": {
    "ExecuteTime": {
     "end_time": "2023-05-22T06:52:42.936614Z",
     "start_time": "2023-05-22T06:52:42.922677Z"
    }
   },
   "outputs": [],
   "source": [
    "# 훈련용 정답 만들기\n",
    "y_train = train['Survived']"
   ]
  },
  {
   "cell_type": "code",
   "execution_count": 72,
   "id": "5217ae52",
   "metadata": {
    "ExecuteTime": {
     "end_time": "2023-05-22T06:52:42.952571Z",
     "start_time": "2023-05-22T06:52:42.938609Z"
    }
   },
   "outputs": [],
   "source": [
    "# train 데이터 세트에서 Survived 컬럼 삭제하기\n",
    "train.drop('Survived', axis = 1, inplace = True)"
   ]
  },
  {
   "cell_type": "code",
   "execution_count": 73,
   "id": "93d19517",
   "metadata": {
    "ExecuteTime": {
     "end_time": "2023-05-22T06:52:42.968553Z",
     "start_time": "2023-05-22T06:52:42.954592Z"
    }
   },
   "outputs": [
    {
     "data": {
      "text/html": [
       "<div>\n",
       "<style scoped>\n",
       "    .dataframe tbody tr th:only-of-type {\n",
       "        vertical-align: middle;\n",
       "    }\n",
       "\n",
       "    .dataframe tbody tr th {\n",
       "        vertical-align: top;\n",
       "    }\n",
       "\n",
       "    .dataframe thead th {\n",
       "        text-align: right;\n",
       "    }\n",
       "</style>\n",
       "<table border=\"1\" class=\"dataframe\">\n",
       "  <thead>\n",
       "    <tr style=\"text-align: right;\">\n",
       "      <th></th>\n",
       "      <th>Pclass</th>\n",
       "      <th>Name</th>\n",
       "      <th>Sex</th>\n",
       "      <th>Age</th>\n",
       "      <th>SibSp</th>\n",
       "      <th>Parch</th>\n",
       "      <th>Fare</th>\n",
       "      <th>Cabin</th>\n",
       "      <th>Embarked</th>\n",
       "      <th>Family_size</th>\n",
       "      <th>Family_group</th>\n",
       "    </tr>\n",
       "  </thead>\n",
       "  <tbody>\n",
       "    <tr>\n",
       "      <th>0</th>\n",
       "      <td>3</td>\n",
       "      <td>Mr</td>\n",
       "      <td>male</td>\n",
       "      <td>22.0</td>\n",
       "      <td>1</td>\n",
       "      <td>0</td>\n",
       "      <td>7.2500</td>\n",
       "      <td>N</td>\n",
       "      <td>S</td>\n",
       "      <td>2</td>\n",
       "      <td>Small</td>\n",
       "    </tr>\n",
       "    <tr>\n",
       "      <th>1</th>\n",
       "      <td>1</td>\n",
       "      <td>Mrs</td>\n",
       "      <td>female</td>\n",
       "      <td>38.0</td>\n",
       "      <td>1</td>\n",
       "      <td>0</td>\n",
       "      <td>71.2833</td>\n",
       "      <td>C</td>\n",
       "      <td>C</td>\n",
       "      <td>2</td>\n",
       "      <td>Small</td>\n",
       "    </tr>\n",
       "    <tr>\n",
       "      <th>2</th>\n",
       "      <td>3</td>\n",
       "      <td>Miss</td>\n",
       "      <td>female</td>\n",
       "      <td>26.0</td>\n",
       "      <td>0</td>\n",
       "      <td>0</td>\n",
       "      <td>7.9250</td>\n",
       "      <td>N</td>\n",
       "      <td>S</td>\n",
       "      <td>1</td>\n",
       "      <td>Alone</td>\n",
       "    </tr>\n",
       "    <tr>\n",
       "      <th>3</th>\n",
       "      <td>1</td>\n",
       "      <td>Mrs</td>\n",
       "      <td>female</td>\n",
       "      <td>35.0</td>\n",
       "      <td>1</td>\n",
       "      <td>0</td>\n",
       "      <td>53.1000</td>\n",
       "      <td>C</td>\n",
       "      <td>S</td>\n",
       "      <td>2</td>\n",
       "      <td>Small</td>\n",
       "    </tr>\n",
       "    <tr>\n",
       "      <th>4</th>\n",
       "      <td>3</td>\n",
       "      <td>Mr</td>\n",
       "      <td>male</td>\n",
       "      <td>35.0</td>\n",
       "      <td>0</td>\n",
       "      <td>0</td>\n",
       "      <td>8.0500</td>\n",
       "      <td>N</td>\n",
       "      <td>S</td>\n",
       "      <td>1</td>\n",
       "      <td>Alone</td>\n",
       "    </tr>\n",
       "  </tbody>\n",
       "</table>\n",
       "</div>"
      ],
      "text/plain": [
       "   Pclass  Name     Sex   Age  SibSp  Parch     Fare Cabin Embarked  \\\n",
       "0       3    Mr    male  22.0      1      0   7.2500     N        S   \n",
       "1       1   Mrs  female  38.0      1      0  71.2833     C        C   \n",
       "2       3  Miss  female  26.0      0      0   7.9250     N        S   \n",
       "3       1   Mrs  female  35.0      1      0  53.1000     C        S   \n",
       "4       3    Mr    male  35.0      0      0   8.0500     N        S   \n",
       "\n",
       "   Family_size Family_group  \n",
       "0            2        Small  \n",
       "1            2        Small  \n",
       "2            1        Alone  \n",
       "3            2        Small  \n",
       "4            1        Alone  "
      ]
     },
     "execution_count": 73,
     "metadata": {},
     "output_type": "execute_result"
    }
   ],
   "source": [
    "train.head()"
   ]
  },
  {
   "cell_type": "code",
   "execution_count": 74,
   "id": "6806044d",
   "metadata": {
    "ExecuteTime": {
     "end_time": "2023-05-22T06:52:42.984486Z",
     "start_time": "2023-05-22T06:52:42.970557Z"
    }
   },
   "outputs": [
    {
     "data": {
      "text/plain": [
       "Index(['Pclass', 'Name', 'Sex', 'Age', 'SibSp', 'Parch', 'Fare', 'Cabin',\n",
       "       'Embarked', 'Family_size', 'Family_group'],\n",
       "      dtype='object')"
      ]
     },
     "execution_count": 74,
     "metadata": {},
     "output_type": "execute_result"
    }
   ],
   "source": [
    "train.columns"
   ]
  },
  {
   "cell_type": "code",
   "execution_count": 75,
   "id": "330e7940",
   "metadata": {
    "ExecuteTime": {
     "end_time": "2023-05-22T06:52:43.000473Z",
     "start_time": "2023-05-22T06:52:42.986480Z"
    }
   },
   "outputs": [
    {
     "data": {
      "text/plain": [
       "Index(['Pclass', 'Name', 'Sex', 'Age', 'SibSp', 'Parch', 'Fare', 'Cabin',\n",
       "       'Embarked', 'Family_size', 'Family_group'],\n",
       "      dtype='object')"
      ]
     },
     "execution_count": 75,
     "metadata": {},
     "output_type": "execute_result"
    }
   ],
   "source": [
    "test.columns"
   ]
  },
  {
   "cell_type": "code",
   "execution_count": 76,
   "id": "742c3754",
   "metadata": {
    "ExecuteTime": {
     "end_time": "2023-05-22T06:52:43.016401Z",
     "start_time": "2023-05-22T06:52:43.002461Z"
    }
   },
   "outputs": [],
   "source": [
    "# 두 개의 데이터(train, test) 세트를 합치기 (이제 똑같아진 컬럼수)\n",
    "combined = pd.concat([train, test], ignore_index=True)\n",
    "# 기본값 axis = 0 : 행 방향으로 train아래로 test 데이터행이 합해진다는 의미\n",
    "# ignore_index 속성을 사용해서 하나의 인덱스 아래로 데이터를 모두 합칠 수 있다.\n",
    "# concat은 기본적으로 아래(행)로 합쳐주는 함수, 인덱스 번호확인 필요\n",
    "# ignore_index 속성 = 기존에 가지고 있던 인덱스 번호를 사용하지 않고,\n",
    "# 새로운 인덱스 번호를 사용하겠다."
   ]
  },
  {
   "cell_type": "code",
   "execution_count": 77,
   "id": "d4b1019a",
   "metadata": {
    "ExecuteTime": {
     "end_time": "2023-05-22T06:52:43.031361Z",
     "start_time": "2023-05-22T06:52:43.018397Z"
    }
   },
   "outputs": [],
   "source": [
    "# One-hot 인코딩\n",
    "# 컬럼안에 있는 데이터의 갯수만큼 컬럼을 생성\n",
    "# train과 test를 합친 이유 : 만약 train과 test에 있는 \n",
    "# 같은 컬럼의 값이 데이터의 양에 따라서 다를 경우\n",
    "# - 원핫인코딩을 진행하면 컬럼의 갯수가 달라지게 됨."
   ]
  },
  {
   "cell_type": "code",
   "execution_count": 78,
   "id": "3507d89e",
   "metadata": {
    "ExecuteTime": {
     "end_time": "2023-05-22T06:52:43.047319Z",
     "start_time": "2023-05-22T06:52:43.033385Z"
    }
   },
   "outputs": [],
   "source": [
    "one_hot = pd.get_dummies(combined[cat_feature])"
   ]
  },
  {
   "cell_type": "code",
   "execution_count": 79,
   "id": "909069cd",
   "metadata": {
    "ExecuteTime": {
     "end_time": "2023-05-22T06:52:43.063301Z",
     "start_time": "2023-05-22T06:52:43.049313Z"
    }
   },
   "outputs": [
    {
     "data": {
      "text/plain": [
       "(1309, 24)"
      ]
     },
     "execution_count": 79,
     "metadata": {},
     "output_type": "execute_result"
    }
   ],
   "source": [
    "one_hot.shape"
   ]
  },
  {
   "cell_type": "markdown",
   "id": "78f250db",
   "metadata": {},
   "source": [
    "### ㅍ"
   ]
  }
 ],
 "metadata": {
  "kernelspec": {
   "display_name": "Python 3 (ipykernel)",
   "language": "python",
   "name": "python3"
  },
  "language_info": {
   "codemirror_mode": {
    "name": "ipython",
    "version": 3
   },
   "file_extension": ".py",
   "mimetype": "text/x-python",
   "name": "python",
   "nbconvert_exporter": "python",
   "pygments_lexer": "ipython3",
   "version": "3.9.13"
  },
  "toc": {
   "base_numbering": 1,
   "nav_menu": {
    "height": "320px",
    "width": "330px"
   },
   "number_sections": true,
   "sideBar": true,
   "skip_h1_title": false,
   "title_cell": "Table of Contents",
   "title_sidebar": "Contents",
   "toc_cell": false,
   "toc_position": {
    "height": "calc(100% - 180px)",
    "left": "10px",
    "top": "150px",
    "width": "234px"
   },
   "toc_section_display": true,
   "toc_window_display": true
  },
  "varInspector": {
   "cols": {
    "lenName": 16,
    "lenType": 16,
    "lenVar": 40
   },
   "kernels_config": {
    "python": {
     "delete_cmd_postfix": "",
     "delete_cmd_prefix": "del ",
     "library": "var_list.py",
     "varRefreshCmd": "print(var_dic_list())"
    },
    "r": {
     "delete_cmd_postfix": ") ",
     "delete_cmd_prefix": "rm(",
     "library": "var_list.r",
     "varRefreshCmd": "cat(var_dic_list()) "
    }
   },
   "types_to_exclude": [
    "module",
    "function",
    "builtin_function_or_method",
    "instance",
    "_Feature"
   ],
   "window_display": false
  }
 },
 "nbformat": 4,
 "nbformat_minor": 5
}
