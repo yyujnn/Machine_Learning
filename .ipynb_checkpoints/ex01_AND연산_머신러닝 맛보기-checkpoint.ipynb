{
 "cells": [
  {
   "cell_type": "markdown",
   "id": "b2ce6020",
   "metadata": {},
   "source": [
    "### AND 연산\n",
    "- 문제 정의  \n",
    "  훈련 데이터와 테스트 데이터 이해하기  \n",
    "  AND 연산의 결과를 도출하는 머신러닝 모델 학습하고 이해하기"
   ]
  },
  {
   "attachments": {
    "image.png": {
     "image/png": "[encoded data removed]"
    }
   },
   "cell_type": "markdown",
   "id": "dcbcf43e",
   "metadata": {},
   "source": [
    "![image.png](attachment:image.png)"
   ]
  },
  {
   "cell_type": "markdown",
   "id": "676f5490",
   "metadata": {},
   "source": [
    "### 데이터 만들기"
   ]
  },
  {
   "cell_type": "code",
   "execution_count": 1,
   "id": "cdff968e",
   "metadata": {
    "ExecuteTime": {
     "end_time": "2023-05-11T00:47:06.739385Z",
     "start_time": "2023-05-11T00:47:06.225178Z"
    }
   },
   "outputs": [],
   "source": [
    "# 필요한 도구 불러오기\n",
    "import pandas as pd"
   ]
  },
  {
   "cell_type": "code",
   "execution_count": 2,
   "id": "88b2793a",
   "metadata": {
    "ExecuteTime": {
     "end_time": "2023-05-11T00:47:06.791174Z",
     "start_time": "2023-05-11T00:47:06.744791Z"
    }
   },
   "outputs": [
    {
     "data": {
      "text/html": [
       "<div>\n",
       "<style scoped>\n",
       "    .dataframe tbody tr th:only-of-type {\n",
       "        vertical-align: middle;\n",
       "    }\n",
       "\n",
       "    .dataframe tbody tr th {\n",
       "        vertical-align: top;\n",
       "    }\n",
       "\n",
       "    .dataframe thead th {\n",
       "        text-align: right;\n",
       "    }\n",
       "</style>\n",
       "<table border=\"1\" class=\"dataframe\">\n",
       "  <thead>\n",
       "    <tr style=\"text-align: right;\">\n",
       "      <th></th>\n",
       "      <th>A</th>\n",
       "      <th>B</th>\n",
       "      <th>AandB</th>\n",
       "    </tr>\n",
       "  </thead>\n",
       "  <tbody>\n",
       "    <tr>\n",
       "      <th>0</th>\n",
       "      <td>0</td>\n",
       "      <td>0</td>\n",
       "      <td>0</td>\n",
       "    </tr>\n",
       "    <tr>\n",
       "      <th>1</th>\n",
       "      <td>0</td>\n",
       "      <td>1</td>\n",
       "      <td>0</td>\n",
       "    </tr>\n",
       "    <tr>\n",
       "      <th>2</th>\n",
       "      <td>1</td>\n",
       "      <td>0</td>\n",
       "      <td>0</td>\n",
       "    </tr>\n",
       "    <tr>\n",
       "      <th>3</th>\n",
       "      <td>1</td>\n",
       "      <td>1</td>\n",
       "      <td>1</td>\n",
       "    </tr>\n",
       "    <tr>\n",
       "      <th>4</th>\n",
       "      <td>1</td>\n",
       "      <td>0</td>\n",
       "      <td>0</td>\n",
       "    </tr>\n",
       "    <tr>\n",
       "      <th>5</th>\n",
       "      <td>0</td>\n",
       "      <td>0</td>\n",
       "      <td>0</td>\n",
       "    </tr>\n",
       "    <tr>\n",
       "      <th>6</th>\n",
       "      <td>1</td>\n",
       "      <td>1</td>\n",
       "      <td>1</td>\n",
       "    </tr>\n",
       "    <tr>\n",
       "      <th>7</th>\n",
       "      <td>0</td>\n",
       "      <td>1</td>\n",
       "      <td>0</td>\n",
       "    </tr>\n",
       "  </tbody>\n",
       "</table>\n",
       "</div>"
      ],
      "text/plain": [
       "   A  B  AandB\n",
       "0  0  0      0\n",
       "1  0  1      0\n",
       "2  1  0      0\n",
       "3  1  1      1\n",
       "4  1  0      0\n",
       "5  0  0      0\n",
       "6  1  1      1\n",
       "7  0  1      0"
      ]
     },
     "execution_count": 2,
     "metadata": {},
     "output_type": "execute_result"
    }
   ],
   "source": [
    "# DataFrame 만들기 (데이터 생성)\n",
    "# 행 : 8, 열(컬럼) : 3\n",
    "\n",
    "df = pd.DataFrame({'A' : [0,0,1,1,1,0,1,0],\n",
    "                   'B' : [0,1,0,1,0,0,1,1],\n",
    "                   'AandB' : [0,0,0,1,0,0,1,0]})\n",
    "df"
   ]
  },
  {
   "cell_type": "markdown",
   "id": "6ed9f2f3",
   "metadata": {},
   "source": [
    "- 'A', 'B' : 문제데이터, 특성, feature, 독립변수, X, 속성  \n",
    "- 'AandB' : 정답데이터, target, label, 클래스, 종속변수, y"
   ]
  },
  {
   "cell_type": "markdown",
   "id": "130e84d6",
   "metadata": {},
   "source": [
    "### 데이터 전처리\n",
    "- 컬럼인덱싱을 통해서 문제데이터(X)와 정답데이터(y)로 분리하기"
   ]
  },
  {
   "cell_type": "code",
   "execution_count": 3,
   "id": "236abde8",
   "metadata": {
    "ExecuteTime": {
     "end_time": "2023-05-11T00:47:06.813817Z",
     "start_time": "2023-05-11T00:47:06.793139Z"
    }
   },
   "outputs": [
    {
     "data": {
      "text/html": [
       "<div>\n",
       "<style scoped>\n",
       "    .dataframe tbody tr th:only-of-type {\n",
       "        vertical-align: middle;\n",
       "    }\n",
       "\n",
       "    .dataframe tbody tr th {\n",
       "        vertical-align: top;\n",
       "    }\n",
       "\n",
       "    .dataframe thead th {\n",
       "        text-align: right;\n",
       "    }\n",
       "</style>\n",
       "<table border=\"1\" class=\"dataframe\">\n",
       "  <thead>\n",
       "    <tr style=\"text-align: right;\">\n",
       "      <th></th>\n",
       "      <th>A</th>\n",
       "      <th>B</th>\n",
       "    </tr>\n",
       "  </thead>\n",
       "  <tbody>\n",
       "    <tr>\n",
       "      <th>0</th>\n",
       "      <td>0</td>\n",
       "      <td>0</td>\n",
       "    </tr>\n",
       "    <tr>\n",
       "      <th>1</th>\n",
       "      <td>0</td>\n",
       "      <td>1</td>\n",
       "    </tr>\n",
       "    <tr>\n",
       "      <th>2</th>\n",
       "      <td>1</td>\n",
       "      <td>0</td>\n",
       "    </tr>\n",
       "    <tr>\n",
       "      <th>3</th>\n",
       "      <td>1</td>\n",
       "      <td>1</td>\n",
       "    </tr>\n",
       "    <tr>\n",
       "      <th>4</th>\n",
       "      <td>1</td>\n",
       "      <td>0</td>\n",
       "    </tr>\n",
       "    <tr>\n",
       "      <th>5</th>\n",
       "      <td>0</td>\n",
       "      <td>0</td>\n",
       "    </tr>\n",
       "    <tr>\n",
       "      <th>6</th>\n",
       "      <td>1</td>\n",
       "      <td>1</td>\n",
       "    </tr>\n",
       "    <tr>\n",
       "      <th>7</th>\n",
       "      <td>0</td>\n",
       "      <td>1</td>\n",
       "    </tr>\n",
       "  </tbody>\n",
       "</table>\n",
       "</div>"
      ],
      "text/plain": [
       "   A  B\n",
       "0  0  0\n",
       "1  0  1\n",
       "2  1  0\n",
       "3  1  1\n",
       "4  1  0\n",
       "5  0  0\n",
       "6  1  1\n",
       "7  0  1"
      ]
     },
     "metadata": {},
     "output_type": "display_data"
    },
    {
     "data": {
      "text/plain": [
       "0    0\n",
       "1    0\n",
       "2    0\n",
       "3    1\n",
       "4    0\n",
       "5    0\n",
       "6    1\n",
       "7    0\n",
       "Name: AandB, dtype: int64"
      ]
     },
     "metadata": {},
     "output_type": "display_data"
    }
   ],
   "source": [
    "# 문제 데이터 \n",
    "X = df[['A','B']]\n",
    "# df.loc[행, 열] ==> df.loc[:, 'A':'B'], df.loc[:,['A','B']]\n",
    "# df.iloc[행, 열] ==> df.iloc[:,:2], df.iloc[:, [0,1]]\n",
    "display(X) #dataframe 형태로 출력\n",
    "\n",
    "# 정답 데이터\n",
    "y = df['AandB']\n",
    "display(y) # numpy의 array 형태로 출력"
   ]
  },
  {
   "cell_type": "markdown",
   "id": "60717a25",
   "metadata": {},
   "source": [
    "#### 학습을 위해 훈련용 데이터와 테스트용 데이터로 분할\n",
    "- 학습(훈련), 검증(테스트)"
   ]
  },
  {
   "cell_type": "code",
   "execution_count": 4,
   "id": "52d55a9e",
   "metadata": {
    "ExecuteTime": {
     "end_time": "2023-05-11T00:47:06.826699Z",
     "start_time": "2023-05-11T00:47:06.816418Z"
    }
   },
   "outputs": [],
   "source": [
    "# 훈련용 데이터 : X, y ==> 0~5까지 포함해서 행 슬라이싱\n",
    "# 테스트용 데이터 : X, y ==> 6~7까지 포함해서 행 슬라이싱\n",
    "\n",
    "X_train = X.iloc[:6]\n",
    "X_test = X.iloc[6:]\n",
    "y_train = y[:6]\n",
    "y_test = y[6:]"
   ]
  },
  {
   "cell_type": "code",
   "execution_count": 5,
   "id": "b7e4a154",
   "metadata": {
    "ExecuteTime": {
     "end_time": "2023-05-11T00:47:06.841976Z",
     "start_time": "2023-05-11T00:47:06.826699Z"
    }
   },
   "outputs": [
    {
     "name": "stdout",
     "output_type": "stream",
     "text": [
      "훈련용 데이터 :  (6, 2)\n",
      "훈련용 답 :  (6,)\n",
      "테스트용 데이터 :  (2, 2)\n",
      "테스트용 답 :  (2,)\n"
     ]
    }
   ],
   "source": [
    "# 데이터 크기 확인 \n",
    "print('훈련용 데이터 : ',X_train.shape)\n",
    "print('훈련용 답 : ', y_train.shape)\n",
    "print('테스트용 데이터 : ',X_test.shape)\n",
    "print('테스트용 답 : ', y_test.shape)"
   ]
  },
  {
   "cell_type": "markdown",
   "id": "6f113b52",
   "metadata": {},
   "source": [
    "### 머신러닝 모델 학습하기"
   ]
  },
  {
   "cell_type": "markdown",
   "id": "71b5c0b5",
   "metadata": {},
   "source": [
    "#### 학습하기 위한 머신러닝 모델 불러오기"
   ]
  },
  {
   "cell_type": "code",
   "execution_count": 6,
   "id": "13e81ee4",
   "metadata": {
    "ExecuteTime": {
     "end_time": "2023-05-11T00:47:07.624132Z",
     "start_time": "2023-05-11T00:47:06.843978Z"
    }
   },
   "outputs": [],
   "source": [
    "# scikit-learn : 머신러닝용 패키지 라이브러리 불러오기\n",
    "from sklearn.neighbors import KNeighborsClassifier  # KNN분류모델"
   ]
  },
  {
   "cell_type": "markdown",
   "id": "253d3b7d",
   "metadata": {},
   "source": [
    "#### 모델 생성 및 하이퍼 파라미터 정의(튜닝)"
   ]
  },
  {
   "cell_type": "code",
   "execution_count": 7,
   "id": "9094556c",
   "metadata": {
    "ExecuteTime": {
     "end_time": "2023-05-11T00:47:07.640171Z",
     "start_time": "2023-05-11T00:47:07.624544Z"
    }
   },
   "outputs": [],
   "source": [
    "knn_model = KNeighborsClassifier(n_neighbors=1)\n",
    "# n_neighbors : 하이퍼 파라미터 - 사용자가 입력하는 매개변수\n",
    "# 하이버 파라미터에 다라 모델 학습이 달라짐.\n",
    "# 가장 가까운 이웃들의 실제 답을 확인하고 그 답이 내것인것처럼 사용\n",
    "# n_neighbors=1 : 가장 가까운 이웃 1개의 실제 답을 확인하겠음."
   ]
  },
  {
   "cell_type": "markdown",
   "id": "3512a704",
   "metadata": {},
   "source": [
    "#### 모델 학습"
   ]
  },
  {
   "cell_type": "code",
   "execution_count": 8,
   "id": "34ad795d",
   "metadata": {
    "ExecuteTime": {
     "end_time": "2023-05-11T00:47:07.660560Z",
     "start_time": "2023-05-11T00:47:07.641860Z"
    }
   },
   "outputs": [
    {
     "data": {
      "text/plain": [
       "KNeighborsClassifier(n_neighbors=1)"
      ]
     },
     "execution_count": 8,
     "metadata": {},
     "output_type": "execute_result"
    }
   ],
   "source": [
    "# fit() 사용\n",
    "# fit(훈련용 문제, 훈련용 답)\n",
    "knn_model.fit(X_train,y_train) # 훈련용 데이터에 맞춰서 학습 - 지도학습(문제, 답)"
   ]
  },
  {
   "cell_type": "markdown",
   "id": "a6a07226",
   "metadata": {},
   "source": [
    "#### AND 연산 예측"
   ]
  },
  {
   "cell_type": "code",
   "execution_count": 11,
   "id": "8a7ec23a",
   "metadata": {
    "ExecuteTime": {
     "end_time": "2023-05-11T01:05:17.135225Z",
     "start_time": "2023-05-11T01:05:17.123259Z"
    }
   },
   "outputs": [
    {
     "data": {
      "text/html": [
       "<div>\n",
       "<style scoped>\n",
       "    .dataframe tbody tr th:only-of-type {\n",
       "        vertical-align: middle;\n",
       "    }\n",
       "\n",
       "    .dataframe tbody tr th {\n",
       "        vertical-align: top;\n",
       "    }\n",
       "\n",
       "    .dataframe thead th {\n",
       "        text-align: right;\n",
       "    }\n",
       "</style>\n",
       "<table border=\"1\" class=\"dataframe\">\n",
       "  <thead>\n",
       "    <tr style=\"text-align: right;\">\n",
       "      <th></th>\n",
       "      <th>A</th>\n",
       "      <th>B</th>\n",
       "    </tr>\n",
       "  </thead>\n",
       "  <tbody>\n",
       "    <tr>\n",
       "      <th>6</th>\n",
       "      <td>1</td>\n",
       "      <td>1</td>\n",
       "    </tr>\n",
       "    <tr>\n",
       "      <th>7</th>\n",
       "      <td>0</td>\n",
       "      <td>1</td>\n",
       "    </tr>\n",
       "  </tbody>\n",
       "</table>\n",
       "</div>"
      ],
      "text/plain": [
       "   A  B\n",
       "6  1  1\n",
       "7  0  1"
      ]
     },
     "execution_count": 11,
     "metadata": {},
     "output_type": "execute_result"
    }
   ],
   "source": [
    "X_test"
   ]
  },
  {
   "cell_type": "code",
   "execution_count": 12,
   "id": "7c6f7ca5",
   "metadata": {
    "ExecuteTime": {
     "end_time": "2023-05-11T01:07:55.545087Z",
     "start_time": "2023-05-11T01:07:55.513984Z"
    }
   },
   "outputs": [
    {
     "name": "stderr",
     "output_type": "stream",
     "text": [
      "C:\\Users\\smhrd\\anaconda3\\lib\\site-packages\\sklearn\\neighbors\\_classification.py:228: FutureWarning: Unlike other reduction functions (e.g. `skew`, `kurtosis`), the default behavior of `mode` typically preserves the axis it acts along. In SciPy 1.11.0, this behavior will change: the default value of `keepdims` will become False, the `axis` over which the statistic is taken will be eliminated, and the value None will no longer be accepted. Set `keepdims` to True or False to avoid this warning.\n",
      "  mode, _ = stats.mode(_y[neigh_ind, k], axis=1)\n"
     ]
    },
    {
     "data": {
      "text/plain": [
       "array([1, 0], dtype=int64)"
      ]
     },
     "execution_count": 12,
     "metadata": {},
     "output_type": "execute_result"
    }
   ],
   "source": [
    "# and 연산 예측\n",
    "# 0, 0 -> 0\n",
    "# 0, 1 -> 0\n",
    "# 1, 0 -> 0\n",
    "# 1, 1 -> 1\n",
    "# predict(테스트용문제)\n",
    "pre = knn_model.predict(X_test)\n",
    "pre # 결과를 활용하기 위해 변수에 답기. 정확한 정답은 아니고 틀릴 수도 있다."
   ]
  },
  {
   "cell_type": "code",
   "execution_count": 10,
   "id": "2aa88463",
   "metadata": {
    "ExecuteTime": {
     "end_time": "2023-05-11T00:47:07.695838Z",
     "start_time": "2023-05-11T00:47:07.679963Z"
    }
   },
   "outputs": [
    {
     "data": {
      "text/plain": [
       "6    1\n",
       "7    0\n",
       "Name: AandB, dtype: int64"
      ]
     },
     "execution_count": 10,
     "metadata": {},
     "output_type": "execute_result"
    }
   ],
   "source": [
    "y_test"
   ]
  },
  {
   "cell_type": "markdown",
   "id": "9a121244",
   "metadata": {},
   "source": [
    "#### 머신러닝 설명\n",
    "- 머신러닝 : 데이터에서 규칙을 찾아내는 것  \n",
    "   \n",
    "   \n",
    "- 지도학습 : 문제와 정답을 학습시킴, 문제가 정답을 출력하기 위한 규칙   \n",
    "✔ 분류 : 정답의 종류가 정해져 있음  \n",
    "✔ 회귀 : 정답의 종류가 정해져 있지 않음, 정답의 미묘한 차이가 크게 중요하지 않음   \n",
    "\n",
    "\n",
    "- 비지도학습 : 문제만 학습시킴, 문제가 가지고 있는 특징(규칙)을 찾음  \n",
    "✔ 클러스터링(군집) : 문제만 학습시켜서 특징이 비슷한 것끼리 묶음  \n",
    "✔ 차원축소 : 데이터의 차원을 줄임.  데이터가 작아지지만 의미가 많은 데이터만 남김  \n",
    "  ==> 학습에 소요되는 시간이 절약  \n",
    "\n",
    "  \n",
    "- 강화학습 :  문제와 완벽하지 않은 정답을 학습시킴. 스스로 학습을 통해서 정답을 찾음."
   ]
  },
  {
   "cell_type": "markdown",
   "id": "b3920ea5",
   "metadata": {},
   "source": [
    "### 평가"
   ]
  },
  {
   "cell_type": "markdown",
   "id": "27b73abf",
   "metadata": {},
   "source": [
    "#### 모델 평가하는 모듈 불러오기"
   ]
  },
  {
   "cell_type": "code",
   "execution_count": 13,
   "id": "752bd95f",
   "metadata": {
    "ExecuteTime": {
     "end_time": "2023-05-11T01:10:05.307885Z",
     "start_time": "2023-05-11T01:10:05.299824Z"
    }
   },
   "outputs": [],
   "source": [
    "from sklearn.metrics import accuracy_score # 정확도 점수(모델 성능 평가 지표)"
   ]
  },
  {
   "cell_type": "code",
   "execution_count": 16,
   "id": "303f3204",
   "metadata": {
    "ExecuteTime": {
     "end_time": "2023-05-11T01:23:46.949557Z",
     "start_time": "2023-05-11T01:23:46.937169Z"
    }
   },
   "outputs": [
    {
     "data": {
      "text/plain": [
       "1.0"
      ]
     },
     "execution_count": 16,
     "metadata": {},
     "output_type": "execute_result"
    }
   ],
   "source": [
    "# 정확도? \n",
    "# 정답 -> 예측\n",
    "# 0-> 0 (정답)\n",
    "# 1-> 1 (정답)\n",
    "# 1-> 0 (오류)\n",
    "# accuracy_score : 모델이 가지고 있는 함수가 아니고 그냥 함수 자체적으로 역할\n",
    "\n",
    "# accuracy_score(실제답, 예측값)\n",
    "\n",
    "accuracy_score(y_test, pre) # 확률 정보로 값을 표시 \n",
    "# 1.0 -> 100%맞췄다는 의미 (모델의 성능이 괜찮다)\n",
    "# 0.0 에 가까울수록 모델의 성능이 좋지 못하다고 판단"
   ]
  },
  {
   "cell_type": "code",
   "execution_count": null,
   "id": "9eaef9f9",
   "metadata": {},
   "outputs": [],
   "source": []
  }
 ],
 "metadata": {
  "kernelspec": {
   "display_name": "Python 3 (ipykernel)",
   "language": "python",
   "name": "python3"
  },
  "language_info": {
   "codemirror_mode": {
    "name": "ipython",
    "version": 3
   },
   "file_extension": ".py",
   "mimetype": "text/x-python",
   "name": "python",
   "nbconvert_exporter": "python",
   "pygments_lexer": "ipython3",
   "version": "3.9.13"
  },
  "toc": {
   "base_numbering": 1,
   "nav_menu": {},
   "number_sections": true,
   "sideBar": true,
   "skip_h1_title": false,
   "title_cell": "Table of Contents",
   "title_sidebar": "Contents",
   "toc_cell": false,
   "toc_position": {},
   "toc_section_display": true,
   "toc_window_display": false
  },
  "varInspector": {
   "cols": {
    "lenName": 16,
    "lenType": 16,
    "lenVar": 40
   },
   "kernels_config": {
    "python": {
     "delete_cmd_postfix": "",
     "delete_cmd_prefix": "del ",
     "library": "var_list.py",
     "varRefreshCmd": "print(var_dic_list())"
    },
    "r": {
     "delete_cmd_postfix": ") ",
     "delete_cmd_prefix": "rm(",
     "library": "var_list.r",
     "varRefreshCmd": "cat(var_dic_list()) "
    }
   },
   "types_to_exclude": [
    "module",
    "function",
    "builtin_function_or_method",
    "instance",
    "_Feature"
   ],
   "window_display": false
  }
 },
 "nbformat": 4,
 "nbformat_minor": 5
}
