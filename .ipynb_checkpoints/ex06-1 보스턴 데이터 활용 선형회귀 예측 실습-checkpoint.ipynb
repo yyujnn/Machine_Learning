{
 "cells": [
  {
   "cell_type": "markdown",
   "id": "f2ff0f6f",
   "metadata": {},
   "source": [
    "### 목표 설정\n",
    "- 특성변수를 활용해서 회귀 예측을 진행해보자\n",
    "- 특성곱이라는 특성공학을 진행해보자"
   ]
  },
  {
   "cell_type": "code",
   "execution_count": 1,
   "id": "80ee9d5b",
   "metadata": {
    "ExecuteTime": {
     "end_time": "2023-05-30T05:56:52.353371Z",
     "start_time": "2023-05-30T05:56:50.376366Z"
    }
   },
   "outputs": [],
   "source": [
    "# 필요한 라이브러리 불러오기\n",
    "import pandas as pd\n",
    "import numpy as np\n",
    "from matplotlib import pyplot as plt\n",
    "# 데이터셋 불러오기\n",
    "from sklearn.datasets import load_boston"
   ]
  },
  {
   "cell_type": "code",
   "execution_count": 2,
   "id": "f46ce565",
   "metadata": {
    "ExecuteTime": {
     "end_time": "2023-05-30T05:56:52.368558Z",
     "start_time": "2023-05-30T05:56:52.355389Z"
    }
   },
   "outputs": [],
   "source": [
    "# 경고창 무시\n",
    "import warnings\n",
    "warnings.filterwarnings('ignore')"
   ]
  },
  {
   "cell_type": "code",
   "execution_count": 3,
   "id": "5bbf780a",
   "metadata": {
    "ExecuteTime": {
     "end_time": "2023-05-30T05:56:52.384574Z",
     "start_time": "2023-05-30T05:56:52.370587Z"
    }
   },
   "outputs": [],
   "source": [
    "# 보스턴 데이터 변수에 담아주기\n",
    "boston = load_boston()"
   ]
  },
  {
   "cell_type": "code",
   "execution_count": 4,
   "id": "36a95f03",
   "metadata": {
    "ExecuteTime": {
     "end_time": "2023-05-30T05:56:52.400557Z",
     "start_time": "2023-05-30T05:56:52.386569Z"
    }
   },
   "outputs": [
    {
     "data": {
      "text/plain": [
       "dict_keys(['data', 'target', 'feature_names', 'DESCR', 'filename', 'data_module'])"
      ]
     },
     "execution_count": 4,
     "metadata": {},
     "output_type": "execute_result"
    }
   ],
   "source": [
    "# 보스턴 데이터의 키값을 확인해보기\n",
    "boston.keys()"
   ]
  },
  {
   "cell_type": "code",
   "execution_count": 5,
   "id": "bba92812",
   "metadata": {
    "ExecuteTime": {
     "end_time": "2023-05-30T05:56:52.416492Z",
     "start_time": "2023-05-30T05:56:52.402552Z"
    },
    "scrolled": true
   },
   "outputs": [
    {
     "name": "stdout",
     "output_type": "stream",
     "text": [
      ".. _boston_dataset:\n",
      "\n",
      "Boston house prices dataset\n",
      "---------------------------\n",
      "\n",
      "**Data Set Characteristics:**  \n",
      "\n",
      "    :Number of Instances: 506 \n",
      "\n",
      "    :Number of Attributes: 13 numeric/categorical predictive. Median Value (attribute 14) is usually the target.\n",
      "\n",
      "    :Attribute Information (in order):\n",
      "        - CRIM     per capita crime rate by town\n",
      "        - ZN       proportion of residential land zoned for lots over 25,000 sq.ft.\n",
      "        - INDUS    proportion of non-retail business acres per town\n",
      "        - CHAS     Charles River dummy variable (= 1 if tract bounds river; 0 otherwise)\n",
      "        - NOX      nitric oxides concentration (parts per 10 million)\n",
      "        - RM       average number of rooms per dwelling\n",
      "        - AGE      proportion of owner-occupied units built prior to 1940\n",
      "        - DIS      weighted distances to five Boston employment centres\n",
      "        - RAD      index of accessibility to radial highways\n",
      "        - TAX      full-value property-tax rate per $10,000\n",
      "        - PTRATIO  pupil-teacher ratio by town\n",
      "        - B        1000(Bk - 0.63)^2 where Bk is the proportion of black people by town\n",
      "        - LSTAT    % lower status of the population\n",
      "        - MEDV     Median value of owner-occupied homes in $1000's\n",
      "\n",
      "    :Missing Attribute Values: None\n",
      "\n",
      "    :Creator: Harrison, D. and Rubinfeld, D.L.\n",
      "\n",
      "This is a copy of UCI ML housing dataset.\n",
      "https://archive.ics.uci.edu/ml/machine-learning-databases/housing/\n",
      "\n",
      "\n",
      "This dataset was taken from the StatLib library which is maintained at Carnegie Mellon University.\n",
      "\n",
      "The Boston house-price data of Harrison, D. and Rubinfeld, D.L. 'Hedonic\n",
      "prices and the demand for clean air', J. Environ. Economics & Management,\n",
      "vol.5, 81-102, 1978.   Used in Belsley, Kuh & Welsch, 'Regression diagnostics\n",
      "...', Wiley, 1980.   N.B. Various transformations are used in the table on\n",
      "pages 244-261 of the latter.\n",
      "\n",
      "The Boston house-price data has been used in many machine learning papers that address regression\n",
      "problems.   \n",
      "     \n",
      ".. topic:: References\n",
      "\n",
      "   - Belsley, Kuh & Welsch, 'Regression diagnostics: Identifying Influential Data and Sources of Collinearity', Wiley, 1980. 244-261.\n",
      "   - Quinlan,R. (1993). Combining Instance-Based and Model-Based Learning. In Proceedings on the Tenth International Conference of Machine Learning, 236-243, University of Massachusetts, Amherst. Morgan Kaufmann.\n",
      "\n"
     ]
    }
   ],
   "source": [
    "# DESCR 확인\n",
    "print(boston.DESCR)"
   ]
  },
  {
   "cell_type": "markdown",
   "id": "7eb952f0",
   "metadata": {},
   "source": [
    "### 데이터 정보 정리하기\n",
    "*** 설명변수(문제 데이터) : 원인, 예측값을 설명할 수 있는 변수 ***\n",
    "- CRIM : 범죄율\n",
    "- INDUS : 비소매상업지역 면적 비율\n",
    "- NOX : 일산화질소 농도\n",
    "- RM : 주택당 방 수\n",
    "- LSTAT : 인구 중 하위 계층의 비율\n",
    "- B : 인구 중 흑인의 비율\n",
    "- PTRATIO : 학생/교사의 비율\n",
    "- ZN : 25,000 평방 피트를 초과하는 거주지역의 비율\n",
    "- CHAS : 찰스강의 경계에 위치한 경우는 1, 아니면 0\n",
    "- AGE : 1940년 이전에 지어진 주택의 비율 \n",
    "- DIS : 직업센터와의 거리\n",
    "- TAX : 재산세의 비율\n",
    "\n",
    "*** 반응변수(정답 데이터) : 결과, 예측하고자 하는 값 **\n",
    "- MEDV : 주택 가격"
   ]
  },
  {
   "cell_type": "markdown",
   "id": "f1ea8a0d",
   "metadata": {},
   "source": [
    "### 데이터 프레임 화\n",
    "- 분석의 편의성을 위해서 넘파이의 배열 형태의 데이터 -> 데이터 프레임화\n",
    "- X : 문제 데이터, 독립변수, 입력변수, 설명변수\n",
    "- y : 정답 데이터, 종속변수, 반응변수, 출력변수"
   ]
  },
  {
   "cell_type": "code",
   "execution_count": 6,
   "id": "6886f7b6",
   "metadata": {
    "ExecuteTime": {
     "end_time": "2023-05-30T05:56:52.448429Z",
     "start_time": "2023-05-30T05:56:52.418487Z"
    }
   },
   "outputs": [
    {
     "data": {
      "text/html": [
       "<div>\n",
       "<style scoped>\n",
       "    .dataframe tbody tr th:only-of-type {\n",
       "        vertical-align: middle;\n",
       "    }\n",
       "\n",
       "    .dataframe tbody tr th {\n",
       "        vertical-align: top;\n",
       "    }\n",
       "\n",
       "    .dataframe thead th {\n",
       "        text-align: right;\n",
       "    }\n",
       "</style>\n",
       "<table border=\"1\" class=\"dataframe\">\n",
       "  <thead>\n",
       "    <tr style=\"text-align: right;\">\n",
       "      <th></th>\n",
       "      <th>CRIM</th>\n",
       "      <th>ZN</th>\n",
       "      <th>INDUS</th>\n",
       "      <th>CHAS</th>\n",
       "      <th>NOX</th>\n",
       "      <th>RM</th>\n",
       "      <th>AGE</th>\n",
       "      <th>DIS</th>\n",
       "      <th>RAD</th>\n",
       "      <th>TAX</th>\n",
       "      <th>PTRATIO</th>\n",
       "      <th>B</th>\n",
       "      <th>LSTAT</th>\n",
       "    </tr>\n",
       "  </thead>\n",
       "  <tbody>\n",
       "    <tr>\n",
       "      <th>0</th>\n",
       "      <td>0.00632</td>\n",
       "      <td>18.0</td>\n",
       "      <td>2.31</td>\n",
       "      <td>0.0</td>\n",
       "      <td>0.538</td>\n",
       "      <td>6.575</td>\n",
       "      <td>65.2</td>\n",
       "      <td>4.0900</td>\n",
       "      <td>1.0</td>\n",
       "      <td>296.0</td>\n",
       "      <td>15.3</td>\n",
       "      <td>396.90</td>\n",
       "      <td>4.98</td>\n",
       "    </tr>\n",
       "    <tr>\n",
       "      <th>1</th>\n",
       "      <td>0.02731</td>\n",
       "      <td>0.0</td>\n",
       "      <td>7.07</td>\n",
       "      <td>0.0</td>\n",
       "      <td>0.469</td>\n",
       "      <td>6.421</td>\n",
       "      <td>78.9</td>\n",
       "      <td>4.9671</td>\n",
       "      <td>2.0</td>\n",
       "      <td>242.0</td>\n",
       "      <td>17.8</td>\n",
       "      <td>396.90</td>\n",
       "      <td>9.14</td>\n",
       "    </tr>\n",
       "    <tr>\n",
       "      <th>2</th>\n",
       "      <td>0.02729</td>\n",
       "      <td>0.0</td>\n",
       "      <td>7.07</td>\n",
       "      <td>0.0</td>\n",
       "      <td>0.469</td>\n",
       "      <td>7.185</td>\n",
       "      <td>61.1</td>\n",
       "      <td>4.9671</td>\n",
       "      <td>2.0</td>\n",
       "      <td>242.0</td>\n",
       "      <td>17.8</td>\n",
       "      <td>392.83</td>\n",
       "      <td>4.03</td>\n",
       "    </tr>\n",
       "    <tr>\n",
       "      <th>3</th>\n",
       "      <td>0.03237</td>\n",
       "      <td>0.0</td>\n",
       "      <td>2.18</td>\n",
       "      <td>0.0</td>\n",
       "      <td>0.458</td>\n",
       "      <td>6.998</td>\n",
       "      <td>45.8</td>\n",
       "      <td>6.0622</td>\n",
       "      <td>3.0</td>\n",
       "      <td>222.0</td>\n",
       "      <td>18.7</td>\n",
       "      <td>394.63</td>\n",
       "      <td>2.94</td>\n",
       "    </tr>\n",
       "    <tr>\n",
       "      <th>4</th>\n",
       "      <td>0.06905</td>\n",
       "      <td>0.0</td>\n",
       "      <td>2.18</td>\n",
       "      <td>0.0</td>\n",
       "      <td>0.458</td>\n",
       "      <td>7.147</td>\n",
       "      <td>54.2</td>\n",
       "      <td>6.0622</td>\n",
       "      <td>3.0</td>\n",
       "      <td>222.0</td>\n",
       "      <td>18.7</td>\n",
       "      <td>396.90</td>\n",
       "      <td>5.33</td>\n",
       "    </tr>\n",
       "    <tr>\n",
       "      <th>...</th>\n",
       "      <td>...</td>\n",
       "      <td>...</td>\n",
       "      <td>...</td>\n",
       "      <td>...</td>\n",
       "      <td>...</td>\n",
       "      <td>...</td>\n",
       "      <td>...</td>\n",
       "      <td>...</td>\n",
       "      <td>...</td>\n",
       "      <td>...</td>\n",
       "      <td>...</td>\n",
       "      <td>...</td>\n",
       "      <td>...</td>\n",
       "    </tr>\n",
       "    <tr>\n",
       "      <th>501</th>\n",
       "      <td>0.06263</td>\n",
       "      <td>0.0</td>\n",
       "      <td>11.93</td>\n",
       "      <td>0.0</td>\n",
       "      <td>0.573</td>\n",
       "      <td>6.593</td>\n",
       "      <td>69.1</td>\n",
       "      <td>2.4786</td>\n",
       "      <td>1.0</td>\n",
       "      <td>273.0</td>\n",
       "      <td>21.0</td>\n",
       "      <td>391.99</td>\n",
       "      <td>9.67</td>\n",
       "    </tr>\n",
       "    <tr>\n",
       "      <th>502</th>\n",
       "      <td>0.04527</td>\n",
       "      <td>0.0</td>\n",
       "      <td>11.93</td>\n",
       "      <td>0.0</td>\n",
       "      <td>0.573</td>\n",
       "      <td>6.120</td>\n",
       "      <td>76.7</td>\n",
       "      <td>2.2875</td>\n",
       "      <td>1.0</td>\n",
       "      <td>273.0</td>\n",
       "      <td>21.0</td>\n",
       "      <td>396.90</td>\n",
       "      <td>9.08</td>\n",
       "    </tr>\n",
       "    <tr>\n",
       "      <th>503</th>\n",
       "      <td>0.06076</td>\n",
       "      <td>0.0</td>\n",
       "      <td>11.93</td>\n",
       "      <td>0.0</td>\n",
       "      <td>0.573</td>\n",
       "      <td>6.976</td>\n",
       "      <td>91.0</td>\n",
       "      <td>2.1675</td>\n",
       "      <td>1.0</td>\n",
       "      <td>273.0</td>\n",
       "      <td>21.0</td>\n",
       "      <td>396.90</td>\n",
       "      <td>5.64</td>\n",
       "    </tr>\n",
       "    <tr>\n",
       "      <th>504</th>\n",
       "      <td>0.10959</td>\n",
       "      <td>0.0</td>\n",
       "      <td>11.93</td>\n",
       "      <td>0.0</td>\n",
       "      <td>0.573</td>\n",
       "      <td>6.794</td>\n",
       "      <td>89.3</td>\n",
       "      <td>2.3889</td>\n",
       "      <td>1.0</td>\n",
       "      <td>273.0</td>\n",
       "      <td>21.0</td>\n",
       "      <td>393.45</td>\n",
       "      <td>6.48</td>\n",
       "    </tr>\n",
       "    <tr>\n",
       "      <th>505</th>\n",
       "      <td>0.04741</td>\n",
       "      <td>0.0</td>\n",
       "      <td>11.93</td>\n",
       "      <td>0.0</td>\n",
       "      <td>0.573</td>\n",
       "      <td>6.030</td>\n",
       "      <td>80.8</td>\n",
       "      <td>2.5050</td>\n",
       "      <td>1.0</td>\n",
       "      <td>273.0</td>\n",
       "      <td>21.0</td>\n",
       "      <td>396.90</td>\n",
       "      <td>7.88</td>\n",
       "    </tr>\n",
       "  </tbody>\n",
       "</table>\n",
       "<p>506 rows × 13 columns</p>\n",
       "</div>"
      ],
      "text/plain": [
       "        CRIM    ZN  INDUS  CHAS    NOX     RM   AGE     DIS  RAD    TAX  \\\n",
       "0    0.00632  18.0   2.31   0.0  0.538  6.575  65.2  4.0900  1.0  296.0   \n",
       "1    0.02731   0.0   7.07   0.0  0.469  6.421  78.9  4.9671  2.0  242.0   \n",
       "2    0.02729   0.0   7.07   0.0  0.469  7.185  61.1  4.9671  2.0  242.0   \n",
       "3    0.03237   0.0   2.18   0.0  0.458  6.998  45.8  6.0622  3.0  222.0   \n",
       "4    0.06905   0.0   2.18   0.0  0.458  7.147  54.2  6.0622  3.0  222.0   \n",
       "..       ...   ...    ...   ...    ...    ...   ...     ...  ...    ...   \n",
       "501  0.06263   0.0  11.93   0.0  0.573  6.593  69.1  2.4786  1.0  273.0   \n",
       "502  0.04527   0.0  11.93   0.0  0.573  6.120  76.7  2.2875  1.0  273.0   \n",
       "503  0.06076   0.0  11.93   0.0  0.573  6.976  91.0  2.1675  1.0  273.0   \n",
       "504  0.10959   0.0  11.93   0.0  0.573  6.794  89.3  2.3889  1.0  273.0   \n",
       "505  0.04741   0.0  11.93   0.0  0.573  6.030  80.8  2.5050  1.0  273.0   \n",
       "\n",
       "     PTRATIO       B  LSTAT  \n",
       "0       15.3  396.90   4.98  \n",
       "1       17.8  396.90   9.14  \n",
       "2       17.8  392.83   4.03  \n",
       "3       18.7  394.63   2.94  \n",
       "4       18.7  396.90   5.33  \n",
       "..       ...     ...    ...  \n",
       "501     21.0  391.99   9.67  \n",
       "502     21.0  396.90   9.08  \n",
       "503     21.0  396.90   5.64  \n",
       "504     21.0  393.45   6.48  \n",
       "505     21.0  396.90   7.88  \n",
       "\n",
       "[506 rows x 13 columns]"
      ]
     },
     "execution_count": 6,
     "metadata": {},
     "output_type": "execute_result"
    }
   ],
   "source": [
    "X = pd.DataFrame(data = boston['data'],\n",
    "                 columns = boston['feature_names'])\n",
    "X"
   ]
  },
  {
   "cell_type": "code",
   "execution_count": 7,
   "id": "ef59f513",
   "metadata": {
    "ExecuteTime": {
     "end_time": "2023-05-30T05:56:52.464364Z",
     "start_time": "2023-05-30T05:56:52.450424Z"
    }
   },
   "outputs": [
    {
     "data": {
      "text/plain": [
       "0      24.0\n",
       "1      21.6\n",
       "2      34.7\n",
       "3      33.4\n",
       "4      36.2\n",
       "       ... \n",
       "501    22.4\n",
       "502    20.6\n",
       "503    23.9\n",
       "504    22.0\n",
       "505    11.9\n",
       "Length: 506, dtype: float64"
      ]
     },
     "execution_count": 7,
     "metadata": {},
     "output_type": "execute_result"
    }
   ],
   "source": [
    "y = pd.Series(boston['target'])\n",
    "y"
   ]
  },
  {
   "cell_type": "code",
   "execution_count": 8,
   "id": "a899b456",
   "metadata": {
    "ExecuteTime": {
     "end_time": "2023-05-30T05:56:52.480321Z",
     "start_time": "2023-05-30T05:56:52.466358Z"
    }
   },
   "outputs": [
    {
     "name": "stdout",
     "output_type": "stream",
     "text": [
      "<class 'pandas.core.frame.DataFrame'>\n",
      "RangeIndex: 506 entries, 0 to 505\n",
      "Data columns (total 13 columns):\n",
      " #   Column   Non-Null Count  Dtype  \n",
      "---  ------   --------------  -----  \n",
      " 0   CRIM     506 non-null    float64\n",
      " 1   ZN       506 non-null    float64\n",
      " 2   INDUS    506 non-null    float64\n",
      " 3   CHAS     506 non-null    float64\n",
      " 4   NOX      506 non-null    float64\n",
      " 5   RM       506 non-null    float64\n",
      " 6   AGE      506 non-null    float64\n",
      " 7   DIS      506 non-null    float64\n",
      " 8   RAD      506 non-null    float64\n",
      " 9   TAX      506 non-null    float64\n",
      " 10  PTRATIO  506 non-null    float64\n",
      " 11  B        506 non-null    float64\n",
      " 12  LSTAT    506 non-null    float64\n",
      "dtypes: float64(13)\n",
      "memory usage: 51.5 KB\n"
     ]
    }
   ],
   "source": [
    "# info() 함수를 통해 결측치 확인\n",
    "X.info()"
   ]
  },
  {
   "cell_type": "code",
   "execution_count": 9,
   "id": "fab099d1",
   "metadata": {
    "ExecuteTime": {
     "end_time": "2023-05-30T05:56:52.496278Z",
     "start_time": "2023-05-30T05:56:52.482315Z"
    }
   },
   "outputs": [
    {
     "name": "stdout",
     "output_type": "stream",
     "text": [
      "<class 'pandas.core.series.Series'>\n",
      "RangeIndex: 506 entries, 0 to 505\n",
      "Series name: None\n",
      "Non-Null Count  Dtype  \n",
      "--------------  -----  \n",
      "506 non-null    float64\n",
      "dtypes: float64(1)\n",
      "memory usage: 4.1 KB\n"
     ]
    }
   ],
   "source": [
    "y.info()"
   ]
  },
  {
   "cell_type": "markdown",
   "id": "93e5e26d",
   "metadata": {},
   "source": [
    "- 문제와 정답 데이터 모두 결측치가 없구나!"
   ]
  },
  {
   "cell_type": "code",
   "execution_count": 10,
   "id": "48508b49",
   "metadata": {
    "ExecuteTime": {
     "end_time": "2023-05-30T05:56:52.528200Z",
     "start_time": "2023-05-30T05:56:52.500267Z"
    }
   },
   "outputs": [
    {
     "data": {
      "text/html": [
       "<div>\n",
       "<style scoped>\n",
       "    .dataframe tbody tr th:only-of-type {\n",
       "        vertical-align: middle;\n",
       "    }\n",
       "\n",
       "    .dataframe tbody tr th {\n",
       "        vertical-align: top;\n",
       "    }\n",
       "\n",
       "    .dataframe thead th {\n",
       "        text-align: right;\n",
       "    }\n",
       "</style>\n",
       "<table border=\"1\" class=\"dataframe\">\n",
       "  <thead>\n",
       "    <tr style=\"text-align: right;\">\n",
       "      <th></th>\n",
       "      <th>CRIM</th>\n",
       "      <th>ZN</th>\n",
       "      <th>INDUS</th>\n",
       "      <th>CHAS</th>\n",
       "      <th>NOX</th>\n",
       "      <th>RM</th>\n",
       "      <th>AGE</th>\n",
       "      <th>DIS</th>\n",
       "      <th>RAD</th>\n",
       "      <th>TAX</th>\n",
       "      <th>PTRATIO</th>\n",
       "      <th>B</th>\n",
       "      <th>LSTAT</th>\n",
       "    </tr>\n",
       "  </thead>\n",
       "  <tbody>\n",
       "    <tr>\n",
       "      <th>0</th>\n",
       "      <td>0.00632</td>\n",
       "      <td>18.0</td>\n",
       "      <td>2.31</td>\n",
       "      <td>0.0</td>\n",
       "      <td>0.538</td>\n",
       "      <td>6.575</td>\n",
       "      <td>65.2</td>\n",
       "      <td>4.0900</td>\n",
       "      <td>1.0</td>\n",
       "      <td>296.0</td>\n",
       "      <td>15.3</td>\n",
       "      <td>396.90</td>\n",
       "      <td>4.98</td>\n",
       "    </tr>\n",
       "    <tr>\n",
       "      <th>1</th>\n",
       "      <td>0.02731</td>\n",
       "      <td>0.0</td>\n",
       "      <td>7.07</td>\n",
       "      <td>0.0</td>\n",
       "      <td>0.469</td>\n",
       "      <td>6.421</td>\n",
       "      <td>78.9</td>\n",
       "      <td>4.9671</td>\n",
       "      <td>2.0</td>\n",
       "      <td>242.0</td>\n",
       "      <td>17.8</td>\n",
       "      <td>396.90</td>\n",
       "      <td>9.14</td>\n",
       "    </tr>\n",
       "    <tr>\n",
       "      <th>2</th>\n",
       "      <td>0.02729</td>\n",
       "      <td>0.0</td>\n",
       "      <td>7.07</td>\n",
       "      <td>0.0</td>\n",
       "      <td>0.469</td>\n",
       "      <td>7.185</td>\n",
       "      <td>61.1</td>\n",
       "      <td>4.9671</td>\n",
       "      <td>2.0</td>\n",
       "      <td>242.0</td>\n",
       "      <td>17.8</td>\n",
       "      <td>392.83</td>\n",
       "      <td>4.03</td>\n",
       "    </tr>\n",
       "    <tr>\n",
       "      <th>3</th>\n",
       "      <td>0.03237</td>\n",
       "      <td>0.0</td>\n",
       "      <td>2.18</td>\n",
       "      <td>0.0</td>\n",
       "      <td>0.458</td>\n",
       "      <td>6.998</td>\n",
       "      <td>45.8</td>\n",
       "      <td>6.0622</td>\n",
       "      <td>3.0</td>\n",
       "      <td>222.0</td>\n",
       "      <td>18.7</td>\n",
       "      <td>394.63</td>\n",
       "      <td>2.94</td>\n",
       "    </tr>\n",
       "    <tr>\n",
       "      <th>4</th>\n",
       "      <td>0.06905</td>\n",
       "      <td>0.0</td>\n",
       "      <td>2.18</td>\n",
       "      <td>0.0</td>\n",
       "      <td>0.458</td>\n",
       "      <td>7.147</td>\n",
       "      <td>54.2</td>\n",
       "      <td>6.0622</td>\n",
       "      <td>3.0</td>\n",
       "      <td>222.0</td>\n",
       "      <td>18.7</td>\n",
       "      <td>396.90</td>\n",
       "      <td>5.33</td>\n",
       "    </tr>\n",
       "  </tbody>\n",
       "</table>\n",
       "</div>"
      ],
      "text/plain": [
       "      CRIM    ZN  INDUS  CHAS    NOX     RM   AGE     DIS  RAD    TAX  \\\n",
       "0  0.00632  18.0   2.31   0.0  0.538  6.575  65.2  4.0900  1.0  296.0   \n",
       "1  0.02731   0.0   7.07   0.0  0.469  6.421  78.9  4.9671  2.0  242.0   \n",
       "2  0.02729   0.0   7.07   0.0  0.469  7.185  61.1  4.9671  2.0  242.0   \n",
       "3  0.03237   0.0   2.18   0.0  0.458  6.998  45.8  6.0622  3.0  222.0   \n",
       "4  0.06905   0.0   2.18   0.0  0.458  7.147  54.2  6.0622  3.0  222.0   \n",
       "\n",
       "   PTRATIO       B  LSTAT  \n",
       "0     15.3  396.90   4.98  \n",
       "1     17.8  396.90   9.14  \n",
       "2     17.8  392.83   4.03  \n",
       "3     18.7  394.63   2.94  \n",
       "4     18.7  396.90   5.33  "
      ]
     },
     "execution_count": 10,
     "metadata": {},
     "output_type": "execute_result"
    }
   ],
   "source": [
    "X.head() # 데이터프레임 확인"
   ]
  },
  {
   "cell_type": "code",
   "execution_count": 11,
   "id": "604e1dce",
   "metadata": {
    "ExecuteTime": {
     "end_time": "2023-05-30T05:56:52.544133Z",
     "start_time": "2023-05-30T05:56:52.530195Z"
    }
   },
   "outputs": [
    {
     "data": {
      "text/plain": [
       "0    24.0\n",
       "1    21.6\n",
       "2    34.7\n",
       "3    33.4\n",
       "4    36.2\n",
       "dtype: float64"
      ]
     },
     "execution_count": 11,
     "metadata": {},
     "output_type": "execute_result"
    }
   ],
   "source": [
    "y.head() # 단위생략(Series 형태)"
   ]
  },
  {
   "cell_type": "markdown",
   "id": "7c4d8c59",
   "metadata": {},
   "source": [
    "### 데이터 분할\n",
    "- train, test로 데이터를 분할\n",
    "- train_test_split기능을 이용해서 데이터 분리\n",
    "- 7:3 비율, 랜덤시드는 0"
   ]
  },
  {
   "cell_type": "code",
   "execution_count": 12,
   "id": "bb424773",
   "metadata": {
    "ExecuteTime": {
     "end_time": "2023-05-30T05:56:52.622733Z",
     "start_time": "2023-05-30T05:56:52.546128Z"
    }
   },
   "outputs": [],
   "source": [
    "from sklearn.model_selection import train_test_split"
   ]
  },
  {
   "cell_type": "code",
   "execution_count": 13,
   "id": "9e5bce5e",
   "metadata": {
    "ExecuteTime": {
     "end_time": "2023-05-30T05:56:52.638523Z",
     "start_time": "2023-05-30T05:56:52.624726Z"
    }
   },
   "outputs": [],
   "source": [
    "# 데이터 분할\n",
    "X_train, X_test, y_train, y_test = train_test_split(X, y, test_size = 0.3, random_state= 0 )"
   ]
  },
  {
   "cell_type": "code",
   "execution_count": 14,
   "id": "ef76afe8",
   "metadata": {
    "ExecuteTime": {
     "end_time": "2023-05-30T05:56:52.654493Z",
     "start_time": "2023-05-30T05:56:52.640520Z"
    }
   },
   "outputs": [
    {
     "name": "stdout",
     "output_type": "stream",
     "text": [
      "(354, 13)\n",
      "(152, 13)\n",
      "(354,)\n",
      "(152,)\n"
     ]
    }
   ],
   "source": [
    "print(X_train.shape)\n",
    "print(X_test.shape)\n",
    "print(y_train.shape)\n",
    "print(y_test.shape)"
   ]
  },
  {
   "cell_type": "markdown",
   "id": "21c1b64b",
   "metadata": {},
   "source": [
    "### 모델링\n",
    "- LinearRegression(선형 회귀 모델 사용)"
   ]
  },
  {
   "cell_type": "code",
   "execution_count": 15,
   "id": "cb9402f0",
   "metadata": {
    "ExecuteTime": {
     "end_time": "2023-05-30T05:56:52.701880Z",
     "start_time": "2023-05-30T05:56:52.656479Z"
    }
   },
   "outputs": [],
   "source": [
    "# 선형 회귀 모델 import \n",
    "from sklearn.linear_model import LinearRegression\n",
    "# 교차검증 모델\n",
    "from sklearn.model_selection import cross_val_score"
   ]
  },
  {
   "cell_type": "code",
   "execution_count": 16,
   "id": "9cdf3ffe",
   "metadata": {
    "ExecuteTime": {
     "end_time": "2023-05-30T05:56:52.717782Z",
     "start_time": "2023-05-30T05:56:52.708812Z"
    }
   },
   "outputs": [],
   "source": [
    "# 모델 객체 생성(변수에 담아주기)\n",
    "linear_model = LinearRegression()"
   ]
  },
  {
   "cell_type": "code",
   "execution_count": 17,
   "id": "8aa4d791",
   "metadata": {
    "ExecuteTime": {
     "end_time": "2023-05-30T05:56:52.748697Z",
     "start_time": "2023-05-30T05:56:52.719777Z"
    }
   },
   "outputs": [
    {
     "data": {
      "text/plain": [
       "LinearRegression()"
      ]
     },
     "execution_count": 17,
     "metadata": {},
     "output_type": "execute_result"
    }
   ],
   "source": [
    "# 모델 학습\n",
    "linear_model.fit(X_train, y_train)"
   ]
  },
  {
   "cell_type": "code",
   "execution_count": 18,
   "id": "1ba315c4",
   "metadata": {
    "ExecuteTime": {
     "end_time": "2023-05-30T05:56:52.779615Z",
     "start_time": "2023-05-30T05:56:52.750693Z"
    }
   },
   "outputs": [],
   "source": [
    "# 교차 검증\n",
    "result = cross_val_score(linear_model, X_train, y_train,cv=5)"
   ]
  },
  {
   "cell_type": "code",
   "execution_count": 19,
   "id": "d418dd8c",
   "metadata": {
    "ExecuteTime": {
     "end_time": "2023-05-30T05:56:52.795575Z",
     "start_time": "2023-05-30T05:56:52.781610Z"
    }
   },
   "outputs": [
    {
     "name": "stdout",
     "output_type": "stream",
     "text": [
      "[0.7246982  0.58082515 0.77515092 0.72161474 0.78935797]\n",
      "0.718329397431593\n"
     ]
    }
   ],
   "source": [
    "print(result)\n",
    "print(result.mean())"
   ]
  },
  {
   "cell_type": "code",
   "execution_count": 20,
   "id": "d62ba1ad",
   "metadata": {
    "ExecuteTime": {
     "end_time": "2023-05-30T05:56:52.811530Z",
     "start_time": "2023-05-30T05:56:52.797571Z"
    }
   },
   "outputs": [],
   "source": [
    "# 스코어 확인 -> 규남쌤과 같이 해보자. 4가지의 평가지표 모두 살펴보기\n",
    "# MSE(평균제곱오차), RMSE(평균제곱근오치), R2스코어, MAE(평균절대오차)\n",
    "# sklearn.metrics : 평가지표 모음집\n",
    "from sklearn.metrics import mean_squared_error # 평균 제곱 오차\n",
    "from sklearn.metrics import mean_absolute_error # 평균 절대 오차\n",
    "from sklearn.metrics import r2_score\n",
    "# RMSE는 평균 제곱 오차에 직접 루트를 적용하는 함수를 사용해줘야 한다."
   ]
  },
  {
   "cell_type": "code",
   "execution_count": 21,
   "id": "74f57cb4",
   "metadata": {
    "ExecuteTime": {
     "end_time": "2023-05-30T05:56:52.827488Z",
     "start_time": "2023-05-30T05:56:52.813525Z"
    }
   },
   "outputs": [],
   "source": [
    "# 예측값 예측\n",
    "pre = linear_model.predict(X_test)"
   ]
  },
  {
   "cell_type": "code",
   "execution_count": 22,
   "id": "eb1a4204",
   "metadata": {
    "ExecuteTime": {
     "end_time": "2023-05-30T05:56:52.842446Z",
     "start_time": "2023-05-30T05:56:52.829481Z"
    }
   },
   "outputs": [
    {
     "data": {
      "text/plain": [
       "27.195965766883234"
      ]
     },
     "execution_count": 22,
     "metadata": {},
     "output_type": "execute_result"
    }
   ],
   "source": [
    "# 평균 제곱 오차\n",
    "mean_squared_error(y_test, pre)"
   ]
  },
  {
   "cell_type": "code",
   "execution_count": 23,
   "id": "28e63f91",
   "metadata": {
    "ExecuteTime": {
     "end_time": "2023-05-30T05:56:52.858406Z",
     "start_time": "2023-05-30T05:56:52.844442Z"
    }
   },
   "outputs": [
    {
     "data": {
      "text/plain": [
       "5.214975145375406"
      ]
     },
     "execution_count": 23,
     "metadata": {},
     "output_type": "execute_result"
    }
   ],
   "source": [
    "# 평균 제곱근 오차\n",
    "# np.sqrt\n",
    "np.sqrt(mean_squared_error(y_test, pre))"
   ]
  },
  {
   "cell_type": "code",
   "execution_count": 24,
   "id": "ad59be33",
   "metadata": {
    "ExecuteTime": {
     "end_time": "2023-05-30T05:56:52.874364Z",
     "start_time": "2023-05-30T05:56:52.860399Z"
    }
   },
   "outputs": [
    {
     "data": {
      "text/plain": [
       "3.609904060381808"
      ]
     },
     "execution_count": 24,
     "metadata": {},
     "output_type": "execute_result"
    }
   ],
   "source": [
    "# 평균 절대 오차\n",
    "mean_absolute_error(y_test, pre)"
   ]
  },
  {
   "cell_type": "code",
   "execution_count": 25,
   "id": "20e559e1",
   "metadata": {
    "ExecuteTime": {
     "end_time": "2023-05-30T05:56:52.890319Z",
     "start_time": "2023-05-30T05:56:52.876356Z"
    }
   },
   "outputs": [
    {
     "data": {
      "text/plain": [
       "0.6733825506400193"
      ]
     },
     "execution_count": 25,
     "metadata": {},
     "output_type": "execute_result"
    }
   ],
   "source": [
    "# R2_Score\n",
    "r2_score(y_test, pre)"
   ]
  },
  {
   "cell_type": "markdown",
   "id": "b2e9bc9d",
   "metadata": {},
   "source": [
    "- 현재 선형모델은 성능이 좋지 못하다.  \n",
    "- 모델의 성능을 개선하기 위해 노력해보자.  \n",
    "- 선형 모델은 일반적으로 데이터가 많아질수록 성능이 좋아지는 모습을 보인다.  \n",
    "- 성능이 좋다는 것은 훈련데이터의 성능이 조금 감소할지라도  \n",
    "  새로운 데이터 (테스트 셋트)에서 잘 반응하는 것이 성능이 좋다라는 뜻  \n",
    "- 데이터가 많아질수록 모델이 과대적합이 일어나기 힘들다"
   ]
  },
  {
   "cell_type": "markdown",
   "id": "a8672be0",
   "metadata": {},
   "source": [
    "### 특성 확장\n",
    "- 그럼 특성을 늘려보자! -> 특성 곱을 이용해서!"
   ]
  },
  {
   "cell_type": "code",
   "execution_count": 26,
   "id": "b9cd156c",
   "metadata": {
    "ExecuteTime": {
     "end_time": "2023-05-30T05:56:52.906277Z",
     "start_time": "2023-05-30T05:56:52.892315Z"
    }
   },
   "outputs": [],
   "source": [
    "# 일반적으로 데이터가 많을수록 성능 높음\n",
    "\n",
    "# 상관관계를 확인하기 위해서 문제와 답을 붙인 데이터를 만들어보자\n",
    "X_copy = X_train.copy()\n",
    "X_copy['PRICE'] = y_train"
   ]
  },
  {
   "cell_type": "code",
   "execution_count": 27,
   "id": "5c7d8041",
   "metadata": {
    "ExecuteTime": {
     "end_time": "2023-05-30T05:56:52.922234Z",
     "start_time": "2023-05-30T05:56:52.908271Z"
    }
   },
   "outputs": [
    {
     "name": "stdout",
     "output_type": "stream",
     "text": [
      "<class 'pandas.core.frame.DataFrame'>\n",
      "Int64Index: 354 entries, 141 to 172\n",
      "Data columns (total 14 columns):\n",
      " #   Column   Non-Null Count  Dtype  \n",
      "---  ------   --------------  -----  \n",
      " 0   CRIM     354 non-null    float64\n",
      " 1   ZN       354 non-null    float64\n",
      " 2   INDUS    354 non-null    float64\n",
      " 3   CHAS     354 non-null    float64\n",
      " 4   NOX      354 non-null    float64\n",
      " 5   RM       354 non-null    float64\n",
      " 6   AGE      354 non-null    float64\n",
      " 7   DIS      354 non-null    float64\n",
      " 8   RAD      354 non-null    float64\n",
      " 9   TAX      354 non-null    float64\n",
      " 10  PTRATIO  354 non-null    float64\n",
      " 11  B        354 non-null    float64\n",
      " 12  LSTAT    354 non-null    float64\n",
      " 13  PRICE    354 non-null    float64\n",
      "dtypes: float64(14)\n",
      "memory usage: 41.5 KB\n"
     ]
    }
   ],
   "source": [
    "X_copy.info()"
   ]
  },
  {
   "cell_type": "code",
   "execution_count": 28,
   "id": "b4b409ba",
   "metadata": {
    "ExecuteTime": {
     "end_time": "2023-05-30T05:56:52.954174Z",
     "start_time": "2023-05-30T05:56:52.930212Z"
    }
   },
   "outputs": [
    {
     "data": {
      "text/html": [
       "<div>\n",
       "<style scoped>\n",
       "    .dataframe tbody tr th:only-of-type {\n",
       "        vertical-align: middle;\n",
       "    }\n",
       "\n",
       "    .dataframe tbody tr th {\n",
       "        vertical-align: top;\n",
       "    }\n",
       "\n",
       "    .dataframe thead th {\n",
       "        text-align: right;\n",
       "    }\n",
       "</style>\n",
       "<table border=\"1\" class=\"dataframe\">\n",
       "  <thead>\n",
       "    <tr style=\"text-align: right;\">\n",
       "      <th></th>\n",
       "      <th>CRIM</th>\n",
       "      <th>ZN</th>\n",
       "      <th>INDUS</th>\n",
       "      <th>CHAS</th>\n",
       "      <th>NOX</th>\n",
       "      <th>RM</th>\n",
       "      <th>AGE</th>\n",
       "      <th>DIS</th>\n",
       "      <th>RAD</th>\n",
       "      <th>TAX</th>\n",
       "      <th>PTRATIO</th>\n",
       "      <th>B</th>\n",
       "      <th>LSTAT</th>\n",
       "      <th>PRICE</th>\n",
       "    </tr>\n",
       "  </thead>\n",
       "  <tbody>\n",
       "    <tr>\n",
       "      <th>CRIM</th>\n",
       "      <td>1.000000</td>\n",
       "      <td>-0.196172</td>\n",
       "      <td>0.382073</td>\n",
       "      <td>-0.049364</td>\n",
       "      <td>0.416560</td>\n",
       "      <td>-0.188280</td>\n",
       "      <td>0.329927</td>\n",
       "      <td>-0.355840</td>\n",
       "      <td>0.603880</td>\n",
       "      <td>0.560570</td>\n",
       "      <td>0.264780</td>\n",
       "      <td>-0.299525</td>\n",
       "      <td>0.439369</td>\n",
       "      <td>-0.388182</td>\n",
       "    </tr>\n",
       "    <tr>\n",
       "      <th>ZN</th>\n",
       "      <td>-0.196172</td>\n",
       "      <td>1.000000</td>\n",
       "      <td>-0.529392</td>\n",
       "      <td>-0.063863</td>\n",
       "      <td>-0.523572</td>\n",
       "      <td>0.319260</td>\n",
       "      <td>-0.583885</td>\n",
       "      <td>0.658331</td>\n",
       "      <td>-0.314833</td>\n",
       "      <td>-0.327834</td>\n",
       "      <td>-0.392838</td>\n",
       "      <td>0.164641</td>\n",
       "      <td>-0.429178</td>\n",
       "      <td>0.386115</td>\n",
       "    </tr>\n",
       "    <tr>\n",
       "      <th>INDUS</th>\n",
       "      <td>0.382073</td>\n",
       "      <td>-0.529392</td>\n",
       "      <td>1.000000</td>\n",
       "      <td>0.044224</td>\n",
       "      <td>0.750218</td>\n",
       "      <td>-0.392969</td>\n",
       "      <td>0.629257</td>\n",
       "      <td>-0.686848</td>\n",
       "      <td>0.578459</td>\n",
       "      <td>0.719038</td>\n",
       "      <td>0.388353</td>\n",
       "      <td>-0.331638</td>\n",
       "      <td>0.603374</td>\n",
       "      <td>-0.504361</td>\n",
       "    </tr>\n",
       "    <tr>\n",
       "      <th>CHAS</th>\n",
       "      <td>-0.049364</td>\n",
       "      <td>-0.063863</td>\n",
       "      <td>0.044224</td>\n",
       "      <td>1.000000</td>\n",
       "      <td>0.043748</td>\n",
       "      <td>0.088125</td>\n",
       "      <td>0.067269</td>\n",
       "      <td>-0.085492</td>\n",
       "      <td>0.022338</td>\n",
       "      <td>-0.017156</td>\n",
       "      <td>-0.072683</td>\n",
       "      <td>0.069682</td>\n",
       "      <td>-0.059060</td>\n",
       "      <td>0.162395</td>\n",
       "    </tr>\n",
       "    <tr>\n",
       "      <th>NOX</th>\n",
       "      <td>0.416560</td>\n",
       "      <td>-0.523572</td>\n",
       "      <td>0.750218</td>\n",
       "      <td>0.043748</td>\n",
       "      <td>1.000000</td>\n",
       "      <td>-0.279202</td>\n",
       "      <td>0.740052</td>\n",
       "      <td>-0.765753</td>\n",
       "      <td>0.627188</td>\n",
       "      <td>0.683445</td>\n",
       "      <td>0.179046</td>\n",
       "      <td>-0.369445</td>\n",
       "      <td>0.577154</td>\n",
       "      <td>-0.426690</td>\n",
       "    </tr>\n",
       "    <tr>\n",
       "      <th>RM</th>\n",
       "      <td>-0.188280</td>\n",
       "      <td>0.319260</td>\n",
       "      <td>-0.392969</td>\n",
       "      <td>0.088125</td>\n",
       "      <td>-0.279202</td>\n",
       "      <td>1.000000</td>\n",
       "      <td>-0.235839</td>\n",
       "      <td>0.183857</td>\n",
       "      <td>-0.179242</td>\n",
       "      <td>-0.275242</td>\n",
       "      <td>-0.385526</td>\n",
       "      <td>0.157459</td>\n",
       "      <td>-0.623920</td>\n",
       "      <td>0.708978</td>\n",
       "    </tr>\n",
       "    <tr>\n",
       "      <th>AGE</th>\n",
       "      <td>0.329927</td>\n",
       "      <td>-0.583885</td>\n",
       "      <td>0.629257</td>\n",
       "      <td>0.067269</td>\n",
       "      <td>0.740052</td>\n",
       "      <td>-0.235839</td>\n",
       "      <td>1.000000</td>\n",
       "      <td>-0.761543</td>\n",
       "      <td>0.440578</td>\n",
       "      <td>0.502429</td>\n",
       "      <td>0.239729</td>\n",
       "      <td>-0.250416</td>\n",
       "      <td>0.606530</td>\n",
       "      <td>-0.390942</td>\n",
       "    </tr>\n",
       "    <tr>\n",
       "      <th>DIS</th>\n",
       "      <td>-0.355840</td>\n",
       "      <td>0.658331</td>\n",
       "      <td>-0.686848</td>\n",
       "      <td>-0.085492</td>\n",
       "      <td>-0.765753</td>\n",
       "      <td>0.183857</td>\n",
       "      <td>-0.761543</td>\n",
       "      <td>1.000000</td>\n",
       "      <td>-0.467653</td>\n",
       "      <td>-0.519643</td>\n",
       "      <td>-0.176620</td>\n",
       "      <td>0.248376</td>\n",
       "      <td>-0.501780</td>\n",
       "      <td>0.245634</td>\n",
       "    </tr>\n",
       "    <tr>\n",
       "      <th>RAD</th>\n",
       "      <td>0.603880</td>\n",
       "      <td>-0.314833</td>\n",
       "      <td>0.578459</td>\n",
       "      <td>0.022338</td>\n",
       "      <td>0.627188</td>\n",
       "      <td>-0.179242</td>\n",
       "      <td>0.440578</td>\n",
       "      <td>-0.467653</td>\n",
       "      <td>1.000000</td>\n",
       "      <td>0.907455</td>\n",
       "      <td>0.437687</td>\n",
       "      <td>-0.415325</td>\n",
       "      <td>0.442783</td>\n",
       "      <td>-0.389533</td>\n",
       "    </tr>\n",
       "    <tr>\n",
       "      <th>TAX</th>\n",
       "      <td>0.560570</td>\n",
       "      <td>-0.327834</td>\n",
       "      <td>0.719038</td>\n",
       "      <td>-0.017156</td>\n",
       "      <td>0.683445</td>\n",
       "      <td>-0.275242</td>\n",
       "      <td>0.502429</td>\n",
       "      <td>-0.519643</td>\n",
       "      <td>0.907455</td>\n",
       "      <td>1.000000</td>\n",
       "      <td>0.447518</td>\n",
       "      <td>-0.412145</td>\n",
       "      <td>0.515905</td>\n",
       "      <td>-0.481319</td>\n",
       "    </tr>\n",
       "    <tr>\n",
       "      <th>PTRATIO</th>\n",
       "      <td>0.264780</td>\n",
       "      <td>-0.392838</td>\n",
       "      <td>0.388353</td>\n",
       "      <td>-0.072683</td>\n",
       "      <td>0.179046</td>\n",
       "      <td>-0.385526</td>\n",
       "      <td>0.239729</td>\n",
       "      <td>-0.176620</td>\n",
       "      <td>0.437687</td>\n",
       "      <td>0.447518</td>\n",
       "      <td>1.000000</td>\n",
       "      <td>-0.145638</td>\n",
       "      <td>0.387752</td>\n",
       "      <td>-0.564733</td>\n",
       "    </tr>\n",
       "    <tr>\n",
       "      <th>B</th>\n",
       "      <td>-0.299525</td>\n",
       "      <td>0.164641</td>\n",
       "      <td>-0.331638</td>\n",
       "      <td>0.069682</td>\n",
       "      <td>-0.369445</td>\n",
       "      <td>0.157459</td>\n",
       "      <td>-0.250416</td>\n",
       "      <td>0.248376</td>\n",
       "      <td>-0.415325</td>\n",
       "      <td>-0.412145</td>\n",
       "      <td>-0.145638</td>\n",
       "      <td>1.000000</td>\n",
       "      <td>-0.365338</td>\n",
       "      <td>0.324437</td>\n",
       "    </tr>\n",
       "    <tr>\n",
       "      <th>LSTAT</th>\n",
       "      <td>0.439369</td>\n",
       "      <td>-0.429178</td>\n",
       "      <td>0.603374</td>\n",
       "      <td>-0.059060</td>\n",
       "      <td>0.577154</td>\n",
       "      <td>-0.623920</td>\n",
       "      <td>0.606530</td>\n",
       "      <td>-0.501780</td>\n",
       "      <td>0.442783</td>\n",
       "      <td>0.515905</td>\n",
       "      <td>0.387752</td>\n",
       "      <td>-0.365338</td>\n",
       "      <td>1.000000</td>\n",
       "      <td>-0.743289</td>\n",
       "    </tr>\n",
       "    <tr>\n",
       "      <th>PRICE</th>\n",
       "      <td>-0.388182</td>\n",
       "      <td>0.386115</td>\n",
       "      <td>-0.504361</td>\n",
       "      <td>0.162395</td>\n",
       "      <td>-0.426690</td>\n",
       "      <td>0.708978</td>\n",
       "      <td>-0.390942</td>\n",
       "      <td>0.245634</td>\n",
       "      <td>-0.389533</td>\n",
       "      <td>-0.481319</td>\n",
       "      <td>-0.564733</td>\n",
       "      <td>0.324437</td>\n",
       "      <td>-0.743289</td>\n",
       "      <td>1.000000</td>\n",
       "    </tr>\n",
       "  </tbody>\n",
       "</table>\n",
       "</div>"
      ],
      "text/plain": [
       "             CRIM        ZN     INDUS      CHAS       NOX        RM       AGE  \\\n",
       "CRIM     1.000000 -0.196172  0.382073 -0.049364  0.416560 -0.188280  0.329927   \n",
       "ZN      -0.196172  1.000000 -0.529392 -0.063863 -0.523572  0.319260 -0.583885   \n",
       "INDUS    0.382073 -0.529392  1.000000  0.044224  0.750218 -0.392969  0.629257   \n",
       "CHAS    -0.049364 -0.063863  0.044224  1.000000  0.043748  0.088125  0.067269   \n",
       "NOX      0.416560 -0.523572  0.750218  0.043748  1.000000 -0.279202  0.740052   \n",
       "RM      -0.188280  0.319260 -0.392969  0.088125 -0.279202  1.000000 -0.235839   \n",
       "AGE      0.329927 -0.583885  0.629257  0.067269  0.740052 -0.235839  1.000000   \n",
       "DIS     -0.355840  0.658331 -0.686848 -0.085492 -0.765753  0.183857 -0.761543   \n",
       "RAD      0.603880 -0.314833  0.578459  0.022338  0.627188 -0.179242  0.440578   \n",
       "TAX      0.560570 -0.327834  0.719038 -0.017156  0.683445 -0.275242  0.502429   \n",
       "PTRATIO  0.264780 -0.392838  0.388353 -0.072683  0.179046 -0.385526  0.239729   \n",
       "B       -0.299525  0.164641 -0.331638  0.069682 -0.369445  0.157459 -0.250416   \n",
       "LSTAT    0.439369 -0.429178  0.603374 -0.059060  0.577154 -0.623920  0.606530   \n",
       "PRICE   -0.388182  0.386115 -0.504361  0.162395 -0.426690  0.708978 -0.390942   \n",
       "\n",
       "              DIS       RAD       TAX   PTRATIO         B     LSTAT     PRICE  \n",
       "CRIM    -0.355840  0.603880  0.560570  0.264780 -0.299525  0.439369 -0.388182  \n",
       "ZN       0.658331 -0.314833 -0.327834 -0.392838  0.164641 -0.429178  0.386115  \n",
       "INDUS   -0.686848  0.578459  0.719038  0.388353 -0.331638  0.603374 -0.504361  \n",
       "CHAS    -0.085492  0.022338 -0.017156 -0.072683  0.069682 -0.059060  0.162395  \n",
       "NOX     -0.765753  0.627188  0.683445  0.179046 -0.369445  0.577154 -0.426690  \n",
       "RM       0.183857 -0.179242 -0.275242 -0.385526  0.157459 -0.623920  0.708978  \n",
       "AGE     -0.761543  0.440578  0.502429  0.239729 -0.250416  0.606530 -0.390942  \n",
       "DIS      1.000000 -0.467653 -0.519643 -0.176620  0.248376 -0.501780  0.245634  \n",
       "RAD     -0.467653  1.000000  0.907455  0.437687 -0.415325  0.442783 -0.389533  \n",
       "TAX     -0.519643  0.907455  1.000000  0.447518 -0.412145  0.515905 -0.481319  \n",
       "PTRATIO -0.176620  0.437687  0.447518  1.000000 -0.145638  0.387752 -0.564733  \n",
       "B        0.248376 -0.415325 -0.412145 -0.145638  1.000000 -0.365338  0.324437  \n",
       "LSTAT   -0.501780  0.442783  0.515905  0.387752 -0.365338  1.000000 -0.743289  \n",
       "PRICE    0.245634 -0.389533 -0.481319 -0.564733  0.324437 -0.743289  1.000000  "
      ]
     },
     "execution_count": 28,
     "metadata": {},
     "output_type": "execute_result"
    }
   ],
   "source": [
    "# 각 컬럼별 상관계수를 확인해보자\n",
    "X_copy.corr()"
   ]
  },
  {
   "cell_type": "code",
   "execution_count": 29,
   "id": "0e855a61",
   "metadata": {
    "ExecuteTime": {
     "end_time": "2023-05-30T05:56:52.985067Z",
     "start_time": "2023-05-30T05:56:52.956143Z"
    }
   },
   "outputs": [
    {
     "data": {
      "text/html": [
       "<div>\n",
       "<style scoped>\n",
       "    .dataframe tbody tr th:only-of-type {\n",
       "        vertical-align: middle;\n",
       "    }\n",
       "\n",
       "    .dataframe tbody tr th {\n",
       "        vertical-align: top;\n",
       "    }\n",
       "\n",
       "    .dataframe thead th {\n",
       "        text-align: right;\n",
       "    }\n",
       "</style>\n",
       "<table border=\"1\" class=\"dataframe\">\n",
       "  <thead>\n",
       "    <tr style=\"text-align: right;\">\n",
       "      <th></th>\n",
       "      <th>CRIM</th>\n",
       "      <th>ZN</th>\n",
       "      <th>INDUS</th>\n",
       "      <th>CHAS</th>\n",
       "      <th>NOX</th>\n",
       "      <th>RM</th>\n",
       "      <th>AGE</th>\n",
       "      <th>DIS</th>\n",
       "      <th>RAD</th>\n",
       "      <th>TAX</th>\n",
       "      <th>PTRATIO</th>\n",
       "      <th>B</th>\n",
       "      <th>LSTAT</th>\n",
       "      <th>PRICE</th>\n",
       "    </tr>\n",
       "  </thead>\n",
       "  <tbody>\n",
       "    <tr>\n",
       "      <th>PRICE</th>\n",
       "      <td>0.388182</td>\n",
       "      <td>0.386115</td>\n",
       "      <td>0.504361</td>\n",
       "      <td>0.162395</td>\n",
       "      <td>0.426690</td>\n",
       "      <td>0.708978</td>\n",
       "      <td>0.390942</td>\n",
       "      <td>0.245634</td>\n",
       "      <td>0.389533</td>\n",
       "      <td>0.481319</td>\n",
       "      <td>0.564733</td>\n",
       "      <td>0.324437</td>\n",
       "      <td>0.743289</td>\n",
       "      <td>1.000000</td>\n",
       "    </tr>\n",
       "    <tr>\n",
       "      <th>LSTAT</th>\n",
       "      <td>0.439369</td>\n",
       "      <td>0.429178</td>\n",
       "      <td>0.603374</td>\n",
       "      <td>0.059060</td>\n",
       "      <td>0.577154</td>\n",
       "      <td>0.623920</td>\n",
       "      <td>0.606530</td>\n",
       "      <td>0.501780</td>\n",
       "      <td>0.442783</td>\n",
       "      <td>0.515905</td>\n",
       "      <td>0.387752</td>\n",
       "      <td>0.365338</td>\n",
       "      <td>1.000000</td>\n",
       "      <td>0.743289</td>\n",
       "    </tr>\n",
       "    <tr>\n",
       "      <th>RM</th>\n",
       "      <td>0.188280</td>\n",
       "      <td>0.319260</td>\n",
       "      <td>0.392969</td>\n",
       "      <td>0.088125</td>\n",
       "      <td>0.279202</td>\n",
       "      <td>1.000000</td>\n",
       "      <td>0.235839</td>\n",
       "      <td>0.183857</td>\n",
       "      <td>0.179242</td>\n",
       "      <td>0.275242</td>\n",
       "      <td>0.385526</td>\n",
       "      <td>0.157459</td>\n",
       "      <td>0.623920</td>\n",
       "      <td>0.708978</td>\n",
       "    </tr>\n",
       "    <tr>\n",
       "      <th>PTRATIO</th>\n",
       "      <td>0.264780</td>\n",
       "      <td>0.392838</td>\n",
       "      <td>0.388353</td>\n",
       "      <td>0.072683</td>\n",
       "      <td>0.179046</td>\n",
       "      <td>0.385526</td>\n",
       "      <td>0.239729</td>\n",
       "      <td>0.176620</td>\n",
       "      <td>0.437687</td>\n",
       "      <td>0.447518</td>\n",
       "      <td>1.000000</td>\n",
       "      <td>0.145638</td>\n",
       "      <td>0.387752</td>\n",
       "      <td>0.564733</td>\n",
       "    </tr>\n",
       "    <tr>\n",
       "      <th>INDUS</th>\n",
       "      <td>0.382073</td>\n",
       "      <td>0.529392</td>\n",
       "      <td>1.000000</td>\n",
       "      <td>0.044224</td>\n",
       "      <td>0.750218</td>\n",
       "      <td>0.392969</td>\n",
       "      <td>0.629257</td>\n",
       "      <td>0.686848</td>\n",
       "      <td>0.578459</td>\n",
       "      <td>0.719038</td>\n",
       "      <td>0.388353</td>\n",
       "      <td>0.331638</td>\n",
       "      <td>0.603374</td>\n",
       "      <td>0.504361</td>\n",
       "    </tr>\n",
       "    <tr>\n",
       "      <th>TAX</th>\n",
       "      <td>0.560570</td>\n",
       "      <td>0.327834</td>\n",
       "      <td>0.719038</td>\n",
       "      <td>0.017156</td>\n",
       "      <td>0.683445</td>\n",
       "      <td>0.275242</td>\n",
       "      <td>0.502429</td>\n",
       "      <td>0.519643</td>\n",
       "      <td>0.907455</td>\n",
       "      <td>1.000000</td>\n",
       "      <td>0.447518</td>\n",
       "      <td>0.412145</td>\n",
       "      <td>0.515905</td>\n",
       "      <td>0.481319</td>\n",
       "    </tr>\n",
       "    <tr>\n",
       "      <th>NOX</th>\n",
       "      <td>0.416560</td>\n",
       "      <td>0.523572</td>\n",
       "      <td>0.750218</td>\n",
       "      <td>0.043748</td>\n",
       "      <td>1.000000</td>\n",
       "      <td>0.279202</td>\n",
       "      <td>0.740052</td>\n",
       "      <td>0.765753</td>\n",
       "      <td>0.627188</td>\n",
       "      <td>0.683445</td>\n",
       "      <td>0.179046</td>\n",
       "      <td>0.369445</td>\n",
       "      <td>0.577154</td>\n",
       "      <td>0.426690</td>\n",
       "    </tr>\n",
       "    <tr>\n",
       "      <th>AGE</th>\n",
       "      <td>0.329927</td>\n",
       "      <td>0.583885</td>\n",
       "      <td>0.629257</td>\n",
       "      <td>0.067269</td>\n",
       "      <td>0.740052</td>\n",
       "      <td>0.235839</td>\n",
       "      <td>1.000000</td>\n",
       "      <td>0.761543</td>\n",
       "      <td>0.440578</td>\n",
       "      <td>0.502429</td>\n",
       "      <td>0.239729</td>\n",
       "      <td>0.250416</td>\n",
       "      <td>0.606530</td>\n",
       "      <td>0.390942</td>\n",
       "    </tr>\n",
       "    <tr>\n",
       "      <th>RAD</th>\n",
       "      <td>0.603880</td>\n",
       "      <td>0.314833</td>\n",
       "      <td>0.578459</td>\n",
       "      <td>0.022338</td>\n",
       "      <td>0.627188</td>\n",
       "      <td>0.179242</td>\n",
       "      <td>0.440578</td>\n",
       "      <td>0.467653</td>\n",
       "      <td>1.000000</td>\n",
       "      <td>0.907455</td>\n",
       "      <td>0.437687</td>\n",
       "      <td>0.415325</td>\n",
       "      <td>0.442783</td>\n",
       "      <td>0.389533</td>\n",
       "    </tr>\n",
       "    <tr>\n",
       "      <th>CRIM</th>\n",
       "      <td>1.000000</td>\n",
       "      <td>0.196172</td>\n",
       "      <td>0.382073</td>\n",
       "      <td>0.049364</td>\n",
       "      <td>0.416560</td>\n",
       "      <td>0.188280</td>\n",
       "      <td>0.329927</td>\n",
       "      <td>0.355840</td>\n",
       "      <td>0.603880</td>\n",
       "      <td>0.560570</td>\n",
       "      <td>0.264780</td>\n",
       "      <td>0.299525</td>\n",
       "      <td>0.439369</td>\n",
       "      <td>0.388182</td>\n",
       "    </tr>\n",
       "    <tr>\n",
       "      <th>ZN</th>\n",
       "      <td>0.196172</td>\n",
       "      <td>1.000000</td>\n",
       "      <td>0.529392</td>\n",
       "      <td>0.063863</td>\n",
       "      <td>0.523572</td>\n",
       "      <td>0.319260</td>\n",
       "      <td>0.583885</td>\n",
       "      <td>0.658331</td>\n",
       "      <td>0.314833</td>\n",
       "      <td>0.327834</td>\n",
       "      <td>0.392838</td>\n",
       "      <td>0.164641</td>\n",
       "      <td>0.429178</td>\n",
       "      <td>0.386115</td>\n",
       "    </tr>\n",
       "    <tr>\n",
       "      <th>B</th>\n",
       "      <td>0.299525</td>\n",
       "      <td>0.164641</td>\n",
       "      <td>0.331638</td>\n",
       "      <td>0.069682</td>\n",
       "      <td>0.369445</td>\n",
       "      <td>0.157459</td>\n",
       "      <td>0.250416</td>\n",
       "      <td>0.248376</td>\n",
       "      <td>0.415325</td>\n",
       "      <td>0.412145</td>\n",
       "      <td>0.145638</td>\n",
       "      <td>1.000000</td>\n",
       "      <td>0.365338</td>\n",
       "      <td>0.324437</td>\n",
       "    </tr>\n",
       "    <tr>\n",
       "      <th>DIS</th>\n",
       "      <td>0.355840</td>\n",
       "      <td>0.658331</td>\n",
       "      <td>0.686848</td>\n",
       "      <td>0.085492</td>\n",
       "      <td>0.765753</td>\n",
       "      <td>0.183857</td>\n",
       "      <td>0.761543</td>\n",
       "      <td>1.000000</td>\n",
       "      <td>0.467653</td>\n",
       "      <td>0.519643</td>\n",
       "      <td>0.176620</td>\n",
       "      <td>0.248376</td>\n",
       "      <td>0.501780</td>\n",
       "      <td>0.245634</td>\n",
       "    </tr>\n",
       "    <tr>\n",
       "      <th>CHAS</th>\n",
       "      <td>0.049364</td>\n",
       "      <td>0.063863</td>\n",
       "      <td>0.044224</td>\n",
       "      <td>1.000000</td>\n",
       "      <td>0.043748</td>\n",
       "      <td>0.088125</td>\n",
       "      <td>0.067269</td>\n",
       "      <td>0.085492</td>\n",
       "      <td>0.022338</td>\n",
       "      <td>0.017156</td>\n",
       "      <td>0.072683</td>\n",
       "      <td>0.069682</td>\n",
       "      <td>0.059060</td>\n",
       "      <td>0.162395</td>\n",
       "    </tr>\n",
       "  </tbody>\n",
       "</table>\n",
       "</div>"
      ],
      "text/plain": [
       "             CRIM        ZN     INDUS      CHAS       NOX        RM       AGE  \\\n",
       "PRICE    0.388182  0.386115  0.504361  0.162395  0.426690  0.708978  0.390942   \n",
       "LSTAT    0.439369  0.429178  0.603374  0.059060  0.577154  0.623920  0.606530   \n",
       "RM       0.188280  0.319260  0.392969  0.088125  0.279202  1.000000  0.235839   \n",
       "PTRATIO  0.264780  0.392838  0.388353  0.072683  0.179046  0.385526  0.239729   \n",
       "INDUS    0.382073  0.529392  1.000000  0.044224  0.750218  0.392969  0.629257   \n",
       "TAX      0.560570  0.327834  0.719038  0.017156  0.683445  0.275242  0.502429   \n",
       "NOX      0.416560  0.523572  0.750218  0.043748  1.000000  0.279202  0.740052   \n",
       "AGE      0.329927  0.583885  0.629257  0.067269  0.740052  0.235839  1.000000   \n",
       "RAD      0.603880  0.314833  0.578459  0.022338  0.627188  0.179242  0.440578   \n",
       "CRIM     1.000000  0.196172  0.382073  0.049364  0.416560  0.188280  0.329927   \n",
       "ZN       0.196172  1.000000  0.529392  0.063863  0.523572  0.319260  0.583885   \n",
       "B        0.299525  0.164641  0.331638  0.069682  0.369445  0.157459  0.250416   \n",
       "DIS      0.355840  0.658331  0.686848  0.085492  0.765753  0.183857  0.761543   \n",
       "CHAS     0.049364  0.063863  0.044224  1.000000  0.043748  0.088125  0.067269   \n",
       "\n",
       "              DIS       RAD       TAX   PTRATIO         B     LSTAT     PRICE  \n",
       "PRICE    0.245634  0.389533  0.481319  0.564733  0.324437  0.743289  1.000000  \n",
       "LSTAT    0.501780  0.442783  0.515905  0.387752  0.365338  1.000000  0.743289  \n",
       "RM       0.183857  0.179242  0.275242  0.385526  0.157459  0.623920  0.708978  \n",
       "PTRATIO  0.176620  0.437687  0.447518  1.000000  0.145638  0.387752  0.564733  \n",
       "INDUS    0.686848  0.578459  0.719038  0.388353  0.331638  0.603374  0.504361  \n",
       "TAX      0.519643  0.907455  1.000000  0.447518  0.412145  0.515905  0.481319  \n",
       "NOX      0.765753  0.627188  0.683445  0.179046  0.369445  0.577154  0.426690  \n",
       "AGE      0.761543  0.440578  0.502429  0.239729  0.250416  0.606530  0.390942  \n",
       "RAD      0.467653  1.000000  0.907455  0.437687  0.415325  0.442783  0.389533  \n",
       "CRIM     0.355840  0.603880  0.560570  0.264780  0.299525  0.439369  0.388182  \n",
       "ZN       0.658331  0.314833  0.327834  0.392838  0.164641  0.429178  0.386115  \n",
       "B        0.248376  0.415325  0.412145  0.145638  1.000000  0.365338  0.324437  \n",
       "DIS      1.000000  0.467653  0.519643  0.176620  0.248376  0.501780  0.245634  \n",
       "CHAS     0.085492  0.022338  0.017156  0.072683  0.069682  0.059060  0.162395  "
      ]
     },
     "execution_count": 29,
     "metadata": {},
     "output_type": "execute_result"
    }
   ],
   "source": [
    "boston_cor = X_copy.corr().abs()\n",
    "boston_cor.sort_values(by='PRICE', ascending=False) # 내림찬순 설정"
   ]
  },
  {
   "cell_type": "markdown",
   "id": "1d9f52ff",
   "metadata": {},
   "source": [
    "#### 상관관계가 높은 특성에 대해서 특성 확장 해보기"
   ]
  },
  {
   "cell_type": "code",
   "execution_count": 30,
   "id": "af9b9803",
   "metadata": {
    "ExecuteTime": {
     "end_time": "2023-05-30T05:56:53.192536Z",
     "start_time": "2023-05-30T05:56:52.987060Z"
    }
   },
   "outputs": [
    {
     "data": {
      "image/png": "[encoded data removed]",
      "text/plain": [
       "<Figure size 640x480 with 1 Axes>"
      ]
     },
     "metadata": {},
     "output_type": "display_data"
    }
   ],
   "source": [
    "# 확장 전의 모습) 먼저 LSTAT 특성만 가지고 학습 시킨 후 예측을 어떻게 하는지 보자!\n",
    "model = LinearRegression()\n",
    "model.fit(X_train[['LSTAT']], y_train)\n",
    "pre= model.predict(X_train[['LSTAT']])\n",
    "\n",
    "# 시각화 해보기\n",
    "plt.scatter(X_train['LSTAT'], y_train)\n",
    "plt.scatter(X_train['LSTAT'],pre, color ='red')\n",
    "plt.show()"
   ]
  },
  {
   "cell_type": "code",
   "execution_count": 31,
   "id": "c4abff8c",
   "metadata": {
    "ExecuteTime": {
     "end_time": "2023-05-30T05:56:53.351124Z",
     "start_time": "2023-05-30T05:56:53.194508Z"
    }
   },
   "outputs": [
    {
     "data": {
      "image/png": "[encoded data removed]",
      "text/plain": [
       "<Figure size 640x480 with 1 Axes>"
      ]
     },
     "metadata": {},
     "output_type": "display_data"
    }
   ],
   "source": [
    "# 특성 확장 후 ) 원래 LSTAT 특성과 확장 LSTAT 특성을 가지고 학습시킨 후 예측을 어떻게 하는지 시각화\n",
    "X_train['LSTAT x LSTAT'] = X_train['LSTAT']* X_train['LSTAT']\n",
    "\n",
    "model = LinearRegression()\n",
    "model.fit(X_train[['LSTAT', 'LSTAT x LSTAT']], y_train) # 확장된 특성 추가\n",
    "pre= model.predict(X_train[['LSTAT', 'LSTAT x LSTAT']]) # 확장된 특성 추가!\n",
    "\n",
    "# 시각화 해보기\n",
    "plt.scatter(X_train['LSTAT'], y_train) # 실제 데이터의 분포\n",
    "plt.scatter(X_train['LSTAT'],pre, color ='red') # 예측한 직선의 \n",
    "plt.show()"
   ]
  },
  {
   "cell_type": "markdown",
   "id": "cedf8545",
   "metadata": {},
   "source": [
    "- 다항 회귀의 이해 : 독립변수(X) 의 단항식이 아닌 2차 / 3차 방정식과 같은 다항식으로 표현된 것을 다항회귀 라고 함\n",
    "    - 특성이 하나가 아니다 : 특성이 여러개!\n",
    "주의) \n",
    "1. 다항 회귀를 선형(직선)이 아닌 비선형(곡선)으로 혼동 할 수 있다. 하지만 이 또한 선형 회귀이다.\n",
    "2. 선형/비선형 회귀를 나누는 기준은 회귀계수가 선형인지 비선형인지로 판단한다. 독립변수(특성) 이 선형인지 비선형인지로 판단하지 않는다."
   ]
  },
  {
   "cell_type": "code",
   "execution_count": 32,
   "id": "2a529a99",
   "metadata": {
    "ExecuteTime": {
     "end_time": "2023-05-30T05:56:53.367043Z",
     "start_time": "2023-05-30T05:56:53.353082Z"
    }
   },
   "outputs": [
    {
     "data": {
      "text/plain": [
       "0.6978697736472479"
      ]
     },
     "execution_count": 32,
     "metadata": {},
     "output_type": "execute_result"
    }
   ],
   "source": [
    "X_test['LSTAT x LSTAT'] = X_test[\"LSTAT\"] * X_test[\"LSTAT\"]\n",
    "\n",
    "model = LinearRegression()\n",
    "model.fit(X_train, y_train) # 문제 데이터에는 특성확장된 컬럼이 존재!\n",
    "model.score(X_test, y_test) # 문제 데이터에는 특성확장된 컬럼이 존재!, R2_score"
   ]
  },
  {
   "cell_type": "markdown",
   "id": "78ffe45a",
   "metadata": {},
   "source": [
    "### RM 특성 확장해보기"
   ]
  },
  {
   "cell_type": "code",
   "execution_count": 33,
   "id": "1229736c",
   "metadata": {
    "ExecuteTime": {
     "end_time": "2023-05-30T05:56:53.540581Z",
     "start_time": "2023-05-30T05:56:53.369040Z"
    }
   },
   "outputs": [
    {
     "data": {
      "image/png": "[encoded data removed]",
      "text/plain": [
       "<Figure size 640x480 with 1 Axes>"
      ]
     },
     "metadata": {},
     "output_type": "display_data"
    }
   ],
   "source": [
    "# 확장 전의 모습) 먼저 RM 특성만 가지고 학습 시킨 후 예측을 어떻게 하는지 보자!\n",
    "model = LinearRegression()\n",
    "model.fit(X_train[['RM']], y_train)\n",
    "pre= model.predict(X_train[['RM']])\n",
    "\n",
    "# 시각화 해보기\n",
    "plt.scatter(X_train['RM'], y_train)\n",
    "plt.scatter(X_train['RM'],pre, color ='red')\n",
    "plt.show()"
   ]
  },
  {
   "cell_type": "code",
   "execution_count": 34,
   "id": "fae57374",
   "metadata": {
    "ExecuteTime": {
     "end_time": "2023-05-30T05:56:53.700153Z",
     "start_time": "2023-05-30T05:56:53.542574Z"
    }
   },
   "outputs": [
    {
     "data": {
      "image/png": "[encoded data removed]",
      "text/plain": [
       "<Figure size 640x480 with 1 Axes>"
      ]
     },
     "metadata": {},
     "output_type": "display_data"
    }
   ],
   "source": [
    "# 특성 확장 후 ) 원래 RM 특성과 확장 RM 특성을 가지고 학습시킨 후 예측을 어떻게 하는지 시각화\n",
    "X_train['RM x RM'] = X_train['RM']* X_train['RM']\n",
    "\n",
    "model = LinearRegression()\n",
    "model.fit(X_train[['RM', 'RM x RM']], y_train) # 확장된 특성 추가\n",
    "pre= model.predict(X_train[['RM', 'RM x RM']]) # 확장된 특성 추가!\n",
    "\n",
    "# 시각화 해보기\n",
    "plt.scatter(X_train['RM'], y_train) # 실제 데이터의 분포\n",
    "plt.scatter(X_train['RM'],pre, color ='red') # 예측한 직선의 \n",
    "plt.show()"
   ]
  },
  {
   "cell_type": "code",
   "execution_count": 35,
   "id": "65161ef6",
   "metadata": {
    "ExecuteTime": {
     "end_time": "2023-05-30T05:56:53.716112Z",
     "start_time": "2023-05-30T05:56:53.702147Z"
    }
   },
   "outputs": [
    {
     "data": {
      "text/plain": [
       "0.7460776611187947"
      ]
     },
     "execution_count": 35,
     "metadata": {},
     "output_type": "execute_result"
    }
   ],
   "source": [
    "X_test['RM x RM'] = X_test[\"RM\"] * X_test[\"RM\"]\n",
    "\n",
    "model = LinearRegression()\n",
    "model.fit(X_train, y_train) # 문제 데이터에는 특성확장된 컬럼이 존재!\n",
    "model.score(X_test, y_test) # 문제 데이터에는 특성확장된 컬럼이 존재!, R2_score"
   ]
  },
  {
   "cell_type": "markdown",
   "id": "64637871",
   "metadata": {},
   "source": [
    "- 상관관계가 높은 특성들을 확장시켜줬더니 선형회귀모델의 성능이 좋아졌다  \n",
    "67% -> 69% ->74%  \n",
    "- 특성이 하나씩 확장될때마다 성능이 좋아졌다.\n",
    "- 그럼 전체 특성을 확장해보면 회귀모델이 좋아지지않을까? (가설)"
   ]
  },
  {
   "cell_type": "markdown",
   "id": "e1d79df2",
   "metadata": {},
   "source": [
    "- 모든 데이터 전체 특성 확장하기"
   ]
  },
  {
   "cell_type": "code",
   "execution_count": 36,
   "id": "87b38f7f",
   "metadata": {
    "ExecuteTime": {
     "end_time": "2023-05-30T05:56:53.732068Z",
     "start_time": "2023-05-30T05:56:53.718106Z"
    }
   },
   "outputs": [],
   "source": [
    "# 특성 확장 전에 이미 확장된 컬럼 제거 \n",
    "X_train.drop(['LSTAT x LSTAT', 'RM x RM'],axis=1, inplace = True)\n",
    "X_test.drop(['LSTAT x LSTAT', 'RM x RM'],axis=1, inplace = True)"
   ]
  },
  {
   "cell_type": "code",
   "execution_count": 37,
   "id": "e8f76fa0",
   "metadata": {
    "ExecuteTime": {
     "end_time": "2023-05-30T05:56:53.763983Z",
     "start_time": "2023-05-30T05:56:53.734061Z"
    },
    "collapsed": true
   },
   "outputs": [
    {
     "data": {
      "text/html": [
       "<div>\n",
       "<style scoped>\n",
       "    .dataframe tbody tr th:only-of-type {\n",
       "        vertical-align: middle;\n",
       "    }\n",
       "\n",
       "    .dataframe tbody tr th {\n",
       "        vertical-align: top;\n",
       "    }\n",
       "\n",
       "    .dataframe thead th {\n",
       "        text-align: right;\n",
       "    }\n",
       "</style>\n",
       "<table border=\"1\" class=\"dataframe\">\n",
       "  <thead>\n",
       "    <tr style=\"text-align: right;\">\n",
       "      <th></th>\n",
       "      <th>CRIM</th>\n",
       "      <th>ZN</th>\n",
       "      <th>INDUS</th>\n",
       "      <th>CHAS</th>\n",
       "      <th>NOX</th>\n",
       "      <th>RM</th>\n",
       "      <th>AGE</th>\n",
       "      <th>DIS</th>\n",
       "      <th>RAD</th>\n",
       "      <th>TAX</th>\n",
       "      <th>PTRATIO</th>\n",
       "      <th>B</th>\n",
       "      <th>LSTAT</th>\n",
       "    </tr>\n",
       "  </thead>\n",
       "  <tbody>\n",
       "    <tr>\n",
       "      <th>141</th>\n",
       "      <td>1.62864</td>\n",
       "      <td>0.0</td>\n",
       "      <td>21.89</td>\n",
       "      <td>0.0</td>\n",
       "      <td>0.624</td>\n",
       "      <td>5.019</td>\n",
       "      <td>100.0</td>\n",
       "      <td>1.4394</td>\n",
       "      <td>4.0</td>\n",
       "      <td>437.0</td>\n",
       "      <td>21.2</td>\n",
       "      <td>396.90</td>\n",
       "      <td>34.41</td>\n",
       "    </tr>\n",
       "    <tr>\n",
       "      <th>272</th>\n",
       "      <td>0.11460</td>\n",
       "      <td>20.0</td>\n",
       "      <td>6.96</td>\n",
       "      <td>0.0</td>\n",
       "      <td>0.464</td>\n",
       "      <td>6.538</td>\n",
       "      <td>58.7</td>\n",
       "      <td>3.9175</td>\n",
       "      <td>3.0</td>\n",
       "      <td>223.0</td>\n",
       "      <td>18.6</td>\n",
       "      <td>394.96</td>\n",
       "      <td>7.73</td>\n",
       "    </tr>\n",
       "    <tr>\n",
       "      <th>135</th>\n",
       "      <td>0.55778</td>\n",
       "      <td>0.0</td>\n",
       "      <td>21.89</td>\n",
       "      <td>0.0</td>\n",
       "      <td>0.624</td>\n",
       "      <td>6.335</td>\n",
       "      <td>98.2</td>\n",
       "      <td>2.1107</td>\n",
       "      <td>4.0</td>\n",
       "      <td>437.0</td>\n",
       "      <td>21.2</td>\n",
       "      <td>394.67</td>\n",
       "      <td>16.96</td>\n",
       "    </tr>\n",
       "    <tr>\n",
       "      <th>298</th>\n",
       "      <td>0.06466</td>\n",
       "      <td>70.0</td>\n",
       "      <td>2.24</td>\n",
       "      <td>0.0</td>\n",
       "      <td>0.400</td>\n",
       "      <td>6.345</td>\n",
       "      <td>20.1</td>\n",
       "      <td>7.8278</td>\n",
       "      <td>5.0</td>\n",
       "      <td>358.0</td>\n",
       "      <td>14.8</td>\n",
       "      <td>368.24</td>\n",
       "      <td>4.97</td>\n",
       "    </tr>\n",
       "    <tr>\n",
       "      <th>122</th>\n",
       "      <td>0.09299</td>\n",
       "      <td>0.0</td>\n",
       "      <td>25.65</td>\n",
       "      <td>0.0</td>\n",
       "      <td>0.581</td>\n",
       "      <td>5.961</td>\n",
       "      <td>92.9</td>\n",
       "      <td>2.0869</td>\n",
       "      <td>2.0</td>\n",
       "      <td>188.0</td>\n",
       "      <td>19.1</td>\n",
       "      <td>378.09</td>\n",
       "      <td>17.93</td>\n",
       "    </tr>\n",
       "    <tr>\n",
       "      <th>...</th>\n",
       "      <td>...</td>\n",
       "      <td>...</td>\n",
       "      <td>...</td>\n",
       "      <td>...</td>\n",
       "      <td>...</td>\n",
       "      <td>...</td>\n",
       "      <td>...</td>\n",
       "      <td>...</td>\n",
       "      <td>...</td>\n",
       "      <td>...</td>\n",
       "      <td>...</td>\n",
       "      <td>...</td>\n",
       "      <td>...</td>\n",
       "    </tr>\n",
       "    <tr>\n",
       "      <th>323</th>\n",
       "      <td>0.28392</td>\n",
       "      <td>0.0</td>\n",
       "      <td>7.38</td>\n",
       "      <td>0.0</td>\n",
       "      <td>0.493</td>\n",
       "      <td>5.708</td>\n",
       "      <td>74.3</td>\n",
       "      <td>4.7211</td>\n",
       "      <td>5.0</td>\n",
       "      <td>287.0</td>\n",
       "      <td>19.6</td>\n",
       "      <td>391.13</td>\n",
       "      <td>11.74</td>\n",
       "    </tr>\n",
       "    <tr>\n",
       "      <th>192</th>\n",
       "      <td>0.08664</td>\n",
       "      <td>45.0</td>\n",
       "      <td>3.44</td>\n",
       "      <td>0.0</td>\n",
       "      <td>0.437</td>\n",
       "      <td>7.178</td>\n",
       "      <td>26.3</td>\n",
       "      <td>6.4798</td>\n",
       "      <td>5.0</td>\n",
       "      <td>398.0</td>\n",
       "      <td>15.2</td>\n",
       "      <td>390.49</td>\n",
       "      <td>2.87</td>\n",
       "    </tr>\n",
       "    <tr>\n",
       "      <th>117</th>\n",
       "      <td>0.15098</td>\n",
       "      <td>0.0</td>\n",
       "      <td>10.01</td>\n",
       "      <td>0.0</td>\n",
       "      <td>0.547</td>\n",
       "      <td>6.021</td>\n",
       "      <td>82.6</td>\n",
       "      <td>2.7474</td>\n",
       "      <td>6.0</td>\n",
       "      <td>432.0</td>\n",
       "      <td>17.8</td>\n",
       "      <td>394.51</td>\n",
       "      <td>10.30</td>\n",
       "    </tr>\n",
       "    <tr>\n",
       "      <th>47</th>\n",
       "      <td>0.22927</td>\n",
       "      <td>0.0</td>\n",
       "      <td>6.91</td>\n",
       "      <td>0.0</td>\n",
       "      <td>0.448</td>\n",
       "      <td>6.030</td>\n",
       "      <td>85.5</td>\n",
       "      <td>5.6894</td>\n",
       "      <td>3.0</td>\n",
       "      <td>233.0</td>\n",
       "      <td>17.9</td>\n",
       "      <td>392.74</td>\n",
       "      <td>18.80</td>\n",
       "    </tr>\n",
       "    <tr>\n",
       "      <th>172</th>\n",
       "      <td>0.13914</td>\n",
       "      <td>0.0</td>\n",
       "      <td>4.05</td>\n",
       "      <td>0.0</td>\n",
       "      <td>0.510</td>\n",
       "      <td>5.572</td>\n",
       "      <td>88.5</td>\n",
       "      <td>2.5961</td>\n",
       "      <td>5.0</td>\n",
       "      <td>296.0</td>\n",
       "      <td>16.6</td>\n",
       "      <td>396.90</td>\n",
       "      <td>14.69</td>\n",
       "    </tr>\n",
       "  </tbody>\n",
       "</table>\n",
       "<p>354 rows × 13 columns</p>\n",
       "</div>"
      ],
      "text/plain": [
       "        CRIM    ZN  INDUS  CHAS    NOX     RM    AGE     DIS  RAD    TAX  \\\n",
       "141  1.62864   0.0  21.89   0.0  0.624  5.019  100.0  1.4394  4.0  437.0   \n",
       "272  0.11460  20.0   6.96   0.0  0.464  6.538   58.7  3.9175  3.0  223.0   \n",
       "135  0.55778   0.0  21.89   0.0  0.624  6.335   98.2  2.1107  4.0  437.0   \n",
       "298  0.06466  70.0   2.24   0.0  0.400  6.345   20.1  7.8278  5.0  358.0   \n",
       "122  0.09299   0.0  25.65   0.0  0.581  5.961   92.9  2.0869  2.0  188.0   \n",
       "..       ...   ...    ...   ...    ...    ...    ...     ...  ...    ...   \n",
       "323  0.28392   0.0   7.38   0.0  0.493  5.708   74.3  4.7211  5.0  287.0   \n",
       "192  0.08664  45.0   3.44   0.0  0.437  7.178   26.3  6.4798  5.0  398.0   \n",
       "117  0.15098   0.0  10.01   0.0  0.547  6.021   82.6  2.7474  6.0  432.0   \n",
       "47   0.22927   0.0   6.91   0.0  0.448  6.030   85.5  5.6894  3.0  233.0   \n",
       "172  0.13914   0.0   4.05   0.0  0.510  5.572   88.5  2.5961  5.0  296.0   \n",
       "\n",
       "     PTRATIO       B  LSTAT  \n",
       "141     21.2  396.90  34.41  \n",
       "272     18.6  394.96   7.73  \n",
       "135     21.2  394.67  16.96  \n",
       "298     14.8  368.24   4.97  \n",
       "122     19.1  378.09  17.93  \n",
       "..       ...     ...    ...  \n",
       "323     19.6  391.13  11.74  \n",
       "192     15.2  390.49   2.87  \n",
       "117     17.8  394.51  10.30  \n",
       "47      17.9  392.74  18.80  \n",
       "172     16.6  396.90  14.69  \n",
       "\n",
       "[354 rows x 13 columns]"
      ]
     },
     "execution_count": 37,
     "metadata": {},
     "output_type": "execute_result"
    }
   ],
   "source": [
    "X_train"
   ]
  },
  {
   "cell_type": "code",
   "execution_count": 38,
   "id": "709374c0",
   "metadata": {
    "ExecuteTime": {
     "end_time": "2023-05-30T05:56:53.795922Z",
     "start_time": "2023-05-30T05:56:53.765976Z"
    },
    "collapsed": true
   },
   "outputs": [
    {
     "data": {
      "text/html": [
       "<div>\n",
       "<style scoped>\n",
       "    .dataframe tbody tr th:only-of-type {\n",
       "        vertical-align: middle;\n",
       "    }\n",
       "\n",
       "    .dataframe tbody tr th {\n",
       "        vertical-align: top;\n",
       "    }\n",
       "\n",
       "    .dataframe thead th {\n",
       "        text-align: right;\n",
       "    }\n",
       "</style>\n",
       "<table border=\"1\" class=\"dataframe\">\n",
       "  <thead>\n",
       "    <tr style=\"text-align: right;\">\n",
       "      <th></th>\n",
       "      <th>CRIM</th>\n",
       "      <th>ZN</th>\n",
       "      <th>INDUS</th>\n",
       "      <th>CHAS</th>\n",
       "      <th>NOX</th>\n",
       "      <th>RM</th>\n",
       "      <th>AGE</th>\n",
       "      <th>DIS</th>\n",
       "      <th>RAD</th>\n",
       "      <th>TAX</th>\n",
       "      <th>PTRATIO</th>\n",
       "      <th>B</th>\n",
       "      <th>LSTAT</th>\n",
       "    </tr>\n",
       "  </thead>\n",
       "  <tbody>\n",
       "    <tr>\n",
       "      <th>329</th>\n",
       "      <td>0.06724</td>\n",
       "      <td>0.0</td>\n",
       "      <td>3.24</td>\n",
       "      <td>0.0</td>\n",
       "      <td>0.460</td>\n",
       "      <td>6.333</td>\n",
       "      <td>17.2</td>\n",
       "      <td>5.2146</td>\n",
       "      <td>4.0</td>\n",
       "      <td>430.0</td>\n",
       "      <td>16.9</td>\n",
       "      <td>375.21</td>\n",
       "      <td>7.34</td>\n",
       "    </tr>\n",
       "    <tr>\n",
       "      <th>371</th>\n",
       "      <td>9.23230</td>\n",
       "      <td>0.0</td>\n",
       "      <td>18.10</td>\n",
       "      <td>0.0</td>\n",
       "      <td>0.631</td>\n",
       "      <td>6.216</td>\n",
       "      <td>100.0</td>\n",
       "      <td>1.1691</td>\n",
       "      <td>24.0</td>\n",
       "      <td>666.0</td>\n",
       "      <td>20.2</td>\n",
       "      <td>366.15</td>\n",
       "      <td>9.53</td>\n",
       "    </tr>\n",
       "    <tr>\n",
       "      <th>219</th>\n",
       "      <td>0.11425</td>\n",
       "      <td>0.0</td>\n",
       "      <td>13.89</td>\n",
       "      <td>1.0</td>\n",
       "      <td>0.550</td>\n",
       "      <td>6.373</td>\n",
       "      <td>92.4</td>\n",
       "      <td>3.3633</td>\n",
       "      <td>5.0</td>\n",
       "      <td>276.0</td>\n",
       "      <td>16.4</td>\n",
       "      <td>393.74</td>\n",
       "      <td>10.50</td>\n",
       "    </tr>\n",
       "    <tr>\n",
       "      <th>403</th>\n",
       "      <td>24.80170</td>\n",
       "      <td>0.0</td>\n",
       "      <td>18.10</td>\n",
       "      <td>0.0</td>\n",
       "      <td>0.693</td>\n",
       "      <td>5.349</td>\n",
       "      <td>96.0</td>\n",
       "      <td>1.7028</td>\n",
       "      <td>24.0</td>\n",
       "      <td>666.0</td>\n",
       "      <td>20.2</td>\n",
       "      <td>396.90</td>\n",
       "      <td>19.77</td>\n",
       "    </tr>\n",
       "    <tr>\n",
       "      <th>78</th>\n",
       "      <td>0.05646</td>\n",
       "      <td>0.0</td>\n",
       "      <td>12.83</td>\n",
       "      <td>0.0</td>\n",
       "      <td>0.437</td>\n",
       "      <td>6.232</td>\n",
       "      <td>53.7</td>\n",
       "      <td>5.0141</td>\n",
       "      <td>5.0</td>\n",
       "      <td>398.0</td>\n",
       "      <td>18.7</td>\n",
       "      <td>386.40</td>\n",
       "      <td>12.34</td>\n",
       "    </tr>\n",
       "    <tr>\n",
       "      <th>...</th>\n",
       "      <td>...</td>\n",
       "      <td>...</td>\n",
       "      <td>...</td>\n",
       "      <td>...</td>\n",
       "      <td>...</td>\n",
       "      <td>...</td>\n",
       "      <td>...</td>\n",
       "      <td>...</td>\n",
       "      <td>...</td>\n",
       "      <td>...</td>\n",
       "      <td>...</td>\n",
       "      <td>...</td>\n",
       "      <td>...</td>\n",
       "    </tr>\n",
       "    <tr>\n",
       "      <th>4</th>\n",
       "      <td>0.06905</td>\n",
       "      <td>0.0</td>\n",
       "      <td>2.18</td>\n",
       "      <td>0.0</td>\n",
       "      <td>0.458</td>\n",
       "      <td>7.147</td>\n",
       "      <td>54.2</td>\n",
       "      <td>6.0622</td>\n",
       "      <td>3.0</td>\n",
       "      <td>222.0</td>\n",
       "      <td>18.7</td>\n",
       "      <td>396.90</td>\n",
       "      <td>5.33</td>\n",
       "    </tr>\n",
       "    <tr>\n",
       "      <th>428</th>\n",
       "      <td>7.36711</td>\n",
       "      <td>0.0</td>\n",
       "      <td>18.10</td>\n",
       "      <td>0.0</td>\n",
       "      <td>0.679</td>\n",
       "      <td>6.193</td>\n",
       "      <td>78.1</td>\n",
       "      <td>1.9356</td>\n",
       "      <td>24.0</td>\n",
       "      <td>666.0</td>\n",
       "      <td>20.2</td>\n",
       "      <td>96.73</td>\n",
       "      <td>21.52</td>\n",
       "    </tr>\n",
       "    <tr>\n",
       "      <th>385</th>\n",
       "      <td>16.81180</td>\n",
       "      <td>0.0</td>\n",
       "      <td>18.10</td>\n",
       "      <td>0.0</td>\n",
       "      <td>0.700</td>\n",
       "      <td>5.277</td>\n",
       "      <td>98.1</td>\n",
       "      <td>1.4261</td>\n",
       "      <td>24.0</td>\n",
       "      <td>666.0</td>\n",
       "      <td>20.2</td>\n",
       "      <td>396.90</td>\n",
       "      <td>30.81</td>\n",
       "    </tr>\n",
       "    <tr>\n",
       "      <th>308</th>\n",
       "      <td>0.49298</td>\n",
       "      <td>0.0</td>\n",
       "      <td>9.90</td>\n",
       "      <td>0.0</td>\n",
       "      <td>0.544</td>\n",
       "      <td>6.635</td>\n",
       "      <td>82.5</td>\n",
       "      <td>3.3175</td>\n",
       "      <td>4.0</td>\n",
       "      <td>304.0</td>\n",
       "      <td>18.4</td>\n",
       "      <td>396.90</td>\n",
       "      <td>4.54</td>\n",
       "    </tr>\n",
       "    <tr>\n",
       "      <th>5</th>\n",
       "      <td>0.02985</td>\n",
       "      <td>0.0</td>\n",
       "      <td>2.18</td>\n",
       "      <td>0.0</td>\n",
       "      <td>0.458</td>\n",
       "      <td>6.430</td>\n",
       "      <td>58.7</td>\n",
       "      <td>6.0622</td>\n",
       "      <td>3.0</td>\n",
       "      <td>222.0</td>\n",
       "      <td>18.7</td>\n",
       "      <td>394.12</td>\n",
       "      <td>5.21</td>\n",
       "    </tr>\n",
       "  </tbody>\n",
       "</table>\n",
       "<p>152 rows × 13 columns</p>\n",
       "</div>"
      ],
      "text/plain": [
       "         CRIM   ZN  INDUS  CHAS    NOX     RM    AGE     DIS   RAD    TAX  \\\n",
       "329   0.06724  0.0   3.24   0.0  0.460  6.333   17.2  5.2146   4.0  430.0   \n",
       "371   9.23230  0.0  18.10   0.0  0.631  6.216  100.0  1.1691  24.0  666.0   \n",
       "219   0.11425  0.0  13.89   1.0  0.550  6.373   92.4  3.3633   5.0  276.0   \n",
       "403  24.80170  0.0  18.10   0.0  0.693  5.349   96.0  1.7028  24.0  666.0   \n",
       "78    0.05646  0.0  12.83   0.0  0.437  6.232   53.7  5.0141   5.0  398.0   \n",
       "..        ...  ...    ...   ...    ...    ...    ...     ...   ...    ...   \n",
       "4     0.06905  0.0   2.18   0.0  0.458  7.147   54.2  6.0622   3.0  222.0   \n",
       "428   7.36711  0.0  18.10   0.0  0.679  6.193   78.1  1.9356  24.0  666.0   \n",
       "385  16.81180  0.0  18.10   0.0  0.700  5.277   98.1  1.4261  24.0  666.0   \n",
       "308   0.49298  0.0   9.90   0.0  0.544  6.635   82.5  3.3175   4.0  304.0   \n",
       "5     0.02985  0.0   2.18   0.0  0.458  6.430   58.7  6.0622   3.0  222.0   \n",
       "\n",
       "     PTRATIO       B  LSTAT  \n",
       "329     16.9  375.21   7.34  \n",
       "371     20.2  366.15   9.53  \n",
       "219     16.4  393.74  10.50  \n",
       "403     20.2  396.90  19.77  \n",
       "78      18.7  386.40  12.34  \n",
       "..       ...     ...    ...  \n",
       "4       18.7  396.90   5.33  \n",
       "428     20.2   96.73  21.52  \n",
       "385     20.2  396.90  30.81  \n",
       "308     18.4  396.90   4.54  \n",
       "5       18.7  394.12   5.21  \n",
       "\n",
       "[152 rows x 13 columns]"
      ]
     },
     "execution_count": 38,
     "metadata": {},
     "output_type": "execute_result"
    }
   ],
   "source": [
    "X_test"
   ]
  },
  {
   "cell_type": "code",
   "execution_count": 39,
   "id": "a1823a77",
   "metadata": {
    "ExecuteTime": {
     "end_time": "2023-05-30T05:59:18.764447Z",
     "start_time": "2023-05-30T05:59:18.745403Z"
    }
   },
   "outputs": [],
   "source": [
    "# X_train 복사\n",
    "extend_X_train = X_train.copy()"
   ]
  },
  {
   "cell_type": "code",
   "execution_count": 40,
   "id": "c217be30",
   "metadata": {
    "ExecuteTime": {
     "end_time": "2023-05-30T06:03:16.945152Z",
     "start_time": "2023-05-30T06:03:16.862700Z"
    }
   },
   "outputs": [],
   "source": [
    "for col1 in X_train.columns : # 13번 반복 \n",
    "    for col2 in X_train.columns : # 13번 반복\n",
    "        extend_X_train[col1 + 'x' + col2] = X_train[col1] * X_train[col2]"
   ]
  },
  {
   "cell_type": "code",
   "execution_count": 42,
   "id": "f74403d8",
   "metadata": {
    "ExecuteTime": {
     "end_time": "2023-05-30T06:03:36.222769Z",
     "start_time": "2023-05-30T06:03:36.200828Z"
    }
   },
   "outputs": [
    {
     "name": "stdout",
     "output_type": "stream",
     "text": [
      "<class 'pandas.core.frame.DataFrame'>\n",
      "Int64Index: 354 entries, 141 to 172\n",
      "Columns: 182 entries, CRIM to LSTATxLSTAT\n",
      "dtypes: float64(182)\n",
      "memory usage: 506.1 KB\n"
     ]
    }
   ],
   "source": [
    "extend_X_train.info()"
   ]
  },
  {
   "cell_type": "code",
   "execution_count": 43,
   "id": "dc4bb850",
   "metadata": {
    "ExecuteTime": {
     "end_time": "2023-05-30T06:04:09.233253Z",
     "start_time": "2023-05-30T06:04:09.197932Z"
    }
   },
   "outputs": [
    {
     "data": {
      "text/html": [
       "<div>\n",
       "<style scoped>\n",
       "    .dataframe tbody tr th:only-of-type {\n",
       "        vertical-align: middle;\n",
       "    }\n",
       "\n",
       "    .dataframe tbody tr th {\n",
       "        vertical-align: top;\n",
       "    }\n",
       "\n",
       "    .dataframe thead th {\n",
       "        text-align: right;\n",
       "    }\n",
       "</style>\n",
       "<table border=\"1\" class=\"dataframe\">\n",
       "  <thead>\n",
       "    <tr style=\"text-align: right;\">\n",
       "      <th></th>\n",
       "      <th>CRIM</th>\n",
       "      <th>ZN</th>\n",
       "      <th>INDUS</th>\n",
       "      <th>CHAS</th>\n",
       "      <th>NOX</th>\n",
       "      <th>RM</th>\n",
       "      <th>AGE</th>\n",
       "      <th>DIS</th>\n",
       "      <th>RAD</th>\n",
       "      <th>TAX</th>\n",
       "      <th>...</th>\n",
       "      <th>LSTATxCHAS</th>\n",
       "      <th>LSTATxNOX</th>\n",
       "      <th>LSTATxRM</th>\n",
       "      <th>LSTATxAGE</th>\n",
       "      <th>LSTATxDIS</th>\n",
       "      <th>LSTATxRAD</th>\n",
       "      <th>LSTATxTAX</th>\n",
       "      <th>LSTATxPTRATIO</th>\n",
       "      <th>LSTATxB</th>\n",
       "      <th>LSTATxLSTAT</th>\n",
       "    </tr>\n",
       "  </thead>\n",
       "  <tbody>\n",
       "    <tr>\n",
       "      <th>141</th>\n",
       "      <td>1.62864</td>\n",
       "      <td>0.0</td>\n",
       "      <td>21.89</td>\n",
       "      <td>0.0</td>\n",
       "      <td>0.624</td>\n",
       "      <td>5.019</td>\n",
       "      <td>100.0</td>\n",
       "      <td>1.4394</td>\n",
       "      <td>4.0</td>\n",
       "      <td>437.0</td>\n",
       "      <td>...</td>\n",
       "      <td>0.0</td>\n",
       "      <td>21.47184</td>\n",
       "      <td>172.70379</td>\n",
       "      <td>3441.000</td>\n",
       "      <td>49.529754</td>\n",
       "      <td>137.64</td>\n",
       "      <td>15037.17</td>\n",
       "      <td>729.492</td>\n",
       "      <td>13657.3290</td>\n",
       "      <td>1184.0481</td>\n",
       "    </tr>\n",
       "    <tr>\n",
       "      <th>272</th>\n",
       "      <td>0.11460</td>\n",
       "      <td>20.0</td>\n",
       "      <td>6.96</td>\n",
       "      <td>0.0</td>\n",
       "      <td>0.464</td>\n",
       "      <td>6.538</td>\n",
       "      <td>58.7</td>\n",
       "      <td>3.9175</td>\n",
       "      <td>3.0</td>\n",
       "      <td>223.0</td>\n",
       "      <td>...</td>\n",
       "      <td>0.0</td>\n",
       "      <td>3.58672</td>\n",
       "      <td>50.53874</td>\n",
       "      <td>453.751</td>\n",
       "      <td>30.282275</td>\n",
       "      <td>23.19</td>\n",
       "      <td>1723.79</td>\n",
       "      <td>143.778</td>\n",
       "      <td>3053.0408</td>\n",
       "      <td>59.7529</td>\n",
       "    </tr>\n",
       "    <tr>\n",
       "      <th>135</th>\n",
       "      <td>0.55778</td>\n",
       "      <td>0.0</td>\n",
       "      <td>21.89</td>\n",
       "      <td>0.0</td>\n",
       "      <td>0.624</td>\n",
       "      <td>6.335</td>\n",
       "      <td>98.2</td>\n",
       "      <td>2.1107</td>\n",
       "      <td>4.0</td>\n",
       "      <td>437.0</td>\n",
       "      <td>...</td>\n",
       "      <td>0.0</td>\n",
       "      <td>10.58304</td>\n",
       "      <td>107.44160</td>\n",
       "      <td>1665.472</td>\n",
       "      <td>35.797472</td>\n",
       "      <td>67.84</td>\n",
       "      <td>7411.52</td>\n",
       "      <td>359.552</td>\n",
       "      <td>6693.6032</td>\n",
       "      <td>287.6416</td>\n",
       "    </tr>\n",
       "    <tr>\n",
       "      <th>298</th>\n",
       "      <td>0.06466</td>\n",
       "      <td>70.0</td>\n",
       "      <td>2.24</td>\n",
       "      <td>0.0</td>\n",
       "      <td>0.400</td>\n",
       "      <td>6.345</td>\n",
       "      <td>20.1</td>\n",
       "      <td>7.8278</td>\n",
       "      <td>5.0</td>\n",
       "      <td>358.0</td>\n",
       "      <td>...</td>\n",
       "      <td>0.0</td>\n",
       "      <td>1.98800</td>\n",
       "      <td>31.53465</td>\n",
       "      <td>99.897</td>\n",
       "      <td>38.904166</td>\n",
       "      <td>24.85</td>\n",
       "      <td>1779.26</td>\n",
       "      <td>73.556</td>\n",
       "      <td>1830.1528</td>\n",
       "      <td>24.7009</td>\n",
       "    </tr>\n",
       "    <tr>\n",
       "      <th>122</th>\n",
       "      <td>0.09299</td>\n",
       "      <td>0.0</td>\n",
       "      <td>25.65</td>\n",
       "      <td>0.0</td>\n",
       "      <td>0.581</td>\n",
       "      <td>5.961</td>\n",
       "      <td>92.9</td>\n",
       "      <td>2.0869</td>\n",
       "      <td>2.0</td>\n",
       "      <td>188.0</td>\n",
       "      <td>...</td>\n",
       "      <td>0.0</td>\n",
       "      <td>10.41733</td>\n",
       "      <td>106.88073</td>\n",
       "      <td>1665.697</td>\n",
       "      <td>37.418117</td>\n",
       "      <td>35.86</td>\n",
       "      <td>3370.84</td>\n",
       "      <td>342.463</td>\n",
       "      <td>6779.1537</td>\n",
       "      <td>321.4849</td>\n",
       "    </tr>\n",
       "    <tr>\n",
       "      <th>...</th>\n",
       "      <td>...</td>\n",
       "      <td>...</td>\n",
       "      <td>...</td>\n",
       "      <td>...</td>\n",
       "      <td>...</td>\n",
       "      <td>...</td>\n",
       "      <td>...</td>\n",
       "      <td>...</td>\n",
       "      <td>...</td>\n",
       "      <td>...</td>\n",
       "      <td>...</td>\n",
       "      <td>...</td>\n",
       "      <td>...</td>\n",
       "      <td>...</td>\n",
       "      <td>...</td>\n",
       "      <td>...</td>\n",
       "      <td>...</td>\n",
       "      <td>...</td>\n",
       "      <td>...</td>\n",
       "      <td>...</td>\n",
       "      <td>...</td>\n",
       "    </tr>\n",
       "    <tr>\n",
       "      <th>323</th>\n",
       "      <td>0.28392</td>\n",
       "      <td>0.0</td>\n",
       "      <td>7.38</td>\n",
       "      <td>0.0</td>\n",
       "      <td>0.493</td>\n",
       "      <td>5.708</td>\n",
       "      <td>74.3</td>\n",
       "      <td>4.7211</td>\n",
       "      <td>5.0</td>\n",
       "      <td>287.0</td>\n",
       "      <td>...</td>\n",
       "      <td>0.0</td>\n",
       "      <td>5.78782</td>\n",
       "      <td>67.01192</td>\n",
       "      <td>872.282</td>\n",
       "      <td>55.425714</td>\n",
       "      <td>58.70</td>\n",
       "      <td>3369.38</td>\n",
       "      <td>230.104</td>\n",
       "      <td>4591.8662</td>\n",
       "      <td>137.8276</td>\n",
       "    </tr>\n",
       "    <tr>\n",
       "      <th>192</th>\n",
       "      <td>0.08664</td>\n",
       "      <td>45.0</td>\n",
       "      <td>3.44</td>\n",
       "      <td>0.0</td>\n",
       "      <td>0.437</td>\n",
       "      <td>7.178</td>\n",
       "      <td>26.3</td>\n",
       "      <td>6.4798</td>\n",
       "      <td>5.0</td>\n",
       "      <td>398.0</td>\n",
       "      <td>...</td>\n",
       "      <td>0.0</td>\n",
       "      <td>1.25419</td>\n",
       "      <td>20.60086</td>\n",
       "      <td>75.481</td>\n",
       "      <td>18.597026</td>\n",
       "      <td>14.35</td>\n",
       "      <td>1142.26</td>\n",
       "      <td>43.624</td>\n",
       "      <td>1120.7063</td>\n",
       "      <td>8.2369</td>\n",
       "    </tr>\n",
       "    <tr>\n",
       "      <th>117</th>\n",
       "      <td>0.15098</td>\n",
       "      <td>0.0</td>\n",
       "      <td>10.01</td>\n",
       "      <td>0.0</td>\n",
       "      <td>0.547</td>\n",
       "      <td>6.021</td>\n",
       "      <td>82.6</td>\n",
       "      <td>2.7474</td>\n",
       "      <td>6.0</td>\n",
       "      <td>432.0</td>\n",
       "      <td>...</td>\n",
       "      <td>0.0</td>\n",
       "      <td>5.63410</td>\n",
       "      <td>62.01630</td>\n",
       "      <td>850.780</td>\n",
       "      <td>28.298220</td>\n",
       "      <td>61.80</td>\n",
       "      <td>4449.60</td>\n",
       "      <td>183.340</td>\n",
       "      <td>4063.4530</td>\n",
       "      <td>106.0900</td>\n",
       "    </tr>\n",
       "    <tr>\n",
       "      <th>47</th>\n",
       "      <td>0.22927</td>\n",
       "      <td>0.0</td>\n",
       "      <td>6.91</td>\n",
       "      <td>0.0</td>\n",
       "      <td>0.448</td>\n",
       "      <td>6.030</td>\n",
       "      <td>85.5</td>\n",
       "      <td>5.6894</td>\n",
       "      <td>3.0</td>\n",
       "      <td>233.0</td>\n",
       "      <td>...</td>\n",
       "      <td>0.0</td>\n",
       "      <td>8.42240</td>\n",
       "      <td>113.36400</td>\n",
       "      <td>1607.400</td>\n",
       "      <td>106.960720</td>\n",
       "      <td>56.40</td>\n",
       "      <td>4380.40</td>\n",
       "      <td>336.520</td>\n",
       "      <td>7383.5120</td>\n",
       "      <td>353.4400</td>\n",
       "    </tr>\n",
       "    <tr>\n",
       "      <th>172</th>\n",
       "      <td>0.13914</td>\n",
       "      <td>0.0</td>\n",
       "      <td>4.05</td>\n",
       "      <td>0.0</td>\n",
       "      <td>0.510</td>\n",
       "      <td>5.572</td>\n",
       "      <td>88.5</td>\n",
       "      <td>2.5961</td>\n",
       "      <td>5.0</td>\n",
       "      <td>296.0</td>\n",
       "      <td>...</td>\n",
       "      <td>0.0</td>\n",
       "      <td>7.49190</td>\n",
       "      <td>81.85268</td>\n",
       "      <td>1300.065</td>\n",
       "      <td>38.136709</td>\n",
       "      <td>73.45</td>\n",
       "      <td>4348.24</td>\n",
       "      <td>243.854</td>\n",
       "      <td>5830.4610</td>\n",
       "      <td>215.7961</td>\n",
       "    </tr>\n",
       "  </tbody>\n",
       "</table>\n",
       "<p>354 rows × 182 columns</p>\n",
       "</div>"
      ],
      "text/plain": [
       "        CRIM    ZN  INDUS  CHAS    NOX     RM    AGE     DIS  RAD    TAX  ...  \\\n",
       "141  1.62864   0.0  21.89   0.0  0.624  5.019  100.0  1.4394  4.0  437.0  ...   \n",
       "272  0.11460  20.0   6.96   0.0  0.464  6.538   58.7  3.9175  3.0  223.0  ...   \n",
       "135  0.55778   0.0  21.89   0.0  0.624  6.335   98.2  2.1107  4.0  437.0  ...   \n",
       "298  0.06466  70.0   2.24   0.0  0.400  6.345   20.1  7.8278  5.0  358.0  ...   \n",
       "122  0.09299   0.0  25.65   0.0  0.581  5.961   92.9  2.0869  2.0  188.0  ...   \n",
       "..       ...   ...    ...   ...    ...    ...    ...     ...  ...    ...  ...   \n",
       "323  0.28392   0.0   7.38   0.0  0.493  5.708   74.3  4.7211  5.0  287.0  ...   \n",
       "192  0.08664  45.0   3.44   0.0  0.437  7.178   26.3  6.4798  5.0  398.0  ...   \n",
       "117  0.15098   0.0  10.01   0.0  0.547  6.021   82.6  2.7474  6.0  432.0  ...   \n",
       "47   0.22927   0.0   6.91   0.0  0.448  6.030   85.5  5.6894  3.0  233.0  ...   \n",
       "172  0.13914   0.0   4.05   0.0  0.510  5.572   88.5  2.5961  5.0  296.0  ...   \n",
       "\n",
       "     LSTATxCHAS  LSTATxNOX   LSTATxRM  LSTATxAGE   LSTATxDIS  LSTATxRAD  \\\n",
       "141         0.0   21.47184  172.70379   3441.000   49.529754     137.64   \n",
       "272         0.0    3.58672   50.53874    453.751   30.282275      23.19   \n",
       "135         0.0   10.58304  107.44160   1665.472   35.797472      67.84   \n",
       "298         0.0    1.98800   31.53465     99.897   38.904166      24.85   \n",
       "122         0.0   10.41733  106.88073   1665.697   37.418117      35.86   \n",
       "..          ...        ...        ...        ...         ...        ...   \n",
       "323         0.0    5.78782   67.01192    872.282   55.425714      58.70   \n",
       "192         0.0    1.25419   20.60086     75.481   18.597026      14.35   \n",
       "117         0.0    5.63410   62.01630    850.780   28.298220      61.80   \n",
       "47          0.0    8.42240  113.36400   1607.400  106.960720      56.40   \n",
       "172         0.0    7.49190   81.85268   1300.065   38.136709      73.45   \n",
       "\n",
       "     LSTATxTAX  LSTATxPTRATIO     LSTATxB  LSTATxLSTAT  \n",
       "141   15037.17        729.492  13657.3290    1184.0481  \n",
       "272    1723.79        143.778   3053.0408      59.7529  \n",
       "135    7411.52        359.552   6693.6032     287.6416  \n",
       "298    1779.26         73.556   1830.1528      24.7009  \n",
       "122    3370.84        342.463   6779.1537     321.4849  \n",
       "..         ...            ...         ...          ...  \n",
       "323    3369.38        230.104   4591.8662     137.8276  \n",
       "192    1142.26         43.624   1120.7063       8.2369  \n",
       "117    4449.60        183.340   4063.4530     106.0900  \n",
       "47     4380.40        336.520   7383.5120     353.4400  \n",
       "172    4348.24        243.854   5830.4610     215.7961  \n",
       "\n",
       "[354 rows x 182 columns]"
      ]
     },
     "execution_count": 43,
     "metadata": {},
     "output_type": "execute_result"
    }
   ],
   "source": [
    "extend_X_train"
   ]
  },
  {
   "cell_type": "code",
   "execution_count": 44,
   "id": "ff5b070c",
   "metadata": {
    "ExecuteTime": {
     "end_time": "2023-05-30T06:20:18.703526Z",
     "start_time": "2023-05-30T06:20:18.694550Z"
    }
   },
   "outputs": [],
   "source": [
    "# X_test 복사\n",
    "extend_X_test = X_test.copy()"
   ]
  },
  {
   "cell_type": "code",
   "execution_count": 45,
   "id": "0cb56035",
   "metadata": {
    "ExecuteTime": {
     "end_time": "2023-05-30T06:20:21.097861Z",
     "start_time": "2023-05-30T06:20:21.005544Z"
    }
   },
   "outputs": [],
   "source": [
    "# test에서 해줬던 전처리 방식은 test에서도 동일하게 진행해야함!\n",
    "for col1 in X_test.columns : # 13번 반복 \n",
    "    for col2 in X_test.columns : # 13번 반복\n",
    "        extend_X_test[col1 + 'x' + col2] = X_test[col1] * X_test[col2]"
   ]
  },
  {
   "cell_type": "code",
   "execution_count": 47,
   "id": "e175ff69",
   "metadata": {
    "ExecuteTime": {
     "end_time": "2023-05-30T06:20:58.530518Z",
     "start_time": "2023-05-30T06:20:58.501342Z"
    }
   },
   "outputs": [
    {
     "name": "stdout",
     "output_type": "stream",
     "text": [
      "<class 'pandas.core.frame.DataFrame'>\n",
      "Int64Index: 152 entries, 329 to 5\n",
      "Columns: 182 entries, CRIM to LSTATxLSTAT\n",
      "dtypes: float64(182)\n",
      "memory usage: 217.3 KB\n"
     ]
    }
   ],
   "source": [
    "extend_X_test.info()"
   ]
  },
  {
   "cell_type": "code",
   "execution_count": 49,
   "id": "7b7a1452",
   "metadata": {
    "ExecuteTime": {
     "end_time": "2023-05-30T06:27:46.440554Z",
     "start_time": "2023-05-30T06:27:46.396208Z"
    }
   },
   "outputs": [
    {
     "data": {
      "text/plain": [
       "0.648683949975432"
      ]
     },
     "execution_count": 49,
     "metadata": {},
     "output_type": "execute_result"
    }
   ],
   "source": [
    "# 선형회귀 모델 이용하기\n",
    "model = LinearRegression()\n",
    "# 모델 학습\n",
    "model.fit(extend_X_train, y_train)\n",
    "# score 확인 (extend_X_test)\n",
    "model.score(extend_X_test, y_test)"
   ]
  },
  {
   "cell_type": "code",
   "execution_count": 50,
   "id": "cc28b9d5",
   "metadata": {
    "ExecuteTime": {
     "end_time": "2023-05-30T06:29:41.079212Z",
     "start_time": "2023-05-30T06:29:41.068200Z"
    }
   },
   "outputs": [
    {
     "data": {
      "text/plain": [
       "0.9517246762476054"
      ]
     },
     "execution_count": 50,
     "metadata": {},
     "output_type": "execute_result"
    }
   ],
   "source": [
    "# score 확인 (extend_X_train)\n",
    "model.score(extend_X_train,y_train)"
   ]
  },
  {
   "cell_type": "markdown",
   "id": "9026c30d",
   "metadata": {
    "ExecuteTime": {
     "end_time": "2023-05-30T06:40:11.041973Z",
     "start_time": "2023-05-30T06:40:11.022036Z"
    }
   },
   "source": [
    "- 특성이 너무 많아져서 예측하는데 규칙이 너무 복잡해졌다.\n",
    "- 새로운 데이터에서 이 많은 특성(규칙)때문에 예측이 어려워졌다\n",
    "- 과대적합의 양상을 보이고 있다. -> 낮은 test 스코어를 보인다\n",
    "  \n",
    "  \n",
    "- 과대적합  \n",
    "        ✔ 훈련세트에서는 높은 적응도를 보이지만 평가세트 또는 새로운 데이터에는 반응을 하지 못하는 경우\n",
    "        ✔ 훈련세트\n",
    "  \n",
    "- 과소적합  \n",
    "        ✔ 훈련세트도 제대로 학습되지 않고 평가세트 또는 새로운 데이터에도 반응을 못하는 경우"
   ]
  },
  {
   "cell_type": "code",
   "execution_count": null,
   "id": "d9bb4f91",
   "metadata": {},
   "outputs": [],
   "source": []
  },
  {
   "cell_type": "code",
   "execution_count": null,
   "id": "7e42da68",
   "metadata": {},
   "outputs": [],
   "source": []
  },
  {
   "cell_type": "code",
   "execution_count": null,
   "id": "4babdcce",
   "metadata": {},
   "outputs": [],
   "source": []
  },
  {
   "cell_type": "code",
   "execution_count": null,
   "id": "354d7531",
   "metadata": {},
   "outputs": [],
   "source": []
  },
  {
   "cell_type": "code",
   "execution_count": null,
   "id": "7f5efc45",
   "metadata": {},
   "outputs": [],
   "source": []
  },
  {
   "cell_type": "code",
   "execution_count": null,
   "id": "9d8af1a2",
   "metadata": {},
   "outputs": [],
   "source": []
  }
 ],
 "metadata": {
  "kernelspec": {
   "display_name": "Python 3 (ipykernel)",
   "language": "python",
   "name": "python3"
  },
  "language_info": {
   "codemirror_mode": {
    "name": "ipython",
    "version": 3
   },
   "file_extension": ".py",
   "mimetype": "text/x-python",
   "name": "python",
   "nbconvert_exporter": "python",
   "pygments_lexer": "ipython3",
   "version": "3.9.13"
  },
  "toc": {
   "base_numbering": 1,
   "nav_menu": {},
   "number_sections": true,
   "sideBar": true,
   "skip_h1_title": false,
   "title_cell": "Table of Contents",
   "title_sidebar": "Contents",
   "toc_cell": false,
   "toc_position": {},
   "toc_section_display": true,
   "toc_window_display": false
  },
  "varInspector": {
   "cols": {
    "lenName": 16,
    "lenType": 16,
    "lenVar": 40
   },
   "kernels_config": {
    "python": {
     "delete_cmd_postfix": "",
     "delete_cmd_prefix": "del ",
     "library": "var_list.py",
     "varRefreshCmd": "print(var_dic_list())"
    },
    "r": {
     "delete_cmd_postfix": ") ",
     "delete_cmd_prefix": "rm(",
     "library": "var_list.r",
     "varRefreshCmd": "cat(var_dic_list()) "
    }
   },
   "types_to_exclude": [
    "module",
    "function",
    "builtin_function_or_method",
    "instance",
    "_Feature"
   ],
   "window_display": false
  }
 },
 "nbformat": 4,
 "nbformat_minor": 5
}
