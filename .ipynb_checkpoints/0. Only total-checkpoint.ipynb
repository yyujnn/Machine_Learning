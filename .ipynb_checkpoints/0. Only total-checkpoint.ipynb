{
 "cells": [
  {
   "cell_type": "code",
   "execution_count": 1,
   "id": "7e5bee8a",
   "metadata": {
    "ExecuteTime": {
     "end_time": "2023-05-31T08:25:02.375530Z",
     "start_time": "2023-05-31T08:24:59.249219Z"
    }
   },
   "outputs": [],
   "source": [
    "# 필요한 라이브러리들\n",
    "import pandas as pd\n",
    "import numpy as np\n",
    "import matplotlib.pyplot as plt\n",
    "import seaborn as sns \n",
    "import warnings\n",
    "warnings.filterwarnings('ignore')\n",
    "\n",
    "# 모델 불러오기\n",
    "from sklearn.neighbors import KNeighborsClassifier\n",
    "from sklearn.tree import DecisionTreeClassifier\n",
    "from sklearn.ensemble import VotingClassifier\n",
    "from sklearn.ensemble import RandomForestClassifier\n",
    "from sklearn.ensemble import AdaBoostClassifier\n",
    "from sklearn.ensemble import GradientBoostingClassifier\n",
    "from xgboost import XGBClassifier\n",
    "from lightgbm import LGBMClassifier\n",
    "\n",
    "# 나머지\n",
    "from sklearn.model_selection import cross_val_score\n",
    "from sklearn.model_selection import GridSearchCV\n",
    "from sklearn.preprocessing import StandardScaler"
   ]
  },
  {
   "cell_type": "code",
   "execution_count": 2,
   "id": "9c789914",
   "metadata": {
    "ExecuteTime": {
     "end_time": "2023-05-31T08:25:02.486339Z",
     "start_time": "2023-05-31T08:25:02.377529Z"
    }
   },
   "outputs": [],
   "source": [
    "df_train = pd.read_csv('data/kaggle/train.csv')\n",
    "df_test = pd.read_csv('data/kaggle/test.csv')\n",
    "result = pd.read_csv('./data/kaggle/sample_submission.csv')"
   ]
  },
  {
   "cell_type": "code",
   "execution_count": 3,
   "id": "b4ad5eee",
   "metadata": {
    "ExecuteTime": {
     "end_time": "2023-05-31T08:25:02.501589Z",
     "start_time": "2023-05-31T08:25:02.488334Z"
    }
   },
   "outputs": [],
   "source": [
    "# total_cap 컬럼 추가\n",
    "df_train['total_cap'] = df_train['capital-gain'] - df_train['capital-loss']\n",
    "df_test['total_cap'] = df_test['capital-gain'] - df_test['capital-loss']"
   ]
  },
  {
   "cell_type": "code",
   "execution_count": 4,
   "id": "de3078ac",
   "metadata": {
    "ExecuteTime": {
     "end_time": "2023-05-31T08:25:02.532616Z",
     "start_time": "2023-05-31T08:25:02.508352Z"
    }
   },
   "outputs": [],
   "source": [
    "# 필요없는 컬럼 drop\n",
    "df_train = df_train.drop(['no','fnlwgt','occupation','capital-gain','capital-loss','native-country','education'],axis=1)\n",
    "df_test = df_test.drop(['no','fnlwgt','occupation','capital-gain','capital-loss','native-country','education'],axis=1)"
   ]
  },
  {
   "cell_type": "code",
   "execution_count": 5,
   "id": "3724e0b8",
   "metadata": {
    "ExecuteTime": {
     "end_time": "2023-05-31T08:25:02.548576Z",
     "start_time": "2023-05-31T08:25:02.535607Z"
    }
   },
   "outputs": [],
   "source": [
    "# 나이 표준화\n",
    "df_train['age'] = (df_train['age'] - df_train['age'].mean()) / df_train['age'].std()\n",
    "df_test['age'] = (df_test['age'] - df_test['age'].mean()) / df_test['age'].std()\n",
    "# 주당 노동시간 표준화\n",
    "df_train['hours-per-week'] = (df_train['hours-per-week'] - df_train['hours-per-week'].mean()) / df_train['hours-per-week'].std()\n",
    "df_test['hours-per-week'] = (df_test['hours-per-week'] - df_test['hours-per-week'].mean()) / df_test['hours-per-week'].std()\n",
    "# total_cap 이상치 min-max 스케일링\n",
    "df_train['total_cap'] = (df_train['total_cap']-df_train['total_cap'].min())/(df_train['total_cap'].max()-df_train['total_cap'].min())\n",
    "df_test['total_cap'] = (df_test['total_cap']-df_test['total_cap'].min())/(df_test['total_cap'].max()-df_test['total_cap'].min())"
   ]
  },
  {
   "cell_type": "code",
   "execution_count": 6,
   "id": "fc1461ba",
   "metadata": {
    "ExecuteTime": {
     "end_time": "2023-05-31T08:25:02.595617Z",
     "start_time": "2023-05-31T08:25:02.550567Z"
    }
   },
   "outputs": [],
   "source": [
    "X_train = pd.get_dummies(df_train)\n",
    "X_test = pd.get_dummies(df_test)"
   ]
  },
  {
   "cell_type": "code",
   "execution_count": 7,
   "id": "c4e423c0",
   "metadata": {
    "ExecuteTime": {
     "end_time": "2023-05-31T08:25:02.611611Z",
     "start_time": "2023-05-31T08:25:02.597637Z"
    }
   },
   "outputs": [],
   "source": [
    "# 정답 데이터 분리\n",
    "y_train = X_train['income']\n",
    "X_train.drop('income',axis=1,inplace=True)"
   ]
  },
  {
   "cell_type": "code",
   "execution_count": 8,
   "id": "bc7226d4",
   "metadata": {
    "ExecuteTime": {
     "end_time": "2023-05-31T08:25:02.992591Z",
     "start_time": "2023-05-31T08:25:02.613608Z"
    }
   },
   "outputs": [],
   "source": [
    "# lightgbm 모델\n",
    "lgbm = LGBMClassifier(random_state=200, n_jobs=-1, reg_alpha=0.9, reg_lambda=0.2, n_estimators=200)\n",
    "lgbm.fit(X_train,y_train)\n",
    "lgbm_pre = lgbm.predict(X_test)\n",
    "# 0.867087527725644"
   ]
  },
  {
   "cell_type": "code",
   "execution_count": 9,
   "id": "e02368e6",
   "metadata": {
    "ExecuteTime": {
     "end_time": "2023-05-31T08:25:03.007551Z",
     "start_time": "2023-05-31T08:25:02.995583Z"
    }
   },
   "outputs": [],
   "source": [
    "X_train_2 = pd.concat([X_train,X_test])"
   ]
  },
  {
   "cell_type": "code",
   "execution_count": 10,
   "id": "f77e7106",
   "metadata": {
    "ExecuteTime": {
     "end_time": "2023-05-31T08:25:03.054425Z",
     "start_time": "2023-05-31T08:25:03.009545Z"
    }
   },
   "outputs": [],
   "source": [
    "y_1=y_train.to_numpy()\n",
    "y_t = np.concatenate([y_1, lgbm_pre])\n",
    "y_t = list(y_t)\n",
    "y_train_change=pd.Series(y_t)"
   ]
  },
  {
   "cell_type": "code",
   "execution_count": 11,
   "id": "1df747f2",
   "metadata": {
    "ExecuteTime": {
     "end_time": "2023-05-31T08:25:03.434408Z",
     "start_time": "2023-05-31T08:25:03.056420Z"
    }
   },
   "outputs": [
    {
     "data": {
      "text/plain": [
       "LGBMClassifier(n_estimators=200, random_state=200, reg_alpha=0.9,\n",
       "               reg_lambda=0.2)"
      ]
     },
     "execution_count": 11,
     "metadata": {},
     "output_type": "execute_result"
    }
   ],
   "source": [
    "### 모델 훈련\n",
    "lgbm.fit(X_train_2,y_train_change)"
   ]
  },
  {
   "cell_type": "code",
   "execution_count": 12,
   "id": "c2c0218e",
   "metadata": {
    "ExecuteTime": {
     "end_time": "2023-05-31T08:25:03.543118Z",
     "start_time": "2023-05-31T08:25:03.436404Z"
    }
   },
   "outputs": [],
   "source": [
    "# lgb 모델로 예측한 결과\n",
    "pre1 = lgbm.predict(X_test)\n",
    "# kaggle 양식 불러오기\n",
    "rs =  pd.read_csv('./data/kaggle/sample_submission.csv')\n",
    "rs['income'] = pre1 # 내 모델의 예측 결과를 양식에 넣기\n",
    "rs.to_csv('RRRRReal1.csv', index = False)"
   ]
  },
  {
   "cell_type": "code",
   "execution_count": 13,
   "id": "755126bb",
   "metadata": {
    "ExecuteTime": {
     "end_time": "2023-05-31T08:25:06.231924Z",
     "start_time": "2023-05-31T08:25:03.545112Z"
    }
   },
   "outputs": [
    {
     "name": "stdout",
     "output_type": "stream",
     "text": [
      "교차 검증 정확도: [0.87685536 0.88064285 0.90059378 0.9206593  0.94256757]\n",
      "평균 정확도: 0.9042637694879481\n"
     ]
    }
   ],
   "source": [
    "# 위 과정 반복 -> 모델 예측한 결과중 더 좋은 결과를 다시 테스트 데이터의 정답으로 활용 + 트레인 데이터와 다시 합치고 다시 모델 학습\n",
    "y_t = np.concatenate([y_1, pre1])\n",
    "y_t = list(y_t)\n",
    "y_train_change=pd.Series(y_t)\n",
    "\n",
    "lgbm.fit(X_train_2,y_train_change)\n",
    "\n",
    "pre2 = lgbm.predict(X_test)\n",
    "# kaggle 양식 불러오기\n",
    "rs =  pd.read_csv('./data/kaggle/sample_submission.csv')\n",
    "rs['income'] = pre2 # 내 모델의 예측 결과를 양식에 넣기\n",
    "rs.to_csv('RRRRReal2.csv', index = False)\n",
    "\n",
    "scores = cross_val_score(lgbm, X_train_2, y_train_change, cv=5, scoring='accuracy')\n",
    "\n",
    "# 교차 검증 결과 출력\n",
    "print(\"교차 검증 정확도:\", scores)\n",
    "print(\"평균 정확도:\", scores.mean())"
   ]
  },
  {
   "cell_type": "code",
   "execution_count": 14,
   "id": "767ea446",
   "metadata": {
    "ExecuteTime": {
     "end_time": "2023-05-31T08:25:08.989546Z",
     "start_time": "2023-05-31T08:25:06.239903Z"
    }
   },
   "outputs": [
    {
     "name": "stdout",
     "output_type": "stream",
     "text": [
      "교차 검증 정확도: [0.8781861  0.88033576 0.90161753 0.92219492 0.94266994]\n",
      "평균 정확도: 0.9050008492658712\n"
     ]
    }
   ],
   "source": [
    "# 위 과정 반복 -> 모델 예측한 결과중 더 좋은 결과를 다시 테스트 데이터의 정답으로 활용 + 트레인 데이터와 다시 합치고 다시 모델 학습\n",
    "y_t = np.concatenate([y_1, pre2])\n",
    "y_t = list(y_t)\n",
    "y_train_change=pd.Series(y_t)\n",
    "\n",
    "lgbm.fit(X_train_2,y_train_change)\n",
    "\n",
    "pre3 = lgbm.predict(X_test)\n",
    "# kaggle 양식 불러오기\n",
    "rs =  pd.read_csv('./data/kaggle/sample_submission.csv')\n",
    "rs['income'] = pre3 # 내 모델의 예측 결과를 양식에 넣기\n",
    "rs.to_csv('RRRRReal3.csv', index = False)\n",
    "\n",
    "scores = cross_val_score(lgbm, X_train_2, y_train_change, cv=5, scoring='accuracy')\n",
    "\n",
    "# 교차 검증 결과 출력\n",
    "print(\"교차 검증 정확도:\", scores)\n",
    "print(\"평균 정확도:\", scores.mean())"
   ]
  },
  {
   "cell_type": "code",
   "execution_count": 15,
   "id": "f2efa90f",
   "metadata": {
    "ExecuteTime": {
     "end_time": "2023-05-31T08:25:11.626999Z",
     "start_time": "2023-05-31T08:25:08.992538Z"
    }
   },
   "outputs": [
    {
     "name": "stdout",
     "output_type": "stream",
     "text": [
      "교차 검증 정확도: [0.87675299 0.88084758 0.89987715 0.92260442 0.94400082]\n",
      "평균 정확도: 0.9048165929448558\n"
     ]
    }
   ],
   "source": [
    "# 위 과정 반복 -> 모델 예측한 결과중 더 좋은 결과를 다시 테스트 데이터의 정답으로 활용 + 트레인 데이터와 다시 합치고 다시 모델 학습\n",
    "y_t = np.concatenate([y_1, pre3])\n",
    "y_t = list(y_t)\n",
    "y_train_change=pd.Series(y_t)\n",
    "\n",
    "lgbm.fit(X_train_2,y_train_change)\n",
    "\n",
    "pre4 = lgbm.predict(X_test)\n",
    "# kaggle 양식 불러오기\n",
    "rs =  pd.read_csv('./data/kaggle/sample_submission.csv')\n",
    "rs['income'] = pre4 # 내 모델의 예측 결과를 양식에 넣기\n",
    "rs.to_csv('RRRRReal4.csv', index = False)\n",
    "\n",
    "scores = cross_val_score(lgbm, X_train_2, y_train_change, cv=5, scoring='accuracy')\n",
    "\n",
    "# 교차 검증 결과 출력\n",
    "print(\"교차 검증 정확도:\", scores)\n",
    "print(\"평균 정확도:\", scores.mean())"
   ]
  },
  {
   "cell_type": "code",
   "execution_count": 16,
   "id": "8bc32bff",
   "metadata": {
    "ExecuteTime": {
     "end_time": "2023-05-31T08:25:14.344238Z",
     "start_time": "2023-05-31T08:25:11.629992Z"
    }
   },
   "outputs": [
    {
     "name": "stdout",
     "output_type": "stream",
     "text": [
      "교차 검증 정확도: [0.87675299 0.87951684 0.90079853 0.92239967 0.94256757]\n",
      "평균 정확도: 0.904407119782286\n"
     ]
    }
   ],
   "source": [
    "# 위 과정 반복 -> 모델 예측한 결과중 더 좋은 결과를 다시 테스트 데이터의 정답으로 활용 + 트레인 데이터와 다시 합치고 다시 모델 학습\n",
    "y_t = np.concatenate([y_1, pre4])\n",
    "y_t = list(y_t)\n",
    "y_train_change=pd.Series(y_t)\n",
    "\n",
    "lgbm.fit(X_train_2,y_train_change)\n",
    "\n",
    "pre5 = lgbm.predict(X_test)\n",
    "# kaggle 양식 불러오기\n",
    "rs =  pd.read_csv('./data/kaggle/sample_submission.csv')\n",
    "rs['income'] = pre5 # 내 모델의 예측 결과를 양식에 넣기\n",
    "rs.to_csv('RRRRReal4.csv', index = False)\n",
    "\n",
    "scores = cross_val_score(lgbm, X_train_2, y_train_change, cv=5, scoring='accuracy')\n",
    "\n",
    "# 교차 검증 결과 출력\n",
    "print(\"교차 검증 정확도:\", scores)\n",
    "print(\"평균 정확도:\", scores.mean())"
   ]
  },
  {
   "cell_type": "code",
   "execution_count": 17,
   "id": "f9e4a66c",
   "metadata": {
    "ExecuteTime": {
     "end_time": "2023-05-31T08:25:17.004629Z",
     "start_time": "2023-05-31T08:25:14.346234Z"
    }
   },
   "outputs": [
    {
     "name": "stdout",
     "output_type": "stream",
     "text": [
      "교차 검증 정확도: [0.87726482 0.88176886 0.90151515 0.9222973  0.94287469]\n",
      "평균 정확도: 0.9051441639296076\n"
     ]
    }
   ],
   "source": [
    "# 위 과정 반복 -> 모델 예측한 결과중 더 좋은 결과를 다시 테스트 데이터의 정답으로 활용 + 트레인 데이터와 다시 합치고 다시 모델 학습\n",
    "y_t = np.concatenate([y_1, pre5])\n",
    "y_t = list(y_t)\n",
    "y_train_change=pd.Series(y_t)\n",
    "\n",
    "lgbm.fit(X_train_2,y_train_change)\n",
    "\n",
    "pre6 = lgbm.predict(X_test)\n",
    "# kaggle 양식 불러오기\n",
    "rs =  pd.read_csv('./data/kaggle/sample_submission.csv')\n",
    "rs['income'] = pre6 # 내 모델의 예측 결과를 양식에 넣기\n",
    "rs.to_csv('RRRRReal6.csv', index = False)\n",
    "\n",
    "scores = cross_val_score(lgbm, X_train_2, y_train_change, cv=5, scoring='accuracy')\n",
    "\n",
    "# 교차 검증 결과 출력\n",
    "print(\"교차 검증 정확도:\", scores)\n",
    "print(\"평균 정확도:\", scores.mean())"
   ]
  },
  {
   "cell_type": "code",
   "execution_count": 18,
   "id": "a03c235a",
   "metadata": {
    "ExecuteTime": {
     "end_time": "2023-05-31T08:25:19.760257Z",
     "start_time": "2023-05-31T08:25:17.007622Z"
    }
   },
   "outputs": [
    {
     "name": "stdout",
     "output_type": "stream",
     "text": [
      "교차 검증 정확도: [0.87634354 0.88033576 0.90161753 0.92199017 0.94348894]\n",
      "평균 정확도: 0.9047551867466905\n"
     ]
    }
   ],
   "source": [
    "# 위 과정 반복 -> 모델 예측한 결과중 더 좋은 결과를 다시 테스트 데이터의 정답으로 활용 + 트레인 데이터와 다시 합치고 다시 모델 학습\n",
    "y_t = np.concatenate([y_1, pre6])\n",
    "y_t = list(y_t)\n",
    "y_train_change=pd.Series(y_t)\n",
    "\n",
    "lgbm.fit(X_train_2,y_train_change)\n",
    "\n",
    "pre7 = lgbm.predict(X_test)\n",
    "# kaggle 양식 불러오기\n",
    "rs =  pd.read_csv('./data/kaggle/sample_submission.csv')\n",
    "rs['income'] = pre7 # 내 모델의 예측 결과를 양식에 넣기\n",
    "rs.to_csv('RRRRReal7.csv', index = False)\n",
    "\n",
    "scores = cross_val_score(lgbm, X_train_2, y_train_change, cv=5, scoring='accuracy')\n",
    "\n",
    "# 교차 검증 결과 출력\n",
    "print(\"교차 검증 정확도:\", scores)\n",
    "print(\"평균 정확도:\", scores.mean())"
   ]
  },
  {
   "cell_type": "code",
   "execution_count": 19,
   "id": "c5277b4f",
   "metadata": {
    "ExecuteTime": {
     "end_time": "2023-05-31T08:25:22.423133Z",
     "start_time": "2023-05-31T08:25:19.762252Z"
    }
   },
   "outputs": [
    {
     "name": "stdout",
     "output_type": "stream",
     "text": [
      "교차 검증 정확도: [0.87675299 0.87941447 0.90038903 0.9210688  0.94420557]\n",
      "평균 정확도: 0.9043661718372539\n"
     ]
    }
   ],
   "source": [
    "# 위 과정 반복 -> 모델 예측한 결과중 더 좋은 결과를 다시 테스트 데이터의 정답으로 활용 + 트레인 데이터와 다시 합치고 다시 모델 학습\n",
    "y_t = np.concatenate([y_1, pre7])\n",
    "y_t = list(y_t)\n",
    "y_train_change=pd.Series(y_t)\n",
    "\n",
    "lgbm.fit(X_train_2,y_train_change)\n",
    "\n",
    "pre8 = lgbm.predict(X_test)\n",
    "# kaggle 양식 불러오기\n",
    "rs =  pd.read_csv('./data/kaggle/sample_submission.csv')\n",
    "rs['income'] = pre8 # 내 모델의 예측 결과를 양식에 넣기\n",
    "rs.to_csv('RRRRReal8.csv', index = False)\n",
    "\n",
    "scores = cross_val_score(lgbm, X_train_2, y_train_change, cv=5, scoring='accuracy')\n",
    "\n",
    "# 교차 검증 결과 출력\n",
    "print(\"교차 검증 정확도:\", scores)\n",
    "print(\"평균 정확도:\", scores.mean())"
   ]
  },
  {
   "cell_type": "code",
   "execution_count": 20,
   "id": "8da75b31",
   "metadata": {
    "ExecuteTime": {
     "end_time": "2023-05-31T08:25:25.179757Z",
     "start_time": "2023-05-31T08:25:22.425128Z"
    }
   },
   "outputs": [
    {
     "name": "stdout",
     "output_type": "stream",
     "text": [
      "교차 검증 정확도: [0.87716245 0.88094994 0.90069615 0.92076167 0.94369369]\n",
      "평균 정확도: 0.904652782301467\n"
     ]
    }
   ],
   "source": [
    "# 위 과정 반복 -> 모델 예측한 결과중 더 좋은 결과를 다시 테스트 데이터의 정답으로 활용 + 트레인 데이터와 다시 합치고 다시 모델 학습\n",
    "y_t = np.concatenate([y_1, pre8])\n",
    "y_t = list(y_t)\n",
    "y_train_change=pd.Series(y_t)\n",
    "\n",
    "lgbm.fit(X_train_2,y_train_change)\n",
    "\n",
    "pre9 = lgbm.predict(X_test)\n",
    "# kaggle 양식 불러오기\n",
    "rs =  pd.read_csv('./data/kaggle/sample_submission.csv')\n",
    "rs['income'] = pre9 # 내 모델의 예측 결과를 양식에 넣기\n",
    "rs.to_csv('RRRRReal9.csv', index = False)\n",
    "\n",
    "scores = cross_val_score(lgbm, X_train_2, y_train_change, cv=5, scoring='accuracy')\n",
    "\n",
    "# 교차 검증 결과 출력\n",
    "print(\"교차 검증 정확도:\", scores)\n",
    "print(\"평균 정확도:\", scores.mean())"
   ]
  },
  {
   "cell_type": "code",
   "execution_count": 21,
   "id": "67f730c1",
   "metadata": {
    "ExecuteTime": {
     "end_time": "2023-05-31T08:25:27.798259Z",
     "start_time": "2023-05-31T08:25:25.181752Z"
    }
   },
   "outputs": [
    {
     "name": "stdout",
     "output_type": "stream",
     "text": [
      "교차 검증 정확도: [0.87716245 0.88115467 0.89936527 0.9218878  0.94963145]\n",
      "평균 정확도: 0.9058403292971826\n"
     ]
    }
   ],
   "source": [
    "# 위 과정 반복 -> 모델 예측한 결과중 더 좋은 결과를 다시 테스트 데이터의 정답으로 활용 + 트레인 데이터와 다시 합치고 다시 모델 학습\n",
    "y_t = np.concatenate([y_1, pre9])\n",
    "y_t = list(y_t)\n",
    "y_train_change=pd.Series(y_t)\n",
    "\n",
    "lgbm.fit(X_train_2,y_train_change)\n",
    "\n",
    "pre10 = lgbm.predict(X_test)\n",
    "# kaggle 양식 불러오기\n",
    "rs =  pd.read_csv('./data/kaggle/sample_submission.csv')\n",
    "rs['income'] = pre10 # 내 모델의 예측 결과를 양식에 넣기\n",
    "rs.to_csv('RRRRReal10.csv', index = False)\n",
    "\n",
    "scores = cross_val_score(lgbm, X_train_2, y_train_change, cv=5, scoring='accuracy')\n",
    "\n",
    "# 교차 검증 결과 출력\n",
    "print(\"교차 검증 정확도:\", scores)\n",
    "print(\"평균 정확도:\", scores.mean())"
   ]
  },
  {
   "cell_type": "code",
   "execution_count": 22,
   "id": "f4e4b9e7",
   "metadata": {
    "ExecuteTime": {
     "end_time": "2023-05-31T08:25:30.492051Z",
     "start_time": "2023-05-31T08:25:27.800254Z"
    }
   },
   "outputs": [
    {
     "name": "stdout",
     "output_type": "stream",
     "text": [
      "교차 검증 정확도: [0.87716245 0.88115467 0.89936527 0.9218878  0.94963145]\n",
      "평균 정확도: 0.9058403292971826\n"
     ]
    }
   ],
   "source": [
    "# 위 과정 반복 -> 모델 예측한 결과중 더 좋은 결과를 다시 테스트 데이터의 정답으로 활용 + 트레인 데이터와 다시 합치고 다시 모델 학습\n",
    "y_t = np.concatenate([y_1, pre10])\n",
    "y_t = list(y_t)\n",
    "y_train_change=pd.Series(y_t)\n",
    "\n",
    "lgbm.fit(X_train_2,y_train_change)\n",
    "\n",
    "pre11 = lgbm.predict(X_test)\n",
    "# kaggle 양식 불러오기\n",
    "rs =  pd.read_csv('./data/kaggle/sample_submission.csv')\n",
    "rs['income'] = pre11 # 내 모델의 예측 결과를 양식에 넣기\n",
    "rs.to_csv('RRRRReal11.csv', index = False)\n",
    "\n",
    "scores = cross_val_score(lgbm, X_train_2, y_train_change, cv=5, scoring='accuracy')\n",
    "\n",
    "# 교차 검증 결과 출력\n",
    "print(\"교차 검증 정확도:\", scores)\n",
    "print(\"평균 정확도:\", scores.mean())"
   ]
  },
  {
   "cell_type": "code",
   "execution_count": 23,
   "id": "6af26d8e",
   "metadata": {
    "ExecuteTime": {
     "end_time": "2023-05-31T08:25:33.141962Z",
     "start_time": "2023-05-31T08:25:30.494046Z"
    }
   },
   "outputs": [
    {
     "name": "stdout",
     "output_type": "stream",
     "text": [
      "교차 검증 정확도: [0.87716245 0.88115467 0.89936527 0.9218878  0.94963145]\n",
      "평균 정확도: 0.9058403292971826\n"
     ]
    }
   ],
   "source": [
    "# 위 과정 반복 -> 모델 예측한 결과중 더 좋은 결과를 다시 테스트 데이터의 정답으로 활용 + 트레인 데이터와 다시 합치고 다시 모델 학습\n",
    "y_t = np.concatenate([y_1, pre11])\n",
    "y_t = list(y_t)\n",
    "y_train_change=pd.Series(y_t)\n",
    "\n",
    "lgbm.fit(X_train_2,y_train_change)\n",
    "\n",
    "pre12 = lgbm.predict(X_test)\n",
    "# kaggle 양식 불러오기\n",
    "rs =  pd.read_csv('./data/kaggle/sample_submission.csv')\n",
    "rs['income'] = pre12 # 내 모델의 예측 결과를 양식에 넣기\n",
    "rs.to_csv('RRRRReal12.csv', index = False)\n",
    "\n",
    "scores = cross_val_score(lgbm, X_train_2, y_train_change, cv=5, scoring='accuracy')\n",
    "\n",
    "# 교차 검증 결과 출력\n",
    "print(\"교차 검증 정확도:\", scores)\n",
    "print(\"평균 정확도:\", scores.mean())"
   ]
  },
  {
   "cell_type": "code",
   "execution_count": null,
   "id": "06874bc5",
   "metadata": {},
   "outputs": [],
   "source": []
  },
  {
   "cell_type": "code",
   "execution_count": null,
   "id": "48995fba",
   "metadata": {},
   "outputs": [],
   "source": []
  },
  {
   "cell_type": "code",
   "execution_count": null,
   "id": "596fa63f",
   "metadata": {},
   "outputs": [],
   "source": []
  },
  {
   "cell_type": "code",
   "execution_count": null,
   "id": "7b35afee",
   "metadata": {},
   "outputs": [],
   "source": []
  },
  {
   "cell_type": "code",
   "execution_count": null,
   "id": "129d3bc0",
   "metadata": {},
   "outputs": [],
   "source": []
  },
  {
   "cell_type": "code",
   "execution_count": null,
   "id": "a6b73099",
   "metadata": {},
   "outputs": [],
   "source": []
  },
  {
   "cell_type": "code",
   "execution_count": null,
   "id": "6d8a2156",
   "metadata": {},
   "outputs": [],
   "source": []
  },
  {
   "cell_type": "code",
   "execution_count": null,
   "id": "e4e37ad0",
   "metadata": {},
   "outputs": [],
   "source": []
  },
  {
   "cell_type": "code",
   "execution_count": null,
   "id": "a9481441",
   "metadata": {},
   "outputs": [],
   "source": []
  },
  {
   "cell_type": "code",
   "execution_count": null,
   "id": "2e2a20e3",
   "metadata": {},
   "outputs": [],
   "source": []
  },
  {
   "cell_type": "code",
   "execution_count": null,
   "id": "4edca9b8",
   "metadata": {},
   "outputs": [],
   "source": []
  },
  {
   "cell_type": "code",
   "execution_count": 24,
   "id": "a33bd1ef",
   "metadata": {
    "ExecuteTime": {
     "end_time": "2023-05-31T08:26:37.008142Z",
     "start_time": "2023-05-31T08:25:33.143956Z"
    }
   },
   "outputs": [
    {
     "name": "stdout",
     "output_type": "stream",
     "text": [
      "{'colsample_bytree': 0.8, 'learning_rate': 0.08, 'max_depth': 6, 'n_estimators': 101, 'subsample': 0.3}\n",
      "0.8665074219416482\n"
     ]
    }
   ],
   "source": [
    "param = {'learning_rate' : np.arange(0.01,0.1,0.01) , 'max_depth' : range(3,11), 'colsample_bytree' : [0.8],'subsample': [0.3],'n_estimators' : [101]}\n",
    "grid = GridSearchCV(LGBMClassifier(), param, cv=5)\n",
    "grid.fit(X_train,y_train)\n",
    "print(grid.best_params_)\n",
    "print(grid.best_score_)"
   ]
  }
 ],
 "metadata": {
  "kernelspec": {
   "display_name": "Python 3 (ipykernel)",
   "language": "python",
   "name": "python3"
  },
  "language_info": {
   "codemirror_mode": {
    "name": "ipython",
    "version": 3
   },
   "file_extension": ".py",
   "mimetype": "text/x-python",
   "name": "python",
   "nbconvert_exporter": "python",
   "pygments_lexer": "ipython3",
   "version": "3.9.13"
  },
  "toc": {
   "base_numbering": 1,
   "nav_menu": {},
   "number_sections": true,
   "sideBar": true,
   "skip_h1_title": false,
   "title_cell": "Table of Contents",
   "title_sidebar": "Contents",
   "toc_cell": false,
   "toc_position": {},
   "toc_section_display": true,
   "toc_window_display": false
  },
  "varInspector": {
   "cols": {
    "lenName": 16,
    "lenType": 16,
    "lenVar": 40
   },
   "kernels_config": {
    "python": {
     "delete_cmd_postfix": "",
     "delete_cmd_prefix": "del ",
     "library": "var_list.py",
     "varRefreshCmd": "print(var_dic_list())"
    },
    "r": {
     "delete_cmd_postfix": ") ",
     "delete_cmd_prefix": "rm(",
     "library": "var_list.r",
     "varRefreshCmd": "cat(var_dic_list()) "
    }
   },
   "types_to_exclude": [
    "module",
    "function",
    "builtin_function_or_method",
    "instance",
    "_Feature"
   ],
   "window_display": false
  }
 },
 "nbformat": 4,
 "nbformat_minor": 5
}
