{
 "cells": [
  {
   "cell_type": "markdown",
   "id": "0385c8e4",
   "metadata": {},
   "source": [
    "### 목표\n",
    "- 네이버 영화리뷰 데이터 셋을 이용해 긍정리뷰 / 부정리뷰를 분류하는 모델을 만들어보자\n",
    "- TF-IDF 방법을 적용해보자\n",
    "- Konlpy 한국어 형태소 분석기를 설치하고 활용해보자\n",
    "- 단어별 긍정/ 부정 정보를 시각화해서 확인해보자"
   ]
  },
  {
   "cell_type": "code",
   "execution_count": 1,
   "id": "beb03e2e",
   "metadata": {
    "ExecuteTime": {
     "end_time": "2023-06-05T00:03:57.160651Z",
     "start_time": "2023-06-05T00:03:57.143120Z"
    }
   },
   "outputs": [],
   "source": [
    "# Java 버전 확인하기\n",
    "# 자바 버전은 cmd창에서 java -version으로 확인할 수 있다.\n",
    "# 1.7버전 이상 설치가 필요하다"
   ]
  },
  {
   "cell_type": "code",
   "execution_count": 2,
   "id": "7d0b1f9e",
   "metadata": {
    "ExecuteTime": {
     "end_time": "2023-06-05T00:04:01.265290Z",
     "start_time": "2023-06-05T00:03:57.162646Z"
    }
   },
   "outputs": [
    {
     "name": "stdout",
     "output_type": "stream",
     "text": [
      "Requirement already satisfied: jpype1 in c:\\users\\smhrd\\anaconda3\\lib\\site-packages (1.4.1)\n",
      "Requirement already satisfied: packaging in c:\\users\\smhrd\\anaconda3\\lib\\site-packages (from jpype1) (21.3)\n",
      "Requirement already satisfied: pyparsing!=3.0.5,>=2.0.2 in c:\\users\\smhrd\\anaconda3\\lib\\site-packages (from packaging->jpype1) (3.0.9)\n"
     ]
    }
   ],
   "source": [
    "# jpype1이라는 라이브러리는 java 라이브러리인 konlㅔy를 파이썬 환경에서 구동되도록 도와주는 라이브러리\n",
    "!pip install jpype1"
   ]
  },
  {
   "cell_type": "code",
   "execution_count": 3,
   "id": "235eb851",
   "metadata": {
    "ExecuteTime": {
     "end_time": "2023-06-05T00:04:05.332155Z",
     "start_time": "2023-06-05T00:04:01.265290Z"
    }
   },
   "outputs": [
    {
     "name": "stdout",
     "output_type": "stream",
     "text": [
      "Requirement already satisfied: konlpy in c:\\users\\smhrd\\anaconda3\\lib\\site-packages (0.6.0)\n",
      "Requirement already satisfied: JPype1>=0.7.0 in c:\\users\\smhrd\\anaconda3\\lib\\site-packages (from konlpy) (1.4.1)\n",
      "Requirement already satisfied: numpy>=1.6 in c:\\users\\smhrd\\anaconda3\\lib\\site-packages (from konlpy) (1.21.5)\n",
      "Requirement already satisfied: lxml>=4.1.0 in c:\\users\\smhrd\\anaconda3\\lib\\site-packages (from konlpy) (4.9.1)\n",
      "Requirement already satisfied: packaging in c:\\users\\smhrd\\anaconda3\\lib\\site-packages (from JPype1>=0.7.0->konlpy) (21.3)\n",
      "Requirement already satisfied: pyparsing!=3.0.5,>=2.0.2 in c:\\users\\smhrd\\anaconda3\\lib\\site-packages (from packaging->JPype1>=0.7.0->konlpy) (3.0.9)\n"
     ]
    }
   ],
   "source": [
    "# konlpy 설치하기\n",
    "# konlpy -> 한국어 형태소 분석기 모음집\n",
    "!pip install konlpy"
   ]
  },
  {
   "cell_type": "code",
   "execution_count": 4,
   "id": "8607e69b",
   "metadata": {
    "ExecuteTime": {
     "end_time": "2023-06-05T00:04:05.384638Z",
     "start_time": "2023-06-05T00:04:05.332155Z"
    }
   },
   "outputs": [],
   "source": [
    "from konlpy.tag import Kkma"
   ]
  },
  {
   "cell_type": "code",
   "execution_count": 5,
   "id": "481b57dd",
   "metadata": {
    "ExecuteTime": {
     "end_time": "2023-06-05T00:04:05.813039Z",
     "start_time": "2023-06-05T00:04:05.388633Z"
    }
   },
   "outputs": [],
   "source": [
    "kkma = Kkma()"
   ]
  },
  {
   "cell_type": "code",
   "execution_count": 6,
   "id": "b1179db2",
   "metadata": {
    "ExecuteTime": {
     "end_time": "2023-06-05T00:04:15.472664Z",
     "start_time": "2023-06-05T00:04:05.813039Z"
    }
   },
   "outputs": [
    {
     "data": {
      "text/plain": [
       "['나비']"
      ]
     },
     "execution_count": 6,
     "metadata": {},
     "output_type": "execute_result"
    }
   ],
   "source": [
    "kkma.nouns('나비')"
   ]
  },
  {
   "cell_type": "markdown",
   "id": "df4afd98",
   "metadata": {},
   "source": [
    "### os에러가 뜨는 경우\n",
    "- jvm.dll 파일을 찾을 수 없다는 에러가 뜰 것 \n",
    "- 시스템 환경변수가 제대로 잡혔는지 확인을 해보자!"
   ]
  },
  {
   "cell_type": "code",
   "execution_count": 7,
   "id": "c29cd42f",
   "metadata": {
    "ExecuteTime": {
     "end_time": "2023-06-05T00:04:15.488620Z",
     "start_time": "2023-06-05T00:04:15.478648Z"
    }
   },
   "outputs": [],
   "source": [
    "import os # 시스템 접근"
   ]
  },
  {
   "cell_type": "code",
   "execution_count": 8,
   "id": "2ff4ba64",
   "metadata": {
    "ExecuteTime": {
     "end_time": "2023-06-05T00:04:15.519875Z",
     "start_time": "2023-06-05T00:04:15.490801Z"
    }
   },
   "outputs": [
    {
     "name": "stdout",
     "output_type": "stream",
     "text": [
      "False\n"
     ]
    }
   ],
   "source": [
    "print('JAVA_HOME'in os.environ)"
   ]
  },
  {
   "cell_type": "code",
   "execution_count": 9,
   "id": "d2c8adcd",
   "metadata": {
    "ExecuteTime": {
     "end_time": "2023-06-05T00:04:15.537460Z",
     "start_time": "2023-06-05T00:04:15.522259Z"
    }
   },
   "outputs": [],
   "source": [
    "# 파일 탐색기로 접근\n",
    "os.environ['JAVA_HOME'] = r'C:\\Program Files\\Java\\jdk1.8.0_202\\bin'"
   ]
  },
  {
   "cell_type": "code",
   "execution_count": 10,
   "id": "917fac67",
   "metadata": {
    "ExecuteTime": {
     "end_time": "2023-06-05T00:04:15.553906Z",
     "start_time": "2023-06-05T00:04:15.543232Z"
    }
   },
   "outputs": [
    {
     "name": "stdout",
     "output_type": "stream",
     "text": [
      "True\n"
     ]
    }
   ],
   "source": [
    "print('JAVA_HOME'in os.environ)"
   ]
  },
  {
   "cell_type": "markdown",
   "id": "a4d90e15",
   "metadata": {},
   "source": [
    "### 네이버 데이터 로딩"
   ]
  },
  {
   "cell_type": "code",
   "execution_count": 11,
   "id": "a99ab7fb",
   "metadata": {
    "ExecuteTime": {
     "end_time": "2023-06-05T00:04:16.070389Z",
     "start_time": "2023-06-05T00:04:15.555902Z"
    }
   },
   "outputs": [],
   "source": [
    "import pandas as pd"
   ]
  },
  {
   "cell_type": "code",
   "execution_count": 12,
   "id": "978a8d0c",
   "metadata": {
    "ExecuteTime": {
     "end_time": "2023-06-05T00:04:17.288584Z",
     "start_time": "2023-06-05T00:04:16.072142Z"
    }
   },
   "outputs": [],
   "source": [
    "df_train = pd.read_csv('./data/ratings_train.csv')\n",
    "df_test = pd.read_csv('./data/ratings_test.csv')"
   ]
  },
  {
   "cell_type": "code",
   "execution_count": 13,
   "id": "d8e7d474",
   "metadata": {
    "ExecuteTime": {
     "end_time": "2023-06-05T00:04:17.322174Z",
     "start_time": "2023-06-05T00:04:17.290158Z"
    }
   },
   "outputs": [
    {
     "data": {
      "text/html": [
       "<div>\n",
       "<style scoped>\n",
       "    .dataframe tbody tr th:only-of-type {\n",
       "        vertical-align: middle;\n",
       "    }\n",
       "\n",
       "    .dataframe tbody tr th {\n",
       "        vertical-align: top;\n",
       "    }\n",
       "\n",
       "    .dataframe thead th {\n",
       "        text-align: right;\n",
       "    }\n",
       "</style>\n",
       "<table border=\"1\" class=\"dataframe\">\n",
       "  <thead>\n",
       "    <tr style=\"text-align: right;\">\n",
       "      <th></th>\n",
       "      <th>id</th>\n",
       "      <th>document</th>\n",
       "      <th>label</th>\n",
       "    </tr>\n",
       "  </thead>\n",
       "  <tbody>\n",
       "    <tr>\n",
       "      <th>0</th>\n",
       "      <td>9976970</td>\n",
       "      <td>아 더빙.. 진짜 짜증나네요 목소리</td>\n",
       "      <td>0</td>\n",
       "    </tr>\n",
       "    <tr>\n",
       "      <th>1</th>\n",
       "      <td>3819312</td>\n",
       "      <td>흠...포스터보고 초딩영화줄....오버연기조차 가볍지 않구나</td>\n",
       "      <td>1</td>\n",
       "    </tr>\n",
       "    <tr>\n",
       "      <th>2</th>\n",
       "      <td>10265843</td>\n",
       "      <td>너무재밓었다그래서보는것을추천한다</td>\n",
       "      <td>0</td>\n",
       "    </tr>\n",
       "    <tr>\n",
       "      <th>3</th>\n",
       "      <td>9045019</td>\n",
       "      <td>교도소 이야기구먼 ..솔직히 재미는 없다..평점 조정</td>\n",
       "      <td>0</td>\n",
       "    </tr>\n",
       "    <tr>\n",
       "      <th>4</th>\n",
       "      <td>6483659</td>\n",
       "      <td>사이몬페그의 익살스런 연기가 돋보였던 영화!스파이더맨에서 늙어보이기만 했던 커스틴 ...</td>\n",
       "      <td>1</td>\n",
       "    </tr>\n",
       "    <tr>\n",
       "      <th>...</th>\n",
       "      <td>...</td>\n",
       "      <td>...</td>\n",
       "      <td>...</td>\n",
       "    </tr>\n",
       "    <tr>\n",
       "      <th>149995</th>\n",
       "      <td>6222902</td>\n",
       "      <td>인간이 문제지.. 소는 뭔죄인가..</td>\n",
       "      <td>0</td>\n",
       "    </tr>\n",
       "    <tr>\n",
       "      <th>149996</th>\n",
       "      <td>8549745</td>\n",
       "      <td>평점이 너무 낮아서...</td>\n",
       "      <td>1</td>\n",
       "    </tr>\n",
       "    <tr>\n",
       "      <th>149997</th>\n",
       "      <td>9311800</td>\n",
       "      <td>이게 뭐요? 한국인은 거들먹거리고 필리핀 혼혈은 착하다?</td>\n",
       "      <td>0</td>\n",
       "    </tr>\n",
       "    <tr>\n",
       "      <th>149998</th>\n",
       "      <td>2376369</td>\n",
       "      <td>청춘 영화의 최고봉.방황과 우울했던 날들의 자화상</td>\n",
       "      <td>1</td>\n",
       "    </tr>\n",
       "    <tr>\n",
       "      <th>149999</th>\n",
       "      <td>9619869</td>\n",
       "      <td>한국 영화 최초로 수간하는 내용이 담긴 영화</td>\n",
       "      <td>0</td>\n",
       "    </tr>\n",
       "  </tbody>\n",
       "</table>\n",
       "<p>150000 rows × 3 columns</p>\n",
       "</div>"
      ],
      "text/plain": [
       "              id                                           document  label\n",
       "0        9976970                                아 더빙.. 진짜 짜증나네요 목소리      0\n",
       "1        3819312                  흠...포스터보고 초딩영화줄....오버연기조차 가볍지 않구나      1\n",
       "2       10265843                                  너무재밓었다그래서보는것을추천한다      0\n",
       "3        9045019                      교도소 이야기구먼 ..솔직히 재미는 없다..평점 조정      0\n",
       "4        6483659  사이몬페그의 익살스런 연기가 돋보였던 영화!스파이더맨에서 늙어보이기만 했던 커스틴 ...      1\n",
       "...          ...                                                ...    ...\n",
       "149995   6222902                                인간이 문제지.. 소는 뭔죄인가..      0\n",
       "149996   8549745                                      평점이 너무 낮아서...      1\n",
       "149997   9311800                    이게 뭐요? 한국인은 거들먹거리고 필리핀 혼혈은 착하다?      0\n",
       "149998   2376369                        청춘 영화의 최고봉.방황과 우울했던 날들의 자화상      1\n",
       "149999   9619869                           한국 영화 최초로 수간하는 내용이 담긴 영화      0\n",
       "\n",
       "[150000 rows x 3 columns]"
      ]
     },
     "execution_count": 13,
     "metadata": {},
     "output_type": "execute_result"
    }
   ],
   "source": [
    "df_train"
   ]
  },
  {
   "cell_type": "code",
   "execution_count": 14,
   "id": "ef52cf94",
   "metadata": {
    "ExecuteTime": {
     "end_time": "2023-06-05T00:04:17.330475Z",
     "start_time": "2023-06-05T00:04:17.324193Z"
    }
   },
   "outputs": [],
   "source": [
    "# id : 평점과 리뷰를 적은 사용자의 번호\n",
    "# document : 실제 리뷰 내용\n",
    "# label : 긍정 / 부정, 1은 긍정 0은 부정"
   ]
  },
  {
   "cell_type": "code",
   "execution_count": 15,
   "id": "6de8d5d5",
   "metadata": {
    "ExecuteTime": {
     "end_time": "2023-06-05T00:04:17.377236Z",
     "start_time": "2023-06-05T00:04:17.330475Z"
    }
   },
   "outputs": [
    {
     "name": "stdout",
     "output_type": "stream",
     "text": [
      "<class 'pandas.core.frame.DataFrame'>\n",
      "RangeIndex: 150000 entries, 0 to 149999\n",
      "Data columns (total 3 columns):\n",
      " #   Column    Non-Null Count   Dtype \n",
      "---  ------    --------------   ----- \n",
      " 0   id        150000 non-null  int64 \n",
      " 1   document  149995 non-null  object\n",
      " 2   label     150000 non-null  int64 \n",
      "dtypes: int64(2), object(1)\n",
      "memory usage: 3.4+ MB\n"
     ]
    }
   ],
   "source": [
    "# 결측치 확인\n",
    "df_train.info()"
   ]
  },
  {
   "cell_type": "code",
   "execution_count": 16,
   "id": "6b8739db",
   "metadata": {
    "ExecuteTime": {
     "end_time": "2023-06-05T00:04:17.408879Z",
     "start_time": "2023-06-05T00:04:17.378953Z"
    }
   },
   "outputs": [
    {
     "name": "stdout",
     "output_type": "stream",
     "text": [
      "<class 'pandas.core.frame.DataFrame'>\n",
      "RangeIndex: 50000 entries, 0 to 49999\n",
      "Data columns (total 3 columns):\n",
      " #   Column    Non-Null Count  Dtype \n",
      "---  ------    --------------  ----- \n",
      " 0   id        50000 non-null  int64 \n",
      " 1   document  49997 non-null  object\n",
      " 2   label     50000 non-null  int64 \n",
      "dtypes: int64(2), object(1)\n",
      "memory usage: 1.1+ MB\n"
     ]
    }
   ],
   "source": [
    "# 결측치 확인\n",
    "df_test.info()"
   ]
  },
  {
   "cell_type": "markdown",
   "id": "62202c24",
   "metadata": {},
   "source": [
    "- train과 test에서 결측치 여부가 확인\n",
    "- 각각 5개/3개의 결측치\n",
    "- 결측치의 양이 많지 않음! , 실제 리뷰내용은 채워주기 어려움 -> 삭제"
   ]
  },
  {
   "cell_type": "code",
   "execution_count": 17,
   "id": "ed5a8f2e",
   "metadata": {
    "ExecuteTime": {
     "end_time": "2023-06-05T00:04:17.456590Z",
     "start_time": "2023-06-05T00:04:17.410831Z"
    }
   },
   "outputs": [],
   "source": [
    "# 결측치 제거 -> 비어있는 값 삭제 함수 dropna\n",
    "df_train.dropna(inplace=True)\n",
    "df_test.dropna(inplace=True)"
   ]
  },
  {
   "cell_type": "code",
   "execution_count": 18,
   "id": "c67790ea",
   "metadata": {
    "ExecuteTime": {
     "end_time": "2023-06-05T00:04:17.490749Z",
     "start_time": "2023-06-05T00:04:17.457494Z"
    }
   },
   "outputs": [
    {
     "name": "stdout",
     "output_type": "stream",
     "text": [
      "<class 'pandas.core.frame.DataFrame'>\n",
      "Int64Index: 149995 entries, 0 to 149999\n",
      "Data columns (total 3 columns):\n",
      " #   Column    Non-Null Count   Dtype \n",
      "---  ------    --------------   ----- \n",
      " 0   id        149995 non-null  int64 \n",
      " 1   document  149995 non-null  object\n",
      " 2   label     149995 non-null  int64 \n",
      "dtypes: int64(2), object(1)\n",
      "memory usage: 4.6+ MB\n"
     ]
    }
   ],
   "source": [
    "df_train.info()"
   ]
  },
  {
   "cell_type": "code",
   "execution_count": 19,
   "id": "6509cb5b",
   "metadata": {
    "ExecuteTime": {
     "end_time": "2023-06-05T00:04:17.514191Z",
     "start_time": "2023-06-05T00:04:17.490749Z"
    }
   },
   "outputs": [
    {
     "name": "stdout",
     "output_type": "stream",
     "text": [
      "<class 'pandas.core.frame.DataFrame'>\n",
      "Int64Index: 49997 entries, 0 to 49999\n",
      "Data columns (total 3 columns):\n",
      " #   Column    Non-Null Count  Dtype \n",
      "---  ------    --------------  ----- \n",
      " 0   id        49997 non-null  int64 \n",
      " 1   document  49997 non-null  object\n",
      " 2   label     49997 non-null  int64 \n",
      "dtypes: int64(2), object(1)\n",
      "memory usage: 1.5+ MB\n"
     ]
    }
   ],
   "source": [
    "df_test.info()"
   ]
  },
  {
   "cell_type": "markdown",
   "id": "e03f0663",
   "metadata": {},
   "source": [
    "### 데이터 분할\n",
    "- 문제와 정답 데이터로 분할"
   ]
  },
  {
   "cell_type": "code",
   "execution_count": 20,
   "id": "ba87c62e",
   "metadata": {
    "ExecuteTime": {
     "end_time": "2023-06-05T00:04:17.530242Z",
     "start_time": "2023-06-05T00:04:17.514191Z"
    }
   },
   "outputs": [],
   "source": [
    "text_train = df_train['document']\n",
    "y_train = df_train['label']\n",
    "text_test = df_test['document']\n",
    "y_test = df_test['label']"
   ]
  },
  {
   "cell_type": "code",
   "execution_count": 21,
   "id": "30173e9f",
   "metadata": {
    "ExecuteTime": {
     "end_time": "2023-06-05T00:04:17.545935Z",
     "start_time": "2023-06-05T00:04:17.530639Z"
    }
   },
   "outputs": [
    {
     "name": "stdout",
     "output_type": "stream",
     "text": [
      "(149995,)\n",
      "(149995,)\n",
      "(49997,)\n",
      "(49997,)\n"
     ]
    }
   ],
   "source": [
    "print(text_train.shape)\n",
    "print(y_train.shape)\n",
    "print(text_test.shape)\n",
    "print(y_test.shape)"
   ]
  },
  {
   "cell_type": "markdown",
   "id": "141c7bbc",
   "metadata": {},
   "source": [
    "**Vectorizer**\n",
    "- Vectorizer라는 도구는 말 그대로 대상을 벡터라는 수치값으로 변화내주는 도구\n",
    "- 기계학습 분야에서는 주로 텍스트 데이터를 쉽게 분석하기 위해 벡터화 시켜주는 경우가 많다.\n",
    "- 숫자나 수치형의 벡터를 입력받기를 기대하는 머신러닝 모델을 실행하기 위해서 텍스트나 다른 형태의 데이터를 숫잔는 벡터로 나타낼 필요가 있다."
   ]
  },
  {
   "cell_type": "markdown",
   "id": "be491900",
   "metadata": {},
   "source": [
    "### BOW(단어 가방, Bag Of Word)\n",
    "- 문서 또는 말뭉치를 벡터라는 수치값으로 변환하는 기본적인 방법\n",
    "- 문서 내에 있는 모든 단어를 모아 하나의 가방으로 만들어서 특정 문서에 어떤 단어가 들어있는지 리스트 형태로 표현하고 순서-숫자의 형태로 나타내는 방법"
   ]
  },
  {
   "cell_type": "code",
   "execution_count": 22,
   "id": "7f8d0bff",
   "metadata": {
    "ExecuteTime": {
     "end_time": "2023-06-05T00:04:19.006179Z",
     "start_time": "2023-06-05T00:04:17.546161Z"
    }
   },
   "outputs": [],
   "source": [
    "from sklearn.feature_extraction.text import TfidfVectorizer"
   ]
  },
  {
   "cell_type": "code",
   "execution_count": 23,
   "id": "4608bb49",
   "metadata": {
    "ExecuteTime": {
     "end_time": "2023-06-05T00:04:19.022935Z",
     "start_time": "2023-06-05T00:04:19.007974Z"
    }
   },
   "outputs": [
    {
     "data": {
      "text/plain": [
       "0                  아 더빙.. 진짜 짜증나네요 목소리\n",
       "1    흠...포스터보고 초딩영화줄....오버연기조차 가볍지 않구나\n",
       "2                    너무재밓었다그래서보는것을추천한다\n",
       "Name: document, dtype: object"
      ]
     },
     "execution_count": 23,
     "metadata": {},
     "output_type": "execute_result"
    }
   ],
   "source": [
    "text_train[:3]"
   ]
  },
  {
   "cell_type": "code",
   "execution_count": 24,
   "id": "8e49b9a4",
   "metadata": {
    "ExecuteTime": {
     "end_time": "2023-06-05T00:04:19.046215Z",
     "start_time": "2023-06-05T00:04:19.024138Z"
    }
   },
   "outputs": [
    {
     "data": {
      "text/plain": [
       "dict_keys(['더빙', '진짜', '짜증나네요', '목소리', '포스터보고', '초딩영화줄', '오버연기조차', '가볍지', '않구나', '너무재밓었다그래서보는것을추천한다'])"
      ]
     },
     "execution_count": 24,
     "metadata": {},
     "output_type": "execute_result"
    }
   ],
   "source": [
    "# Tf_idf 벡터라이저 객체 생성\n",
    "tf_idf_vect = TfidfVectorizer()\n",
    "# 단어가방 만들기\n",
    "tf_idf_vect.fit(text_train[:3])\n",
    "# 분리된 문장으로 만든 단어사전 출력\n",
    "tf_idf_vect.vocabulary_.keys()"
   ]
  },
  {
   "cell_type": "markdown",
   "id": "3a134688",
   "metadata": {},
   "source": [
    "- 기본 TF-IDF 벡터라이저는 기본적으로 어절 단위로 끊어준다 -> 한국어 특성상 의미 파악이 어렵다\n",
    "    - 어절 (문장을 이루는 토막)\n",
    "- 조금 더 원활한 분석을 위해 의미를 가진 더 작은 단위로 분할해주자(형태소 단위)"
   ]
  },
  {
   "cell_type": "markdown",
   "id": "d80241ef",
   "metadata": {},
   "source": [
    "### 한국어 형태소 분석기\n",
    "**konlpy-Kkma** 꼬꼬마, 서울대학교 IDS(Intelligent Data System) 연구실 개발\n",
    "- nouns() : 명사 추출\n",
    "- morphs() : 형태소 추출\n",
    "- pos() : 형태소 추출 + 품사 부착"
   ]
  },
  {
   "cell_type": "code",
   "execution_count": 25,
   "id": "9dc5b3c1",
   "metadata": {
    "ExecuteTime": {
     "end_time": "2023-06-05T00:04:19.060208Z",
     "start_time": "2023-06-05T00:04:19.046669Z"
    }
   },
   "outputs": [],
   "source": [
    "# Mecab를 제외한 나머지는 구동이 잘됨\n",
    "from konlpy.tag import Kkma"
   ]
  },
  {
   "cell_type": "code",
   "execution_count": 26,
   "id": "22ea9e9e",
   "metadata": {
    "ExecuteTime": {
     "end_time": "2023-06-05T00:04:19.075596Z",
     "start_time": "2023-06-05T00:04:19.060208Z"
    }
   },
   "outputs": [],
   "source": [
    "kkma=Kkma()"
   ]
  },
  {
   "cell_type": "code",
   "execution_count": 27,
   "id": "c10a2b2c",
   "metadata": {
    "ExecuteTime": {
     "end_time": "2023-06-05T00:04:19.091250Z",
     "start_time": "2023-06-05T00:04:19.077449Z"
    }
   },
   "outputs": [
    {
     "data": {
      "text/plain": [
       "'아 더빙.. 진짜 짜증나네요 목소리'"
      ]
     },
     "execution_count": 27,
     "metadata": {},
     "output_type": "execute_result"
    }
   ],
   "source": [
    "text_train[0]"
   ]
  },
  {
   "cell_type": "code",
   "execution_count": 28,
   "id": "460adbc7",
   "metadata": {
    "ExecuteTime": {
     "end_time": "2023-06-05T00:04:19.395564Z",
     "start_time": "2023-06-05T00:04:19.340452Z"
    }
   },
   "outputs": [
    {
     "data": {
      "text/plain": [
       "['더빙', '목소리']"
      ]
     },
     "execution_count": 28,
     "metadata": {},
     "output_type": "execute_result"
    }
   ],
   "source": [
    "# 명사 추출\n",
    "kkma.nouns(text_train[0])"
   ]
  },
  {
   "cell_type": "code",
   "execution_count": 29,
   "id": "057e6be6",
   "metadata": {
    "ExecuteTime": {
     "end_time": "2023-06-05T00:04:19.413074Z",
     "start_time": "2023-06-05T00:04:19.397559Z"
    }
   },
   "outputs": [],
   "source": [
    "# TF-IDF와 kkma.nouns() 연결해서 한국어 명사 추출기를 만들어보자\n",
    "def myTokenizer(text) : \n",
    "    return kkma.nouns(text)"
   ]
  },
  {
   "cell_type": "code",
   "execution_count": 30,
   "id": "0f3e25d0",
   "metadata": {
    "ExecuteTime": {
     "end_time": "2023-06-05T00:04:19.591716Z",
     "start_time": "2023-06-05T00:04:19.413074Z"
    }
   },
   "outputs": [
    {
     "name": "stderr",
     "output_type": "stream",
     "text": [
      "C:\\Users\\smhrd\\anaconda3\\lib\\site-packages\\sklearn\\feature_extraction\\text.py:516: UserWarning: The parameter 'token_pattern' will not be used since 'tokenizer' is not None'\n",
      "  warnings.warn(\n"
     ]
    },
    {
     "data": {
      "text/plain": [
       "dict_keys(['더빙', '목소리', '흠', '포스터', '포스터보고', '보고', '초', '초딩영화줄', '딩', '영화', '줄', '오버', '오버연기', '연기', '재', '재밓', '밓', '추천'])"
      ]
     },
     "execution_count": 30,
     "metadata": {},
     "output_type": "execute_result"
    }
   ],
   "source": [
    "tmp_tf_idf = TfidfVectorizer(tokenizer=myTokenizer)\n",
    "tmp_tf_idf.fit(text_train[:3])\n",
    "tmp_tf_idf.vocabulary_.keys()"
   ]
  },
  {
   "cell_type": "markdown",
   "id": "85e6ea3f",
   "metadata": {},
   "source": [
    "### pos tagging 활용\n",
    "- 감성 분석 => 형용사랑 동사를 주로 사용!"
   ]
  },
  {
   "cell_type": "markdown",
   "id": "97c1f50b",
   "metadata": {},
   "source": [
    "pos tagging = 형태소를 추출해서 품사를 태깅해주는 기능"
   ]
  },
  {
   "cell_type": "code",
   "execution_count": 31,
   "id": "f0e19110",
   "metadata": {
    "ExecuteTime": {
     "end_time": "2023-06-05T00:04:19.607417Z",
     "start_time": "2023-06-05T00:04:19.593709Z"
    }
   },
   "outputs": [
    {
     "data": {
      "text/plain": [
       "{'EC': '연결 어미',\n",
       " 'ECD': '의존적 연결 어미',\n",
       " 'ECE': '대등 연결 어미',\n",
       " 'ECS': '보조적 연결 어미',\n",
       " 'EF': '종결 어미',\n",
       " 'EFA': '청유형 종결 어미',\n",
       " 'EFI': '감탄형 종결 어미',\n",
       " 'EFN': '평서형 종결 어미',\n",
       " 'EFO': '명령형 종결 어미',\n",
       " 'EFQ': '의문형 종결 어미',\n",
       " 'EFR': '존칭형 종결 어미',\n",
       " 'EP': '선어말 어미',\n",
       " 'EPH': '존칭 선어말 어미',\n",
       " 'EPP': '공손 선어말 어미',\n",
       " 'EPT': '시제 선어말 어미',\n",
       " 'ET': '전성 어미',\n",
       " 'ETD': '관형형 전성 어미',\n",
       " 'ETN': '명사형 전성 어미',\n",
       " 'IC': '감탄사',\n",
       " 'JC': '접속 조사',\n",
       " 'JK': '조사',\n",
       " 'JKC': '보격 조사',\n",
       " 'JKG': '관형격 조사',\n",
       " 'JKI': '호격 조사',\n",
       " 'JKM': '부사격 조사',\n",
       " 'JKO': '목적격 조사',\n",
       " 'JKQ': '인용격 조사',\n",
       " 'JKS': '주격 조사',\n",
       " 'JX': '보조사',\n",
       " 'MA': '부사',\n",
       " 'MAC': '접속 부사',\n",
       " 'MAG': '일반 부사',\n",
       " 'MD': '관형사',\n",
       " 'MDN': '수 관형사',\n",
       " 'MDT': '일반 관형사',\n",
       " 'NN': '명사',\n",
       " 'NNB': '일반 의존 명사',\n",
       " 'NNG': '보통명사',\n",
       " 'NNM': '단위 의존 명사',\n",
       " 'NNP': '고유명사',\n",
       " 'NP': '대명사',\n",
       " 'NR': '수사',\n",
       " 'OH': '한자',\n",
       " 'OL': '외국어',\n",
       " 'ON': '숫자',\n",
       " 'SE': '줄임표',\n",
       " 'SF': '마침표, 물음표, 느낌표',\n",
       " 'SO': '붙임표(물결,숨김,빠짐)',\n",
       " 'SP': '쉼표,가운뎃점,콜론,빗금',\n",
       " 'SS': '따옴표,괄호표,줄표',\n",
       " 'SW': '기타기호 (논리수학기호,화폐기호)',\n",
       " 'UN': '명사추정범주',\n",
       " 'VA': '형용사',\n",
       " 'VC': '지정사',\n",
       " 'VCN': \"부정 지정사, 형용사 '아니다'\",\n",
       " 'VCP': \"긍정 지정사, 서술격 조사 '이다'\",\n",
       " 'VV': '동사',\n",
       " 'VX': '보조 용언',\n",
       " 'VXA': '보조 형용사',\n",
       " 'VXV': '보조 동사',\n",
       " 'XP': '접두사',\n",
       " 'XPN': '체언 접두사',\n",
       " 'XPV': '용언 접두사',\n",
       " 'XR': '어근',\n",
       " 'XSA': '형용사 파생 접미사',\n",
       " 'XSN': '명사파생 접미사',\n",
       " 'XSV': '동사 파생 접미사'}"
      ]
     },
     "execution_count": 31,
     "metadata": {},
     "output_type": "execute_result"
    }
   ],
   "source": [
    "# 품사 태그의 종류를 확인해보자\n",
    "kkma.tagset"
   ]
  },
  {
   "cell_type": "code",
   "execution_count": 32,
   "id": "12013482",
   "metadata": {
    "ExecuteTime": {
     "end_time": "2023-06-05T00:04:19.640705Z",
     "start_time": "2023-06-05T00:04:19.609410Z"
    }
   },
   "outputs": [
    {
     "data": {
      "text/plain": [
       "['집', '가다', '가', '고', '싶', '다', '배고프', '다', '먹', '다', '모자', '안경']"
      ]
     },
     "execution_count": 32,
     "metadata": {},
     "output_type": "execute_result"
    }
   ],
   "source": [
    "# 단순 형태소만 추출\n",
    "data = '집 가다 가고싶다 배고프다 먹다 모자 안경'\n",
    "kkma.morphs(data)\n",
    "# => 단순 형태소 별로 분할"
   ]
  },
  {
   "cell_type": "code",
   "execution_count": 33,
   "id": "1c1092c6",
   "metadata": {
    "ExecuteTime": {
     "end_time": "2023-06-05T00:04:19.661494Z",
     "start_time": "2023-06-05T00:04:19.642701Z"
    }
   },
   "outputs": [
    {
     "data": {
      "text/plain": [
       "[('집', 'NNG'),\n",
       " ('가다', 'MAG'),\n",
       " ('가', 'VV'),\n",
       " ('고', 'ECE'),\n",
       " ('싶', 'VXA'),\n",
       " ('다', 'ECS'),\n",
       " ('배고프', 'VA'),\n",
       " ('다', 'ECS'),\n",
       " ('먹', 'VV'),\n",
       " ('다', 'ECS'),\n",
       " ('모자', 'NNG'),\n",
       " ('안경', 'NNG')]"
      ]
     },
     "execution_count": 33,
     "metadata": {},
     "output_type": "execute_result"
    }
   ],
   "source": [
    "# 형태소 추출 및 품사 태깅\n",
    "kkma.pos(data)\n",
    "# 여기서 형용사와 동사만 빼려면??"
   ]
  },
  {
   "cell_type": "code",
   "execution_count": 34,
   "id": "be10cb98",
   "metadata": {
    "ExecuteTime": {
     "end_time": "2023-06-05T00:04:20.442534Z",
     "start_time": "2023-06-05T00:04:19.661494Z"
    }
   },
   "outputs": [
    {
     "data": {
      "text/html": [
       "<div>\n",
       "<style scoped>\n",
       "    .dataframe tbody tr th:only-of-type {\n",
       "        vertical-align: middle;\n",
       "    }\n",
       "\n",
       "    .dataframe tbody tr th {\n",
       "        vertical-align: top;\n",
       "    }\n",
       "\n",
       "    .dataframe thead th {\n",
       "        text-align: right;\n",
       "    }\n",
       "</style>\n",
       "<table border=\"1\" class=\"dataframe\">\n",
       "  <thead>\n",
       "    <tr style=\"text-align: right;\">\n",
       "      <th></th>\n",
       "      <th>morphs</th>\n",
       "    </tr>\n",
       "    <tr>\n",
       "      <th>tag</th>\n",
       "      <th></th>\n",
       "    </tr>\n",
       "  </thead>\n",
       "  <tbody>\n",
       "    <tr>\n",
       "      <th>NNG</th>\n",
       "      <td>집</td>\n",
       "    </tr>\n",
       "    <tr>\n",
       "      <th>NNG</th>\n",
       "      <td>모자</td>\n",
       "    </tr>\n",
       "    <tr>\n",
       "      <th>NNG</th>\n",
       "      <td>안경</td>\n",
       "    </tr>\n",
       "    <tr>\n",
       "      <th>VV</th>\n",
       "      <td>가</td>\n",
       "    </tr>\n",
       "    <tr>\n",
       "      <th>VV</th>\n",
       "      <td>먹</td>\n",
       "    </tr>\n",
       "    <tr>\n",
       "      <th>VA</th>\n",
       "      <td>배고프</td>\n",
       "    </tr>\n",
       "  </tbody>\n",
       "</table>\n",
       "</div>"
      ],
      "text/plain": [
       "    morphs\n",
       "tag       \n",
       "NNG      집\n",
       "NNG     모자\n",
       "NNG     안경\n",
       "VV       가\n",
       "VV       먹\n",
       "VA     배고프"
      ]
     },
     "execution_count": 34,
     "metadata": {},
     "output_type": "execute_result"
    }
   ],
   "source": [
    "d= pd.DataFrame(kkma.pos(data), columns=['morphs', 'tag'])\n",
    "d.set_index('tag', inplace=True)\n",
    "# 명사, 형용사, 동사만 추출해보자!\n",
    "d.loc[d.index.intersection(['VV','VA','NNG'])]"
   ]
  },
  {
   "cell_type": "code",
   "execution_count": 35,
   "id": "42a8e703",
   "metadata": {
    "ExecuteTime": {
     "end_time": "2023-06-05T00:04:20.462047Z",
     "start_time": "2023-06-05T00:04:20.444530Z"
    }
   },
   "outputs": [],
   "source": [
    "# text_train[:3] 실전 데이터 적용해보기\n",
    "def myTokenizer2(text):\n",
    "    d= pd.DataFrame(kkma.pos(text), columns=['morphs', 'tag'])\n",
    "    d.set_index('tag', inplace=True)\n",
    "    # 명사, 형용사, 동사만 추출해보자!\n",
    "    if('VV' in d.index) | ('VA' in d.index) | ('NNG' in d.index) :\n",
    "        # 명사 형용사 동사만 추출\n",
    "        return d.loc[d.index.intersection(['VV','VA','NNG']), 'morphs'].values\n",
    "    else : \n",
    "        return[]"
   ]
  },
  {
   "cell_type": "code",
   "execution_count": 36,
   "id": "daebe2a3",
   "metadata": {
    "ExecuteTime": {
     "end_time": "2023-06-05T00:04:20.593616Z",
     "start_time": "2023-06-05T00:04:20.462047Z"
    }
   },
   "outputs": [
    {
     "name": "stderr",
     "output_type": "stream",
     "text": [
      "C:\\Users\\smhrd\\anaconda3\\lib\\site-packages\\sklearn\\feature_extraction\\text.py:516: UserWarning: The parameter 'token_pattern' will not be used since 'tokenizer' is not None'\n",
      "  warnings.warn(\n"
     ]
    },
    {
     "data": {
      "text/plain": [
       "{'아': 5,\n",
       " '짜증나': 12,\n",
       " '더빙': 1,\n",
       " '목소리': 2,\n",
       " '흠': 15,\n",
       " '포스터': 14,\n",
       " '보고': 4,\n",
       " '영화': 8,\n",
       " '줄': 11,\n",
       " '오버': 9,\n",
       " '연기': 7,\n",
       " '가볍': 0,\n",
       " '재': 10,\n",
       " '추천': 13,\n",
       " '어': 6,\n",
       " '보': 3}"
      ]
     },
     "execution_count": 36,
     "metadata": {},
     "output_type": "execute_result"
    }
   ],
   "source": [
    "tmp_tf_idf = TfidfVectorizer(tokenizer= myTokenizer2)\n",
    "tmp_tf_idf.fit(text_train[:3])\n",
    "tmp_tf_idf.vocabulary_"
   ]
  },
  {
   "cell_type": "code",
   "execution_count": 37,
   "id": "ebc1f5ad",
   "metadata": {
    "ExecuteTime": {
     "end_time": "2023-06-05T00:08:20.504191Z",
     "start_time": "2023-06-05T00:04:20.595508Z"
    }
   },
   "outputs": [
    {
     "name": "stderr",
     "output_type": "stream",
     "text": [
      "C:\\Users\\smhrd\\anaconda3\\lib\\site-packages\\sklearn\\feature_extraction\\text.py:516: UserWarning: The parameter 'token_pattern' will not be used since 'tokenizer' is not None'\n",
      "  warnings.warn(\n"
     ]
    },
    {
     "data": {
      "text/plain": [
       "TfidfVectorizer(tokenizer=<function myTokenizer2 at 0x0000020B6700D670>)"
      ]
     },
     "execution_count": 37,
     "metadata": {},
     "output_type": "execute_result"
    }
   ],
   "source": [
    "final_tf_idf = TfidfVectorizer(tokenizer=myTokenizer2)\n",
    "final_tf_idf.fit(text_train[:10000])"
   ]
  },
  {
   "cell_type": "code",
   "execution_count": 39,
   "id": "6461282e",
   "metadata": {
    "ExecuteTime": {
     "end_time": "2023-06-05T00:30:37.559984Z",
     "start_time": "2023-06-05T00:30:37.554510Z"
    }
   },
   "outputs": [
    {
     "name": "stdout",
     "output_type": "stream",
     "text": [
      "구축한 단어사전 개수 : 8748\n"
     ]
    }
   ],
   "source": [
    "# 구축한 단어사전 확인해보기\n",
    "print(f\"구축한 단어사전 개수 : {len(final_tf_idf.vocabulary_)}\")"
   ]
  },
  {
   "cell_type": "code",
   "execution_count": null,
   "id": "7c3a9f50",
   "metadata": {
    "ExecuteTime": {
     "start_time": "2023-06-05T00:34:46.160Z"
    }
   },
   "outputs": [],
   "source": [
    "# 벡터화 진행!\n",
    "X_train = final_tf_idf.transform(text_train[:10000])\n",
    "X_test = final_tf_idf.transform(text_test[:10000])"
   ]
  },
  {
   "cell_type": "code",
   "execution_count": null,
   "id": "a4e99e43",
   "metadata": {},
   "outputs": [],
   "source": []
  },
  {
   "cell_type": "code",
   "execution_count": null,
   "id": "9b49acc1",
   "metadata": {},
   "outputs": [],
   "source": []
  },
  {
   "cell_type": "code",
   "execution_count": null,
   "id": "c0b9d80f",
   "metadata": {},
   "outputs": [],
   "source": []
  },
  {
   "cell_type": "code",
   "execution_count": null,
   "id": "b2e2aa66",
   "metadata": {},
   "outputs": [],
   "source": []
  },
  {
   "cell_type": "code",
   "execution_count": null,
   "id": "1da50882",
   "metadata": {},
   "outputs": [],
   "source": []
  },
  {
   "cell_type": "code",
   "execution_count": null,
   "id": "db361a05",
   "metadata": {},
   "outputs": [],
   "source": []
  },
  {
   "cell_type": "code",
   "execution_count": null,
   "id": "7ce47dd1",
   "metadata": {},
   "outputs": [],
   "source": []
  },
  {
   "cell_type": "code",
   "execution_count": null,
   "id": "42f07494",
   "metadata": {},
   "outputs": [],
   "source": []
  },
  {
   "cell_type": "code",
   "execution_count": null,
   "id": "c4afef01",
   "metadata": {},
   "outputs": [],
   "source": []
  },
  {
   "cell_type": "code",
   "execution_count": null,
   "id": "2f00c91b",
   "metadata": {},
   "outputs": [],
   "source": []
  },
  {
   "cell_type": "code",
   "execution_count": null,
   "id": "30e42c85",
   "metadata": {},
   "outputs": [],
   "source": []
  },
  {
   "cell_type": "code",
   "execution_count": null,
   "id": "0182a2da",
   "metadata": {},
   "outputs": [],
   "source": []
  },
  {
   "cell_type": "code",
   "execution_count": null,
   "id": "e728e954",
   "metadata": {},
   "outputs": [],
   "source": []
  },
  {
   "cell_type": "code",
   "execution_count": null,
   "id": "a961a5fe",
   "metadata": {},
   "outputs": [],
   "source": []
  },
  {
   "cell_type": "code",
   "execution_count": null,
   "id": "486c6568",
   "metadata": {},
   "outputs": [],
   "source": []
  },
  {
   "cell_type": "code",
   "execution_count": null,
   "id": "904a3e6e",
   "metadata": {},
   "outputs": [],
   "source": []
  },
  {
   "cell_type": "code",
   "execution_count": null,
   "id": "022f9da8",
   "metadata": {},
   "outputs": [],
   "source": []
  },
  {
   "cell_type": "code",
   "execution_count": null,
   "id": "aaf8b22f",
   "metadata": {},
   "outputs": [],
   "source": []
  }
 ],
 "metadata": {
  "kernelspec": {
   "display_name": "Python 3 (ipykernel)",
   "language": "python",
   "name": "python3"
  },
  "language_info": {
   "codemirror_mode": {
    "name": "ipython",
    "version": 3
   },
   "file_extension": ".py",
   "mimetype": "text/x-python",
   "name": "python",
   "nbconvert_exporter": "python",
   "pygments_lexer": "ipython3",
   "version": "3.9.13"
  },
  "toc": {
   "base_numbering": 1,
   "nav_menu": {},
   "number_sections": true,
   "sideBar": true,
   "skip_h1_title": false,
   "title_cell": "Table of Contents",
   "title_sidebar": "Contents",
   "toc_cell": false,
   "toc_position": {},
   "toc_section_display": true,
   "toc_window_display": false
  },
  "varInspector": {
   "cols": {
    "lenName": 16,
    "lenType": 16,
    "lenVar": 40
   },
   "kernels_config": {
    "python": {
     "delete_cmd_postfix": "",
     "delete_cmd_prefix": "del ",
     "library": "var_list.py",
     "varRefreshCmd": "print(var_dic_list())"
    },
    "r": {
     "delete_cmd_postfix": ") ",
     "delete_cmd_prefix": "rm(",
     "library": "var_list.r",
     "varRefreshCmd": "cat(var_dic_list()) "
    }
   },
   "types_to_exclude": [
    "module",
    "function",
    "builtin_function_or_method",
    "instance",
    "_Feature"
   ],
   "window_display": false
  }
 },
 "nbformat": 4,
 "nbformat_minor": 5
}
