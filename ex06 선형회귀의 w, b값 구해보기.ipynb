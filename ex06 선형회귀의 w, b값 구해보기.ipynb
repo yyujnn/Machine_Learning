{
 "cells": [
  {
   "cell_type": "markdown",
   "id": "61963787",
   "metadata": {},
   "source": [
    "### 목표 설정\n",
    "- 선형회귀 모델을 사용해보고 w(가중치), b(편향)을 구해보자"
   ]
  },
  {
   "cell_type": "markdown",
   "id": "4405037c",
   "metadata": {},
   "source": [
    "### 성적 데이터를 만들어보자!"
   ]
  },
  {
   "cell_type": "code",
   "execution_count": 1,
   "id": "3a38758a",
   "metadata": {
    "ExecuteTime": {
     "end_time": "2023-05-24T05:42:14.324866Z",
     "start_time": "2023-05-24T05:42:13.939236Z"
    }
   },
   "outputs": [],
   "source": [
    "# 필요한 라이브러리 불러오기\n",
    "import pandas as pd"
   ]
  },
  {
   "cell_type": "code",
   "execution_count": 7,
   "id": "a0e3edb0",
   "metadata": {
    "ExecuteTime": {
     "end_time": "2023-05-24T05:51:39.644975Z",
     "start_time": "2023-05-24T05:51:39.614805Z"
    }
   },
   "outputs": [
    {
     "data": {
      "text/html": [
       "<div>\n",
       "<style scoped>\n",
       "    .dataframe tbody tr th:only-of-type {\n",
       "        vertical-align: middle;\n",
       "    }\n",
       "\n",
       "    .dataframe tbody tr th {\n",
       "        vertical-align: top;\n",
       "    }\n",
       "\n",
       "    .dataframe thead th {\n",
       "        text-align: right;\n",
       "    }\n",
       "</style>\n",
       "<table border=\"1\" class=\"dataframe\">\n",
       "  <thead>\n",
       "    <tr style=\"text-align: right;\">\n",
       "      <th></th>\n",
       "      <th>공부시간</th>\n",
       "      <th>시험성적</th>\n",
       "    </tr>\n",
       "  </thead>\n",
       "  <tbody>\n",
       "    <tr>\n",
       "      <th>김동현</th>\n",
       "      <td>2</td>\n",
       "      <td>20</td>\n",
       "    </tr>\n",
       "    <tr>\n",
       "      <th>금쪽이</th>\n",
       "      <td>4</td>\n",
       "      <td>40</td>\n",
       "    </tr>\n",
       "    <tr>\n",
       "      <th>류이수</th>\n",
       "      <td>8</td>\n",
       "      <td>80</td>\n",
       "    </tr>\n",
       "    <tr>\n",
       "      <th>이도연</th>\n",
       "      <td>9</td>\n",
       "      <td>90</td>\n",
       "    </tr>\n",
       "  </tbody>\n",
       "</table>\n",
       "</div>"
      ],
      "text/plain": [
       "     공부시간  시험성적\n",
       "김동현     2    20\n",
       "금쪽이     4    40\n",
       "류이수     8    80\n",
       "이도연     9    90"
      ]
     },
     "execution_count": 7,
     "metadata": {},
     "output_type": "execute_result"
    }
   ],
   "source": [
    "df= pd.DataFrame([[2, 20],\n",
    "                 [4, 40],\n",
    "                 [8, 80],\n",
    "                 [9, 90]],\n",
    "                index=['김동현', '금쪽이', '류이수', '이도연'],\n",
    "                columns=['공부시간','시험성적'])\n",
    "df"
   ]
  },
  {
   "cell_type": "markdown",
   "id": "60136fff",
   "metadata": {},
   "source": [
    "### 선형회귀 모델 사용해보기"
   ]
  },
  {
   "cell_type": "code",
   "execution_count": 4,
   "id": "aafcec0c",
   "metadata": {
    "ExecuteTime": {
     "end_time": "2023-05-24T05:48:31.495992Z",
     "start_time": "2023-05-24T05:48:31.382713Z"
    }
   },
   "outputs": [],
   "source": [
    "from sklearn.linear_model import LinearRegression"
   ]
  },
  {
   "cell_type": "code",
   "execution_count": 5,
   "id": "84587d41",
   "metadata": {
    "ExecuteTime": {
     "end_time": "2023-05-24T05:48:45.990817Z",
     "start_time": "2023-05-24T05:48:45.982777Z"
    }
   },
   "outputs": [],
   "source": [
    "# 모델 객체 생성\n",
    "linear_model = LinearRegression()"
   ]
  },
  {
   "cell_type": "code",
   "execution_count": 8,
   "id": "fe32491b",
   "metadata": {
    "ExecuteTime": {
     "end_time": "2023-05-24T05:52:48.386233Z",
     "start_time": "2023-05-24T05:52:48.359362Z"
    }
   },
   "outputs": [
    {
     "data": {
      "text/plain": [
       "LinearRegression()"
      ]
     },
     "execution_count": 8,
     "metadata": {},
     "output_type": "execute_result"
    }
   ],
   "source": [
    "# 모델 학습\n",
    "# 중요! 선형회귀를 이용할 때 문제 데이터는 항상 2차원으로 넣어줘야한다!\n",
    "linear_model.fit(df[['공부시간']], df[['시험성적']])"
   ]
  },
  {
   "cell_type": "code",
   "execution_count": 9,
   "id": "40aab91e",
   "metadata": {
    "ExecuteTime": {
     "end_time": "2023-05-24T05:54:02.768946Z",
     "start_time": "2023-05-24T05:54:02.752845Z"
    }
   },
   "outputs": [
    {
     "data": {
      "text/plain": [
       "array([[10.]])"
      ]
     },
     "execution_count": 9,
     "metadata": {},
     "output_type": "execute_result"
    }
   ],
   "source": [
    "# w(가중치), b(편향) 값 살펴보기\n",
    "linear_model.coef_ # 가중치를 확인하는 명령어"
   ]
  },
  {
   "cell_type": "code",
   "execution_count": 10,
   "id": "efa1acbc",
   "metadata": {
    "ExecuteTime": {
     "end_time": "2023-05-24T05:54:37.967330Z",
     "start_time": "2023-05-24T05:54:37.960300Z"
    }
   },
   "outputs": [
    {
     "data": {
      "text/plain": [
       "array([7.10542736e-15])"
      ]
     },
     "execution_count": 10,
     "metadata": {},
     "output_type": "execute_result"
    }
   ],
   "source": [
    "linear_model.intercept_ # 편향을 확인하는 명령어"
   ]
  },
  {
   "cell_type": "code",
   "execution_count": 11,
   "id": "f364749c",
   "metadata": {
    "ExecuteTime": {
     "end_time": "2023-05-24T05:57:55.434015Z",
     "start_time": "2023-05-24T05:57:55.421758Z"
    }
   },
   "outputs": [
    {
     "name": "stderr",
     "output_type": "stream",
     "text": [
      "C:\\Users\\smhrd\\anaconda3\\lib\\site-packages\\sklearn\\base.py:450: UserWarning: X does not have valid feature names, but LinearRegression was fitted with feature names\n",
      "  warnings.warn(\n"
     ]
    },
    {
     "data": {
      "text/plain": [
       "array([[30.]])"
      ]
     },
     "execution_count": 11,
     "metadata": {},
     "output_type": "execute_result"
    }
   ],
   "source": [
    "# 새로운 데이터 입력해보기\n",
    "linear_model.predict([[3]])"
   ]
  },
  {
   "cell_type": "code",
   "execution_count": null,
   "id": "39128983",
   "metadata": {},
   "outputs": [],
   "source": []
  },
  {
   "cell_type": "code",
   "execution_count": null,
   "id": "8ce77605",
   "metadata": {},
   "outputs": [],
   "source": []
  },
  {
   "cell_type": "code",
   "execution_count": null,
   "id": "c6a0657b",
   "metadata": {},
   "outputs": [],
   "source": []
  },
  {
   "cell_type": "code",
   "execution_count": null,
   "id": "32b70748",
   "metadata": {},
   "outputs": [],
   "source": []
  },
  {
   "cell_type": "code",
   "execution_count": null,
   "id": "94ecd3b6",
   "metadata": {},
   "outputs": [],
   "source": []
  },
  {
   "cell_type": "code",
   "execution_count": null,
   "id": "605a2047",
   "metadata": {},
   "outputs": [],
   "source": []
  },
  {
   "cell_type": "code",
   "execution_count": null,
   "id": "387d640c",
   "metadata": {},
   "outputs": [],
   "source": []
  },
  {
   "cell_type": "code",
   "execution_count": null,
   "id": "d8f36af8",
   "metadata": {},
   "outputs": [],
   "source": []
  },
  {
   "cell_type": "code",
   "execution_count": null,
   "id": "a0bcd76f",
   "metadata": {},
   "outputs": [],
   "source": []
  }
 ],
 "metadata": {
  "kernelspec": {
   "display_name": "Python 3 (ipykernel)",
   "language": "python",
   "name": "python3"
  },
  "language_info": {
   "codemirror_mode": {
    "name": "ipython",
    "version": 3
   },
   "file_extension": ".py",
   "mimetype": "text/x-python",
   "name": "python",
   "nbconvert_exporter": "python",
   "pygments_lexer": "ipython3",
   "version": "3.9.13"
  },
  "toc": {
   "base_numbering": 1,
   "nav_menu": {},
   "number_sections": true,
   "sideBar": true,
   "skip_h1_title": false,
   "title_cell": "Table of Contents",
   "title_sidebar": "Contents",
   "toc_cell": false,
   "toc_position": {},
   "toc_section_display": true,
   "toc_window_display": false
  },
  "varInspector": {
   "cols": {
    "lenName": 16,
    "lenType": 16,
    "lenVar": 40
   },
   "kernels_config": {
    "python": {
     "delete_cmd_postfix": "",
     "delete_cmd_prefix": "del ",
     "library": "var_list.py",
     "varRefreshCmd": "print(var_dic_list())"
    },
    "r": {
     "delete_cmd_postfix": ") ",
     "delete_cmd_prefix": "rm(",
     "library": "var_list.r",
     "varRefreshCmd": "cat(var_dic_list()) "
    }
   },
   "types_to_exclude": [
    "module",
    "function",
    "builtin_function_or_method",
    "instance",
    "_Feature"
   ],
   "window_display": false
  }
 },
 "nbformat": 4,
 "nbformat_minor": 5
}
