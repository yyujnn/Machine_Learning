{
 "cells": [
  {
   "cell_type": "code",
   "execution_count": 1,
   "id": "25cdc69f",
   "metadata": {
    "ExecuteTime": {
     "end_time": "2023-06-16T02:12:25.691221Z",
     "start_time": "2023-06-16T02:12:25.627720Z"
    }
   },
   "outputs": [],
   "source": [
    "import cv2"
   ]
  },
  {
   "cell_type": "markdown",
   "id": "a514d994",
   "metadata": {},
   "source": [
    "### 영상 재생"
   ]
  },
  {
   "cell_type": "code",
   "execution_count": 2,
   "id": "1e4a26ba",
   "metadata": {
    "ExecuteTime": {
     "end_time": "2023-06-16T02:14:03.407471Z",
     "start_time": "2023-06-16T02:12:27.762953Z"
    }
   },
   "outputs": [
    {
     "name": "stdout",
     "output_type": "stream",
     "text": [
      "비디오 캡쳐 시작\n",
      "이미지 읽기 실패 혹은 전체 영상 플레이 완료\n"
     ]
    }
   ],
   "source": [
    "try :\n",
    "    \n",
    "    #웹캠\n",
    "    # cap = cv2.VideoCapture(0)\n",
    "    \n",
    "    # 동영상\n",
    "    cap = cv2.VideoCapture('penguin.mp4')\n",
    "    \n",
    "    print('비디오 캡쳐 시작')\n",
    "except :\n",
    "    print('비대오 캡쳐 실패')\n",
    "\n",
    "while cap.isOpened():\n",
    "    # frame : 영상에 포함된 1장의 이미지\n",
    "    # ret : 읽기 성공 여부(T/F)\n",
    "    ret, frame = cap.read()\n",
    "    \n",
    "    # 이미지를 읽지 못하거나, 전체 영상이 재생 된 상태!\n",
    "    if not ret : \n",
    "        print('이미지 읽기 실패 혹은 전체 영상 플레이 완료')\n",
    "        break\n",
    "\n",
    "    cv2.imshow('penguin', frame)\n",
    "    \n",
    "    key = cv2.waitKey(33) # 키보드의 입력을 기다리는 함수(시간)\n",
    "    \n",
    "    if key ==49:  # 키보드 숫자 1\n",
    "        break\n",
    "    \n",
    "cap.release()\n",
    "cv2.destroyAllWindows()"
   ]
  },
  {
   "cell_type": "markdown",
   "id": "0b9c941d",
   "metadata": {},
   "source": [
    "### 영상 녹화"
   ]
  },
  {
   "cell_type": "code",
   "execution_count": 3,
   "id": "070b7323",
   "metadata": {
    "ExecuteTime": {
     "end_time": "2023-06-16T02:15:38.622410Z",
     "start_time": "2023-06-16T02:14:09.907825Z"
    }
   },
   "outputs": [],
   "source": [
    "cap = cv2.VideoCapture('penguin.mp4')\n",
    "\n",
    "# 녹화 설정\n",
    "fps = 30.0  # 초당 프레임 이미지 수 \n",
    "\n",
    "# 영상의 크기\n",
    "w = int(cap.get(3)) # 가로크기\n",
    "h = int(cap.get(4))  # 세로크기\n",
    "\n",
    "# 코덱 설정\n",
    "codec = cv2.VideoWriter_fourcc(*'DIVX')\n",
    "\n",
    "# 녹화 파일 설정\n",
    "out = cv2.VideoWriter('record01.avi', codec, fps, (w,h))\n",
    "\n",
    "# 녹화 여부 설정\n",
    "record = False\n",
    "\n",
    "while cap.isOpened():\n",
    "    # frame : 영상에 포함된 1장의 이미지\n",
    "    # ret : 읽기 성공 여부(T/F)\n",
    "    ret,  frame = cap.read()\n",
    "    \n",
    "    # 이미지를 읽지 못하거나, 전체 영상이 재생 된 상태!\n",
    "    if not ret : \n",
    "        print('이미지 읽기 실패 혹은 전체 영상 플레이 완료')\n",
    "        break\n",
    "    \n",
    "    cv2.imshow('penguin', frame)\n",
    "    \n",
    "    key = cv2.waitKey(33) # 키보드의 입력을 기다리는 함수(시간)\n",
    "    \n",
    "    # 영상 재생 종료 기능\n",
    "    if key == 49:  # 키보드 숫자 1\n",
    "        break\n",
    "    \n",
    "    # 녹화 시작 기능\n",
    "    elif key == 50:  # 키보드 숫자 2\n",
    "        print('녹화시작')\n",
    "        record = True\n",
    "    \n",
    "    if record : \n",
    "        out.write(frame)\n",
    "    \n",
    "cap.release()\n",
    "out.release()\n",
    "cv2.destroyAllWindows()"
   ]
  },
  {
   "cell_type": "markdown",
   "id": "a9792f45",
   "metadata": {},
   "source": [
    "### 동영상에서 한 프레임을 이미지 파일로 저장하기(캡쳐)"
   ]
  },
  {
   "cell_type": "code",
   "execution_count": 14,
   "id": "a1e5ddb2",
   "metadata": {
    "ExecuteTime": {
     "end_time": "2023-06-16T01:37:59.959137Z",
     "start_time": "2023-06-16T01:36:45.781907Z"
    }
   },
   "outputs": [
    {
     "name": "stdout",
     "output_type": "stream",
     "text": [
      "이미지 읽기 실패 혹은 전체 영상 플레이 완료\n"
     ]
    }
   ],
   "source": [
    "cap = cv2.VideoCapture('penguin.mp4')\n",
    "\n",
    "# 파일명 구분을 위한 카운터\n",
    "cnt = 0\n",
    "\n",
    "while cap.isOpened():\n",
    "    # frame : 영상에 포함된 1장의 이미지\n",
    "    # ret : 읽기 성공 여부(True/False)\n",
    "    ret, frame = cap.read()\n",
    "\n",
    "    # 이미지를 읽지 못하거나, 전체 영상이 재생 된 상태 !\n",
    "    if not ret :\n",
    "        print('이미지 읽기 실패 혹은 전체 영상 플레이 완료')\n",
    "        break\n",
    "\n",
    "    cv2.imshow('penguin', frame)\n",
    "\n",
    "    key = cv2.waitKey(30)\n",
    "    \n",
    "    # 영상 재생 종료 기능\n",
    "    if key == 49 :\n",
    "        break\n",
    "    \n",
    "    # 녹화 시작 기능\n",
    "    elif key == 50 :\n",
    "        cnt += 1\n",
    "        print(f'이미지{cnt} 파일 저장')\n",
    "        # imwrite('파일명.확장자', 프레임이미지, 옵션)\n",
    "        # 압출력 0 ~ 9 (0 - 압축X)\n",
    "        cv2.imwrite(f'image{cnt}.png', frame, params=[cv2.IMWRITE_PNG_COMPRESSION, 0])\n",
    "    \n",
    "cap.release()\n",
    "out.release()\n",
    "cv2.destroyAllWindows()"
   ]
  },
  {
   "cell_type": "code",
   "execution_count": 3,
   "id": "41123e67",
   "metadata": {
    "ExecuteTime": {
     "end_time": "2023-06-16T02:53:17.322293Z",
     "start_time": "2023-06-16T02:53:17.317223Z"
    }
   },
   "outputs": [],
   "source": [
    "import pytube\n",
    "from pytube.cli import on_progress"
   ]
  },
  {
   "cell_type": "code",
   "execution_count": 4,
   "id": "27cccf42",
   "metadata": {
    "ExecuteTime": {
     "end_time": "2023-06-16T02:53:20.722065Z",
     "start_time": "2023-06-16T02:53:20.453290Z"
    }
   },
   "outputs": [
    {
     "name": "stdout",
     "output_type": "stream",
     "text": [
      "영상 제목 :  진심 숨막히는 긴장감 #shorts #movie\n",
      "영상 길이 :  60\n",
      "영상 평점 :  None\n",
      "영상 썸네일 링크 :  https://i.ytimg.com/vi/H7JnkLX9-D0/hq720.jpg?sqp=-oaymwEoCIAKENAF8quKqQMcGADwAQH4AbYIgAKAD4oCDAgAEAEYWiBlKFwwDw==&rs=AOn4CLDOA558ii024Xlh0r_lApL5vYXTtg\n",
      "영상 조회수 :  3686262\n",
      "영상 설명 :  None\n"
     ]
    }
   ],
   "source": [
    "# 유튜브 주소\n",
    "url = \"https://www.youtube.com/shorts/H7JnkLX9-D0\"\n",
    "yt = pytube.YouTube(url)\n",
    "\n",
    "# 영상 정보 출력\n",
    "print(\"영상 제목 : \", yt.title)\n",
    "print(\"영상 길이 : \", yt.length)\n",
    "print(\"영상 평점 : \", yt.rating)\n",
    "print(\"영상 썸네일 링크 : \", yt.thumbnail_url)\n",
    "print(\"영상 조회수 : \", yt.views)\n",
    "print(\"영상 설명 : \", yt.description)"
   ]
  },
  {
   "cell_type": "code",
   "execution_count": 8,
   "id": "615c576b",
   "metadata": {
    "ExecuteTime": {
     "end_time": "2023-06-16T02:55:06.345570Z",
     "start_time": "2023-06-16T02:55:06.341555Z"
    }
   },
   "outputs": [],
   "source": [
    "import os"
   ]
  },
  {
   "cell_type": "code",
   "execution_count": 9,
   "id": "93b61768",
   "metadata": {
    "ExecuteTime": {
     "end_time": "2023-06-16T02:55:08.181316Z",
     "start_time": "2023-06-16T02:55:08.157529Z"
    }
   },
   "outputs": [],
   "source": [
    "save_dir = './youtube/'  # 저장 경로\n",
    "\n",
    "if not os.path.exists(save_dir): # 해당 폴더가 없으면 생성\n",
    "    os.mkdir(save_dir)"
   ]
  },
  {
   "cell_type": "code",
   "execution_count": 10,
   "id": "aaebeee2",
   "metadata": {
    "ExecuteTime": {
     "end_time": "2023-06-16T02:55:10.732814Z",
     "start_time": "2023-06-16T02:55:09.973431Z"
    }
   },
   "outputs": [
    {
     "data": {
      "text/plain": [
       "'C:\\\\Users\\\\smhrd\\\\OpenCV\\\\./youtube/진심 숨막히는 긴장감 shorts movie.mp4'"
      ]
     },
     "execution_count": 10,
     "metadata": {},
     "output_type": "execute_result"
    }
   ],
   "source": [
    "# 다운로드 \n",
    "# progressive=True : 점진적으로 다운로드\n",
    "# order_by(\"resolution\") : 해상도 순으로 정렬\n",
    "# desc() : 내림차순\n",
    "# .first() : 첫번쨰(해상도가 가장 높은 영상)\n",
    "yt.streams.filter(progressive=True, file_extension=\"mp4\")\\\n",
    ".order_by(\"resolution\")\\\n",
    ".desc().first().download(save_dir)"
   ]
  },
  {
   "cell_type": "code",
   "execution_count": null,
   "id": "27983f5a",
   "metadata": {},
   "outputs": [],
   "source": []
  },
  {
   "cell_type": "code",
   "execution_count": null,
   "id": "25754dec",
   "metadata": {},
   "outputs": [],
   "source": []
  },
  {
   "cell_type": "code",
   "execution_count": null,
   "id": "421ad443",
   "metadata": {},
   "outputs": [],
   "source": []
  }
 ],
 "metadata": {
  "kernelspec": {
   "display_name": "Python 3 (ipykernel)",
   "language": "python",
   "name": "python3"
  },
  "language_info": {
   "codemirror_mode": {
    "name": "ipython",
    "version": 3
   },
   "file_extension": ".py",
   "mimetype": "text/x-python",
   "name": "python",
   "nbconvert_exporter": "python",
   "pygments_lexer": "ipython3",
   "version": "3.9.13"
  },
  "toc": {
   "base_numbering": 1,
   "nav_menu": {},
   "number_sections": true,
   "sideBar": true,
   "skip_h1_title": false,
   "title_cell": "Table of Contents",
   "title_sidebar": "Contents",
   "toc_cell": false,
   "toc_position": {},
   "toc_section_display": true,
   "toc_window_display": false
  },
  "varInspector": {
   "cols": {
    "lenName": 16,
    "lenType": 16,
    "lenVar": 40
   },
   "kernels_config": {
    "python": {
     "delete_cmd_postfix": "",
     "delete_cmd_prefix": "del ",
     "library": "var_list.py",
     "varRefreshCmd": "print(var_dic_list())"
    },
    "r": {
     "delete_cmd_postfix": ") ",
     "delete_cmd_prefix": "rm(",
     "library": "var_list.r",
     "varRefreshCmd": "cat(var_dic_list()) "
    }
   },
   "types_to_exclude": [
    "module",
    "function",
    "builtin_function_or_method",
    "instance",
    "_Feature"
   ],
   "window_display": false
  }
 },
 "nbformat": 4,
 "nbformat_minor": 5
}
