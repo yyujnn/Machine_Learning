{
 "cells": [
  {
   "cell_type": "code",
   "execution_count": 2,
   "id": "df697ae9",
   "metadata": {
    "ExecuteTime": {
     "end_time": "2023-06-21T00:26:13.620660Z",
     "start_time": "2023-06-21T00:26:12.476498Z"
    }
   },
   "outputs": [],
   "source": [
    "import cv2\n",
    "import mediapipe as mp"
   ]
  },
  {
   "cell_type": "markdown",
   "id": "1f128527",
   "metadata": {},
   "source": [
    "### 얼굴 메시 추출\n",
    "- 468개의 3D 얼굴 랜드마크를 추정"
   ]
  },
  {
   "cell_type": "code",
   "execution_count": 3,
   "id": "e7850df6",
   "metadata": {
    "ExecuteTime": {
     "end_time": "2023-06-20T03:50:23.073751Z",
     "start_time": "2023-06-20T03:49:51.989082Z"
    }
   },
   "outputs": [],
   "source": [
    "# 추정 결과를 시각화하는 라이브러리\n",
    "mp_drawing = mp.solutions.drawing_utils\n",
    "\n",
    "# 얼굴 메시 추출 라이브러리 가져오기\n",
    "mp_face_mesh = mp.solutions.face_mesh\n",
    "\n",
    "# 시각화 설정\n",
    "drawing_spec = mp_drawing.DrawingSpec(thickness=1, circle_radius=1)\n",
    "\n",
    "# 영상 불러오기\n",
    "cap = cv2.VideoCapture('face.mp4')\n",
    "\n",
    "# 얼굴 메시 추출\n",
    "with mp_face_mesh.FaceMesh( min_detection_confidence=0.5,  # 최소 탐지 신뢰도\n",
    "                           # 최소 추적 신뢰도\n",
    "                          min_tracking_confidence=0.5) as face_mesh:\n",
    "    while cap.isOpened():\n",
    "        ret, frame = cap.read()\n",
    "        \n",
    "        if not ret :\n",
    "            break\n",
    "            \n",
    "        frame.flags.writeable = False\n",
    "        \n",
    "        # 메시 검출 (랜드마크 검출)\n",
    "        results = face_mesh.process(frame)\n",
    "        \n",
    "        frame.flags.writeable = True\n",
    "        \n",
    "        # 랜드마크를 서로 연결\n",
    "        # 랜드마크 점이 검출되었다면\n",
    "        if results.multi_face_landmarks:\n",
    "            # 검출 랜드마크를 하나씩 가져오기\n",
    "            for face_landmark in results.multi_face_landmarks:\n",
    "                # 랜드마크끼리 선으로 연결\n",
    "                mp_drawing.draw_landmarks(\n",
    "                    image=frame,\n",
    "                    landmark_list=face_landmark,\n",
    "                    # 얼굴 전체\n",
    "                    connections=mp_face_mesh.FACEMESH_TESSELATION,\n",
    "                    # 그리기 설정\n",
    "                    landmark_drawing_spec=drawing_spec,\n",
    "                    connection_drawing_spec=drawing_spec\n",
    "                )\n",
    "            \n",
    "        cv2.imshow(\"face mesh\", frame)\n",
    "        \n",
    "        key = cv2.waitKey(33)\n",
    "        \n",
    "        if key == 49:\n",
    "            break\n",
    "cap.release()\n",
    "cv2.destroyAllWindows()"
   ]
  },
  {
   "cell_type": "markdown",
   "id": "07ec651c",
   "metadata": {},
   "source": [
    "### 얼굴, 왼손, 오른손, 동작 검출(스켈레톤)"
   ]
  },
  {
   "cell_type": "code",
   "execution_count": 9,
   "id": "add5a7c1",
   "metadata": {
    "ExecuteTime": {
     "end_time": "2023-06-21T00:32:21.828531Z",
     "start_time": "2023-06-21T00:32:08.212451Z"
    }
   },
   "outputs": [],
   "source": [
    "# 그리기와 스켈레톤 추출기 가져오기\n",
    "mp_drawing = mp.solutions.drawing_utils\n",
    "mp_holistic = mp.solutions.holistic\n",
    "\n",
    "cap = cv2.VideoCapture('face2.mp4')\n",
    "\n",
    "drawing_spec1 = mp_drawing.DrawingSpec(thickness = 3, color = (0,0,255))\n",
    "drawing_spec2 = mp_drawing.DrawingSpec(thickness = 3, color = (255,0,0))\n",
    "\n",
    "with mp_holistic.Holistic(min_detection_confidence=0.5,\n",
    "                         min_tracking_confidence=0.5) as holistic :\n",
    "    # 비디오가 열렸다면\n",
    "    while cap.isOpened() :\n",
    "        ret, image = cap.read()\n",
    "        \n",
    "        if not ret :\n",
    "            print('비디오 읽기 실패')\n",
    "            cap.release()\n",
    "            cv2.destroyAllWindows()\n",
    "            break\n",
    "            \n",
    "        image.flags.writeable = False\n",
    "        results = holistic.process(image)\n",
    "        image.flags.writeable = True\n",
    "        \n",
    "        # 랜드마크와 랜드마크를 연결하는 선 그리기\n",
    "        mp_drawing.draw_landmarks(image, results.pose_landmarks,\n",
    "                                   mp_holistic.POSE_CONNECTIONS,\n",
    "                                   landmark_drawing_spec=drawing_spec1,\n",
    "                                   connection_drawing_spec=drawing_spec2)    \n",
    "        \n",
    "        \n",
    "        cv2.imshow(\"video holistic\", image)\n",
    "        \n",
    "        key = cv2.waitKey(33)\n",
    "        \n",
    "        if key == 49:\n",
    "            break\n",
    "            \n",
    "cap.release()\n",
    "cv2.destroyAllWindows()"
   ]
  },
  {
   "cell_type": "code",
   "execution_count": null,
   "id": "aefc6674",
   "metadata": {},
   "outputs": [],
   "source": []
  },
  {
   "cell_type": "code",
   "execution_count": null,
   "id": "65c84818",
   "metadata": {},
   "outputs": [],
   "source": []
  },
  {
   "cell_type": "code",
   "execution_count": null,
   "id": "7a77ac87",
   "metadata": {},
   "outputs": [],
   "source": []
  },
  {
   "cell_type": "code",
   "execution_count": null,
   "id": "cdb4aad0",
   "metadata": {},
   "outputs": [],
   "source": []
  },
  {
   "cell_type": "code",
   "execution_count": null,
   "id": "179449f2",
   "metadata": {},
   "outputs": [],
   "source": []
  },
  {
   "cell_type": "code",
   "execution_count": null,
   "id": "be5300ef",
   "metadata": {},
   "outputs": [],
   "source": []
  }
 ],
 "metadata": {
  "kernelspec": {
   "display_name": "Python 3 (ipykernel)",
   "language": "python",
   "name": "python3"
  },
  "language_info": {
   "codemirror_mode": {
    "name": "ipython",
    "version": 3
   },
   "file_extension": ".py",
   "mimetype": "text/x-python",
   "name": "python",
   "nbconvert_exporter": "python",
   "pygments_lexer": "ipython3",
   "version": "3.9.13"
  },
  "toc": {
   "base_numbering": 1,
   "nav_menu": {},
   "number_sections": true,
   "sideBar": true,
   "skip_h1_title": false,
   "title_cell": "Table of Contents",
   "title_sidebar": "Contents",
   "toc_cell": false,
   "toc_position": {},
   "toc_section_display": true,
   "toc_window_display": false
  },
  "varInspector": {
   "cols": {
    "lenName": 16,
    "lenType": 16,
    "lenVar": 40
   },
   "kernels_config": {
    "python": {
     "delete_cmd_postfix": "",
     "delete_cmd_prefix": "del ",
     "library": "var_list.py",
     "varRefreshCmd": "print(var_dic_list())"
    },
    "r": {
     "delete_cmd_postfix": ") ",
     "delete_cmd_prefix": "rm(",
     "library": "var_list.r",
     "varRefreshCmd": "cat(var_dic_list()) "
    }
   },
   "types_to_exclude": [
    "module",
    "function",
    "builtin_function_or_method",
    "instance",
    "_Feature"
   ],
   "window_display": false
  }
 },
 "nbformat": 4,
 "nbformat_minor": 5
}
