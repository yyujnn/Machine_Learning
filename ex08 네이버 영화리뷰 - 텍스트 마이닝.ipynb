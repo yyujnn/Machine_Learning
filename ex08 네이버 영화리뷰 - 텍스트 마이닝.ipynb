{
 "cells": [
  {
   "cell_type": "markdown",
   "id": "0385c8e4",
   "metadata": {},
   "source": [
    "### 목표\n",
    "- 네이버 영화리뷰 데이터 셋을 이용해 긍정리뷰 / 부정리뷰를 분류하는 모델을 만들어보자\n",
    "- TF-IDF 방법을 적용해보자\n",
    "- Konlpy 한국어 형태소 분석기를 설치하고 활용해보자\n",
    "- 단어별 긍정/ 부정 정보를 시각화해서 확인해보자"
   ]
  },
  {
   "cell_type": "code",
   "execution_count": 1,
   "id": "beb03e2e",
   "metadata": {
    "ExecuteTime": {
     "end_time": "2023-06-05T00:03:57.160651Z",
     "start_time": "2023-06-05T00:03:57.143120Z"
    }
   },
   "outputs": [],
   "source": [
    "# Java 버전 확인하기\n",
    "# 자바 버전은 cmd창에서 java -version으로 확인할 수 있다.\n",
    "# 1.7버전 이상 설치가 필요하다"
   ]
  },
  {
   "cell_type": "code",
   "execution_count": 2,
   "id": "7d0b1f9e",
   "metadata": {
    "ExecuteTime": {
     "end_time": "2023-06-05T00:04:01.265290Z",
     "start_time": "2023-06-05T00:03:57.162646Z"
    }
   },
   "outputs": [
    {
     "name": "stdout",
     "output_type": "stream",
     "text": [
      "Requirement already satisfied: jpype1 in c:\\users\\smhrd\\anaconda3\\lib\\site-packages (1.4.1)\n",
      "Requirement already satisfied: packaging in c:\\users\\smhrd\\anaconda3\\lib\\site-packages (from jpype1) (21.3)\n",
      "Requirement already satisfied: pyparsing!=3.0.5,>=2.0.2 in c:\\users\\smhrd\\anaconda3\\lib\\site-packages (from packaging->jpype1) (3.0.9)\n"
     ]
    }
   ],
   "source": [
    "# jpype1이라는 라이브러리는 java 라이브러리인 konlㅔy를 파이썬 환경에서 구동되도록 도와주는 라이브러리\n",
    "!pip install jpype1"
   ]
  },
  {
   "cell_type": "code",
   "execution_count": 3,
   "id": "235eb851",
   "metadata": {
    "ExecuteTime": {
     "end_time": "2023-06-05T00:04:05.332155Z",
     "start_time": "2023-06-05T00:04:01.265290Z"
    }
   },
   "outputs": [
    {
     "name": "stdout",
     "output_type": "stream",
     "text": [
      "Requirement already satisfied: konlpy in c:\\users\\smhrd\\anaconda3\\lib\\site-packages (0.6.0)\n",
      "Requirement already satisfied: JPype1>=0.7.0 in c:\\users\\smhrd\\anaconda3\\lib\\site-packages (from konlpy) (1.4.1)\n",
      "Requirement already satisfied: numpy>=1.6 in c:\\users\\smhrd\\anaconda3\\lib\\site-packages (from konlpy) (1.21.5)\n",
      "Requirement already satisfied: lxml>=4.1.0 in c:\\users\\smhrd\\anaconda3\\lib\\site-packages (from konlpy) (4.9.1)\n",
      "Requirement already satisfied: packaging in c:\\users\\smhrd\\anaconda3\\lib\\site-packages (from JPype1>=0.7.0->konlpy) (21.3)\n",
      "Requirement already satisfied: pyparsing!=3.0.5,>=2.0.2 in c:\\users\\smhrd\\anaconda3\\lib\\site-packages (from packaging->JPype1>=0.7.0->konlpy) (3.0.9)\n"
     ]
    }
   ],
   "source": [
    "# konlpy 설치하기\n",
    "# konlpy -> 한국어 형태소 분석기 모음집\n",
    "!pip install konlpy"
   ]
  },
  {
   "cell_type": "code",
   "execution_count": 4,
   "id": "8607e69b",
   "metadata": {
    "ExecuteTime": {
     "end_time": "2023-06-05T00:04:05.384638Z",
     "start_time": "2023-06-05T00:04:05.332155Z"
    }
   },
   "outputs": [],
   "source": [
    "from konlpy.tag import Kkma"
   ]
  },
  {
   "cell_type": "code",
   "execution_count": 5,
   "id": "481b57dd",
   "metadata": {
    "ExecuteTime": {
     "end_time": "2023-06-05T00:04:05.813039Z",
     "start_time": "2023-06-05T00:04:05.388633Z"
    }
   },
   "outputs": [],
   "source": [
    "kkma = Kkma()"
   ]
  },
  {
   "cell_type": "code",
   "execution_count": 6,
   "id": "b1179db2",
   "metadata": {
    "ExecuteTime": {
     "end_time": "2023-06-05T00:04:15.472664Z",
     "start_time": "2023-06-05T00:04:05.813039Z"
    }
   },
   "outputs": [
    {
     "data": {
      "text/plain": [
       "['나비']"
      ]
     },
     "execution_count": 6,
     "metadata": {},
     "output_type": "execute_result"
    }
   ],
   "source": [
    "kkma.nouns('나비')"
   ]
  },
  {
   "cell_type": "markdown",
   "id": "df4afd98",
   "metadata": {},
   "source": [
    "### os에러가 뜨는 경우\n",
    "- jvm.dll 파일을 찾을 수 없다는 에러가 뜰 것 \n",
    "- 시스템 환경변수가 제대로 잡혔는지 확인을 해보자!"
   ]
  },
  {
   "cell_type": "code",
   "execution_count": 7,
   "id": "c29cd42f",
   "metadata": {
    "ExecuteTime": {
     "end_time": "2023-06-05T00:04:15.488620Z",
     "start_time": "2023-06-05T00:04:15.478648Z"
    }
   },
   "outputs": [],
   "source": [
    "import os # 시스템 접근"
   ]
  },
  {
   "cell_type": "code",
   "execution_count": 8,
   "id": "2ff4ba64",
   "metadata": {
    "ExecuteTime": {
     "end_time": "2023-06-05T00:04:15.519875Z",
     "start_time": "2023-06-05T00:04:15.490801Z"
    }
   },
   "outputs": [
    {
     "name": "stdout",
     "output_type": "stream",
     "text": [
      "False\n"
     ]
    }
   ],
   "source": [
    "print('JAVA_HOME'in os.environ)"
   ]
  },
  {
   "cell_type": "code",
   "execution_count": 9,
   "id": "d2c8adcd",
   "metadata": {
    "ExecuteTime": {
     "end_time": "2023-06-05T00:04:15.537460Z",
     "start_time": "2023-06-05T00:04:15.522259Z"
    }
   },
   "outputs": [],
   "source": [
    "# 파일 탐색기로 접근\n",
    "os.environ['JAVA_HOME'] = r'C:\\Program Files\\Java\\jdk1.8.0_202\\bin'"
   ]
  },
  {
   "cell_type": "code",
   "execution_count": 10,
   "id": "917fac67",
   "metadata": {
    "ExecuteTime": {
     "end_time": "2023-06-05T00:04:15.553906Z",
     "start_time": "2023-06-05T00:04:15.543232Z"
    }
   },
   "outputs": [
    {
     "name": "stdout",
     "output_type": "stream",
     "text": [
      "True\n"
     ]
    }
   ],
   "source": [
    "print('JAVA_HOME'in os.environ)"
   ]
  },
  {
   "cell_type": "markdown",
   "id": "a4d90e15",
   "metadata": {},
   "source": [
    "### 네이버 데이터 로딩"
   ]
  },
  {
   "cell_type": "code",
   "execution_count": 11,
   "id": "a99ab7fb",
   "metadata": {
    "ExecuteTime": {
     "end_time": "2023-06-05T00:04:16.070389Z",
     "start_time": "2023-06-05T00:04:15.555902Z"
    }
   },
   "outputs": [],
   "source": [
    "import pandas as pd"
   ]
  },
  {
   "cell_type": "code",
   "execution_count": 12,
   "id": "978a8d0c",
   "metadata": {
    "ExecuteTime": {
     "end_time": "2023-06-05T00:04:17.288584Z",
     "start_time": "2023-06-05T00:04:16.072142Z"
    }
   },
   "outputs": [],
   "source": [
    "df_train = pd.read_csv('./data/ratings_train.csv')\n",
    "df_test = pd.read_csv('./data/ratings_test.csv')"
   ]
  },
  {
   "cell_type": "code",
   "execution_count": 13,
   "id": "d8e7d474",
   "metadata": {
    "ExecuteTime": {
     "end_time": "2023-06-05T00:04:17.322174Z",
     "start_time": "2023-06-05T00:04:17.290158Z"
    }
   },
   "outputs": [
    {
     "data": {
      "text/html": [
       "<div>\n",
       "<style scoped>\n",
       "    .dataframe tbody tr th:only-of-type {\n",
       "        vertical-align: middle;\n",
       "    }\n",
       "\n",
       "    .dataframe tbody tr th {\n",
       "        vertical-align: top;\n",
       "    }\n",
       "\n",
       "    .dataframe thead th {\n",
       "        text-align: right;\n",
       "    }\n",
       "</style>\n",
       "<table border=\"1\" class=\"dataframe\">\n",
       "  <thead>\n",
       "    <tr style=\"text-align: right;\">\n",
       "      <th></th>\n",
       "      <th>id</th>\n",
       "      <th>document</th>\n",
       "      <th>label</th>\n",
       "    </tr>\n",
       "  </thead>\n",
       "  <tbody>\n",
       "    <tr>\n",
       "      <th>0</th>\n",
       "      <td>9976970</td>\n",
       "      <td>아 더빙.. 진짜 짜증나네요 목소리</td>\n",
       "      <td>0</td>\n",
       "    </tr>\n",
       "    <tr>\n",
       "      <th>1</th>\n",
       "      <td>3819312</td>\n",
       "      <td>흠...포스터보고 초딩영화줄....오버연기조차 가볍지 않구나</td>\n",
       "      <td>1</td>\n",
       "    </tr>\n",
       "    <tr>\n",
       "      <th>2</th>\n",
       "      <td>10265843</td>\n",
       "      <td>너무재밓었다그래서보는것을추천한다</td>\n",
       "      <td>0</td>\n",
       "    </tr>\n",
       "    <tr>\n",
       "      <th>3</th>\n",
       "      <td>9045019</td>\n",
       "      <td>교도소 이야기구먼 ..솔직히 재미는 없다..평점 조정</td>\n",
       "      <td>0</td>\n",
       "    </tr>\n",
       "    <tr>\n",
       "      <th>4</th>\n",
       "      <td>6483659</td>\n",
       "      <td>사이몬페그의 익살스런 연기가 돋보였던 영화!스파이더맨에서 늙어보이기만 했던 커스틴 ...</td>\n",
       "      <td>1</td>\n",
       "    </tr>\n",
       "    <tr>\n",
       "      <th>...</th>\n",
       "      <td>...</td>\n",
       "      <td>...</td>\n",
       "      <td>...</td>\n",
       "    </tr>\n",
       "    <tr>\n",
       "      <th>149995</th>\n",
       "      <td>6222902</td>\n",
       "      <td>인간이 문제지.. 소는 뭔죄인가..</td>\n",
       "      <td>0</td>\n",
       "    </tr>\n",
       "    <tr>\n",
       "      <th>149996</th>\n",
       "      <td>8549745</td>\n",
       "      <td>평점이 너무 낮아서...</td>\n",
       "      <td>1</td>\n",
       "    </tr>\n",
       "    <tr>\n",
       "      <th>149997</th>\n",
       "      <td>9311800</td>\n",
       "      <td>이게 뭐요? 한국인은 거들먹거리고 필리핀 혼혈은 착하다?</td>\n",
       "      <td>0</td>\n",
       "    </tr>\n",
       "    <tr>\n",
       "      <th>149998</th>\n",
       "      <td>2376369</td>\n",
       "      <td>청춘 영화의 최고봉.방황과 우울했던 날들의 자화상</td>\n",
       "      <td>1</td>\n",
       "    </tr>\n",
       "    <tr>\n",
       "      <th>149999</th>\n",
       "      <td>9619869</td>\n",
       "      <td>한국 영화 최초로 수간하는 내용이 담긴 영화</td>\n",
       "      <td>0</td>\n",
       "    </tr>\n",
       "  </tbody>\n",
       "</table>\n",
       "<p>150000 rows × 3 columns</p>\n",
       "</div>"
      ],
      "text/plain": [
       "              id                                           document  label\n",
       "0        9976970                                아 더빙.. 진짜 짜증나네요 목소리      0\n",
       "1        3819312                  흠...포스터보고 초딩영화줄....오버연기조차 가볍지 않구나      1\n",
       "2       10265843                                  너무재밓었다그래서보는것을추천한다      0\n",
       "3        9045019                      교도소 이야기구먼 ..솔직히 재미는 없다..평점 조정      0\n",
       "4        6483659  사이몬페그의 익살스런 연기가 돋보였던 영화!스파이더맨에서 늙어보이기만 했던 커스틴 ...      1\n",
       "...          ...                                                ...    ...\n",
       "149995   6222902                                인간이 문제지.. 소는 뭔죄인가..      0\n",
       "149996   8549745                                      평점이 너무 낮아서...      1\n",
       "149997   9311800                    이게 뭐요? 한국인은 거들먹거리고 필리핀 혼혈은 착하다?      0\n",
       "149998   2376369                        청춘 영화의 최고봉.방황과 우울했던 날들의 자화상      1\n",
       "149999   9619869                           한국 영화 최초로 수간하는 내용이 담긴 영화      0\n",
       "\n",
       "[150000 rows x 3 columns]"
      ]
     },
     "execution_count": 13,
     "metadata": {},
     "output_type": "execute_result"
    }
   ],
   "source": [
    "df_train"
   ]
  },
  {
   "cell_type": "code",
   "execution_count": 14,
   "id": "ef52cf94",
   "metadata": {
    "ExecuteTime": {
     "end_time": "2023-06-05T00:04:17.330475Z",
     "start_time": "2023-06-05T00:04:17.324193Z"
    }
   },
   "outputs": [],
   "source": [
    "# id : 평점과 리뷰를 적은 사용자의 번호\n",
    "# document : 실제 리뷰 내용\n",
    "# label : 긍정 / 부정, 1은 긍정 0은 부정"
   ]
  },
  {
   "cell_type": "code",
   "execution_count": 15,
   "id": "6de8d5d5",
   "metadata": {
    "ExecuteTime": {
     "end_time": "2023-06-05T00:04:17.377236Z",
     "start_time": "2023-06-05T00:04:17.330475Z"
    }
   },
   "outputs": [
    {
     "name": "stdout",
     "output_type": "stream",
     "text": [
      "<class 'pandas.core.frame.DataFrame'>\n",
      "RangeIndex: 150000 entries, 0 to 149999\n",
      "Data columns (total 3 columns):\n",
      " #   Column    Non-Null Count   Dtype \n",
      "---  ------    --------------   ----- \n",
      " 0   id        150000 non-null  int64 \n",
      " 1   document  149995 non-null  object\n",
      " 2   label     150000 non-null  int64 \n",
      "dtypes: int64(2), object(1)\n",
      "memory usage: 3.4+ MB\n"
     ]
    }
   ],
   "source": [
    "# 결측치 확인\n",
    "df_train.info()"
   ]
  },
  {
   "cell_type": "code",
   "execution_count": 16,
   "id": "6b8739db",
   "metadata": {
    "ExecuteTime": {
     "end_time": "2023-06-05T00:04:17.408879Z",
     "start_time": "2023-06-05T00:04:17.378953Z"
    }
   },
   "outputs": [
    {
     "name": "stdout",
     "output_type": "stream",
     "text": [
      "<class 'pandas.core.frame.DataFrame'>\n",
      "RangeIndex: 50000 entries, 0 to 49999\n",
      "Data columns (total 3 columns):\n",
      " #   Column    Non-Null Count  Dtype \n",
      "---  ------    --------------  ----- \n",
      " 0   id        50000 non-null  int64 \n",
      " 1   document  49997 non-null  object\n",
      " 2   label     50000 non-null  int64 \n",
      "dtypes: int64(2), object(1)\n",
      "memory usage: 1.1+ MB\n"
     ]
    }
   ],
   "source": [
    "# 결측치 확인\n",
    "df_test.info()"
   ]
  },
  {
   "cell_type": "markdown",
   "id": "62202c24",
   "metadata": {},
   "source": [
    "- train과 test에서 결측치 여부가 확인\n",
    "- 각각 5개/3개의 결측치\n",
    "- 결측치의 양이 많지 않음! , 실제 리뷰내용은 채워주기 어려움 -> 삭제"
   ]
  },
  {
   "cell_type": "code",
   "execution_count": 17,
   "id": "ed5a8f2e",
   "metadata": {
    "ExecuteTime": {
     "end_time": "2023-06-05T00:04:17.456590Z",
     "start_time": "2023-06-05T00:04:17.410831Z"
    }
   },
   "outputs": [],
   "source": [
    "# 결측치 제거 -> 비어있는 값 삭제 함수 dropna\n",
    "df_train.dropna(inplace=True)\n",
    "df_test.dropna(inplace=True)"
   ]
  },
  {
   "cell_type": "code",
   "execution_count": 18,
   "id": "c67790ea",
   "metadata": {
    "ExecuteTime": {
     "end_time": "2023-06-05T00:04:17.490749Z",
     "start_time": "2023-06-05T00:04:17.457494Z"
    }
   },
   "outputs": [
    {
     "name": "stdout",
     "output_type": "stream",
     "text": [
      "<class 'pandas.core.frame.DataFrame'>\n",
      "Int64Index: 149995 entries, 0 to 149999\n",
      "Data columns (total 3 columns):\n",
      " #   Column    Non-Null Count   Dtype \n",
      "---  ------    --------------   ----- \n",
      " 0   id        149995 non-null  int64 \n",
      " 1   document  149995 non-null  object\n",
      " 2   label     149995 non-null  int64 \n",
      "dtypes: int64(2), object(1)\n",
      "memory usage: 4.6+ MB\n"
     ]
    }
   ],
   "source": [
    "df_train.info()"
   ]
  },
  {
   "cell_type": "code",
   "execution_count": 19,
   "id": "6509cb5b",
   "metadata": {
    "ExecuteTime": {
     "end_time": "2023-06-05T00:04:17.514191Z",
     "start_time": "2023-06-05T00:04:17.490749Z"
    }
   },
   "outputs": [
    {
     "name": "stdout",
     "output_type": "stream",
     "text": [
      "<class 'pandas.core.frame.DataFrame'>\n",
      "Int64Index: 49997 entries, 0 to 49999\n",
      "Data columns (total 3 columns):\n",
      " #   Column    Non-Null Count  Dtype \n",
      "---  ------    --------------  ----- \n",
      " 0   id        49997 non-null  int64 \n",
      " 1   document  49997 non-null  object\n",
      " 2   label     49997 non-null  int64 \n",
      "dtypes: int64(2), object(1)\n",
      "memory usage: 1.5+ MB\n"
     ]
    }
   ],
   "source": [
    "df_test.info()"
   ]
  },
  {
   "cell_type": "markdown",
   "id": "e03f0663",
   "metadata": {},
   "source": [
    "### 데이터 분할\n",
    "- 문제와 정답 데이터로 분할"
   ]
  },
  {
   "cell_type": "code",
   "execution_count": 20,
   "id": "ba87c62e",
   "metadata": {
    "ExecuteTime": {
     "end_time": "2023-06-05T00:04:17.530242Z",
     "start_time": "2023-06-05T00:04:17.514191Z"
    }
   },
   "outputs": [],
   "source": [
    "text_train = df_train['document']\n",
    "y_train = df_train['label']\n",
    "text_test = df_test['document']\n",
    "y_test = df_test['label']"
   ]
  },
  {
   "cell_type": "code",
   "execution_count": 21,
   "id": "30173e9f",
   "metadata": {
    "ExecuteTime": {
     "end_time": "2023-06-05T00:04:17.545935Z",
     "start_time": "2023-06-05T00:04:17.530639Z"
    }
   },
   "outputs": [
    {
     "name": "stdout",
     "output_type": "stream",
     "text": [
      "(149995,)\n",
      "(149995,)\n",
      "(49997,)\n",
      "(49997,)\n"
     ]
    }
   ],
   "source": [
    "print(text_train.shape)\n",
    "print(y_train.shape)\n",
    "print(text_test.shape)\n",
    "print(y_test.shape)"
   ]
  },
  {
   "cell_type": "markdown",
   "id": "141c7bbc",
   "metadata": {},
   "source": [
    "**Vectorizer**\n",
    "- Vectorizer라는 도구는 말 그대로 대상을 벡터라는 수치값으로 변화내주는 도구\n",
    "- 기계학습 분야에서는 주로 텍스트 데이터를 쉽게 분석하기 위해 벡터화 시켜주는 경우가 많다.\n",
    "- 숫자나 수치형의 벡터를 입력받기를 기대하는 머신러닝 모델을 실행하기 위해서 텍스트나 다른 형태의 데이터를 숫잔는 벡터로 나타낼 필요가 있다."
   ]
  },
  {
   "cell_type": "markdown",
   "id": "be491900",
   "metadata": {},
   "source": [
    "### BOW(단어 가방, Bag Of Word)\n",
    "- 문서 또는 말뭉치를 벡터라는 수치값으로 변환하는 기본적인 방법\n",
    "- 문서 내에 있는 모든 단어를 모아 하나의 가방으로 만들어서 특정 문서에 어떤 단어가 들어있는지 리스트 형태로 표현하고 순서-숫자의 형태로 나타내는 방법"
   ]
  },
  {
   "cell_type": "code",
   "execution_count": 22,
   "id": "7f8d0bff",
   "metadata": {
    "ExecuteTime": {
     "end_time": "2023-06-05T00:04:19.006179Z",
     "start_time": "2023-06-05T00:04:17.546161Z"
    }
   },
   "outputs": [],
   "source": [
    "from sklearn.feature_extraction.text import TfidfVectorizer"
   ]
  },
  {
   "cell_type": "code",
   "execution_count": 23,
   "id": "4608bb49",
   "metadata": {
    "ExecuteTime": {
     "end_time": "2023-06-05T00:04:19.022935Z",
     "start_time": "2023-06-05T00:04:19.007974Z"
    }
   },
   "outputs": [
    {
     "data": {
      "text/plain": [
       "0                  아 더빙.. 진짜 짜증나네요 목소리\n",
       "1    흠...포스터보고 초딩영화줄....오버연기조차 가볍지 않구나\n",
       "2                    너무재밓었다그래서보는것을추천한다\n",
       "Name: document, dtype: object"
      ]
     },
     "execution_count": 23,
     "metadata": {},
     "output_type": "execute_result"
    }
   ],
   "source": [
    "text_train[:3]"
   ]
  },
  {
   "cell_type": "code",
   "execution_count": 24,
   "id": "8e49b9a4",
   "metadata": {
    "ExecuteTime": {
     "end_time": "2023-06-05T00:04:19.046215Z",
     "start_time": "2023-06-05T00:04:19.024138Z"
    }
   },
   "outputs": [
    {
     "data": {
      "text/plain": [
       "dict_keys(['더빙', '진짜', '짜증나네요', '목소리', '포스터보고', '초딩영화줄', '오버연기조차', '가볍지', '않구나', '너무재밓었다그래서보는것을추천한다'])"
      ]
     },
     "execution_count": 24,
     "metadata": {},
     "output_type": "execute_result"
    }
   ],
   "source": [
    "# Tf_idf 벡터라이저 객체 생성\n",
    "tf_idf_vect = TfidfVectorizer()\n",
    "# 단어가방 만들기\n",
    "tf_idf_vect.fit(text_train[:3])\n",
    "# 분리된 문장으로 만든 단어사전 출력\n",
    "tf_idf_vect.vocabulary_.keys()"
   ]
  },
  {
   "cell_type": "markdown",
   "id": "3a134688",
   "metadata": {},
   "source": [
    "- 기본 TF-IDF 벡터라이저는 기본적으로 어절 단위로 끊어준다 -> 한국어 특성상 의미 파악이 어렵다\n",
    "    - 어절 (문장을 이루는 토막)\n",
    "- 조금 더 원활한 분석을 위해 의미를 가진 더 작은 단위로 분할해주자(형태소 단위)"
   ]
  },
  {
   "cell_type": "markdown",
   "id": "d80241ef",
   "metadata": {},
   "source": [
    "### 한국어 형태소 분석기\n",
    "**konlpy-Kkma** 꼬꼬마, 서울대학교 IDS(Intelligent Data System) 연구실 개발\n",
    "- nouns() : 명사 추출\n",
    "- morphs() : 형태소 추출\n",
    "- pos() : 형태소 추출 + 품사 부착"
   ]
  },
  {
   "cell_type": "code",
   "execution_count": 25,
   "id": "9dc5b3c1",
   "metadata": {
    "ExecuteTime": {
     "end_time": "2023-06-05T00:04:19.060208Z",
     "start_time": "2023-06-05T00:04:19.046669Z"
    }
   },
   "outputs": [],
   "source": [
    "# Mecab를 제외한 나머지는 구동이 잘됨\n",
    "from konlpy.tag import Kkma"
   ]
  },
  {
   "cell_type": "code",
   "execution_count": 26,
   "id": "22ea9e9e",
   "metadata": {
    "ExecuteTime": {
     "end_time": "2023-06-05T00:04:19.075596Z",
     "start_time": "2023-06-05T00:04:19.060208Z"
    }
   },
   "outputs": [],
   "source": [
    "kkma=Kkma()"
   ]
  },
  {
   "cell_type": "code",
   "execution_count": 27,
   "id": "c10a2b2c",
   "metadata": {
    "ExecuteTime": {
     "end_time": "2023-06-05T00:04:19.091250Z",
     "start_time": "2023-06-05T00:04:19.077449Z"
    }
   },
   "outputs": [
    {
     "data": {
      "text/plain": [
       "'아 더빙.. 진짜 짜증나네요 목소리'"
      ]
     },
     "execution_count": 27,
     "metadata": {},
     "output_type": "execute_result"
    }
   ],
   "source": [
    "text_train[0]"
   ]
  },
  {
   "cell_type": "code",
   "execution_count": 28,
   "id": "460adbc7",
   "metadata": {
    "ExecuteTime": {
     "end_time": "2023-06-05T00:04:19.395564Z",
     "start_time": "2023-06-05T00:04:19.340452Z"
    }
   },
   "outputs": [
    {
     "data": {
      "text/plain": [
       "['더빙', '목소리']"
      ]
     },
     "execution_count": 28,
     "metadata": {},
     "output_type": "execute_result"
    }
   ],
   "source": [
    "# 명사 추출\n",
    "kkma.nouns(text_train[0])"
   ]
  },
  {
   "cell_type": "code",
   "execution_count": 29,
   "id": "057e6be6",
   "metadata": {
    "ExecuteTime": {
     "end_time": "2023-06-05T00:04:19.413074Z",
     "start_time": "2023-06-05T00:04:19.397559Z"
    }
   },
   "outputs": [],
   "source": [
    "# TF-IDF와 kkma.nouns() 연결해서 한국어 명사 추출기를 만들어보자\n",
    "def myTokenizer(text) : \n",
    "    return kkma.nouns(text)"
   ]
  },
  {
   "cell_type": "code",
   "execution_count": 30,
   "id": "0f3e25d0",
   "metadata": {
    "ExecuteTime": {
     "end_time": "2023-06-05T00:04:19.591716Z",
     "start_time": "2023-06-05T00:04:19.413074Z"
    }
   },
   "outputs": [
    {
     "name": "stderr",
     "output_type": "stream",
     "text": [
      "C:\\Users\\smhrd\\anaconda3\\lib\\site-packages\\sklearn\\feature_extraction\\text.py:516: UserWarning: The parameter 'token_pattern' will not be used since 'tokenizer' is not None'\n",
      "  warnings.warn(\n"
     ]
    },
    {
     "data": {
      "text/plain": [
       "dict_keys(['더빙', '목소리', '흠', '포스터', '포스터보고', '보고', '초', '초딩영화줄', '딩', '영화', '줄', '오버', '오버연기', '연기', '재', '재밓', '밓', '추천'])"
      ]
     },
     "execution_count": 30,
     "metadata": {},
     "output_type": "execute_result"
    }
   ],
   "source": [
    "tmp_tf_idf = TfidfVectorizer(tokenizer=myTokenizer)\n",
    "tmp_tf_idf.fit(text_train[:3])\n",
    "tmp_tf_idf.vocabulary_.keys()"
   ]
  },
  {
   "cell_type": "markdown",
   "id": "85e6ea3f",
   "metadata": {},
   "source": [
    "### pos tagging 활용\n",
    "- 감성 분석 => 형용사랑 동사를 주로 사용!"
   ]
  },
  {
   "cell_type": "markdown",
   "id": "97c1f50b",
   "metadata": {},
   "source": [
    "pos tagging = 형태소를 추출해서 품사를 태깅해주는 기능"
   ]
  },
  {
   "cell_type": "code",
   "execution_count": 31,
   "id": "f0e19110",
   "metadata": {
    "ExecuteTime": {
     "end_time": "2023-06-05T00:04:19.607417Z",
     "start_time": "2023-06-05T00:04:19.593709Z"
    }
   },
   "outputs": [
    {
     "data": {
      "text/plain": [
       "{'EC': '연결 어미',\n",
       " 'ECD': '의존적 연결 어미',\n",
       " 'ECE': '대등 연결 어미',\n",
       " 'ECS': '보조적 연결 어미',\n",
       " 'EF': '종결 어미',\n",
       " 'EFA': '청유형 종결 어미',\n",
       " 'EFI': '감탄형 종결 어미',\n",
       " 'EFN': '평서형 종결 어미',\n",
       " 'EFO': '명령형 종결 어미',\n",
       " 'EFQ': '의문형 종결 어미',\n",
       " 'EFR': '존칭형 종결 어미',\n",
       " 'EP': '선어말 어미',\n",
       " 'EPH': '존칭 선어말 어미',\n",
       " 'EPP': '공손 선어말 어미',\n",
       " 'EPT': '시제 선어말 어미',\n",
       " 'ET': '전성 어미',\n",
       " 'ETD': '관형형 전성 어미',\n",
       " 'ETN': '명사형 전성 어미',\n",
       " 'IC': '감탄사',\n",
       " 'JC': '접속 조사',\n",
       " 'JK': '조사',\n",
       " 'JKC': '보격 조사',\n",
       " 'JKG': '관형격 조사',\n",
       " 'JKI': '호격 조사',\n",
       " 'JKM': '부사격 조사',\n",
       " 'JKO': '목적격 조사',\n",
       " 'JKQ': '인용격 조사',\n",
       " 'JKS': '주격 조사',\n",
       " 'JX': '보조사',\n",
       " 'MA': '부사',\n",
       " 'MAC': '접속 부사',\n",
       " 'MAG': '일반 부사',\n",
       " 'MD': '관형사',\n",
       " 'MDN': '수 관형사',\n",
       " 'MDT': '일반 관형사',\n",
       " 'NN': '명사',\n",
       " 'NNB': '일반 의존 명사',\n",
       " 'NNG': '보통명사',\n",
       " 'NNM': '단위 의존 명사',\n",
       " 'NNP': '고유명사',\n",
       " 'NP': '대명사',\n",
       " 'NR': '수사',\n",
       " 'OH': '한자',\n",
       " 'OL': '외국어',\n",
       " 'ON': '숫자',\n",
       " 'SE': '줄임표',\n",
       " 'SF': '마침표, 물음표, 느낌표',\n",
       " 'SO': '붙임표(물결,숨김,빠짐)',\n",
       " 'SP': '쉼표,가운뎃점,콜론,빗금',\n",
       " 'SS': '따옴표,괄호표,줄표',\n",
       " 'SW': '기타기호 (논리수학기호,화폐기호)',\n",
       " 'UN': '명사추정범주',\n",
       " 'VA': '형용사',\n",
       " 'VC': '지정사',\n",
       " 'VCN': \"부정 지정사, 형용사 '아니다'\",\n",
       " 'VCP': \"긍정 지정사, 서술격 조사 '이다'\",\n",
       " 'VV': '동사',\n",
       " 'VX': '보조 용언',\n",
       " 'VXA': '보조 형용사',\n",
       " 'VXV': '보조 동사',\n",
       " 'XP': '접두사',\n",
       " 'XPN': '체언 접두사',\n",
       " 'XPV': '용언 접두사',\n",
       " 'XR': '어근',\n",
       " 'XSA': '형용사 파생 접미사',\n",
       " 'XSN': '명사파생 접미사',\n",
       " 'XSV': '동사 파생 접미사'}"
      ]
     },
     "execution_count": 31,
     "metadata": {},
     "output_type": "execute_result"
    }
   ],
   "source": [
    "# 품사 태그의 종류를 확인해보자\n",
    "kkma.tagset"
   ]
  },
  {
   "cell_type": "code",
   "execution_count": 32,
   "id": "12013482",
   "metadata": {
    "ExecuteTime": {
     "end_time": "2023-06-05T00:04:19.640705Z",
     "start_time": "2023-06-05T00:04:19.609410Z"
    }
   },
   "outputs": [
    {
     "data": {
      "text/plain": [
       "['집', '가다', '가', '고', '싶', '다', '배고프', '다', '먹', '다', '모자', '안경']"
      ]
     },
     "execution_count": 32,
     "metadata": {},
     "output_type": "execute_result"
    }
   ],
   "source": [
    "# 단순 형태소만 추출\n",
    "data = '집 가다 가고싶다 배고프다 먹다 모자 안경'\n",
    "kkma.morphs(data)\n",
    "# => 단순 형태소 별로 분할"
   ]
  },
  {
   "cell_type": "code",
   "execution_count": 33,
   "id": "1c1092c6",
   "metadata": {
    "ExecuteTime": {
     "end_time": "2023-06-05T00:04:19.661494Z",
     "start_time": "2023-06-05T00:04:19.642701Z"
    }
   },
   "outputs": [
    {
     "data": {
      "text/plain": [
       "[('집', 'NNG'),\n",
       " ('가다', 'MAG'),\n",
       " ('가', 'VV'),\n",
       " ('고', 'ECE'),\n",
       " ('싶', 'VXA'),\n",
       " ('다', 'ECS'),\n",
       " ('배고프', 'VA'),\n",
       " ('다', 'ECS'),\n",
       " ('먹', 'VV'),\n",
       " ('다', 'ECS'),\n",
       " ('모자', 'NNG'),\n",
       " ('안경', 'NNG')]"
      ]
     },
     "execution_count": 33,
     "metadata": {},
     "output_type": "execute_result"
    }
   ],
   "source": [
    "# 형태소 추출 및 품사 태깅\n",
    "kkma.pos(data)\n",
    "# 여기서 형용사와 동사만 빼려면??"
   ]
  },
  {
   "cell_type": "code",
   "execution_count": 34,
   "id": "be10cb98",
   "metadata": {
    "ExecuteTime": {
     "end_time": "2023-06-05T00:04:20.442534Z",
     "start_time": "2023-06-05T00:04:19.661494Z"
    }
   },
   "outputs": [
    {
     "data": {
      "text/html": [
       "<div>\n",
       "<style scoped>\n",
       "    .dataframe tbody tr th:only-of-type {\n",
       "        vertical-align: middle;\n",
       "    }\n",
       "\n",
       "    .dataframe tbody tr th {\n",
       "        vertical-align: top;\n",
       "    }\n",
       "\n",
       "    .dataframe thead th {\n",
       "        text-align: right;\n",
       "    }\n",
       "</style>\n",
       "<table border=\"1\" class=\"dataframe\">\n",
       "  <thead>\n",
       "    <tr style=\"text-align: right;\">\n",
       "      <th></th>\n",
       "      <th>morphs</th>\n",
       "    </tr>\n",
       "    <tr>\n",
       "      <th>tag</th>\n",
       "      <th></th>\n",
       "    </tr>\n",
       "  </thead>\n",
       "  <tbody>\n",
       "    <tr>\n",
       "      <th>NNG</th>\n",
       "      <td>집</td>\n",
       "    </tr>\n",
       "    <tr>\n",
       "      <th>NNG</th>\n",
       "      <td>모자</td>\n",
       "    </tr>\n",
       "    <tr>\n",
       "      <th>NNG</th>\n",
       "      <td>안경</td>\n",
       "    </tr>\n",
       "    <tr>\n",
       "      <th>VV</th>\n",
       "      <td>가</td>\n",
       "    </tr>\n",
       "    <tr>\n",
       "      <th>VV</th>\n",
       "      <td>먹</td>\n",
       "    </tr>\n",
       "    <tr>\n",
       "      <th>VA</th>\n",
       "      <td>배고프</td>\n",
       "    </tr>\n",
       "  </tbody>\n",
       "</table>\n",
       "</div>"
      ],
      "text/plain": [
       "    morphs\n",
       "tag       \n",
       "NNG      집\n",
       "NNG     모자\n",
       "NNG     안경\n",
       "VV       가\n",
       "VV       먹\n",
       "VA     배고프"
      ]
     },
     "execution_count": 34,
     "metadata": {},
     "output_type": "execute_result"
    }
   ],
   "source": [
    "d= pd.DataFrame(kkma.pos(data), columns=['morphs', 'tag'])\n",
    "d.set_index('tag', inplace=True)\n",
    "# 명사, 형용사, 동사만 추출해보자!\n",
    "d.loc[d.index.intersection(['VV','VA','NNG'])]"
   ]
  },
  {
   "cell_type": "code",
   "execution_count": 35,
   "id": "42a8e703",
   "metadata": {
    "ExecuteTime": {
     "end_time": "2023-06-05T00:04:20.462047Z",
     "start_time": "2023-06-05T00:04:20.444530Z"
    }
   },
   "outputs": [],
   "source": [
    "# text_train[:3] 실전 데이터 적용해보기\n",
    "def myTokenizer2(text):\n",
    "    d= pd.DataFrame(kkma.pos(text), columns=['morphs', 'tag'])\n",
    "    d.set_index('tag', inplace=True)\n",
    "    # 명사, 형용사, 동사만 추출해보자!\n",
    "    if('VV' in d.index) | ('VA' in d.index) | ('NNG' in d.index) :\n",
    "        # 명사 형용사 동사만 추출\n",
    "        return d.loc[d.index.intersection(['VV','VA','NNG']), 'morphs'].values\n",
    "    else : \n",
    "        return[]"
   ]
  },
  {
   "cell_type": "code",
   "execution_count": 36,
   "id": "daebe2a3",
   "metadata": {
    "ExecuteTime": {
     "end_time": "2023-06-05T00:04:20.593616Z",
     "start_time": "2023-06-05T00:04:20.462047Z"
    }
   },
   "outputs": [
    {
     "name": "stderr",
     "output_type": "stream",
     "text": [
      "C:\\Users\\smhrd\\anaconda3\\lib\\site-packages\\sklearn\\feature_extraction\\text.py:516: UserWarning: The parameter 'token_pattern' will not be used since 'tokenizer' is not None'\n",
      "  warnings.warn(\n"
     ]
    },
    {
     "data": {
      "text/plain": [
       "{'아': 5,\n",
       " '짜증나': 12,\n",
       " '더빙': 1,\n",
       " '목소리': 2,\n",
       " '흠': 15,\n",
       " '포스터': 14,\n",
       " '보고': 4,\n",
       " '영화': 8,\n",
       " '줄': 11,\n",
       " '오버': 9,\n",
       " '연기': 7,\n",
       " '가볍': 0,\n",
       " '재': 10,\n",
       " '추천': 13,\n",
       " '어': 6,\n",
       " '보': 3}"
      ]
     },
     "execution_count": 36,
     "metadata": {},
     "output_type": "execute_result"
    }
   ],
   "source": [
    "tmp_tf_idf = TfidfVectorizer(tokenizer= myTokenizer2)\n",
    "tmp_tf_idf.fit(text_train[:3])\n",
    "tmp_tf_idf.vocabulary_"
   ]
  },
  {
   "cell_type": "code",
   "execution_count": 37,
   "id": "ebc1f5ad",
   "metadata": {
    "ExecuteTime": {
     "end_time": "2023-06-05T00:08:20.504191Z",
     "start_time": "2023-06-05T00:04:20.595508Z"
    }
   },
   "outputs": [
    {
     "name": "stderr",
     "output_type": "stream",
     "text": [
      "C:\\Users\\smhrd\\anaconda3\\lib\\site-packages\\sklearn\\feature_extraction\\text.py:516: UserWarning: The parameter 'token_pattern' will not be used since 'tokenizer' is not None'\n",
      "  warnings.warn(\n"
     ]
    },
    {
     "data": {
      "text/plain": [
       "TfidfVectorizer(tokenizer=<function myTokenizer2 at 0x0000020B6700D670>)"
      ]
     },
     "execution_count": 37,
     "metadata": {},
     "output_type": "execute_result"
    }
   ],
   "source": [
    "final_tf_idf = TfidfVectorizer(tokenizer=myTokenizer2)\n",
    "final_tf_idf.fit(text_train[:10000])"
   ]
  },
  {
   "cell_type": "code",
   "execution_count": 39,
   "id": "6461282e",
   "metadata": {
    "ExecuteTime": {
     "end_time": "2023-06-05T00:30:37.559984Z",
     "start_time": "2023-06-05T00:30:37.554510Z"
    }
   },
   "outputs": [
    {
     "name": "stdout",
     "output_type": "stream",
     "text": [
      "구축한 단어사전 개수 : 8748\n"
     ]
    }
   ],
   "source": [
    "# 구축한 단어사전 확인해보기\n",
    "print(f\"구축한 단어사전 개수 : {len(final_tf_idf.vocabulary_)}\")"
   ]
  },
  {
   "cell_type": "code",
   "execution_count": 40,
   "id": "7ddba250",
   "metadata": {
    "ExecuteTime": {
     "end_time": "2023-06-05T00:42:26.403978Z",
     "start_time": "2023-06-05T00:34:46.162750Z"
    }
   },
   "outputs": [],
   "source": [
    "# 벡터화 진행!\n",
    "X_train = final_tf_idf.transform(text_train[:10000])\n",
    "X_test = final_tf_idf.transform(text_test[:10000])"
   ]
  },
  {
   "cell_type": "markdown",
   "id": "f33ce5df",
   "metadata": {},
   "source": [
    "### 모델링\n",
    "- 텍스트마이닝은 시간이 많이 걸리는 작업이다.  \n",
    "  그래서 상대적으로 속도가 빠른 로지스틱 회귀 모델을 사용해서 빠른 분석 결과를 얻어보자.\n"
   ]
  },
  {
   "cell_type": "code",
   "execution_count": 41,
   "id": "4b904c7a",
   "metadata": {
    "ExecuteTime": {
     "end_time": "2023-06-05T00:42:30.507157Z",
     "start_time": "2023-06-05T00:42:30.413977Z"
    }
   },
   "outputs": [],
   "source": [
    "# 모델 import \n",
    "from sklearn.linear_model import LogisticRegression # 선형 분류/ 로지스틱 회귀"
   ]
  },
  {
   "cell_type": "code",
   "execution_count": 42,
   "id": "22669e41",
   "metadata": {
    "ExecuteTime": {
     "end_time": "2023-06-05T00:42:32.225285Z",
     "start_time": "2023-06-05T00:42:32.217250Z"
    }
   },
   "outputs": [],
   "source": [
    "# 모델 객체 생성\n",
    "logi_model = LogisticRegression()"
   ]
  },
  {
   "cell_type": "code",
   "execution_count": 44,
   "id": "1bf0e052",
   "metadata": {
    "ExecuteTime": {
     "end_time": "2023-06-05T00:44:28.220585Z",
     "start_time": "2023-06-05T00:44:28.057441Z"
    }
   },
   "outputs": [
    {
     "data": {
      "text/plain": [
       "LogisticRegression()"
      ]
     },
     "execution_count": 44,
     "metadata": {},
     "output_type": "execute_result"
    }
   ],
   "source": [
    "# 모델 학습\n",
    "logi_model.fit(X_train, y_train[:10000])"
   ]
  },
  {
   "cell_type": "code",
   "execution_count": 45,
   "id": "876f695e",
   "metadata": {
    "ExecuteTime": {
     "end_time": "2023-06-05T00:44:29.858440Z",
     "start_time": "2023-06-05T00:44:29.841509Z"
    }
   },
   "outputs": [
    {
     "data": {
      "text/plain": [
       "0.7843"
      ]
     },
     "execution_count": 45,
     "metadata": {},
     "output_type": "execute_result"
    }
   ],
   "source": [
    "# 스코어 확인\n",
    "logi_model.score(X_test, y_test[:10000])"
   ]
  },
  {
   "cell_type": "code",
   "execution_count": 46,
   "id": "8d246e92",
   "metadata": {
    "ExecuteTime": {
     "end_time": "2023-06-05T00:53:17.279710Z",
     "start_time": "2023-06-05T00:53:17.256391Z"
    }
   },
   "outputs": [
    {
     "name": "stdout",
     "output_type": "stream",
     "text": [
      "오랜만에 볼만한 한국 영화였어요.는 81.49%로 긍정리뷰입니다.\n"
     ]
    }
   ],
   "source": [
    "# 위에 학습된 모델을 활용\n",
    "# predict_proba : 분류의 불확실성\n",
    "target_name = ['부정', '긍정']\n",
    "review = ['오랜만에 볼만한 한국 영화였어요.']\n",
    "vect_review = final_tf_idf.transform(review)\n",
    "pre = logi_model.predict(vect_review)\n",
    "print(f\"{review[0]}는 {logi_model.predict_proba(vect_review).max()*100:.2f}%로 {target_name[pre[0]]}리뷰입니다.\")"
   ]
  },
  {
   "cell_type": "code",
   "execution_count": 47,
   "id": "52b7d73b",
   "metadata": {
    "ExecuteTime": {
     "end_time": "2023-06-05T00:53:51.285755Z",
     "start_time": "2023-06-05T00:53:51.264716Z"
    }
   },
   "outputs": [
    {
     "name": "stdout",
     "output_type": "stream",
     "text": [
      "정말 재밌는 영화네요!.는 98.41%로 긍정리뷰입니다.\n"
     ]
    }
   ],
   "source": [
    "review = ['정말 재밌는 영화네요!.']\n",
    "vect_review = final_tf_idf.transform(review)\n",
    "pre = logi_model.predict(vect_review)\n",
    "print(f\"{review[0]}는 {logi_model.predict_proba(vect_review).max()*100:.2f}%로 {target_name[pre[0]]}리뷰입니다.\")"
   ]
  },
  {
   "cell_type": "code",
   "execution_count": 48,
   "id": "e0f621e9",
   "metadata": {
    "ExecuteTime": {
     "end_time": "2023-06-05T01:08:19.719403Z",
     "start_time": "2023-06-05T01:08:19.698579Z"
    }
   },
   "outputs": [
    {
     "name": "stdout",
     "output_type": "stream",
     "text": [
      "개노잼는 71.31%로 부정리뷰입니다.\n"
     ]
    }
   ],
   "source": [
    "review = ['개노잼']\n",
    "vect_review = final_tf_idf.transform(review)\n",
    "pre = logi_model.predict(vect_review)\n",
    "print(f\"{review[0]}는 {logi_model.predict_proba(vect_review).max()*100:.2f}%로 {target_name[pre[0]]}리뷰입니다.\")"
   ]
  },
  {
   "cell_type": "markdown",
   "id": "2579858d",
   "metadata": {},
   "source": [
    "단어사전 확인해보기"
   ]
  },
  {
   "cell_type": "code",
   "execution_count": 49,
   "id": "e1c91a3f",
   "metadata": {
    "ExecuteTime": {
     "end_time": "2023-06-05T01:09:43.280883Z",
     "start_time": "2023-06-05T01:09:43.239124Z"
    }
   },
   "outputs": [
    {
     "data": {
      "text/plain": [
       "{'아': 4671,\n",
       " '짜증나': 7146,\n",
       " '더빙': 1742,\n",
       " '목소리': 2611,\n",
       " '흠': 8699,\n",
       " '포스터': 8014,\n",
       " '보고': 3208,\n",
       " '영화': 5271,\n",
       " '줄': 6884,\n",
       " '오버': 5359,\n",
       " '연기': 5172,\n",
       " '가볍': 55,\n",
       " '재': 6338,\n",
       " '추천': 7428,\n",
       " '어': 4938,\n",
       " '보': 3205,\n",
       " '교도소': 693,\n",
       " '이야기': 5907,\n",
       " '재미': 6353,\n",
       " '점': 6532,\n",
       " '조정': 6728,\n",
       " '멀': 2477,\n",
       " '없': 5041,\n",
       " '익살': 5974,\n",
       " '스파이': 4371,\n",
       " '더': 1730,\n",
       " '맨': 2450,\n",
       " '커스틴': 7565,\n",
       " '돋보이': 1829,\n",
       " '늙': 1489,\n",
       " '보이': 3238,\n",
       " '하': 8148,\n",
       " '이쁘': 5879,\n",
       " '걸음마': 353,\n",
       " '초등학교': 7354,\n",
       " '학년': 8209,\n",
       " '생인': 3875,\n",
       " '용': 5522,\n",
       " '별': 3186,\n",
       " '반개': 2939,\n",
       " '떼': 2070,\n",
       " '아깝': 4677,\n",
       " '원작': 5630,\n",
       " '긴장감': 1044,\n",
       " '살리': 3740,\n",
       " '욕': 5513,\n",
       " '이응': 5925,\n",
       " '경': 417,\n",
       " '길': 1047,\n",
       " '우': 5538,\n",
       " '생활': 3882,\n",
       " '발': 2969,\n",
       " '납': 1281,\n",
       " '감금': 145,\n",
       " '반복': 2947,\n",
       " '이': 5818,\n",
       " '드라마': 1947,\n",
       " '가족': 92,\n",
       " '사람': 3649,\n",
       " '모': 2550,\n",
       " '엿': 5233,\n",
       " '나오': 1205,\n",
       " '낫': 1284,\n",
       " '액션': 4881,\n",
       " '안': 4775,\n",
       " '있': 6141,\n",
       " '평점': 7994,\n",
       " '우드': 5541,\n",
       " '식': 4487,\n",
       " '화려': 8540,\n",
       " '낮': 1289,\n",
       " '헐': 8403,\n",
       " '길들이': 1048,\n",
       " '인피': 6036,\n",
       " '니트': 1507,\n",
       " '짱': 7158,\n",
       " '나': 1168,\n",
       " '죽': 6869,\n",
       " '때': 2042,\n",
       " '눈물': 1456,\n",
       " '향수': 8377,\n",
       " '자극': 6159,\n",
       " '허': 8380,\n",
       " '진호': 7090,\n",
       " '감성': 163,\n",
       " '절제': 6527,\n",
       " '멜로': 2511,\n",
       " '달인': 1613,\n",
       " '울': 5590,\n",
       " '손들': 4168,\n",
       " '건너': 322,\n",
       " '뛰쳐나오': 2088,\n",
       " '횡단보도': 8623,\n",
       " '범수': 3137,\n",
       " '드럽': 1956,\n",
       " '좋': 6781,\n",
       " '신문': 4519,\n",
       " '기사': 996,\n",
       " '잊어버리': 6146,\n",
       " '취향': 7479,\n",
       " '존중': 6748,\n",
       " '진짜': 7085,\n",
       " '내생': 1319,\n",
       " '극장': 897,\n",
       " '노': 1369,\n",
       " '잼': 6389,\n",
       " '감동': 153,\n",
       " '임': 6108,\n",
       " '스토리': 4351,\n",
       " '어거지': 4941,\n",
       " 'ㄱ': 0,\n",
       " '긴장': 1043,\n",
       " '참': 7219,\n",
       " '바스코': 2893,\n",
       " '바': 2872,\n",
       " '비': 3487,\n",
       " '아이': 4734,\n",
       " '돌이': 1845,\n",
       " '안달': 4786,\n",
       " '웃기': 5607,\n",
       " '이기': 5826,\n",
       " '까': 1065,\n",
       " '낳': 1294,\n",
       " '굿바이': 798,\n",
       " '레': 2152,\n",
       " '표절': 8054,\n",
       " '이해': 5963,\n",
       " '뒤': 1927,\n",
       " '니': 1499,\n",
       " '재미없': 6355,\n",
       " '깨알': 1086,\n",
       " '캐스팅': 7555,\n",
       " '내용': 1326,\n",
       " '구성': 735,\n",
       " '일드': 6052,\n",
       " '약탈자': 4915,\n",
       " '변명': 3178,\n",
       " '절대': 6518,\n",
       " '위하': 5678,\n",
       " '드': 1945,\n",
       " '착하': 7209,\n",
       " '나름': 1186,\n",
       " '심': 4582,\n",
       " '오한': 5395,\n",
       " '뜻': 2097,\n",
       " '학생': 8215,\n",
       " '선생': 3951,\n",
       " '놀아나': 1422,\n",
       " '아니': 4686,\n",
       " '웃': 5606,\n",
       " '건': 320,\n",
       " '불가능': 3404,\n",
       " '같': 225,\n",
       " '음식': 5775,\n",
       " '베': 3156,\n",
       " '만찬': 2358,\n",
       " '차이': 7201,\n",
       " '남': 1256,\n",
       " '핀란드': 8136,\n",
       " '풍경': 8076,\n",
       " '구경': 715,\n",
       " '늘': 1484,\n",
       " '수작': 4238,\n",
       " '말씀드리': 2377,\n",
       " '주제': 6858,\n",
       " '중반': 6914,\n",
       " '짜르': 7138,\n",
       " '끄': 1134,\n",
       " '그러': 847,\n",
       " '그리하': 872,\n",
       " '납득': 1282,\n",
       " '고추': 539,\n",
       " '털': 7745,\n",
       " '카': 7527,\n",
       " '밀': 2863,\n",
       " '벨': 3174,\n",
       " '센스': 4073,\n",
       " '연출력': 5207,\n",
       " '깨닫': 1082,\n",
       " '포스': 8013,\n",
       " '위력': 5668,\n",
       " '꽃': 1116,\n",
       " '검사': 358,\n",
       " '완전': 5444,\n",
       " '명품': 2547,\n",
       " '졸': 6749,\n",
       " '돼': 1896,\n",
       " '쓰레기': 4651,\n",
       " '진부': 7065,\n",
       " '말': 2367,\n",
       " '시간': 4413,\n",
       " '재밌': 6358,\n",
       " '골': 553,\n",
       " '기대': 965,\n",
       " '내가': 1296,\n",
       " '죄인': 6791,\n",
       " '인생': 6007,\n",
       " '최고': 7390,\n",
       " '패션': 7924,\n",
       " '열정': 5220,\n",
       " '투어': 7806,\n",
       " '대하': 1713,\n",
       " '키': 7651,\n",
       " '나이': 1208,\n",
       " '틀': 7850,\n",
       " '정신': 6586,\n",
       " '장애': 6321,\n",
       " '작가': 6222,\n",
       " '유령': 5699,\n",
       " '나가': 1169,\n",
       " '재미있': 6356,\n",
       " '관객': 636,\n",
       " '평가': 7981,\n",
       " '받': 2966,\n",
       " '모르': 2563,\n",
       " '단순': 1579,\n",
       " '매력': 2431,\n",
       " '알바': 4820,\n",
       " '거도': 287,\n",
       " 'ㅇ': 7,\n",
       " '무섭': 2689,\n",
       " '싱겁': 4608,\n",
       " '낚이': 1226,\n",
       " '오': 5321,\n",
       " '두': 1908,\n",
       " '굶주리': 795,\n",
       " '서리': 3897,\n",
       " '맘': 2390,\n",
       " '방법': 3015,\n",
       " '듣': 1970,\n",
       " '윤': 5752,\n",
       " '제문': 6654,\n",
       " '배우': 3060,\n",
       " '발견': 2971,\n",
       " '일탈': 6099,\n",
       " '미소': 2810,\n",
       " '음악': 5776,\n",
       " '멋지': 2486,\n",
       " '아쉽': 4719,\n",
       " '되': 1898,\n",
       " '머금': 2462,\n",
       " '주': 6795,\n",
       " '올리': 5418,\n",
       " '속지': 4159,\n",
       " '낭비': 1288,\n",
       " '돈': 1826,\n",
       " '마시': 2288,\n",
       " '리얼리티': 2241,\n",
       " '공감': 567,\n",
       " '이민기': 5869,\n",
       " '캐릭터': 7552,\n",
       " '학': 8206,\n",
       " '분노': 3384,\n",
       " '조절': 6727,\n",
       " '초기': 7349,\n",
       " '증상': 6951,\n",
       " '물건': 2752,\n",
       " '파손': 7875,\n",
       " '조금': 6689,\n",
       " '초반': 7359,\n",
       " '신선': 4531,\n",
       " '상태': 3823,\n",
       " '불가': 3403,\n",
       " '뛰어나': 2084,\n",
       " '크': 7622,\n",
       " '갈': 127,\n",
       " '패': 7916,\n",
       " '욕하': 5521,\n",
       " '가': 12,\n",
       " '마이너스': 2297,\n",
       " '수준': 4242,\n",
       " '북한': 3379,\n",
       " '알': 4815,\n",
       " '만들': 2344,\n",
       " '대주': 1698,\n",
       " '사랑': 3650,\n",
       " '느': 1476,\n",
       " '다니': 1517,\n",
       " '자': 6149,\n",
       " '잡수시': 6278,\n",
       " '리스': 2236,\n",
       " '타르': 7672,\n",
       " '나도': 1178,\n",
       " '용의': 5534,\n",
       " '주인': 6848,\n",
       " '누이': 1447,\n",
       " '근친': 915,\n",
       " '상간': 3784,\n",
       " '소설': 4116,\n",
       " '속': 4150,\n",
       " '메': 2491,\n",
       " '라': 2105,\n",
       " '니스': 1502,\n",
       " '터': 7728,\n",
       " '선': 3932,\n",
       " '드래곤': 1951,\n",
       " '멋': 2481,\n",
       " '지네': 6976,\n",
       " '웃음': 5609,\n",
       " '감독': 150,\n",
       " '토르': 7766,\n",
       " '기본': 992,\n",
       " '선방': 3947,\n",
       " '영혼': 5270,\n",
       " '세상사': 4054,\n",
       " '동화': 1895,\n",
       " '행복': 8367,\n",
       " '어루만지': 4958,\n",
       " '잊': 6145,\n",
       " '거칠': 315,\n",
       " '야': 4890,\n",
       " '세': 4037,\n",
       " '르': 2219,\n",
       " '게이': 375,\n",
       " '매운맛': 2437,\n",
       " '포': 8007,\n",
       " '콩': 7609,\n",
       " '작': 6221,\n",
       " '보여주': 3236,\n",
       " '저': 6392,\n",
       " '이렇': 5850,\n",
       " '시리': 4440,\n",
       " '가슴': 69,\n",
       " '자체': 6216,\n",
       " '꼬마': 1104,\n",
       " '애': 4857,\n",
       " '원한': 5642,\n",
       " '혼자': 8521,\n",
       " '고': 472,\n",
       " '깊': 1063,\n",
       " '나대': 1177,\n",
       " '어쩌': 4992,\n",
       " '전': 6433,\n",
       " '충격적': 7462,\n",
       " '다': 1510,\n",
       " '기분': 994,\n",
       " '느낌': 1480,\n",
       " '활력': 8590,\n",
       " '지독': 6981,\n",
       " '자비': 6182,\n",
       " '일본인': 6069,\n",
       " '상상력': 3801,\n",
       " '생각': 3856,\n",
       " '꺼지': 1092,\n",
       " '들': 1972,\n",
       " '무겁': 2658,\n",
       " '차갑': 7190,\n",
       " '백': 3071,\n",
       " '봉기': 3302,\n",
       " '들어맞': 1981,\n",
       " '예측': 5317,\n",
       " '카리스마': 7531,\n",
       " '악역': 4771,\n",
       " '불알': 3435,\n",
       " '당황': 1640,\n",
       " '중간': 6894,\n",
       " '끝나': 1154,\n",
       " '일상': 6075,\n",
       " '녹아들': 1403,\n",
       " '전개': 6434,\n",
       " '공인': 588,\n",
       " '은': 5756,\n",
       " '컷': 7576,\n",
       " '소극적': 4087,\n",
       " '모습': 2573,\n",
       " '짜증': 7145,\n",
       " '느리': 1481,\n",
       " '희': 8716,\n",
       " '가슴속': 70,\n",
       " '감정': 175,\n",
       " '헤집': 8421,\n",
       " '많': 2366,\n",
       " '슬프': 4386,\n",
       " '우리나라': 5547,\n",
       " '현대사': 8433,\n",
       " '단면': 1574,\n",
       " '사죄': 3705,\n",
       " '노력': 1379,\n",
       " '말로': 2372,\n",
       " '보도': 3215,\n",
       " '연맹': 5182,\n",
       " '민간인': 2841,\n",
       " '학살': 8214,\n",
       " '이정': 5934,\n",
       " '일': 6039,\n",
       " '살인': 3752,\n",
       " '살인자': 3755,\n",
       " '잡': 6276,\n",
       " '예전': 5312,\n",
       " '작품': 6243,\n",
       " '에피소드': 5078,\n",
       " '탕': 7706,\n",
       " '사골': 3632,\n",
       " '산': 3727,\n",
       " '시청률': 4474,\n",
       " '이제': 5936,\n",
       " '부작': 3357,\n",
       " '우려먹': 5543,\n",
       " '김': 1050,\n",
       " '연기력': 5173,\n",
       " '입도': 6125,\n",
       " '손': 4163,\n",
       " '예진': 5314,\n",
       " 'ㅈ': 8,\n",
       " '몰': 2622,\n",
       " '보신': 3232,\n",
       " '분': 3381,\n",
       " '노래': 1378,\n",
       " '실력': 4550,\n",
       " '박시': 2912,\n",
       " '환': 8572,\n",
       " '망신': 2406,\n",
       " '뽑': 3611,\n",
       " '맞': 2412,\n",
       " '이러': 5848,\n",
       " '일본': 6064,\n",
       " '유치': 5730,\n",
       " '이틀': 5959,\n",
       " '차': 7188,\n",
       " '조작': 6724,\n",
       " '안이': 4800,\n",
       " '문자': 2735,\n",
       " '비번': 3508,\n",
       " '억지': 5003,\n",
       " '넣': 1360,\n",
       " '열': 5212,\n",
       " '던지': 1748,\n",
       " '열리': 5215,\n",
       " '아물': 4707,\n",
       " '들어가': 1980,\n",
       " '덜': 1749,\n",
       " '걸리': 346,\n",
       " '졸작': 6755,\n",
       " '달팽이': 1614,\n",
       " '빠르': 3571,\n",
       " '어설프': 4975,\n",
       " '결말': 398,\n",
       " '부패': 3371,\n",
       " '로마노': 2180,\n",
       " '왕조': 5459,\n",
       " '온몸': 5408,\n",
       " '항거': 8304,\n",
       " '러시아': 2148,\n",
       " '민중': 2857,\n",
       " '폭도': 8030,\n",
       " '기리': 983,\n",
       " '편이': 7971,\n",
       " '실망': 4552,\n",
       " '한국': 8230,\n",
       " '흥행': 8713,\n",
       " '코드': 7587,\n",
       " '갈등': 130,\n",
       " '계': 453,\n",
       " '화': 8534,\n",
       " '남발': 1265,\n",
       " '뻔': 3599,\n",
       " '시작하': 4465,\n",
       " '분만': 3388,\n",
       " '리플릿': 2247,\n",
       " '사진': 3706,\n",
       " '불안': 3432,\n",
       " '무엇': 2700,\n",
       " '엉망진창': 5051,\n",
       " '개진': 276,\n",
       " '창': 7236,\n",
       " '먹': 2470,\n",
       " '말하': 2386,\n",
       " '우뢰': 5545,\n",
       " '매': 2423,\n",
       " '진정': 7081,\n",
       " '위대': 5667,\n",
       " '내일': 1330,\n",
       " '조미': 6699,\n",
       " '문': 2727,\n",
       " '위': 5664,\n",
       " '좋아하': 6783,\n",
       " '눈': 1448,\n",
       " '짐': 7107,\n",
       " '부라리': 3323,\n",
       " '쓰': 4644,\n",
       " '성': 3995,\n",
       " '최악': 7404,\n",
       " '이혜': 5969,\n",
       " '때리': 2046,\n",
       " '스': 4303,\n",
       " '서기': 3891,\n",
       " '백인': 3085,\n",
       " '공주': 594,\n",
       " '귀엽': 823,\n",
       " '인상적': 6005,\n",
       " '셀': 4076,\n",
       " '강추': 216,\n",
       " '클라라': 7641,\n",
       " '고화': 548,\n",
       " '신': 4501,\n",
       " '본거': 3272,\n",
       " '설정': 3985,\n",
       " '내': 1295,\n",
       " '메인': 2505,\n",
       " '새롭': 3836,\n",
       " '마코토': 2311,\n",
       " '작화': 6245,\n",
       " '미': 2777,\n",
       " '유': 5684,\n",
       " '하나': 8153,\n",
       " '카나': 7528,\n",
       " '대': 1642,\n",
       " '박이': 2915,\n",
       " '잘하': 6267,\n",
       " '진심': 7070,\n",
       " '볼만': 3298,\n",
       " '고은': 522,\n",
       " '노골적': 1371,\n",
       " '술': 4280,\n",
       " '광고': 665,\n",
       " '링': 2253,\n",
       " '타임': 7678,\n",
       " '크리스마스': 7634,\n",
       " '떠오르': 2060,\n",
       " '매력적': 2432,\n",
       " '산만': 3730,\n",
       " '빠지': 3576,\n",
       " '태어나': 7717,\n",
       " '처음': 7273,\n",
       " '불륜': 3416,\n",
       " '로맨스': 2184,\n",
       " '왕': 5449,\n",
       " '짬뽕': 7157,\n",
       " '믹스': 2839,\n",
       " '음향': 5783,\n",
       " '하아': 8183,\n",
       " '별루': 3191,\n",
       " '대박': 1662,\n",
       " '기준': 1027,\n",
       " '패널': 7918,\n",
       " '가구': 19,\n",
       " '거지': 308,\n",
       " '명작': 2540,\n",
       " '망치': 2408,\n",
       " '이상': 5881,\n",
       " '몬스터': 2621,\n",
       " '주식회사': 6833,\n",
       " '소재': 4137,\n",
       " '흥미': 8708,\n",
       " '몰입': 2633,\n",
       " '끌': 1141,\n",
       " '안되': 4789,\n",
       " '마라': 2266,\n",
       " '중국인': 6903,\n",
       " '특유': 7842,\n",
       " '과장': 625,\n",
       " '허풍': 8398,\n",
       " '안간힘': 4777,\n",
       " '가상': 62,\n",
       " '고증': 532,\n",
       " '현실감': 8441,\n",
       " '거북': 300,\n",
       " '스스로': 4314,\n",
       " '과대': 615,\n",
       " '포장': 8019,\n",
       " '떨어지': 2067,\n",
       " '불법': 3426,\n",
       " '체류자': 7337,\n",
       " '우상화': 5555,\n",
       " '때려잡': 2044,\n",
       " '삶': 3758,\n",
       " '주인공': 6849,\n",
       " '생애': 3872,\n",
       " '드러나': 1952,\n",
       " '가자': 86,\n",
       " '본지': 3290,\n",
       " '후': 8632,\n",
       " '지나': 6970,\n",
       " '남기': 1260,\n",
       " '순수': 4273,\n",
       " '펜': 7954,\n",
       " '올레': 5415,\n",
       " '공짜': 599,\n",
       " '문제': 2737,\n",
       " '연': 5161,\n",
       " '기자': 1023,\n",
       " '배역': 3057,\n",
       " '상대': 3794,\n",
       " '있음': 6143,\n",
       " '라미': 2112,\n",
       " '아들': 4690,\n",
       " '어울리': 4981,\n",
       " '놀': 1415,\n",
       " '욕심': 5519,\n",
       " '빵점': 3585,\n",
       " '놓': 1433,\n",
       " '모자라': 2588,\n",
       " '도둑': 1780,\n",
       " '나라': 1180,\n",
       " '믿': 2861,\n",
       " '용기': 5524,\n",
       " '가지': 93,\n",
       " '교훈적': 713,\n",
       " '당시': 1637,\n",
       " '상황': 3832,\n",
       " '주입식': 6852,\n",
       " '전하': 6506,\n",
       " '케이블': 7579,\n",
       " '투': 7801,\n",
       " '량': 2141,\n",
       " '그릇': 864,\n",
       " '섞이': 3931,\n",
       " '담기': 1620,\n",
       " '여군': 5094,\n",
       " '엠': 5089,\n",
       " '뭐하': 2774,\n",
       " '질리': 7098,\n",
       " '수': 4195,\n",
       " '디': 2001,\n",
       " '바이러스': 2894,\n",
       " '석해': 3929,\n",
       " '면': 2515,\n",
       " '보기': 3210,\n",
       " '정도': 6562,\n",
       " '마지막': 2303,\n",
       " '후반부': 8640,\n",
       " '떠들': 2059,\n",
       " '힘들': 8742,\n",
       " '해': 8306,\n",
       " '떨': 2064,\n",
       " '마': 2254,\n",
       " '용가리': 5523,\n",
       " '고민': 502,\n",
       " '모건': 2551,\n",
       " '프리': 8098,\n",
       " '꼽': 1113,\n",
       " '살': 3737,\n",
       " '그리': 866,\n",
       " '어떻': 4953,\n",
       " '섹시하': 4071,\n",
       " '재방송': 6361,\n",
       " '답': 1626,\n",
       " '봐주': 3307,\n",
       " '여운': 5119,\n",
       " '만하': 2361,\n",
       " '않': 4813,\n",
       " '쩔': 7163,\n",
       " '아끼': 4678,\n",
       " '상업': 3808,\n",
       " '지': 6956,\n",
       " '퀄리티': 7617,\n",
       " '개인적': 268,\n",
       " '잔인': 6250,\n",
       " '자극적': 6160,\n",
       " '노출': 1397,\n",
       " '씬': 4668,\n",
       " '국산': 770,\n",
       " '화끈하': 8536,\n",
       " '끝내': 1156,\n",
       " '지겹': 6961,\n",
       " '죽이': 6874,\n",
       " '바래': 2886,\n",
       " '로': 2174,\n",
       " '일품': 6102,\n",
       " '샘': 3850,\n",
       " '괜찮': 678,\n",
       " '음': 5770,\n",
       " '면상': 2518,\n",
       " '자신': 6192,\n",
       " '뜨': 2090,\n",
       " '찍': 7181,\n",
       " '꺼': 1090,\n",
       " '외': 5464,\n",
       " '어린이': 4967,\n",
       " '적': 6420,\n",
       " '동심': 1876,\n",
       " '어리': 4962,\n",
       " '무술인': 2693,\n",
       " '총': 7374,\n",
       " '크리': 7632,\n",
       " '스토퍼': 4355,\n",
       " '왈츠': 5448,\n",
       " '티': 7854,\n",
       " '조합': 6737,\n",
       " '타': 7664,\n",
       " '유명': 5705,\n",
       " '외국': 5467,\n",
       " '상상': 3800,\n",
       " '초월': 7363,\n",
       " '오랜만': 5344,\n",
       " '종방': 6770,\n",
       " '오늘': 5328,\n",
       " '방': 3010,\n",
       " '방송': 3017,\n",
       " '대본': 1666,\n",
       " '완성': 5441,\n",
       " '요즘': 5509,\n",
       " '막장': 2325,\n",
       " '향': 8374,\n",
       " '어이': 4984,\n",
       " '심하': 4603,\n",
       " '지치': 7026,\n",
       " '호': 8491,\n",
       " '위원회': 5672,\n",
       " '의': 5789,\n",
       " '순정': 4277,\n",
       " '역할': 5157,\n",
       " '제일': 6666,\n",
       " '파탈': 7888,\n",
       " '의외': 5808,\n",
       " '사극': 3637,\n",
       " '논란': 1409,\n",
       " '코미디': 7593,\n",
       " '장면': 6305,\n",
       " '파': 7861,\n",
       " '해내': 8312,\n",
       " '벌어지': 3133,\n",
       " '때쯤': 2048,\n",
       " '멍': 2487,\n",
       " '한마디': 8246,\n",
       " '끝나가': 1155,\n",
       " '공유': 585,\n",
       " '상': 3782,\n",
       " '말하기': 2387,\n",
       " '해설': 8332,\n",
       " '껄끄럽': 1096,\n",
       " '소파': 4141,\n",
       " '이유': 5922,\n",
       " '치': 7483,\n",
       " '앉': 4812,\n",
       " '지키': 7031,\n",
       " '로큰롤': 2199,\n",
       " '주되': 6807,\n",
       " '통하': 7793,\n",
       " '거슬리': 302,\n",
       " '일반적': 6059,\n",
       " '논리': 1410,\n",
       " '게임': 377,\n",
       " '요원': 5504,\n",
       " '무능력': 2669,\n",
       " '배경': 3035,\n",
       " '뮤지컬': 2775,\n",
       " '사운드': 3689,\n",
       " '녹음': 1404,\n",
       " '엉망': 5050,\n",
       " '춤': 7456,\n",
       " '어제': 4986,\n",
       " '영국': 5245,\n",
       " '예산': 5300,\n",
       " '맘마': 2391,\n",
       " '미아': 2819,\n",
       " '안됨': 4790,\n",
       " '추': 7415,\n",
       " '뛰': 2083,\n",
       " '말리': 2374,\n",
       " '뻔하': 3600,\n",
       " '로맨틱': 2185,\n",
       " '물': 2749,\n",
       " '저라': 6399,\n",
       " '스텝': 4350,\n",
       " '꼭두각시': 1108,\n",
       " '아름답': 4695,\n",
       " '현대인': 8434,\n",
       " '해지': 8343,\n",
       " '읽': 6104,\n",
       " '당하': 1639,\n",
       " '극치': 902,\n",
       " '남자애': 1274,\n",
       " '시종일관': 4470,\n",
       " '고역': 518,\n",
       " '클래식': 7642,\n",
       " '풍의': 8081,\n",
       " '얼': 5019,\n",
       " '흘러나오': 8694,\n",
       " '배': 3034,\n",
       " '못생기': 2645,\n",
       " '싫': 4580,\n",
       " '정말': 6568,\n",
       " '주기': 6802,\n",
       " '마세': 2283,\n",
       " '티비': 7857,\n",
       " '판': 7895,\n",
       " '짜집기': 7147,\n",
       " '들이': 1989,\n",
       " '안내': 4784,\n",
       " '돼지': 1897,\n",
       " '피': 8105,\n",
       " '닭': 1616,\n",
       " '목': 2603,\n",
       " '무당': 2670,\n",
       " '따': 2017,\n",
       " '버리': 3104,\n",
       " '잠': 6268,\n",
       " '류': 2217,\n",
       " '판타지': 7906,\n",
       " '가져가': 89,\n",
       " '종신': 6772,\n",
       " '복귀': 3254,\n",
       " '하늘': 8157,\n",
       " '참가자': 7220,\n",
       " '심사': 4591,\n",
       " '위원': 5671,\n",
       " '인격': 5985,\n",
       " '오시': 5365,\n",
       " '어하': 4999,\n",
       " '뽑히': 3613,\n",
       " '따지': 2027,\n",
       " '쌓': 4626,\n",
       " '광장': 673,\n",
       " '옛날': 5320,\n",
       " '생의': 3873,\n",
       " '나쁘': 1196,\n",
       " '시절': 4468,\n",
       " '추억': 7425,\n",
       " '짓': 7124,\n",
       " '금물': 927,\n",
       " '지옥': 7006,\n",
       " '가요': 79,\n",
       " '기존': 1026,\n",
       " '형식': 8478,\n",
       " '탈피': 7698,\n",
       " '지나치': 6972,\n",
       " '에': 5057,\n",
       " '후회': 8655,\n",
       " '할거': 8283,\n",
       " '교훈': 712,\n",
       " '오기': 5327,\n",
       " '추천요': 7429,\n",
       " '젖어들': 6637,\n",
       " '싸이코': 4617,\n",
       " '벗어나': 3153,\n",
       " '접하': 6547,\n",
       " '개봉': 251,\n",
       " '청춘': 7331,\n",
       " '만이': 2352,\n",
       " '순간': 4266,\n",
       " '만큼': 2359,\n",
       " '무한': 2718,\n",
       " '젊음': 6531,\n",
       " '넘쳐나': 1358,\n",
       " '지나가': 6971,\n",
       " '돌아오': 1844,\n",
       " '건담': 327,\n",
       " '시리즈': 4441,\n",
       " '봉': 3301,\n",
       " '개': 229,\n",
       " '콘': 7600,\n",
       " '수록': 4207,\n",
       " '코너': 7586,\n",
       " '사': 3624,\n",
       " '코': 7584,\n",
       " '우물': 5551,\n",
       " '펀치': 7946,\n",
       " '후세': 8643,\n",
       " '결정적': 406,\n",
       " '계기': 456,\n",
       " '표현': 8059,\n",
       " '생명': 3866,\n",
       " '야만': 4897,\n",
       " '시노': 4427,\n",
       " '출현': 7455,\n",
       " '연극': 5170,\n",
       " '본능': 3277,\n",
       " '히': 8730,\n",
       " '시랑': 4438,\n",
       " '시': 4409,\n",
       " '빼앗': 3590,\n",
       " '알리': 4817,\n",
       " '새벽': 3839,\n",
       " '원래': 5619,\n",
       " '이래': 5847,\n",
       " '강수': 202,\n",
       " '연의': 5201,\n",
       " '정원': 6600,\n",
       " '신음': 4539,\n",
       " '혜성': 8490,\n",
       " '예쁘': 5298,\n",
       " '가발': 51,\n",
       " '여정': 5127,\n",
       " '인상깊': 6004,\n",
       " '성적': 4025,\n",
       " '호기심': 8499,\n",
       " '감동적': 154,\n",
       " '필요': 8142,\n",
       " '닥치': 1566,\n",
       " '봐': 3305,\n",
       " '파워': 7879,\n",
       " '사로잡': 3654,\n",
       " '응답': 5784,\n",
       " '지원': 7010,\n",
       " '원도': 5618,\n",
       " '앗': 4844,\n",
       " '배꼽': 3039,\n",
       " '부실': 3345,\n",
       " '장': 6286,\n",
       " '로드': 2176,\n",
       " '몰락': 2625,\n",
       " '오우': 5371,\n",
       " '삼': 3760,\n",
       " '가져오': 91,\n",
       " '언제': 5013,\n",
       " '영웅': 5260,\n",
       " '색': 3841,\n",
       " '연출': 5206,\n",
       " '현실성': 8442,\n",
       " '제로': 6650,\n",
       " '인': 5976,\n",
       " '학창': 8223,\n",
       " '그때': 841,\n",
       " '대사': 1670,\n",
       " '설레': 3979,\n",
       " '느끼': 1479,\n",
       " '높': 1431,\n",
       " '더럽': 1737,\n",
       " '형태': 8484,\n",
       " '허무': 8387,\n",
       " '영양가': 5258,\n",
       " '닿': 1641,\n",
       " '이승': 5901,\n",
       " '조연': 6714,\n",
       " '현실': 8440,\n",
       " '꿈': 1128,\n",
       " '현충일': 8456,\n",
       " '특집': 7845,\n",
       " '프로': 8093,\n",
       " '미로': 2798,\n",
       " '동급': 1855,\n",
       " '제대': 6648,\n",
       " '마음': 2293,\n",
       " '휴가': 8668,\n",
       " '소박': 4113,\n",
       " '햇살': 8361,\n",
       " '이의': 5926,\n",
       " '부엌': 3348,\n",
       " '요리': 5496,\n",
       " '다녀오': 1516,\n",
       " '코믹': 7594,\n",
       " '짜임새': 7143,\n",
       " '현준': 8453,\n",
       " '황': 8597,\n",
       " '장군': 6292,\n",
       " '한': 8224,\n",
       " '석': 3922,\n",
       " '규의': 831,\n",
       " '전성시대': 6475,\n",
       " '테': 7746,\n",
       " '규하': 833,\n",
       " '재생': 6362,\n",
       " '괴물': 686,\n",
       " '서스펜스': 3908,\n",
       " '귀신': 821,\n",
       " '흡입력': 8704,\n",
       " '글': 916,\n",
       " '한번쯤': 8258,\n",
       " '기가': 953,\n",
       " '버킷': 3111,\n",
       " '리스트': 2238,\n",
       " '죽기': 6870,\n",
       " '직전': 7053,\n",
       " '소원': 4131,\n",
       " '발톱': 2994,\n",
       " '완존': 5445,\n",
       " '들어주': 1985,\n",
       " '따라가': 2019,\n",
       " '긍정': 950,\n",
       " '적인': 6427,\n",
       " '연기인': 5174,\n",
       " '표': 8047,\n",
       " '홍': 8526,\n",
       " '정역': 6598,\n",
       " '기도': 970,\n",
       " '월요일': 5658,\n",
       " '밝': 2997,\n",
       " '질': 7095,\n",
       " '정치인': 6625,\n",
       " '모순': 2571,\n",
       " '정치범': 6623,\n",
       " '어렵': 4956,\n",
       " '전쟁': 6487,\n",
       " '묘사': 2653,\n",
       " '재개봉하': 6342,\n",
       " '대희': 1724,\n",
       " '개그': 235,\n",
       " '콘서트': 7602,\n",
       " '내전': 1333,\n",
       " '끊': 1137,\n",
       " '한물': 8251,\n",
       " '동서양': 1869,\n",
       " '싸움판': 4615,\n",
       " '역시나': 5151,\n",
       " '구': 714,\n",
       " '세계': 4041,\n",
       " '최초': 7411,\n",
       " '반공': 2940,\n",
       " '역사적': 5148,\n",
       " '가치': 97,\n",
       " '감각': 140,\n",
       " '시각': 4411,\n",
       " '문학적': 2742,\n",
       " '바라보': 2884,\n",
       " '색다르': 3844,\n",
       " '엄마': 5030,\n",
       " '무고': 2660,\n",
       " '딸': 2033,\n",
       " '감옥살이': 169,\n",
       " ...}"
      ]
     },
     "execution_count": 49,
     "metadata": {},
     "output_type": "execute_result"
    }
   ],
   "source": [
    "final_tf_idf.vocabulary_"
   ]
  },
  {
   "cell_type": "code",
   "execution_count": 51,
   "id": "be0648a7",
   "metadata": {
    "ExecuteTime": {
     "end_time": "2023-06-05T01:11:31.590134Z",
     "start_time": "2023-06-05T01:11:31.567159Z"
    }
   },
   "outputs": [
    {
     "data": {
      "text/html": [
       "<div>\n",
       "<style scoped>\n",
       "    .dataframe tbody tr th:only-of-type {\n",
       "        vertical-align: middle;\n",
       "    }\n",
       "\n",
       "    .dataframe tbody tr th {\n",
       "        vertical-align: top;\n",
       "    }\n",
       "\n",
       "    .dataframe thead th {\n",
       "        text-align: right;\n",
       "    }\n",
       "</style>\n",
       "<table border=\"1\" class=\"dataframe\">\n",
       "  <thead>\n",
       "    <tr style=\"text-align: right;\">\n",
       "      <th></th>\n",
       "      <th>0</th>\n",
       "    </tr>\n",
       "  </thead>\n",
       "  <tbody>\n",
       "    <tr>\n",
       "      <th>0</th>\n",
       "      <td>ㄱ</td>\n",
       "    </tr>\n",
       "    <tr>\n",
       "      <th>1</th>\n",
       "      <td>ㄴ</td>\n",
       "    </tr>\n",
       "    <tr>\n",
       "      <th>2</th>\n",
       "      <td>ㄷ</td>\n",
       "    </tr>\n",
       "    <tr>\n",
       "      <th>3</th>\n",
       "      <td>ㄹ</td>\n",
       "    </tr>\n",
       "    <tr>\n",
       "      <th>4</th>\n",
       "      <td>ㅁ</td>\n",
       "    </tr>\n",
       "    <tr>\n",
       "      <th>...</th>\n",
       "      <td>...</td>\n",
       "    </tr>\n",
       "    <tr>\n",
       "      <th>8743</th>\n",
       "      <td>힘쓰</td>\n",
       "    </tr>\n",
       "    <tr>\n",
       "      <th>8744</th>\n",
       "      <td>힘없</td>\n",
       "    </tr>\n",
       "    <tr>\n",
       "      <th>8745</th>\n",
       "      <td>힘입</td>\n",
       "    </tr>\n",
       "    <tr>\n",
       "      <th>8746</th>\n",
       "      <td>힙합</td>\n",
       "    </tr>\n",
       "    <tr>\n",
       "      <th>8747</th>\n",
       "      <td>힝</td>\n",
       "    </tr>\n",
       "  </tbody>\n",
       "</table>\n",
       "<p>8748 rows × 1 columns</p>\n",
       "</div>"
      ],
      "text/plain": [
       "       0\n",
       "0      ㄱ\n",
       "1      ㄴ\n",
       "2      ㄷ\n",
       "3      ㄹ\n",
       "4      ㅁ\n",
       "...   ..\n",
       "8743  힘쓰\n",
       "8744  힘없\n",
       "8745  힘입\n",
       "8746  힙합\n",
       "8747   힝\n",
       "\n",
       "[8748 rows x 1 columns]"
      ]
     },
     "execution_count": 51,
     "metadata": {},
     "output_type": "execute_result"
    }
   ],
   "source": [
    "voc = pd.DataFrame(final_tf_idf.vocabulary_.keys(),\n",
    "                    index=final_tf_idf.vocabulary_.values())\n",
    "voc.sort_index()"
   ]
  },
  {
   "cell_type": "markdown",
   "id": "ae9da463",
   "metadata": {},
   "source": [
    "### 가중치 확인해보기"
   ]
  },
  {
   "cell_type": "code",
   "execution_count": 53,
   "id": "8b9bd500",
   "metadata": {
    "ExecuteTime": {
     "end_time": "2023-06-05T01:16:11.306311Z",
     "start_time": "2023-06-05T01:16:11.286263Z"
    }
   },
   "outputs": [
    {
     "data": {
      "text/html": [
       "<div>\n",
       "<style scoped>\n",
       "    .dataframe tbody tr th:only-of-type {\n",
       "        vertical-align: middle;\n",
       "    }\n",
       "\n",
       "    .dataframe tbody tr th {\n",
       "        vertical-align: top;\n",
       "    }\n",
       "\n",
       "    .dataframe thead th {\n",
       "        text-align: right;\n",
       "    }\n",
       "</style>\n",
       "<table border=\"1\" class=\"dataframe\">\n",
       "  <thead>\n",
       "    <tr style=\"text-align: right;\">\n",
       "      <th></th>\n",
       "      <th>w</th>\n",
       "    </tr>\n",
       "    <tr>\n",
       "      <th>0</th>\n",
       "      <th></th>\n",
       "    </tr>\n",
       "  </thead>\n",
       "  <tbody>\n",
       "    <tr>\n",
       "      <th>재미없</th>\n",
       "      <td>-4.478074</td>\n",
       "    </tr>\n",
       "    <tr>\n",
       "      <th>최악</th>\n",
       "      <td>-4.288826</td>\n",
       "    </tr>\n",
       "    <tr>\n",
       "      <th>아깝</th>\n",
       "      <td>-4.098801</td>\n",
       "    </tr>\n",
       "    <tr>\n",
       "      <th>쓰레기</th>\n",
       "      <td>-4.057784</td>\n",
       "    </tr>\n",
       "    <tr>\n",
       "      <th>실망</th>\n",
       "      <td>-3.632922</td>\n",
       "    </tr>\n",
       "    <tr>\n",
       "      <th>...</th>\n",
       "      <td>...</td>\n",
       "    </tr>\n",
       "    <tr>\n",
       "      <th>수작</th>\n",
       "      <td>3.304806</td>\n",
       "    </tr>\n",
       "    <tr>\n",
       "      <th>좋</th>\n",
       "      <td>3.326942</td>\n",
       "    </tr>\n",
       "    <tr>\n",
       "      <th>재미있</th>\n",
       "      <td>3.726432</td>\n",
       "    </tr>\n",
       "    <tr>\n",
       "      <th>재밌</th>\n",
       "      <td>4.808598</td>\n",
       "    </tr>\n",
       "    <tr>\n",
       "      <th>최고</th>\n",
       "      <td>5.357168</td>\n",
       "    </tr>\n",
       "  </tbody>\n",
       "</table>\n",
       "<p>8748 rows × 1 columns</p>\n",
       "</div>"
      ],
      "text/plain": [
       "            w\n",
       "0            \n",
       "재미없 -4.478074\n",
       "최악  -4.288826\n",
       "아깝  -4.098801\n",
       "쓰레기 -4.057784\n",
       "실망  -3.632922\n",
       "..        ...\n",
       "수작   3.304806\n",
       "좋    3.326942\n",
       "재미있  3.726432\n",
       "재밌   4.808598\n",
       "최고   5.357168\n",
       "\n",
       "[8748 rows x 1 columns]"
      ]
     },
     "execution_count": 53,
     "metadata": {},
     "output_type": "execute_result"
    }
   ],
   "source": [
    "learning_rs = pd.DataFrame(logi_model.coef_.T, index = voc.sort_index()[0], columns=['w'])\n",
    "learning_rs.sort_values(by='w')"
   ]
  },
  {
   "cell_type": "code",
   "execution_count": 54,
   "id": "0b73308a",
   "metadata": {
    "ExecuteTime": {
     "end_time": "2023-06-05T03:34:04.216895Z",
     "start_time": "2023-06-05T03:34:04.200825Z"
    }
   },
   "outputs": [],
   "source": [
    "from sklearn.linear_model import LinearRegression\n",
    "LinearRegression()"
   ]
  },
  {
   "cell_type": "code",
   "execution_count": null,
   "id": "8102857e",
   "metadata": {},
   "outputs": [],
   "source": []
  },
  {
   "cell_type": "code",
   "execution_count": null,
   "id": "904a3e6e",
   "metadata": {},
   "outputs": [],
   "source": []
  },
  {
   "cell_type": "code",
   "execution_count": null,
   "id": "022f9da8",
   "metadata": {},
   "outputs": [],
   "source": []
  },
  {
   "cell_type": "code",
   "execution_count": null,
   "id": "aaf8b22f",
   "metadata": {},
   "outputs": [],
   "source": []
  }
 ],
 "metadata": {
  "kernelspec": {
   "display_name": "Python 3 (ipykernel)",
   "language": "python",
   "name": "python3"
  },
  "language_info": {
   "codemirror_mode": {
    "name": "ipython",
    "version": 3
   },
   "file_extension": ".py",
   "mimetype": "text/x-python",
   "name": "python",
   "nbconvert_exporter": "python",
   "pygments_lexer": "ipython3",
   "version": "3.9.13"
  },
  "toc": {
   "base_numbering": 1,
   "nav_menu": {},
   "number_sections": true,
   "sideBar": true,
   "skip_h1_title": false,
   "title_cell": "Table of Contents",
   "title_sidebar": "Contents",
   "toc_cell": false,
   "toc_position": {},
   "toc_section_display": true,
   "toc_window_display": false
  },
  "varInspector": {
   "cols": {
    "lenName": 16,
    "lenType": 16,
    "lenVar": 40
   },
   "kernels_config": {
    "python": {
     "delete_cmd_postfix": "",
     "delete_cmd_prefix": "del ",
     "library": "var_list.py",
     "varRefreshCmd": "print(var_dic_list())"
    },
    "r": {
     "delete_cmd_postfix": ") ",
     "delete_cmd_prefix": "rm(",
     "library": "var_list.r",
     "varRefreshCmd": "cat(var_dic_list()) "
    }
   },
   "types_to_exclude": [
    "module",
    "function",
    "builtin_function_or_method",
    "instance",
    "_Feature"
   ],
   "window_display": false
  }
 },
 "nbformat": 4,
 "nbformat_minor": 5
}
