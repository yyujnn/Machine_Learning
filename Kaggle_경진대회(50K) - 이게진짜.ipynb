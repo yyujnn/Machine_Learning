{
 "cells": [
  {
   "cell_type": "code",
   "execution_count": 1,
   "id": "c712b9b5",
   "metadata": {
    "ExecuteTime": {
     "end_time": "2023-05-31T07:33:18.070949Z",
     "start_time": "2023-05-31T07:33:18.060875Z"
    }
   },
   "outputs": [],
   "source": [
    "import warnings\n",
    "warnings.filterwarnings('ignore')"
   ]
  },
  {
   "cell_type": "code",
   "execution_count": 2,
   "id": "ceba8328",
   "metadata": {
    "ExecuteTime": {
     "end_time": "2023-05-31T07:33:18.715192Z",
     "start_time": "2023-05-31T07:33:18.073220Z"
    }
   },
   "outputs": [],
   "source": [
    "import pandas as pd\n",
    "import numpy as np\n",
    "# train 변수 : 문제 가져오기\n",
    "data_train = pd.read_csv('data/kaggle/train.csv')\n",
    "# test 변수 : 정답 가져오기\n",
    "data_test = pd.read_csv('data/kaggle/test.csv')\n"
   ]
  },
  {
   "cell_type": "code",
   "execution_count": 3,
   "id": "fa8211bb",
   "metadata": {
    "ExecuteTime": {
     "end_time": "2023-05-31T07:33:18.730597Z",
     "start_time": "2023-05-31T07:33:18.717217Z"
    }
   },
   "outputs": [],
   "source": [
    "# 필요없는 컬럼 drop\n",
    "data_train = data_train.drop(['no','fnlwgt'],axis=1)\n",
    "data_test = data_test.drop(['no','fnlwgt'],axis=1)\n"
   ]
  },
  {
   "cell_type": "code",
   "execution_count": 4,
   "id": "406b156d",
   "metadata": {
    "ExecuteTime": {
     "end_time": "2023-05-31T07:33:18.778418Z",
     "start_time": "2023-05-31T07:33:18.732594Z"
    }
   },
   "outputs": [],
   "source": [
    "# 테스트 데이터와 트레인 데이터 일단 먼저 붙이기\n",
    "data_concat = pd.concat([data_train,data_test])"
   ]
  },
  {
   "cell_type": "code",
   "execution_count": 5,
   "id": "a12c8ac7",
   "metadata": {
    "ExecuteTime": {
     "end_time": "2023-05-31T07:33:18.825284Z",
     "start_time": "2023-05-31T07:33:18.785368Z"
    }
   },
   "outputs": [
    {
     "data": {
      "text/plain": [
       "0        0\n",
       "1        0\n",
       "2        0\n",
       "3        0\n",
       "4        1\n",
       "        ..\n",
       "29300    0\n",
       "29301    0\n",
       "29302    0\n",
       "29303    0\n",
       "29304    0\n",
       "Name: income, Length: 29305, dtype: int64"
      ]
     },
     "execution_count": 5,
     "metadata": {},
     "output_type": "execute_result"
    }
   ],
   "source": [
    " # 트레인 데이터의 정답\n",
    "data_train['income']"
   ]
  },
  {
   "cell_type": "code",
   "execution_count": 6,
   "id": "cf0fdda7",
   "metadata": {
    "ExecuteTime": {
     "end_time": "2023-05-31T07:33:18.857197Z",
     "start_time": "2023-05-31T07:33:18.827261Z"
    }
   },
   "outputs": [
    {
     "data": {
      "text/html": [
       "<div>\n",
       "<style scoped>\n",
       "    .dataframe tbody tr th:only-of-type {\n",
       "        vertical-align: middle;\n",
       "    }\n",
       "\n",
       "    .dataframe tbody tr th {\n",
       "        vertical-align: top;\n",
       "    }\n",
       "\n",
       "    .dataframe thead th {\n",
       "        text-align: right;\n",
       "    }\n",
       "</style>\n",
       "<table border=\"1\" class=\"dataframe\">\n",
       "  <thead>\n",
       "    <tr style=\"text-align: right;\">\n",
       "      <th></th>\n",
       "      <th>age</th>\n",
       "      <th>workclass</th>\n",
       "      <th>education</th>\n",
       "      <th>education-num</th>\n",
       "      <th>marital-status</th>\n",
       "      <th>occupation</th>\n",
       "      <th>relationship</th>\n",
       "      <th>race</th>\n",
       "      <th>sex</th>\n",
       "      <th>capital-gain</th>\n",
       "      <th>capital-loss</th>\n",
       "      <th>hours-per-week</th>\n",
       "      <th>native-country</th>\n",
       "      <th>income</th>\n",
       "    </tr>\n",
       "  </thead>\n",
       "  <tbody>\n",
       "    <tr>\n",
       "      <th>0</th>\n",
       "      <td>25</td>\n",
       "      <td>Private</td>\n",
       "      <td>11th</td>\n",
       "      <td>7</td>\n",
       "      <td>Divorced</td>\n",
       "      <td>Machine-op-inspct</td>\n",
       "      <td>Not-in-family</td>\n",
       "      <td>White</td>\n",
       "      <td>Male</td>\n",
       "      <td>0</td>\n",
       "      <td>0</td>\n",
       "      <td>40</td>\n",
       "      <td>United-States</td>\n",
       "      <td>0.0</td>\n",
       "    </tr>\n",
       "    <tr>\n",
       "      <th>1</th>\n",
       "      <td>39</td>\n",
       "      <td>Private</td>\n",
       "      <td>Some-college</td>\n",
       "      <td>10</td>\n",
       "      <td>Divorced</td>\n",
       "      <td>Other-service</td>\n",
       "      <td>Not-in-family</td>\n",
       "      <td>White</td>\n",
       "      <td>Female</td>\n",
       "      <td>0</td>\n",
       "      <td>1721</td>\n",
       "      <td>55</td>\n",
       "      <td>United-States</td>\n",
       "      <td>0.0</td>\n",
       "    </tr>\n",
       "    <tr>\n",
       "      <th>2</th>\n",
       "      <td>35</td>\n",
       "      <td>Private</td>\n",
       "      <td>Bachelors</td>\n",
       "      <td>13</td>\n",
       "      <td>Never-married</td>\n",
       "      <td>Handlers-cleaners</td>\n",
       "      <td>Not-in-family</td>\n",
       "      <td>Asian-Pac-Islander</td>\n",
       "      <td>Female</td>\n",
       "      <td>0</td>\n",
       "      <td>0</td>\n",
       "      <td>50</td>\n",
       "      <td>Haiti</td>\n",
       "      <td>0.0</td>\n",
       "    </tr>\n",
       "    <tr>\n",
       "      <th>3</th>\n",
       "      <td>64</td>\n",
       "      <td>Private</td>\n",
       "      <td>Assoc-voc</td>\n",
       "      <td>11</td>\n",
       "      <td>Divorced</td>\n",
       "      <td>Tech-support</td>\n",
       "      <td>Not-in-family</td>\n",
       "      <td>White</td>\n",
       "      <td>Female</td>\n",
       "      <td>0</td>\n",
       "      <td>0</td>\n",
       "      <td>40</td>\n",
       "      <td>United-States</td>\n",
       "      <td>0.0</td>\n",
       "    </tr>\n",
       "    <tr>\n",
       "      <th>4</th>\n",
       "      <td>24</td>\n",
       "      <td>Private</td>\n",
       "      <td>Some-college</td>\n",
       "      <td>10</td>\n",
       "      <td>Married-civ-spouse</td>\n",
       "      <td>Transport-moving</td>\n",
       "      <td>Husband</td>\n",
       "      <td>White</td>\n",
       "      <td>Male</td>\n",
       "      <td>0</td>\n",
       "      <td>0</td>\n",
       "      <td>70</td>\n",
       "      <td>United-States</td>\n",
       "      <td>1.0</td>\n",
       "    </tr>\n",
       "    <tr>\n",
       "      <th>...</th>\n",
       "      <td>...</td>\n",
       "      <td>...</td>\n",
       "      <td>...</td>\n",
       "      <td>...</td>\n",
       "      <td>...</td>\n",
       "      <td>...</td>\n",
       "      <td>...</td>\n",
       "      <td>...</td>\n",
       "      <td>...</td>\n",
       "      <td>...</td>\n",
       "      <td>...</td>\n",
       "      <td>...</td>\n",
       "      <td>...</td>\n",
       "      <td>...</td>\n",
       "    </tr>\n",
       "    <tr>\n",
       "      <th>19532</th>\n",
       "      <td>45</td>\n",
       "      <td>Self-emp-not-inc</td>\n",
       "      <td>HS-grad</td>\n",
       "      <td>9</td>\n",
       "      <td>Married-civ-spouse</td>\n",
       "      <td>Craft-repair</td>\n",
       "      <td>Husband</td>\n",
       "      <td>White</td>\n",
       "      <td>Male</td>\n",
       "      <td>0</td>\n",
       "      <td>0</td>\n",
       "      <td>60</td>\n",
       "      <td>United-States</td>\n",
       "      <td>NaN</td>\n",
       "    </tr>\n",
       "    <tr>\n",
       "      <th>19533</th>\n",
       "      <td>48</td>\n",
       "      <td>Private</td>\n",
       "      <td>HS-grad</td>\n",
       "      <td>9</td>\n",
       "      <td>Never-married</td>\n",
       "      <td>Exec-managerial</td>\n",
       "      <td>Not-in-family</td>\n",
       "      <td>White</td>\n",
       "      <td>Female</td>\n",
       "      <td>0</td>\n",
       "      <td>0</td>\n",
       "      <td>50</td>\n",
       "      <td>United-States</td>\n",
       "      <td>NaN</td>\n",
       "    </tr>\n",
       "    <tr>\n",
       "      <th>19534</th>\n",
       "      <td>63</td>\n",
       "      <td>Private</td>\n",
       "      <td>Some-college</td>\n",
       "      <td>10</td>\n",
       "      <td>Married-civ-spouse</td>\n",
       "      <td>Prof-specialty</td>\n",
       "      <td>Husband</td>\n",
       "      <td>White</td>\n",
       "      <td>Male</td>\n",
       "      <td>4386</td>\n",
       "      <td>0</td>\n",
       "      <td>40</td>\n",
       "      <td>United-States</td>\n",
       "      <td>NaN</td>\n",
       "    </tr>\n",
       "    <tr>\n",
       "      <th>19535</th>\n",
       "      <td>18</td>\n",
       "      <td>Private</td>\n",
       "      <td>11th</td>\n",
       "      <td>7</td>\n",
       "      <td>Never-married</td>\n",
       "      <td>Sales</td>\n",
       "      <td>Own-child</td>\n",
       "      <td>White</td>\n",
       "      <td>Female</td>\n",
       "      <td>0</td>\n",
       "      <td>0</td>\n",
       "      <td>20</td>\n",
       "      <td>United-States</td>\n",
       "      <td>NaN</td>\n",
       "    </tr>\n",
       "    <tr>\n",
       "      <th>19536</th>\n",
       "      <td>31</td>\n",
       "      <td>Private</td>\n",
       "      <td>Assoc-acdm</td>\n",
       "      <td>12</td>\n",
       "      <td>Married-civ-spouse</td>\n",
       "      <td>Tech-support</td>\n",
       "      <td>Husband</td>\n",
       "      <td>Black</td>\n",
       "      <td>Male</td>\n",
       "      <td>0</td>\n",
       "      <td>0</td>\n",
       "      <td>46</td>\n",
       "      <td>United-States</td>\n",
       "      <td>NaN</td>\n",
       "    </tr>\n",
       "  </tbody>\n",
       "</table>\n",
       "<p>48842 rows × 14 columns</p>\n",
       "</div>"
      ],
      "text/plain": [
       "       age          workclass      education  education-num  \\\n",
       "0       25            Private           11th              7   \n",
       "1       39            Private   Some-college             10   \n",
       "2       35            Private      Bachelors             13   \n",
       "3       64            Private      Assoc-voc             11   \n",
       "4       24            Private   Some-college             10   \n",
       "...    ...                ...            ...            ...   \n",
       "19532   45   Self-emp-not-inc        HS-grad              9   \n",
       "19533   48            Private        HS-grad              9   \n",
       "19534   63            Private   Some-college             10   \n",
       "19535   18            Private           11th              7   \n",
       "19536   31            Private     Assoc-acdm             12   \n",
       "\n",
       "            marital-status          occupation    relationship  \\\n",
       "0                 Divorced   Machine-op-inspct   Not-in-family   \n",
       "1                 Divorced       Other-service   Not-in-family   \n",
       "2            Never-married   Handlers-cleaners   Not-in-family   \n",
       "3                 Divorced        Tech-support   Not-in-family   \n",
       "4       Married-civ-spouse    Transport-moving         Husband   \n",
       "...                    ...                 ...             ...   \n",
       "19532   Married-civ-spouse        Craft-repair         Husband   \n",
       "19533        Never-married     Exec-managerial   Not-in-family   \n",
       "19534   Married-civ-spouse      Prof-specialty         Husband   \n",
       "19535        Never-married               Sales       Own-child   \n",
       "19536   Married-civ-spouse        Tech-support         Husband   \n",
       "\n",
       "                      race      sex  capital-gain  capital-loss  \\\n",
       "0                    White     Male             0             0   \n",
       "1                    White   Female             0          1721   \n",
       "2       Asian-Pac-Islander   Female             0             0   \n",
       "3                    White   Female             0             0   \n",
       "4                    White     Male             0             0   \n",
       "...                    ...      ...           ...           ...   \n",
       "19532                White     Male             0             0   \n",
       "19533                White   Female             0             0   \n",
       "19534                White     Male          4386             0   \n",
       "19535                White   Female             0             0   \n",
       "19536                Black     Male             0             0   \n",
       "\n",
       "       hours-per-week  native-country  income  \n",
       "0                  40   United-States     0.0  \n",
       "1                  55   United-States     0.0  \n",
       "2                  50           Haiti     0.0  \n",
       "3                  40   United-States     0.0  \n",
       "4                  70   United-States     1.0  \n",
       "...               ...             ...     ...  \n",
       "19532              60   United-States     NaN  \n",
       "19533              50   United-States     NaN  \n",
       "19534              40   United-States     NaN  \n",
       "19535              20   United-States     NaN  \n",
       "19536              46   United-States     NaN  \n",
       "\n",
       "[48842 rows x 14 columns]"
      ]
     },
     "execution_count": 6,
     "metadata": {},
     "output_type": "execute_result"
    }
   ],
   "source": [
    "data_concat"
   ]
  },
  {
   "cell_type": "code",
   "execution_count": 7,
   "id": "42a0b9df",
   "metadata": {
    "ExecuteTime": {
     "end_time": "2023-05-31T07:33:18.873155Z",
     "start_time": "2023-05-31T07:33:18.859197Z"
    }
   },
   "outputs": [],
   "source": [
    "# 정답 데이터\n",
    "income_raw = data_concat['income']"
   ]
  },
  {
   "cell_type": "code",
   "execution_count": 8,
   "id": "d4773b43",
   "metadata": {
    "ExecuteTime": {
     "end_time": "2023-05-31T07:33:18.889117Z",
     "start_time": "2023-05-31T07:33:18.875155Z"
    }
   },
   "outputs": [],
   "source": [
    "# 전처리 되기 이전의 feature들 (전처리 되기전 문제들)\n",
    "features_raw = data_concat.drop('income', axis = 1)"
   ]
  },
  {
   "cell_type": "code",
   "execution_count": 9,
   "id": "d68e1389",
   "metadata": {
    "ExecuteTime": {
     "end_time": "2023-05-31T07:33:18.905070Z",
     "start_time": "2023-05-31T07:33:18.891107Z"
    }
   },
   "outputs": [],
   "source": [
    "skewed = ['capital-gain', 'capital-loss']\n",
    "features_log_transformed = pd.DataFrame(data = features_raw)\n",
    "features_log_transformed[skewed] = features_raw[skewed].apply(lambda x: np.log(x + 1))"
   ]
  },
  {
   "cell_type": "markdown",
   "id": "463fad26",
   "metadata": {},
   "source": [
    "예를 들어, 'capital-gain'이라는 변수는 소득에 대한 정보를 나타내는데, 값이 작은 샘플들이 많고, 큰 값들은 소수에 해당하는 경우가 있습니다. 이런 경우에는 데이터의 분포가 왜곡되어 있을 수 있습니다.\n",
    "\n",
    "로그 변환은 이런 경우에 주로 사용됩니다. 로그 변환은 각 데이터 포인트의 값을 로그 함수를 적용하여 변환합니다. 이는 큰 값들에 대해 작은 값으로 압축하고, 작은 값들에 대해 더 큰 차이를 만들어줍니다. 이로써 분포를 더 넓게 펼치고, 왜곡을 줄이는 효과를 얻을 수 있습니다.\n",
    "\n",
    "예시를 들어보겠습니다. 원래 'capital-gain' 변수의 값이 [0, 100, 1000, 10000]이라고 가정해봅시다. 이 값들에 로그 변환을 적용하면, [0, 4.61, 6.91, 9.21]으로 변환됩니다. 이렇게 되면, 원래 값이 100과 10000 사이에 큰 차이가 있었지만, 로그 변환 후에는 값들이 더 가까워지고 분포가 더 균일해집니다."
   ]
  },
  {
   "cell_type": "code",
   "execution_count": 10,
   "id": "fb93b46d",
   "metadata": {
    "ExecuteTime": {
     "end_time": "2023-05-31T07:33:19.640796Z",
     "start_time": "2023-05-31T07:33:18.909036Z"
    }
   },
   "outputs": [],
   "source": [
    "# min max 스케일러를 이용하여 특징 벡터 (문제들) 스케일링 (최소 최대 정규화)\n",
    "from sklearn.preprocessing import MinMaxScaler\n",
    "\n",
    "scaler = MinMaxScaler() \n",
    "numerical = ['age', 'education-num', 'capital-gain', 'capital-loss', 'hours-per-week']\n",
    "\n",
    "features_log_minmax_transform = pd.DataFrame(data = features_log_transformed)\n",
    "features_log_minmax_transform[numerical] = scaler.fit_transform(features_log_transformed[numerical])\n"
   ]
  },
  {
   "cell_type": "code",
   "execution_count": 11,
   "id": "d780e47d",
   "metadata": {
    "ExecuteTime": {
     "end_time": "2023-05-31T07:33:19.718718Z",
     "start_time": "2023-05-31T07:33:19.642825Z"
    }
   },
   "outputs": [
    {
     "name": "stdout",
     "output_type": "stream",
     "text": [
      "107 total features after one-hot encoding.\n",
      "['age', 'education-num', 'capital-gain', 'capital-loss', 'hours-per-week', 'workclass_ ?', 'workclass_ Federal-gov', 'workclass_ Local-gov', 'workclass_ Never-worked', 'workclass_ Private', 'workclass_ Self-emp-inc', 'workclass_ Self-emp-not-inc', 'workclass_ State-gov', 'workclass_ Without-pay', 'education_ 10th', 'education_ 11th', 'education_ 12th', 'education_ 1st-4th', 'education_ 5th-6th', 'education_ 7th-8th', 'education_ 9th', 'education_ Assoc-acdm', 'education_ Assoc-voc', 'education_ Bachelors', 'education_ Doctorate', 'education_ HS-grad', 'education_ Masters', 'education_ Preschool', 'education_ Prof-school', 'education_ Some-college', 'marital-status_ Divorced', 'marital-status_ Married-AF-spouse', 'marital-status_ Married-civ-spouse', 'marital-status_ Married-spouse-absent', 'marital-status_ Never-married', 'marital-status_ Separated', 'marital-status_ Widowed', 'occupation_ ?', 'occupation_ Adm-clerical', 'occupation_ Armed-Forces', 'occupation_ Craft-repair', 'occupation_ Exec-managerial', 'occupation_ Farming-fishing', 'occupation_ Handlers-cleaners', 'occupation_ Machine-op-inspct', 'occupation_ Other-service', 'occupation_ Priv-house-serv', 'occupation_ Prof-specialty', 'occupation_ Protective-serv', 'occupation_ Sales', 'occupation_ Tech-support', 'occupation_ Transport-moving', 'relationship_ Husband', 'relationship_ Not-in-family', 'relationship_ Other-relative', 'relationship_ Own-child', 'relationship_ Unmarried', 'relationship_ Wife', 'race_ Amer-Indian-Eskimo', 'race_ Asian-Pac-Islander', 'race_ Black', 'race_ Other', 'race_ White', 'sex_ Female', 'sex_ Male', 'native-country_ ?', 'native-country_ Cambodia', 'native-country_ Canada', 'native-country_ China', 'native-country_ Columbia', 'native-country_ Cuba', 'native-country_ Dominican-Republic', 'native-country_ Ecuador', 'native-country_ El-Salvador', 'native-country_ England', 'native-country_ France', 'native-country_ Germany', 'native-country_ Greece', 'native-country_ Guatemala', 'native-country_ Haiti', 'native-country_ Holand-Netherlands', 'native-country_ Honduras', 'native-country_ Hong', 'native-country_ Hungary', 'native-country_ India', 'native-country_ Iran', 'native-country_ Ireland', 'native-country_ Italy', 'native-country_ Jamaica', 'native-country_ Japan', 'native-country_ Laos', 'native-country_ Mexico', 'native-country_ Nicaragua', 'native-country_ Outlying-US(Guam-USVI-etc)', 'native-country_ Peru', 'native-country_ Philippines', 'native-country_ Poland', 'native-country_ Portugal', 'native-country_ Puerto-Rico', 'native-country_ Scotland', 'native-country_ South', 'native-country_ Taiwan', 'native-country_ Thailand', 'native-country_ Trinadad&Tobago', 'native-country_ United-States', 'native-country_ Vietnam', 'native-country_ Yugoslavia']\n"
     ]
    }
   ],
   "source": [
    "features_final = pd.get_dummies(features_log_minmax_transform)\n",
    "\n",
    "income = np.where(income_raw.values == '>50K', 1, 0)\n",
    "\n",
    "encoded = list(features_final.columns)\n",
    "print(\"{} total features after one-hot encoding.\".format(len(encoded)))\n",
    "\n",
    "print(encoded)"
   ]
  },
  {
   "cell_type": "code",
   "execution_count": 12,
   "id": "354bfbb1",
   "metadata": {
    "ExecuteTime": {
     "end_time": "2023-05-31T07:33:19.734738Z",
     "start_time": "2023-05-31T07:33:19.719715Z"
    }
   },
   "outputs": [
    {
     "name": "stdout",
     "output_type": "stream",
     "text": [
      "0\n"
     ]
    }
   ],
   "source": [
    "print(income)"
   ]
  },
  {
   "cell_type": "code",
   "execution_count": 13,
   "id": "50a6a82c",
   "metadata": {
    "ExecuteTime": {
     "end_time": "2023-05-31T07:33:19.766628Z",
     "start_time": "2023-05-31T07:33:19.736733Z"
    }
   },
   "outputs": [
    {
     "data": {
      "text/html": [
       "<div>\n",
       "<style scoped>\n",
       "    .dataframe tbody tr th:only-of-type {\n",
       "        vertical-align: middle;\n",
       "    }\n",
       "\n",
       "    .dataframe tbody tr th {\n",
       "        vertical-align: top;\n",
       "    }\n",
       "\n",
       "    .dataframe thead th {\n",
       "        text-align: right;\n",
       "    }\n",
       "</style>\n",
       "<table border=\"1\" class=\"dataframe\">\n",
       "  <thead>\n",
       "    <tr style=\"text-align: right;\">\n",
       "      <th></th>\n",
       "      <th>age</th>\n",
       "      <th>education-num</th>\n",
       "      <th>capital-gain</th>\n",
       "      <th>capital-loss</th>\n",
       "      <th>hours-per-week</th>\n",
       "      <th>workclass_ ?</th>\n",
       "      <th>workclass_ Federal-gov</th>\n",
       "      <th>workclass_ Local-gov</th>\n",
       "      <th>workclass_ Never-worked</th>\n",
       "      <th>workclass_ Private</th>\n",
       "      <th>...</th>\n",
       "      <th>native-country_ Portugal</th>\n",
       "      <th>native-country_ Puerto-Rico</th>\n",
       "      <th>native-country_ Scotland</th>\n",
       "      <th>native-country_ South</th>\n",
       "      <th>native-country_ Taiwan</th>\n",
       "      <th>native-country_ Thailand</th>\n",
       "      <th>native-country_ Trinadad&amp;Tobago</th>\n",
       "      <th>native-country_ United-States</th>\n",
       "      <th>native-country_ Vietnam</th>\n",
       "      <th>native-country_ Yugoslavia</th>\n",
       "    </tr>\n",
       "  </thead>\n",
       "  <tbody>\n",
       "    <tr>\n",
       "      <th>0</th>\n",
       "      <td>0.109589</td>\n",
       "      <td>0.400000</td>\n",
       "      <td>0.0</td>\n",
       "      <td>0.000000</td>\n",
       "      <td>0.397959</td>\n",
       "      <td>0</td>\n",
       "      <td>0</td>\n",
       "      <td>0</td>\n",
       "      <td>0</td>\n",
       "      <td>1</td>\n",
       "      <td>...</td>\n",
       "      <td>0</td>\n",
       "      <td>0</td>\n",
       "      <td>0</td>\n",
       "      <td>0</td>\n",
       "      <td>0</td>\n",
       "      <td>0</td>\n",
       "      <td>0</td>\n",
       "      <td>1</td>\n",
       "      <td>0</td>\n",
       "      <td>0</td>\n",
       "    </tr>\n",
       "    <tr>\n",
       "      <th>1</th>\n",
       "      <td>0.301370</td>\n",
       "      <td>0.600000</td>\n",
       "      <td>0.0</td>\n",
       "      <td>0.889219</td>\n",
       "      <td>0.551020</td>\n",
       "      <td>0</td>\n",
       "      <td>0</td>\n",
       "      <td>0</td>\n",
       "      <td>0</td>\n",
       "      <td>1</td>\n",
       "      <td>...</td>\n",
       "      <td>0</td>\n",
       "      <td>0</td>\n",
       "      <td>0</td>\n",
       "      <td>0</td>\n",
       "      <td>0</td>\n",
       "      <td>0</td>\n",
       "      <td>0</td>\n",
       "      <td>1</td>\n",
       "      <td>0</td>\n",
       "      <td>0</td>\n",
       "    </tr>\n",
       "    <tr>\n",
       "      <th>2</th>\n",
       "      <td>0.246575</td>\n",
       "      <td>0.800000</td>\n",
       "      <td>0.0</td>\n",
       "      <td>0.000000</td>\n",
       "      <td>0.500000</td>\n",
       "      <td>0</td>\n",
       "      <td>0</td>\n",
       "      <td>0</td>\n",
       "      <td>0</td>\n",
       "      <td>1</td>\n",
       "      <td>...</td>\n",
       "      <td>0</td>\n",
       "      <td>0</td>\n",
       "      <td>0</td>\n",
       "      <td>0</td>\n",
       "      <td>0</td>\n",
       "      <td>0</td>\n",
       "      <td>0</td>\n",
       "      <td>0</td>\n",
       "      <td>0</td>\n",
       "      <td>0</td>\n",
       "    </tr>\n",
       "    <tr>\n",
       "      <th>3</th>\n",
       "      <td>0.643836</td>\n",
       "      <td>0.666667</td>\n",
       "      <td>0.0</td>\n",
       "      <td>0.000000</td>\n",
       "      <td>0.397959</td>\n",
       "      <td>0</td>\n",
       "      <td>0</td>\n",
       "      <td>0</td>\n",
       "      <td>0</td>\n",
       "      <td>1</td>\n",
       "      <td>...</td>\n",
       "      <td>0</td>\n",
       "      <td>0</td>\n",
       "      <td>0</td>\n",
       "      <td>0</td>\n",
       "      <td>0</td>\n",
       "      <td>0</td>\n",
       "      <td>0</td>\n",
       "      <td>1</td>\n",
       "      <td>0</td>\n",
       "      <td>0</td>\n",
       "    </tr>\n",
       "    <tr>\n",
       "      <th>4</th>\n",
       "      <td>0.095890</td>\n",
       "      <td>0.600000</td>\n",
       "      <td>0.0</td>\n",
       "      <td>0.000000</td>\n",
       "      <td>0.704082</td>\n",
       "      <td>0</td>\n",
       "      <td>0</td>\n",
       "      <td>0</td>\n",
       "      <td>0</td>\n",
       "      <td>1</td>\n",
       "      <td>...</td>\n",
       "      <td>0</td>\n",
       "      <td>0</td>\n",
       "      <td>0</td>\n",
       "      <td>0</td>\n",
       "      <td>0</td>\n",
       "      <td>0</td>\n",
       "      <td>0</td>\n",
       "      <td>1</td>\n",
       "      <td>0</td>\n",
       "      <td>0</td>\n",
       "    </tr>\n",
       "    <tr>\n",
       "      <th>...</th>\n",
       "      <td>...</td>\n",
       "      <td>...</td>\n",
       "      <td>...</td>\n",
       "      <td>...</td>\n",
       "      <td>...</td>\n",
       "      <td>...</td>\n",
       "      <td>...</td>\n",
       "      <td>...</td>\n",
       "      <td>...</td>\n",
       "      <td>...</td>\n",
       "      <td>...</td>\n",
       "      <td>...</td>\n",
       "      <td>...</td>\n",
       "      <td>...</td>\n",
       "      <td>...</td>\n",
       "      <td>...</td>\n",
       "      <td>...</td>\n",
       "      <td>...</td>\n",
       "      <td>...</td>\n",
       "      <td>...</td>\n",
       "      <td>...</td>\n",
       "    </tr>\n",
       "    <tr>\n",
       "      <th>29300</th>\n",
       "      <td>0.041096</td>\n",
       "      <td>0.533333</td>\n",
       "      <td>0.0</td>\n",
       "      <td>0.000000</td>\n",
       "      <td>0.397959</td>\n",
       "      <td>0</td>\n",
       "      <td>0</td>\n",
       "      <td>0</td>\n",
       "      <td>0</td>\n",
       "      <td>1</td>\n",
       "      <td>...</td>\n",
       "      <td>0</td>\n",
       "      <td>1</td>\n",
       "      <td>0</td>\n",
       "      <td>0</td>\n",
       "      <td>0</td>\n",
       "      <td>0</td>\n",
       "      <td>0</td>\n",
       "      <td>0</td>\n",
       "      <td>0</td>\n",
       "      <td>0</td>\n",
       "    </tr>\n",
       "    <tr>\n",
       "      <th>29301</th>\n",
       "      <td>0.054795</td>\n",
       "      <td>0.533333</td>\n",
       "      <td>0.0</td>\n",
       "      <td>0.000000</td>\n",
       "      <td>0.397959</td>\n",
       "      <td>0</td>\n",
       "      <td>0</td>\n",
       "      <td>0</td>\n",
       "      <td>0</td>\n",
       "      <td>1</td>\n",
       "      <td>...</td>\n",
       "      <td>0</td>\n",
       "      <td>0</td>\n",
       "      <td>0</td>\n",
       "      <td>0</td>\n",
       "      <td>0</td>\n",
       "      <td>0</td>\n",
       "      <td>0</td>\n",
       "      <td>1</td>\n",
       "      <td>0</td>\n",
       "      <td>0</td>\n",
       "    </tr>\n",
       "    <tr>\n",
       "      <th>29302</th>\n",
       "      <td>0.013699</td>\n",
       "      <td>0.333333</td>\n",
       "      <td>0.0</td>\n",
       "      <td>0.000000</td>\n",
       "      <td>0.397959</td>\n",
       "      <td>0</td>\n",
       "      <td>0</td>\n",
       "      <td>0</td>\n",
       "      <td>0</td>\n",
       "      <td>0</td>\n",
       "      <td>...</td>\n",
       "      <td>0</td>\n",
       "      <td>0</td>\n",
       "      <td>0</td>\n",
       "      <td>0</td>\n",
       "      <td>0</td>\n",
       "      <td>0</td>\n",
       "      <td>0</td>\n",
       "      <td>1</td>\n",
       "      <td>0</td>\n",
       "      <td>0</td>\n",
       "    </tr>\n",
       "    <tr>\n",
       "      <th>29303</th>\n",
       "      <td>0.219178</td>\n",
       "      <td>0.400000</td>\n",
       "      <td>0.0</td>\n",
       "      <td>0.000000</td>\n",
       "      <td>0.653061</td>\n",
       "      <td>0</td>\n",
       "      <td>0</td>\n",
       "      <td>0</td>\n",
       "      <td>0</td>\n",
       "      <td>1</td>\n",
       "      <td>...</td>\n",
       "      <td>0</td>\n",
       "      <td>0</td>\n",
       "      <td>0</td>\n",
       "      <td>0</td>\n",
       "      <td>0</td>\n",
       "      <td>0</td>\n",
       "      <td>0</td>\n",
       "      <td>1</td>\n",
       "      <td>0</td>\n",
       "      <td>0</td>\n",
       "    </tr>\n",
       "    <tr>\n",
       "      <th>29304</th>\n",
       "      <td>0.657534</td>\n",
       "      <td>0.533333</td>\n",
       "      <td>0.0</td>\n",
       "      <td>0.000000</td>\n",
       "      <td>0.397959</td>\n",
       "      <td>1</td>\n",
       "      <td>0</td>\n",
       "      <td>0</td>\n",
       "      <td>0</td>\n",
       "      <td>0</td>\n",
       "      <td>...</td>\n",
       "      <td>0</td>\n",
       "      <td>0</td>\n",
       "      <td>0</td>\n",
       "      <td>0</td>\n",
       "      <td>0</td>\n",
       "      <td>0</td>\n",
       "      <td>0</td>\n",
       "      <td>1</td>\n",
       "      <td>0</td>\n",
       "      <td>0</td>\n",
       "    </tr>\n",
       "  </tbody>\n",
       "</table>\n",
       "<p>29305 rows × 107 columns</p>\n",
       "</div>"
      ],
      "text/plain": [
       "            age  education-num  capital-gain  capital-loss  hours-per-week  \\\n",
       "0      0.109589       0.400000           0.0      0.000000        0.397959   \n",
       "1      0.301370       0.600000           0.0      0.889219        0.551020   \n",
       "2      0.246575       0.800000           0.0      0.000000        0.500000   \n",
       "3      0.643836       0.666667           0.0      0.000000        0.397959   \n",
       "4      0.095890       0.600000           0.0      0.000000        0.704082   \n",
       "...         ...            ...           ...           ...             ...   \n",
       "29300  0.041096       0.533333           0.0      0.000000        0.397959   \n",
       "29301  0.054795       0.533333           0.0      0.000000        0.397959   \n",
       "29302  0.013699       0.333333           0.0      0.000000        0.397959   \n",
       "29303  0.219178       0.400000           0.0      0.000000        0.653061   \n",
       "29304  0.657534       0.533333           0.0      0.000000        0.397959   \n",
       "\n",
       "       workclass_ ?  workclass_ Federal-gov  workclass_ Local-gov  \\\n",
       "0                 0                       0                     0   \n",
       "1                 0                       0                     0   \n",
       "2                 0                       0                     0   \n",
       "3                 0                       0                     0   \n",
       "4                 0                       0                     0   \n",
       "...             ...                     ...                   ...   \n",
       "29300             0                       0                     0   \n",
       "29301             0                       0                     0   \n",
       "29302             0                       0                     0   \n",
       "29303             0                       0                     0   \n",
       "29304             1                       0                     0   \n",
       "\n",
       "       workclass_ Never-worked  workclass_ Private  ...  \\\n",
       "0                            0                   1  ...   \n",
       "1                            0                   1  ...   \n",
       "2                            0                   1  ...   \n",
       "3                            0                   1  ...   \n",
       "4                            0                   1  ...   \n",
       "...                        ...                 ...  ...   \n",
       "29300                        0                   1  ...   \n",
       "29301                        0                   1  ...   \n",
       "29302                        0                   0  ...   \n",
       "29303                        0                   1  ...   \n",
       "29304                        0                   0  ...   \n",
       "\n",
       "       native-country_ Portugal  native-country_ Puerto-Rico  \\\n",
       "0                             0                            0   \n",
       "1                             0                            0   \n",
       "2                             0                            0   \n",
       "3                             0                            0   \n",
       "4                             0                            0   \n",
       "...                         ...                          ...   \n",
       "29300                         0                            1   \n",
       "29301                         0                            0   \n",
       "29302                         0                            0   \n",
       "29303                         0                            0   \n",
       "29304                         0                            0   \n",
       "\n",
       "       native-country_ Scotland  native-country_ South  \\\n",
       "0                             0                      0   \n",
       "1                             0                      0   \n",
       "2                             0                      0   \n",
       "3                             0                      0   \n",
       "4                             0                      0   \n",
       "...                         ...                    ...   \n",
       "29300                         0                      0   \n",
       "29301                         0                      0   \n",
       "29302                         0                      0   \n",
       "29303                         0                      0   \n",
       "29304                         0                      0   \n",
       "\n",
       "       native-country_ Taiwan  native-country_ Thailand  \\\n",
       "0                           0                         0   \n",
       "1                           0                         0   \n",
       "2                           0                         0   \n",
       "3                           0                         0   \n",
       "4                           0                         0   \n",
       "...                       ...                       ...   \n",
       "29300                       0                         0   \n",
       "29301                       0                         0   \n",
       "29302                       0                         0   \n",
       "29303                       0                         0   \n",
       "29304                       0                         0   \n",
       "\n",
       "       native-country_ Trinadad&Tobago  native-country_ United-States  \\\n",
       "0                                    0                              1   \n",
       "1                                    0                              1   \n",
       "2                                    0                              0   \n",
       "3                                    0                              1   \n",
       "4                                    0                              1   \n",
       "...                                ...                            ...   \n",
       "29300                                0                              0   \n",
       "29301                                0                              1   \n",
       "29302                                0                              1   \n",
       "29303                                0                              1   \n",
       "29304                                0                              1   \n",
       "\n",
       "       native-country_ Vietnam  native-country_ Yugoslavia  \n",
       "0                            0                           0  \n",
       "1                            0                           0  \n",
       "2                            0                           0  \n",
       "3                            0                           0  \n",
       "4                            0                           0  \n",
       "...                        ...                         ...  \n",
       "29300                        0                           0  \n",
       "29301                        0                           0  \n",
       "29302                        0                           0  \n",
       "29303                        0                           0  \n",
       "29304                        0                           0  \n",
       "\n",
       "[29305 rows x 107 columns]"
      ]
     },
     "execution_count": 13,
     "metadata": {},
     "output_type": "execute_result"
    }
   ],
   "source": [
    "# 훈련 데이터의 피쳐 (train, test를 합친 상태이기 때문에 train 데이터와 test 데이터를 다시 분리함)\n",
    "X_train = features_final.iloc[:29305,:]\n",
    "X_train"
   ]
  },
  {
   "cell_type": "code",
   "execution_count": 14,
   "id": "124a9eee",
   "metadata": {
    "ExecuteTime": {
     "end_time": "2023-05-31T07:33:19.797546Z",
     "start_time": "2023-05-31T07:33:19.768623Z"
    }
   },
   "outputs": [
    {
     "data": {
      "text/html": [
       "<div>\n",
       "<style scoped>\n",
       "    .dataframe tbody tr th:only-of-type {\n",
       "        vertical-align: middle;\n",
       "    }\n",
       "\n",
       "    .dataframe tbody tr th {\n",
       "        vertical-align: top;\n",
       "    }\n",
       "\n",
       "    .dataframe thead th {\n",
       "        text-align: right;\n",
       "    }\n",
       "</style>\n",
       "<table border=\"1\" class=\"dataframe\">\n",
       "  <thead>\n",
       "    <tr style=\"text-align: right;\">\n",
       "      <th></th>\n",
       "      <th>age</th>\n",
       "      <th>education-num</th>\n",
       "      <th>capital-gain</th>\n",
       "      <th>capital-loss</th>\n",
       "      <th>hours-per-week</th>\n",
       "      <th>workclass_ ?</th>\n",
       "      <th>workclass_ Federal-gov</th>\n",
       "      <th>workclass_ Local-gov</th>\n",
       "      <th>workclass_ Never-worked</th>\n",
       "      <th>workclass_ Private</th>\n",
       "      <th>...</th>\n",
       "      <th>native-country_ Portugal</th>\n",
       "      <th>native-country_ Puerto-Rico</th>\n",
       "      <th>native-country_ Scotland</th>\n",
       "      <th>native-country_ South</th>\n",
       "      <th>native-country_ Taiwan</th>\n",
       "      <th>native-country_ Thailand</th>\n",
       "      <th>native-country_ Trinadad&amp;Tobago</th>\n",
       "      <th>native-country_ United-States</th>\n",
       "      <th>native-country_ Vietnam</th>\n",
       "      <th>native-country_ Yugoslavia</th>\n",
       "    </tr>\n",
       "  </thead>\n",
       "  <tbody>\n",
       "    <tr>\n",
       "      <th>0</th>\n",
       "      <td>0.013699</td>\n",
       "      <td>0.600000</td>\n",
       "      <td>0.000000</td>\n",
       "      <td>0.000000</td>\n",
       "      <td>0.153061</td>\n",
       "      <td>1</td>\n",
       "      <td>0</td>\n",
       "      <td>0</td>\n",
       "      <td>0</td>\n",
       "      <td>0</td>\n",
       "      <td>...</td>\n",
       "      <td>0</td>\n",
       "      <td>0</td>\n",
       "      <td>0</td>\n",
       "      <td>0</td>\n",
       "      <td>0</td>\n",
       "      <td>0</td>\n",
       "      <td>0</td>\n",
       "      <td>1</td>\n",
       "      <td>0</td>\n",
       "      <td>0</td>\n",
       "    </tr>\n",
       "    <tr>\n",
       "      <th>1</th>\n",
       "      <td>0.164384</td>\n",
       "      <td>0.533333</td>\n",
       "      <td>0.000000</td>\n",
       "      <td>0.000000</td>\n",
       "      <td>0.397959</td>\n",
       "      <td>0</td>\n",
       "      <td>0</td>\n",
       "      <td>0</td>\n",
       "      <td>0</td>\n",
       "      <td>1</td>\n",
       "      <td>...</td>\n",
       "      <td>0</td>\n",
       "      <td>0</td>\n",
       "      <td>0</td>\n",
       "      <td>0</td>\n",
       "      <td>0</td>\n",
       "      <td>0</td>\n",
       "      <td>0</td>\n",
       "      <td>1</td>\n",
       "      <td>0</td>\n",
       "      <td>0</td>\n",
       "    </tr>\n",
       "    <tr>\n",
       "      <th>2</th>\n",
       "      <td>0.383562</td>\n",
       "      <td>0.800000</td>\n",
       "      <td>0.000000</td>\n",
       "      <td>0.000000</td>\n",
       "      <td>0.397959</td>\n",
       "      <td>0</td>\n",
       "      <td>0</td>\n",
       "      <td>0</td>\n",
       "      <td>0</td>\n",
       "      <td>1</td>\n",
       "      <td>...</td>\n",
       "      <td>0</td>\n",
       "      <td>0</td>\n",
       "      <td>0</td>\n",
       "      <td>0</td>\n",
       "      <td>0</td>\n",
       "      <td>0</td>\n",
       "      <td>0</td>\n",
       "      <td>1</td>\n",
       "      <td>0</td>\n",
       "      <td>0</td>\n",
       "    </tr>\n",
       "    <tr>\n",
       "      <th>3</th>\n",
       "      <td>0.342466</td>\n",
       "      <td>0.800000</td>\n",
       "      <td>0.000000</td>\n",
       "      <td>0.000000</td>\n",
       "      <td>0.397959</td>\n",
       "      <td>0</td>\n",
       "      <td>0</td>\n",
       "      <td>0</td>\n",
       "      <td>0</td>\n",
       "      <td>0</td>\n",
       "      <td>...</td>\n",
       "      <td>0</td>\n",
       "      <td>0</td>\n",
       "      <td>0</td>\n",
       "      <td>0</td>\n",
       "      <td>0</td>\n",
       "      <td>0</td>\n",
       "      <td>0</td>\n",
       "      <td>1</td>\n",
       "      <td>0</td>\n",
       "      <td>0</td>\n",
       "    </tr>\n",
       "    <tr>\n",
       "      <th>4</th>\n",
       "      <td>0.328767</td>\n",
       "      <td>1.000000</td>\n",
       "      <td>0.000000</td>\n",
       "      <td>0.901146</td>\n",
       "      <td>0.397959</td>\n",
       "      <td>0</td>\n",
       "      <td>0</td>\n",
       "      <td>0</td>\n",
       "      <td>0</td>\n",
       "      <td>1</td>\n",
       "      <td>...</td>\n",
       "      <td>0</td>\n",
       "      <td>0</td>\n",
       "      <td>0</td>\n",
       "      <td>0</td>\n",
       "      <td>0</td>\n",
       "      <td>0</td>\n",
       "      <td>0</td>\n",
       "      <td>1</td>\n",
       "      <td>0</td>\n",
       "      <td>0</td>\n",
       "    </tr>\n",
       "    <tr>\n",
       "      <th>...</th>\n",
       "      <td>...</td>\n",
       "      <td>...</td>\n",
       "      <td>...</td>\n",
       "      <td>...</td>\n",
       "      <td>...</td>\n",
       "      <td>...</td>\n",
       "      <td>...</td>\n",
       "      <td>...</td>\n",
       "      <td>...</td>\n",
       "      <td>...</td>\n",
       "      <td>...</td>\n",
       "      <td>...</td>\n",
       "      <td>...</td>\n",
       "      <td>...</td>\n",
       "      <td>...</td>\n",
       "      <td>...</td>\n",
       "      <td>...</td>\n",
       "      <td>...</td>\n",
       "      <td>...</td>\n",
       "      <td>...</td>\n",
       "      <td>...</td>\n",
       "    </tr>\n",
       "    <tr>\n",
       "      <th>19532</th>\n",
       "      <td>0.383562</td>\n",
       "      <td>0.533333</td>\n",
       "      <td>0.000000</td>\n",
       "      <td>0.000000</td>\n",
       "      <td>0.602041</td>\n",
       "      <td>0</td>\n",
       "      <td>0</td>\n",
       "      <td>0</td>\n",
       "      <td>0</td>\n",
       "      <td>0</td>\n",
       "      <td>...</td>\n",
       "      <td>0</td>\n",
       "      <td>0</td>\n",
       "      <td>0</td>\n",
       "      <td>0</td>\n",
       "      <td>0</td>\n",
       "      <td>0</td>\n",
       "      <td>0</td>\n",
       "      <td>1</td>\n",
       "      <td>0</td>\n",
       "      <td>0</td>\n",
       "    </tr>\n",
       "    <tr>\n",
       "      <th>19533</th>\n",
       "      <td>0.424658</td>\n",
       "      <td>0.533333</td>\n",
       "      <td>0.000000</td>\n",
       "      <td>0.000000</td>\n",
       "      <td>0.500000</td>\n",
       "      <td>0</td>\n",
       "      <td>0</td>\n",
       "      <td>0</td>\n",
       "      <td>0</td>\n",
       "      <td>1</td>\n",
       "      <td>...</td>\n",
       "      <td>0</td>\n",
       "      <td>0</td>\n",
       "      <td>0</td>\n",
       "      <td>0</td>\n",
       "      <td>0</td>\n",
       "      <td>0</td>\n",
       "      <td>0</td>\n",
       "      <td>1</td>\n",
       "      <td>0</td>\n",
       "      <td>0</td>\n",
       "    </tr>\n",
       "    <tr>\n",
       "      <th>19534</th>\n",
       "      <td>0.630137</td>\n",
       "      <td>0.600000</td>\n",
       "      <td>0.728434</td>\n",
       "      <td>0.000000</td>\n",
       "      <td>0.397959</td>\n",
       "      <td>0</td>\n",
       "      <td>0</td>\n",
       "      <td>0</td>\n",
       "      <td>0</td>\n",
       "      <td>1</td>\n",
       "      <td>...</td>\n",
       "      <td>0</td>\n",
       "      <td>0</td>\n",
       "      <td>0</td>\n",
       "      <td>0</td>\n",
       "      <td>0</td>\n",
       "      <td>0</td>\n",
       "      <td>0</td>\n",
       "      <td>1</td>\n",
       "      <td>0</td>\n",
       "      <td>0</td>\n",
       "    </tr>\n",
       "    <tr>\n",
       "      <th>19535</th>\n",
       "      <td>0.013699</td>\n",
       "      <td>0.400000</td>\n",
       "      <td>0.000000</td>\n",
       "      <td>0.000000</td>\n",
       "      <td>0.193878</td>\n",
       "      <td>0</td>\n",
       "      <td>0</td>\n",
       "      <td>0</td>\n",
       "      <td>0</td>\n",
       "      <td>1</td>\n",
       "      <td>...</td>\n",
       "      <td>0</td>\n",
       "      <td>0</td>\n",
       "      <td>0</td>\n",
       "      <td>0</td>\n",
       "      <td>0</td>\n",
       "      <td>0</td>\n",
       "      <td>0</td>\n",
       "      <td>1</td>\n",
       "      <td>0</td>\n",
       "      <td>0</td>\n",
       "    </tr>\n",
       "    <tr>\n",
       "      <th>19536</th>\n",
       "      <td>0.191781</td>\n",
       "      <td>0.733333</td>\n",
       "      <td>0.000000</td>\n",
       "      <td>0.000000</td>\n",
       "      <td>0.459184</td>\n",
       "      <td>0</td>\n",
       "      <td>0</td>\n",
       "      <td>0</td>\n",
       "      <td>0</td>\n",
       "      <td>1</td>\n",
       "      <td>...</td>\n",
       "      <td>0</td>\n",
       "      <td>0</td>\n",
       "      <td>0</td>\n",
       "      <td>0</td>\n",
       "      <td>0</td>\n",
       "      <td>0</td>\n",
       "      <td>0</td>\n",
       "      <td>1</td>\n",
       "      <td>0</td>\n",
       "      <td>0</td>\n",
       "    </tr>\n",
       "  </tbody>\n",
       "</table>\n",
       "<p>19537 rows × 107 columns</p>\n",
       "</div>"
      ],
      "text/plain": [
       "            age  education-num  capital-gain  capital-loss  hours-per-week  \\\n",
       "0      0.013699       0.600000      0.000000      0.000000        0.153061   \n",
       "1      0.164384       0.533333      0.000000      0.000000        0.397959   \n",
       "2      0.383562       0.800000      0.000000      0.000000        0.397959   \n",
       "3      0.342466       0.800000      0.000000      0.000000        0.397959   \n",
       "4      0.328767       1.000000      0.000000      0.901146        0.397959   \n",
       "...         ...            ...           ...           ...             ...   \n",
       "19532  0.383562       0.533333      0.000000      0.000000        0.602041   \n",
       "19533  0.424658       0.533333      0.000000      0.000000        0.500000   \n",
       "19534  0.630137       0.600000      0.728434      0.000000        0.397959   \n",
       "19535  0.013699       0.400000      0.000000      0.000000        0.193878   \n",
       "19536  0.191781       0.733333      0.000000      0.000000        0.459184   \n",
       "\n",
       "       workclass_ ?  workclass_ Federal-gov  workclass_ Local-gov  \\\n",
       "0                 1                       0                     0   \n",
       "1                 0                       0                     0   \n",
       "2                 0                       0                     0   \n",
       "3                 0                       0                     0   \n",
       "4                 0                       0                     0   \n",
       "...             ...                     ...                   ...   \n",
       "19532             0                       0                     0   \n",
       "19533             0                       0                     0   \n",
       "19534             0                       0                     0   \n",
       "19535             0                       0                     0   \n",
       "19536             0                       0                     0   \n",
       "\n",
       "       workclass_ Never-worked  workclass_ Private  ...  \\\n",
       "0                            0                   0  ...   \n",
       "1                            0                   1  ...   \n",
       "2                            0                   1  ...   \n",
       "3                            0                   0  ...   \n",
       "4                            0                   1  ...   \n",
       "...                        ...                 ...  ...   \n",
       "19532                        0                   0  ...   \n",
       "19533                        0                   1  ...   \n",
       "19534                        0                   1  ...   \n",
       "19535                        0                   1  ...   \n",
       "19536                        0                   1  ...   \n",
       "\n",
       "       native-country_ Portugal  native-country_ Puerto-Rico  \\\n",
       "0                             0                            0   \n",
       "1                             0                            0   \n",
       "2                             0                            0   \n",
       "3                             0                            0   \n",
       "4                             0                            0   \n",
       "...                         ...                          ...   \n",
       "19532                         0                            0   \n",
       "19533                         0                            0   \n",
       "19534                         0                            0   \n",
       "19535                         0                            0   \n",
       "19536                         0                            0   \n",
       "\n",
       "       native-country_ Scotland  native-country_ South  \\\n",
       "0                             0                      0   \n",
       "1                             0                      0   \n",
       "2                             0                      0   \n",
       "3                             0                      0   \n",
       "4                             0                      0   \n",
       "...                         ...                    ...   \n",
       "19532                         0                      0   \n",
       "19533                         0                      0   \n",
       "19534                         0                      0   \n",
       "19535                         0                      0   \n",
       "19536                         0                      0   \n",
       "\n",
       "       native-country_ Taiwan  native-country_ Thailand  \\\n",
       "0                           0                         0   \n",
       "1                           0                         0   \n",
       "2                           0                         0   \n",
       "3                           0                         0   \n",
       "4                           0                         0   \n",
       "...                       ...                       ...   \n",
       "19532                       0                         0   \n",
       "19533                       0                         0   \n",
       "19534                       0                         0   \n",
       "19535                       0                         0   \n",
       "19536                       0                         0   \n",
       "\n",
       "       native-country_ Trinadad&Tobago  native-country_ United-States  \\\n",
       "0                                    0                              1   \n",
       "1                                    0                              1   \n",
       "2                                    0                              1   \n",
       "3                                    0                              1   \n",
       "4                                    0                              1   \n",
       "...                                ...                            ...   \n",
       "19532                                0                              1   \n",
       "19533                                0                              1   \n",
       "19534                                0                              1   \n",
       "19535                                0                              1   \n",
       "19536                                0                              1   \n",
       "\n",
       "       native-country_ Vietnam  native-country_ Yugoslavia  \n",
       "0                            0                           0  \n",
       "1                            0                           0  \n",
       "2                            0                           0  \n",
       "3                            0                           0  \n",
       "4                            0                           0  \n",
       "...                        ...                         ...  \n",
       "19532                        0                           0  \n",
       "19533                        0                           0  \n",
       "19534                        0                           0  \n",
       "19535                        0                           0  \n",
       "19536                        0                           0  \n",
       "\n",
       "[19537 rows x 107 columns]"
      ]
     },
     "execution_count": 14,
     "metadata": {},
     "output_type": "execute_result"
    }
   ],
   "source": [
    "### 테스트 데이터의 피쳐\n",
    "X_test = features_final.iloc[29305:,:]\n",
    "X_test"
   ]
  },
  {
   "cell_type": "code",
   "execution_count": 15,
   "id": "a8c4c24a",
   "metadata": {
    "ExecuteTime": {
     "end_time": "2023-05-31T07:33:19.813504Z",
     "start_time": "2023-05-31T07:33:19.799542Z"
    }
   },
   "outputs": [
    {
     "data": {
      "text/plain": [
       "0        0\n",
       "1        0\n",
       "2        0\n",
       "3        0\n",
       "4        1\n",
       "        ..\n",
       "29300    0\n",
       "29301    0\n",
       "29302    0\n",
       "29303    0\n",
       "29304    0\n",
       "Name: income, Length: 29305, dtype: int64"
      ]
     },
     "execution_count": 15,
     "metadata": {},
     "output_type": "execute_result"
    }
   ],
   "source": [
    "# 훈련 데이터 정답\n",
    "y_train = data_train['income']\n",
    "y_train"
   ]
  },
  {
   "cell_type": "code",
   "execution_count": 16,
   "id": "0b51a465",
   "metadata": {
    "ExecuteTime": {
     "end_time": "2023-05-31T07:33:21.330732Z",
     "start_time": "2023-05-31T07:33:19.815499Z"
    }
   },
   "outputs": [],
   "source": [
    "# lgb 모델 사용하여 예측\n",
    "from lightgbm import LGBMClassifier\n",
    "\n",
    "lgb = LGBMClassifier(random_state=200, n_jobs=-1, reg_alpha=0.9, reg_lambda=0.2, n_estimators=200)\n",
    "\n",
    "# lgb 모델 훈련\n",
    "lgb.fit(X_train, y_train)\n",
    "\n",
    "# 훈련한 lgb 모델로 예측한 결과\n",
    "y_pred = lgb.predict(X_test)\n",
    "\n",
    "rs =  pd.read_csv('./data/kaggle/sample_submission.csv')\n",
    "rs['income'] = y_pred\n",
    "rs.to_csv('50K_01.csv', index=False)\n"
   ]
  },
  {
   "cell_type": "code",
   "execution_count": 17,
   "id": "288c24fa",
   "metadata": {
    "ExecuteTime": {
     "end_time": "2023-05-31T07:33:21.377607Z",
     "start_time": "2023-05-31T07:33:21.332727Z"
    }
   },
   "outputs": [
    {
     "data": {
      "text/html": [
       "<div>\n",
       "<style scoped>\n",
       "    .dataframe tbody tr th:only-of-type {\n",
       "        vertical-align: middle;\n",
       "    }\n",
       "\n",
       "    .dataframe tbody tr th {\n",
       "        vertical-align: top;\n",
       "    }\n",
       "\n",
       "    .dataframe thead th {\n",
       "        text-align: right;\n",
       "    }\n",
       "</style>\n",
       "<table border=\"1\" class=\"dataframe\">\n",
       "  <thead>\n",
       "    <tr style=\"text-align: right;\">\n",
       "      <th></th>\n",
       "      <th>age</th>\n",
       "      <th>education-num</th>\n",
       "      <th>capital-gain</th>\n",
       "      <th>capital-loss</th>\n",
       "      <th>hours-per-week</th>\n",
       "      <th>workclass_ ?</th>\n",
       "      <th>workclass_ Federal-gov</th>\n",
       "      <th>workclass_ Local-gov</th>\n",
       "      <th>workclass_ Never-worked</th>\n",
       "      <th>workclass_ Private</th>\n",
       "      <th>...</th>\n",
       "      <th>native-country_ Portugal</th>\n",
       "      <th>native-country_ Puerto-Rico</th>\n",
       "      <th>native-country_ Scotland</th>\n",
       "      <th>native-country_ South</th>\n",
       "      <th>native-country_ Taiwan</th>\n",
       "      <th>native-country_ Thailand</th>\n",
       "      <th>native-country_ Trinadad&amp;Tobago</th>\n",
       "      <th>native-country_ United-States</th>\n",
       "      <th>native-country_ Vietnam</th>\n",
       "      <th>native-country_ Yugoslavia</th>\n",
       "    </tr>\n",
       "  </thead>\n",
       "  <tbody>\n",
       "    <tr>\n",
       "      <th>0</th>\n",
       "      <td>0.109589</td>\n",
       "      <td>0.400000</td>\n",
       "      <td>0.000000</td>\n",
       "      <td>0.000000</td>\n",
       "      <td>0.397959</td>\n",
       "      <td>0</td>\n",
       "      <td>0</td>\n",
       "      <td>0</td>\n",
       "      <td>0</td>\n",
       "      <td>1</td>\n",
       "      <td>...</td>\n",
       "      <td>0</td>\n",
       "      <td>0</td>\n",
       "      <td>0</td>\n",
       "      <td>0</td>\n",
       "      <td>0</td>\n",
       "      <td>0</td>\n",
       "      <td>0</td>\n",
       "      <td>1</td>\n",
       "      <td>0</td>\n",
       "      <td>0</td>\n",
       "    </tr>\n",
       "    <tr>\n",
       "      <th>1</th>\n",
       "      <td>0.301370</td>\n",
       "      <td>0.600000</td>\n",
       "      <td>0.000000</td>\n",
       "      <td>0.889219</td>\n",
       "      <td>0.551020</td>\n",
       "      <td>0</td>\n",
       "      <td>0</td>\n",
       "      <td>0</td>\n",
       "      <td>0</td>\n",
       "      <td>1</td>\n",
       "      <td>...</td>\n",
       "      <td>0</td>\n",
       "      <td>0</td>\n",
       "      <td>0</td>\n",
       "      <td>0</td>\n",
       "      <td>0</td>\n",
       "      <td>0</td>\n",
       "      <td>0</td>\n",
       "      <td>1</td>\n",
       "      <td>0</td>\n",
       "      <td>0</td>\n",
       "    </tr>\n",
       "    <tr>\n",
       "      <th>2</th>\n",
       "      <td>0.246575</td>\n",
       "      <td>0.800000</td>\n",
       "      <td>0.000000</td>\n",
       "      <td>0.000000</td>\n",
       "      <td>0.500000</td>\n",
       "      <td>0</td>\n",
       "      <td>0</td>\n",
       "      <td>0</td>\n",
       "      <td>0</td>\n",
       "      <td>1</td>\n",
       "      <td>...</td>\n",
       "      <td>0</td>\n",
       "      <td>0</td>\n",
       "      <td>0</td>\n",
       "      <td>0</td>\n",
       "      <td>0</td>\n",
       "      <td>0</td>\n",
       "      <td>0</td>\n",
       "      <td>0</td>\n",
       "      <td>0</td>\n",
       "      <td>0</td>\n",
       "    </tr>\n",
       "    <tr>\n",
       "      <th>3</th>\n",
       "      <td>0.643836</td>\n",
       "      <td>0.666667</td>\n",
       "      <td>0.000000</td>\n",
       "      <td>0.000000</td>\n",
       "      <td>0.397959</td>\n",
       "      <td>0</td>\n",
       "      <td>0</td>\n",
       "      <td>0</td>\n",
       "      <td>0</td>\n",
       "      <td>1</td>\n",
       "      <td>...</td>\n",
       "      <td>0</td>\n",
       "      <td>0</td>\n",
       "      <td>0</td>\n",
       "      <td>0</td>\n",
       "      <td>0</td>\n",
       "      <td>0</td>\n",
       "      <td>0</td>\n",
       "      <td>1</td>\n",
       "      <td>0</td>\n",
       "      <td>0</td>\n",
       "    </tr>\n",
       "    <tr>\n",
       "      <th>4</th>\n",
       "      <td>0.095890</td>\n",
       "      <td>0.600000</td>\n",
       "      <td>0.000000</td>\n",
       "      <td>0.000000</td>\n",
       "      <td>0.704082</td>\n",
       "      <td>0</td>\n",
       "      <td>0</td>\n",
       "      <td>0</td>\n",
       "      <td>0</td>\n",
       "      <td>1</td>\n",
       "      <td>...</td>\n",
       "      <td>0</td>\n",
       "      <td>0</td>\n",
       "      <td>0</td>\n",
       "      <td>0</td>\n",
       "      <td>0</td>\n",
       "      <td>0</td>\n",
       "      <td>0</td>\n",
       "      <td>1</td>\n",
       "      <td>0</td>\n",
       "      <td>0</td>\n",
       "    </tr>\n",
       "    <tr>\n",
       "      <th>...</th>\n",
       "      <td>...</td>\n",
       "      <td>...</td>\n",
       "      <td>...</td>\n",
       "      <td>...</td>\n",
       "      <td>...</td>\n",
       "      <td>...</td>\n",
       "      <td>...</td>\n",
       "      <td>...</td>\n",
       "      <td>...</td>\n",
       "      <td>...</td>\n",
       "      <td>...</td>\n",
       "      <td>...</td>\n",
       "      <td>...</td>\n",
       "      <td>...</td>\n",
       "      <td>...</td>\n",
       "      <td>...</td>\n",
       "      <td>...</td>\n",
       "      <td>...</td>\n",
       "      <td>...</td>\n",
       "      <td>...</td>\n",
       "      <td>...</td>\n",
       "    </tr>\n",
       "    <tr>\n",
       "      <th>19532</th>\n",
       "      <td>0.383562</td>\n",
       "      <td>0.533333</td>\n",
       "      <td>0.000000</td>\n",
       "      <td>0.000000</td>\n",
       "      <td>0.602041</td>\n",
       "      <td>0</td>\n",
       "      <td>0</td>\n",
       "      <td>0</td>\n",
       "      <td>0</td>\n",
       "      <td>0</td>\n",
       "      <td>...</td>\n",
       "      <td>0</td>\n",
       "      <td>0</td>\n",
       "      <td>0</td>\n",
       "      <td>0</td>\n",
       "      <td>0</td>\n",
       "      <td>0</td>\n",
       "      <td>0</td>\n",
       "      <td>1</td>\n",
       "      <td>0</td>\n",
       "      <td>0</td>\n",
       "    </tr>\n",
       "    <tr>\n",
       "      <th>19533</th>\n",
       "      <td>0.424658</td>\n",
       "      <td>0.533333</td>\n",
       "      <td>0.000000</td>\n",
       "      <td>0.000000</td>\n",
       "      <td>0.500000</td>\n",
       "      <td>0</td>\n",
       "      <td>0</td>\n",
       "      <td>0</td>\n",
       "      <td>0</td>\n",
       "      <td>1</td>\n",
       "      <td>...</td>\n",
       "      <td>0</td>\n",
       "      <td>0</td>\n",
       "      <td>0</td>\n",
       "      <td>0</td>\n",
       "      <td>0</td>\n",
       "      <td>0</td>\n",
       "      <td>0</td>\n",
       "      <td>1</td>\n",
       "      <td>0</td>\n",
       "      <td>0</td>\n",
       "    </tr>\n",
       "    <tr>\n",
       "      <th>19534</th>\n",
       "      <td>0.630137</td>\n",
       "      <td>0.600000</td>\n",
       "      <td>0.728434</td>\n",
       "      <td>0.000000</td>\n",
       "      <td>0.397959</td>\n",
       "      <td>0</td>\n",
       "      <td>0</td>\n",
       "      <td>0</td>\n",
       "      <td>0</td>\n",
       "      <td>1</td>\n",
       "      <td>...</td>\n",
       "      <td>0</td>\n",
       "      <td>0</td>\n",
       "      <td>0</td>\n",
       "      <td>0</td>\n",
       "      <td>0</td>\n",
       "      <td>0</td>\n",
       "      <td>0</td>\n",
       "      <td>1</td>\n",
       "      <td>0</td>\n",
       "      <td>0</td>\n",
       "    </tr>\n",
       "    <tr>\n",
       "      <th>19535</th>\n",
       "      <td>0.013699</td>\n",
       "      <td>0.400000</td>\n",
       "      <td>0.000000</td>\n",
       "      <td>0.000000</td>\n",
       "      <td>0.193878</td>\n",
       "      <td>0</td>\n",
       "      <td>0</td>\n",
       "      <td>0</td>\n",
       "      <td>0</td>\n",
       "      <td>1</td>\n",
       "      <td>...</td>\n",
       "      <td>0</td>\n",
       "      <td>0</td>\n",
       "      <td>0</td>\n",
       "      <td>0</td>\n",
       "      <td>0</td>\n",
       "      <td>0</td>\n",
       "      <td>0</td>\n",
       "      <td>1</td>\n",
       "      <td>0</td>\n",
       "      <td>0</td>\n",
       "    </tr>\n",
       "    <tr>\n",
       "      <th>19536</th>\n",
       "      <td>0.191781</td>\n",
       "      <td>0.733333</td>\n",
       "      <td>0.000000</td>\n",
       "      <td>0.000000</td>\n",
       "      <td>0.459184</td>\n",
       "      <td>0</td>\n",
       "      <td>0</td>\n",
       "      <td>0</td>\n",
       "      <td>0</td>\n",
       "      <td>1</td>\n",
       "      <td>...</td>\n",
       "      <td>0</td>\n",
       "      <td>0</td>\n",
       "      <td>0</td>\n",
       "      <td>0</td>\n",
       "      <td>0</td>\n",
       "      <td>0</td>\n",
       "      <td>0</td>\n",
       "      <td>1</td>\n",
       "      <td>0</td>\n",
       "      <td>0</td>\n",
       "    </tr>\n",
       "  </tbody>\n",
       "</table>\n",
       "<p>48842 rows × 107 columns</p>\n",
       "</div>"
      ],
      "text/plain": [
       "            age  education-num  capital-gain  capital-loss  hours-per-week  \\\n",
       "0      0.109589       0.400000      0.000000      0.000000        0.397959   \n",
       "1      0.301370       0.600000      0.000000      0.889219        0.551020   \n",
       "2      0.246575       0.800000      0.000000      0.000000        0.500000   \n",
       "3      0.643836       0.666667      0.000000      0.000000        0.397959   \n",
       "4      0.095890       0.600000      0.000000      0.000000        0.704082   \n",
       "...         ...            ...           ...           ...             ...   \n",
       "19532  0.383562       0.533333      0.000000      0.000000        0.602041   \n",
       "19533  0.424658       0.533333      0.000000      0.000000        0.500000   \n",
       "19534  0.630137       0.600000      0.728434      0.000000        0.397959   \n",
       "19535  0.013699       0.400000      0.000000      0.000000        0.193878   \n",
       "19536  0.191781       0.733333      0.000000      0.000000        0.459184   \n",
       "\n",
       "       workclass_ ?  workclass_ Federal-gov  workclass_ Local-gov  \\\n",
       "0                 0                       0                     0   \n",
       "1                 0                       0                     0   \n",
       "2                 0                       0                     0   \n",
       "3                 0                       0                     0   \n",
       "4                 0                       0                     0   \n",
       "...             ...                     ...                   ...   \n",
       "19532             0                       0                     0   \n",
       "19533             0                       0                     0   \n",
       "19534             0                       0                     0   \n",
       "19535             0                       0                     0   \n",
       "19536             0                       0                     0   \n",
       "\n",
       "       workclass_ Never-worked  workclass_ Private  ...  \\\n",
       "0                            0                   1  ...   \n",
       "1                            0                   1  ...   \n",
       "2                            0                   1  ...   \n",
       "3                            0                   1  ...   \n",
       "4                            0                   1  ...   \n",
       "...                        ...                 ...  ...   \n",
       "19532                        0                   0  ...   \n",
       "19533                        0                   1  ...   \n",
       "19534                        0                   1  ...   \n",
       "19535                        0                   1  ...   \n",
       "19536                        0                   1  ...   \n",
       "\n",
       "       native-country_ Portugal  native-country_ Puerto-Rico  \\\n",
       "0                             0                            0   \n",
       "1                             0                            0   \n",
       "2                             0                            0   \n",
       "3                             0                            0   \n",
       "4                             0                            0   \n",
       "...                         ...                          ...   \n",
       "19532                         0                            0   \n",
       "19533                         0                            0   \n",
       "19534                         0                            0   \n",
       "19535                         0                            0   \n",
       "19536                         0                            0   \n",
       "\n",
       "       native-country_ Scotland  native-country_ South  \\\n",
       "0                             0                      0   \n",
       "1                             0                      0   \n",
       "2                             0                      0   \n",
       "3                             0                      0   \n",
       "4                             0                      0   \n",
       "...                         ...                    ...   \n",
       "19532                         0                      0   \n",
       "19533                         0                      0   \n",
       "19534                         0                      0   \n",
       "19535                         0                      0   \n",
       "19536                         0                      0   \n",
       "\n",
       "       native-country_ Taiwan  native-country_ Thailand  \\\n",
       "0                           0                         0   \n",
       "1                           0                         0   \n",
       "2                           0                         0   \n",
       "3                           0                         0   \n",
       "4                           0                         0   \n",
       "...                       ...                       ...   \n",
       "19532                       0                         0   \n",
       "19533                       0                         0   \n",
       "19534                       0                         0   \n",
       "19535                       0                         0   \n",
       "19536                       0                         0   \n",
       "\n",
       "       native-country_ Trinadad&Tobago  native-country_ United-States  \\\n",
       "0                                    0                              1   \n",
       "1                                    0                              1   \n",
       "2                                    0                              0   \n",
       "3                                    0                              1   \n",
       "4                                    0                              1   \n",
       "...                                ...                            ...   \n",
       "19532                                0                              1   \n",
       "19533                                0                              1   \n",
       "19534                                0                              1   \n",
       "19535                                0                              1   \n",
       "19536                                0                              1   \n",
       "\n",
       "       native-country_ Vietnam  native-country_ Yugoslavia  \n",
       "0                            0                           0  \n",
       "1                            0                           0  \n",
       "2                            0                           0  \n",
       "3                            0                           0  \n",
       "4                            0                           0  \n",
       "...                        ...                         ...  \n",
       "19532                        0                           0  \n",
       "19533                        0                           0  \n",
       "19534                        0                           0  \n",
       "19535                        0                           0  \n",
       "19536                        0                           0  \n",
       "\n",
       "[48842 rows x 107 columns]"
      ]
     },
     "execution_count": 17,
     "metadata": {},
     "output_type": "execute_result"
    }
   ],
   "source": [
    "# 방식은 이거임 -> 테스트 데이터도 훈련 데이터로 이용하자 테스트 데이터에 존재 하지 않는 정답 데이터는 처음에 훈련 데이터로 예측한 테스트 데이터 값을 정답 데이터로 사용하자\n",
    "# 훈련 데이터와, 테스트 데이터 합치기 (테스트 데이터 정답은 훈련된 모델의 예측한 결과를 사용)\n",
    "X_train_2 = pd.concat([X_train,X_test])\n",
    "X_train_2"
   ]
  },
  {
   "cell_type": "code",
   "execution_count": 18,
   "id": "c5fcfb06",
   "metadata": {
    "ExecuteTime": {
     "end_time": "2023-05-31T07:33:21.393565Z",
     "start_time": "2023-05-31T07:33:21.379604Z"
    }
   },
   "outputs": [],
   "source": [
    "# 방식은 이거임 -> 테스트 데이터도 훈련 데이터로 이용하자 테스트 데이터에 존재 하지 않는 정답 데이터는 처음에 훈련 데이터로 예측한 테스트 데이터 값을 정답 데이터로 사용하자\n",
    "# 훈련 데이터와, 테스트 데이터 합치기 (테스트 데이터 정답은 훈련된 모델의 예측한 결과를 사용)\n",
    "X_train_2 = pd.concat([X_train,X_test])"
   ]
  },
  {
   "cell_type": "code",
   "execution_count": 19,
   "id": "0684bf12",
   "metadata": {
    "ExecuteTime": {
     "end_time": "2023-05-31T07:33:21.409525Z",
     "start_time": "2023-05-31T07:33:21.395560Z"
    }
   },
   "outputs": [
    {
     "data": {
      "text/plain": [
       "0        0\n",
       "1        0\n",
       "2        0\n",
       "3        0\n",
       "4        1\n",
       "        ..\n",
       "29300    0\n",
       "29301    0\n",
       "29302    0\n",
       "29303    0\n",
       "29304    0\n",
       "Name: income, Length: 29305, dtype: int64"
      ]
     },
     "execution_count": 19,
     "metadata": {},
     "output_type": "execute_result"
    }
   ],
   "source": [
    "y_train"
   ]
  },
  {
   "cell_type": "code",
   "execution_count": 20,
   "id": "7f31cc37",
   "metadata": {
    "ExecuteTime": {
     "end_time": "2023-05-31T07:33:21.425479Z",
     "start_time": "2023-05-31T07:33:21.411517Z"
    }
   },
   "outputs": [],
   "source": [
    "y_1=y_train.to_numpy()"
   ]
  },
  {
   "cell_type": "code",
   "execution_count": 21,
   "id": "e4ae542e",
   "metadata": {
    "ExecuteTime": {
     "end_time": "2023-05-31T07:33:21.441437Z",
     "start_time": "2023-05-31T07:33:21.427474Z"
    }
   },
   "outputs": [],
   "source": [
    "y_t = np.concatenate([y_1, y_pred])"
   ]
  },
  {
   "cell_type": "code",
   "execution_count": 22,
   "id": "83afd941",
   "metadata": {
    "ExecuteTime": {
     "end_time": "2023-05-31T07:33:21.457394Z",
     "start_time": "2023-05-31T07:33:21.443432Z"
    }
   },
   "outputs": [],
   "source": [
    "y_t = list(y_t)"
   ]
  },
  {
   "cell_type": "code",
   "execution_count": 23,
   "id": "8e7f765b",
   "metadata": {
    "ExecuteTime": {
     "end_time": "2023-05-31T07:33:21.489309Z",
     "start_time": "2023-05-31T07:33:21.459389Z"
    }
   },
   "outputs": [],
   "source": [
    "y_train_change=pd.Series(y_t)"
   ]
  },
  {
   "cell_type": "code",
   "execution_count": 24,
   "id": "10f51efd",
   "metadata": {
    "ExecuteTime": {
     "end_time": "2023-05-31T07:33:21.996955Z",
     "start_time": "2023-05-31T07:33:21.491305Z"
    }
   },
   "outputs": [
    {
     "data": {
      "text/plain": [
       "LGBMClassifier(n_estimators=200, random_state=200, reg_alpha=0.9,\n",
       "               reg_lambda=0.2)"
      ]
     },
     "execution_count": 24,
     "metadata": {},
     "output_type": "execute_result"
    }
   ],
   "source": [
    "### 모델 훈련\n",
    "lgb.fit(X_train_2,y_train_change)"
   ]
  },
  {
   "cell_type": "code",
   "execution_count": 25,
   "id": "6ee72b94",
   "metadata": {
    "ExecuteTime": {
     "end_time": "2023-05-31T07:33:22.138577Z",
     "start_time": "2023-05-31T07:33:21.998950Z"
    }
   },
   "outputs": [],
   "source": [
    "# lgb 모델로 예측한 결과\n",
    "pre1 = lgb.predict(X_test)\n",
    "# kaggle 양식 불러오기\n",
    "rs =  pd.read_csv('./data/kaggle/sample_submission.csv')\n",
    "rs['income'] = pre1 # 내 모델의 예측 결과를 양식에 넣기\n",
    "rs.to_csv('Test01.csv', index = False)"
   ]
  },
  {
   "cell_type": "code",
   "execution_count": 26,
   "id": "cea2e626",
   "metadata": {
    "ExecuteTime": {
     "end_time": "2023-05-31T07:33:22.846688Z",
     "start_time": "2023-05-31T07:33:22.140571Z"
    }
   },
   "outputs": [],
   "source": [
    "# 위 과정 반복 -> 모델 예측한 결과중 더 좋은 결과를 다시 테스트 데이터의 정답으로 활용 + 트레인 데이터와 다시 합치고 다시 모델 학습\n",
    "y_t = np.concatenate([y_1, pre1])\n",
    "y_t = list(y_t)\n",
    "y_train_change=pd.Series(y_t)\n",
    "\n",
    "lgb.fit(X_train_2,y_train_change)\n",
    "\n",
    "pre2 = lgb.predict(X_test)\n",
    "# kaggle 양식 불러오기\n",
    "rs =  pd.read_csv('./data/kaggle/sample_submission.csv')\n",
    "rs['income'] = pre2 # 내 모델의 예측 결과를 양식에 넣기\n",
    "rs.to_csv('Test02.csv', index = False)"
   ]
  },
  {
   "cell_type": "code",
   "execution_count": 27,
   "id": "ff3287d9",
   "metadata": {
    "ExecuteTime": {
     "end_time": "2023-05-31T07:33:23.528139Z",
     "start_time": "2023-05-31T07:33:22.849681Z"
    }
   },
   "outputs": [],
   "source": [
    "y_t = np.concatenate([y_1, pre2])\n",
    "y_t = list(y_t)\n",
    "y_train_change=pd.Series(y_t)\n",
    "\n",
    "lgb.fit(X_train_2,y_train_change)\n",
    "\n",
    "pre3 = lgb.predict(X_test)\n",
    "# kaggle 양식 불러오기\n",
    "rs =  pd.read_csv('./data/kaggle/sample_submission.csv')\n",
    "rs['income'] = pre3 # 내 모델의 예측 결과를 양식에 넣기\n",
    "rs.to_csv('Last01.csv', index = False)"
   ]
  },
  {
   "cell_type": "code",
   "execution_count": 28,
   "id": "ff68d1b0",
   "metadata": {
    "ExecuteTime": {
     "end_time": "2023-05-31T07:33:26.315703Z",
     "start_time": "2023-05-31T07:33:23.541104Z"
    }
   },
   "outputs": [
    {
     "name": "stdout",
     "output_type": "stream",
     "text": [
      "교차 검증 정확도: [0.88064285 0.88217832 0.87889025 0.97757985 0.99140049]\n",
      "평균 정확도: 0.9221383533749179\n"
     ]
    }
   ],
   "source": [
    "from sklearn.model_selection import cross_val_score\n",
    "\n",
    "scores = cross_val_score(lgb, X_train_2, y_train_change, cv=5, scoring='accuracy')\n",
    "\n",
    "# 교차 검증 결과 출력\n",
    "print(\"교차 검증 정확도:\", scores)\n",
    "print(\"평균 정확도:\", scores.mean())"
   ]
  },
  {
   "cell_type": "code",
   "execution_count": 29,
   "id": "df286fc4",
   "metadata": {
    "ExecuteTime": {
     "end_time": "2023-05-31T07:33:27.027803Z",
     "start_time": "2023-05-31T07:33:26.317698Z"
    }
   },
   "outputs": [],
   "source": [
    "y_t = np.concatenate([y_1, pre3])\n",
    "y_t = list(y_t)\n",
    "y_train_change=pd.Series(y_t)\n",
    "\n",
    "lgb.fit(X_train_2,y_train_change)\n",
    "\n",
    "pre4 = lgb.predict(X_test)\n",
    "# kaggle 양식 불러오기\n",
    "rs =  pd.read_csv('./data/kaggle/sample_submission.csv')\n",
    "rs['income'] = pre4 # 내 모델의 예측 결과를 양식에 넣기\n",
    "rs.to_csv('Test04.csv', index = False)\n"
   ]
  },
  {
   "cell_type": "code",
   "execution_count": 30,
   "id": "a6991c8b",
   "metadata": {
    "ExecuteTime": {
     "end_time": "2023-05-31T07:33:29.824849Z",
     "start_time": "2023-05-31T07:33:27.029798Z"
    }
   },
   "outputs": [
    {
     "name": "stdout",
     "output_type": "stream",
     "text": [
      "교차 검증 정확도: [0.88033576 0.8813594  0.87889025 0.97798935 0.99109337]\n",
      "평균 정확도: 0.9219336262252631\n"
     ]
    }
   ],
   "source": [
    "\n",
    "scores = cross_val_score(lgb, X_train_2, y_train_change, cv=5, scoring='accuracy')\n",
    "\n",
    "# 교차 검증 결과 출력\n",
    "print(\"교차 검증 정확도:\", scores)\n",
    "print(\"평균 정확도:\", scores.mean())"
   ]
  },
  {
   "cell_type": "code",
   "execution_count": 31,
   "id": "267c2b81",
   "metadata": {
    "ExecuteTime": {
     "end_time": "2023-05-31T07:33:33.252705Z",
     "start_time": "2023-05-31T07:33:29.826844Z"
    }
   },
   "outputs": [
    {
     "name": "stdout",
     "output_type": "stream",
     "text": [
      "교차 검증 정확도: [0.88033576 0.88105231 0.87919738 0.97880835 0.99170762]\n",
      "평균 정확도: 0.9222202827996664\n"
     ]
    }
   ],
   "source": [
    "y_t = np.concatenate([y_1, pre4])\n",
    "y_t = list(y_t)\n",
    "y_train_change=pd.Series(y_t)\n",
    "\n",
    "lgb.fit(X_train_2,y_train_change)\n",
    "\n",
    "pre5 = lgb.predict(X_test)\n",
    "# kaggle 양식 불러오기\n",
    "rs =  pd.read_csv('./data/kaggle/sample_submission.csv')\n",
    "rs['income'] = pre5 # 내 모델의 예측 결과를 양식에 넣기\n",
    "rs.to_csv('Test05.csv', index = False)\n",
    "\n",
    "scores = cross_val_score(lgb, X_train_2, y_train_change, cv=5, scoring='accuracy')\n",
    "\n",
    "# 교차 검증 결과 출력\n",
    "print(\"교차 검증 정확도:\", scores)\n",
    "print(\"평균 정확도:\", scores.mean())"
   ]
  },
  {
   "cell_type": "code",
   "execution_count": 32,
   "id": "928bd0dc",
   "metadata": {
    "ExecuteTime": {
     "end_time": "2023-05-31T07:33:36.641665Z",
     "start_time": "2023-05-31T07:33:33.254701Z"
    }
   },
   "outputs": [
    {
     "name": "stdout",
     "output_type": "stream",
     "text": [
      "교차 검증 정확도: [0.88064285 0.88156413 0.879095   0.97880835 0.99068387]\n",
      "평균 정확도: 0.9221588409708996\n"
     ]
    }
   ],
   "source": [
    "y_t = np.concatenate([y_1, pre5])\n",
    "y_t = list(y_t)\n",
    "y_train_change=pd.Series(y_t)\n",
    "\n",
    "lgb.fit(X_train_2,y_train_change)\n",
    "\n",
    "pre6 = lgb.predict(X_test)\n",
    "# kaggle 양식 불러오기\n",
    "rs =  pd.read_csv('./data/kaggle/sample_submission.csv')\n",
    "rs['income'] = pre6 # 내 모델의 예측 결과를 양식에 넣기\n",
    "rs.to_csv('Last06.csv', index = False)\n",
    "\n",
    "scores = cross_val_score(lgb, X_train_2, y_train_change, cv=5, scoring='accuracy')\n",
    "\n",
    "# 교차 검증 결과 출력\n",
    "print(\"교차 검증 정확도:\", scores)\n",
    "print(\"평균 정확도:\", scores.mean())"
   ]
  },
  {
   "cell_type": "code",
   "execution_count": 33,
   "id": "ee9fb22a",
   "metadata": {
    "ExecuteTime": {
     "end_time": "2023-05-31T07:33:39.908950Z",
     "start_time": "2023-05-31T07:33:36.644657Z"
    }
   },
   "outputs": [
    {
     "name": "stdout",
     "output_type": "stream",
     "text": [
      "교차 검증 정확도: [0.88094994 0.88064285 0.87837838 0.9790131  0.99099099]\n",
      "평균 정확도: 0.9219950533826058\n"
     ]
    }
   ],
   "source": [
    "y_t = np.concatenate([y_1, pre6])\n",
    "y_t = list(y_t)\n",
    "y_train_change=pd.Series(y_t)\n",
    "\n",
    "lgb.fit(X_train_2,y_train_change)\n",
    "\n",
    "pre7 = lgb.predict(X_test)\n",
    "# kaggle 양식 불러오기\n",
    "rs =  pd.read_csv('./data/kaggle/sample_submission.csv')\n",
    "rs['income'] = pre7 # 내 모델의 예측 결과를 양식에 넣기\n",
    "rs.to_csv('Last07.csv', index = False)\n",
    "\n",
    "scores = cross_val_score(lgb, X_train_2, y_train_change, cv=5, scoring='accuracy')\n",
    "\n",
    "# 교차 검증 결과 출력\n",
    "print(\"교차 검증 정확도:\", scores)\n",
    "print(\"평균 정확도:\", scores.mean())"
   ]
  },
  {
   "cell_type": "code",
   "execution_count": 34,
   "id": "b091a358",
   "metadata": {
    "ExecuteTime": {
     "end_time": "2023-05-31T07:33:43.217125Z",
     "start_time": "2023-05-31T07:33:39.910944Z"
    }
   },
   "outputs": [
    {
     "name": "stdout",
     "output_type": "stream",
     "text": [
      "교차 검증 정확도: [0.87900502 0.88084758 0.87889025 0.97952498 0.99027437]\n",
      "평균 정확도: 0.9217084387265573\n"
     ]
    }
   ],
   "source": [
    "y_t = np.concatenate([y_1, pre7])\n",
    "y_t = list(y_t)\n",
    "y_train_change=pd.Series(y_t)\n",
    "\n",
    "lgb.fit(X_train_2,y_train_change)\n",
    "\n",
    "pre8 = lgb.predict(X_test)\n",
    "# kaggle 양식 불러오기\n",
    "rs =  pd.read_csv('./data/kaggle/sample_submission.csv')\n",
    "rs['income'] = pre8 # 내 모델의 예측 결과를 양식에 넣기\n",
    "rs.to_csv('Last08.csv', index = False)\n",
    "\n",
    "scores = cross_val_score(lgb, X_train_2, y_train_change, cv=5, scoring='accuracy')\n",
    "\n",
    "# 교차 검증 결과 출력\n",
    "print(\"교차 검증 정확도:\", scores)\n",
    "print(\"평균 정확도:\", scores.mean())"
   ]
  },
  {
   "cell_type": "code",
   "execution_count": 35,
   "id": "539009b7",
   "metadata": {
    "ExecuteTime": {
     "end_time": "2023-05-31T07:33:46.487908Z",
     "start_time": "2023-05-31T07:33:43.219120Z"
    }
   },
   "outputs": [
    {
     "name": "stdout",
     "output_type": "stream",
     "text": [
      "교차 검증 정확도: [0.8799263  0.88023339 0.87981163 0.97921785 0.99211712]\n",
      "평균 정확도: 0.9222612579916296\n"
     ]
    }
   ],
   "source": [
    "y_t = np.concatenate([y_1, pre8])\n",
    "y_t = list(y_t)\n",
    "y_train_change=pd.Series(y_t)\n",
    "\n",
    "lgb.fit(X_train_2,y_train_change)\n",
    "\n",
    "pre9 = lgb.predict(X_test)\n",
    "# kaggle 양식 불러오기\n",
    "rs =  pd.read_csv('./data/kaggle/sample_submission.csv')\n",
    "rs['income'] = pre9 # 내 모델의 예측 결과를 양식에 넣기\n",
    "rs.to_csv('Last09.csv', index = False)\n",
    "\n",
    "scores = cross_val_score(lgb, X_train_2, y_train_change, cv=5, scoring='accuracy')\n",
    "\n",
    "# 교차 검증 결과 출력\n",
    "print(\"교차 검증 정확도:\", scores)\n",
    "print(\"평균 정확도:\", scores.mean())"
   ]
  },
  {
   "cell_type": "code",
   "execution_count": 36,
   "id": "08aa52ac",
   "metadata": {
    "ExecuteTime": {
     "end_time": "2023-05-31T07:33:49.792620Z",
     "start_time": "2023-05-31T07:33:46.489902Z"
    }
   },
   "outputs": [
    {
     "name": "stdout",
     "output_type": "stream",
     "text": [
      "교차 검증 정확도: [0.88013103 0.8799263  0.878276   0.98054873 0.99109337]\n",
      "평균 정확도: 0.921995084821372\n"
     ]
    }
   ],
   "source": [
    "y_t = np.concatenate([y_1, pre9])\n",
    "y_t = list(y_t)\n",
    "y_train_change=pd.Series(y_t)\n",
    "\n",
    "lgb.fit(X_train_2,y_train_change)\n",
    "\n",
    "pre10 = lgb.predict(X_test)\n",
    "# kaggle 양식 불러오기\n",
    "rs =  pd.read_csv('./data/kaggle/sample_submission.csv')\n",
    "rs['income'] = pre10 # 내 모델의 예측 결과를 양식에 넣기\n",
    "rs.to_csv('Last10.csv', index = False)\n",
    "\n",
    "scores = cross_val_score(lgb, X_train_2, y_train_change, cv=5, scoring='accuracy')\n",
    "\n",
    "# 교차 검증 결과 출력\n",
    "print(\"교차 검증 정확도:\", scores)\n",
    "print(\"평균 정확도:\", scores.mean())"
   ]
  },
  {
   "cell_type": "code",
   "execution_count": 37,
   "id": "b5ad0a71",
   "metadata": {
    "ExecuteTime": {
     "end_time": "2023-05-31T07:33:52.993083Z",
     "start_time": "2023-05-31T07:33:49.794615Z"
    }
   },
   "outputs": [
    {
     "name": "stdout",
     "output_type": "stream",
     "text": [
      "교차 검증 정확도: [0.87972157 0.88033576 0.878276   0.97972973 0.99150287]\n",
      "평균 정확도: 0.921913184739472\n"
     ]
    }
   ],
   "source": [
    "y_t = np.concatenate([y_1, pre10])\n",
    "y_t = list(y_t)\n",
    "y_train_change=pd.Series(y_t)\n",
    "\n",
    "lgb.fit(X_train_2,y_train_change)\n",
    "\n",
    "pre11 = lgb.predict(X_test)\n",
    "# kaggle 양식 불러오기\n",
    "rs =  pd.read_csv('./data/kaggle/sample_submission.csv')\n",
    "rs['income'] = pre11 # 내 모델의 예측 결과를 양식에 넣기\n",
    "rs.to_csv('Last11.csv', index = False)\n",
    "\n",
    "scores = cross_val_score(lgb, X_train_2, y_train_change, cv=5, scoring='accuracy')\n",
    "\n",
    "# 교차 검증 결과 출력\n",
    "print(\"교차 검증 정확도:\", scores)\n",
    "print(\"평균 정확도:\", scores.mean())"
   ]
  },
  {
   "cell_type": "code",
   "execution_count": 38,
   "id": "520c62f7",
   "metadata": {
    "ExecuteTime": {
     "end_time": "2023-05-31T07:33:56.195048Z",
     "start_time": "2023-05-31T07:33:52.995078Z"
    }
   },
   "outputs": [
    {
     "name": "stdout",
     "output_type": "stream",
     "text": [
      "교차 검증 정확도: [0.88013103 0.8799263  0.87766175 0.97829648 0.99088862]\n",
      "평균 정확도: 0.9213808342071215\n"
     ]
    }
   ],
   "source": [
    "y_t = np.concatenate([y_1, pre11])\n",
    "y_t = list(y_t)\n",
    "y_train_change=pd.Series(y_t)\n",
    "\n",
    "lgb.fit(X_train_2,y_train_change)\n",
    "\n",
    "pre12 = lgb.predict(X_test)\n",
    "# kaggle 양식 불러오기\n",
    "rs =  pd.read_csv('./data/kaggle/sample_submission.csv')\n",
    "rs['income'] = pre12 # 내 모델의 예측 결과를 양식에 넣기\n",
    "rs.to_csv('Last12.csv', index = False)\n",
    "\n",
    "scores = cross_val_score(lgb, X_train_2, y_train_change, cv=5, scoring='accuracy')\n",
    "\n",
    "# 교차 검증 결과 출력\n",
    "print(\"교차 검증 정확도:\", scores)\n",
    "print(\"평균 정확도:\", scores.mean())"
   ]
  },
  {
   "cell_type": "code",
   "execution_count": 39,
   "id": "411160b0",
   "metadata": {
    "ExecuteTime": {
     "end_time": "2023-05-31T07:33:59.392518Z",
     "start_time": "2023-05-31T07:33:56.197043Z"
    }
   },
   "outputs": [
    {
     "name": "stdout",
     "output_type": "stream",
     "text": [
      "교차 검증 정확도: [0.87972157 0.88002866 0.877457   0.97911548 0.99068387]\n",
      "평균 정확도: 0.9214013155153497\n"
     ]
    }
   ],
   "source": [
    "y_t = np.concatenate([y_1, pre12])\n",
    "y_t = list(y_t)\n",
    "y_train_change=pd.Series(y_t)\n",
    "\n",
    "lgb.fit(X_train_2,y_train_change)\n",
    "\n",
    "pre13 = lgb.predict(X_test)\n",
    "# kaggle 양식 불러오기\n",
    "rs =  pd.read_csv('./data/kaggle/sample_submission.csv')\n",
    "rs['income'] = pre13 # 내 모델의 예측 결과를 양식에 넣기\n",
    "rs.to_csv('Last13.csv', index = False)\n",
    "\n",
    "scores = cross_val_score(lgb, X_train_2, y_train_change, cv=5, scoring='accuracy')\n",
    "\n",
    "# 교차 검증 결과 출력\n",
    "print(\"교차 검증 정확도:\", scores)\n",
    "print(\"평균 정확도:\", scores.mean())"
   ]
  },
  {
   "cell_type": "code",
   "execution_count": 40,
   "id": "ce279631",
   "metadata": {
    "ExecuteTime": {
     "end_time": "2023-05-31T07:34:02.623898Z",
     "start_time": "2023-05-31T07:33:59.394514Z"
    }
   },
   "outputs": [
    {
     "name": "stdout",
     "output_type": "stream",
     "text": [
      "교차 검증 정확도: [0.88146177 0.88023339 0.87837838 0.98013923 0.99027437]\n",
      "평균 정확도: 0.9220974263890632\n"
     ]
    }
   ],
   "source": [
    "y_t = np.concatenate([y_1, pre13])\n",
    "y_t = list(y_t)\n",
    "y_train_change=pd.Series(y_t)\n",
    "\n",
    "lgb.fit(X_train_2,y_train_change)\n",
    "\n",
    "pre14 = lgb.predict(X_test)\n",
    "# kaggle 양식 불러오기\n",
    "rs =  pd.read_csv('./data/kaggle/sample_submission.csv')\n",
    "rs['income'] = pre14 # 내 모델의 예측 결과를 양식에 넣기\n",
    "rs.to_csv('Last14.csv', index = False)\n",
    "\n",
    "scores = cross_val_score(lgb, X_train_2, y_train_change, cv=5, scoring='accuracy')\n",
    "\n",
    "# 교차 검증 결과 출력\n",
    "print(\"교차 검증 정확도:\", scores)\n",
    "print(\"평균 정확도:\", scores.mean())"
   ]
  },
  {
   "cell_type": "code",
   "execution_count": 41,
   "id": "1b2111bb",
   "metadata": {
    "ExecuteTime": {
     "end_time": "2023-05-31T07:34:05.868750Z",
     "start_time": "2023-05-31T07:34:02.625893Z"
    }
   },
   "outputs": [
    {
     "name": "stdout",
     "output_type": "stream",
     "text": [
      "교차 검증 정확도: [0.88043812 0.87951684 0.87714988 0.98013923 0.99119574]\n",
      "평균 정확도: 0.9216879616101645\n"
     ]
    }
   ],
   "source": [
    "y_t = np.concatenate([y_1, pre14])\n",
    "y_t = list(y_t)\n",
    "y_train_change=pd.Series(y_t)\n",
    "\n",
    "lgb.fit(X_train_2,y_train_change)\n",
    "\n",
    "pre15 = lgb.predict(X_test)\n",
    "# kaggle 양식 불러오기\n",
    "rs =  pd.read_csv('./data/kaggle/sample_submission.csv')\n",
    "rs['income'] = pre15 # 내 모델의 예측 결과를 양식에 넣기\n",
    "rs.to_csv('Last15.csv', index = False)\n",
    "\n",
    "scores = cross_val_score(lgb, X_train_2, y_train_change, cv=5, scoring='accuracy')\n",
    "\n",
    "# 교차 검증 결과 출력\n",
    "print(\"교차 검증 정확도:\", scores)\n",
    "print(\"평균 정확도:\", scores.mean())"
   ]
  },
  {
   "cell_type": "code",
   "execution_count": 42,
   "id": "18c95268",
   "metadata": {
    "ExecuteTime": {
     "end_time": "2023-05-31T07:34:09.094653Z",
     "start_time": "2023-05-31T07:34:05.870745Z"
    }
   },
   "outputs": [
    {
     "name": "stdout",
     "output_type": "stream",
     "text": [
      "교차 검증 정확도: [0.88094994 0.87900502 0.87817363 0.98054873 0.99047912]\n",
      "평균 정확도: 0.9218312867534897\n"
     ]
    }
   ],
   "source": [
    "y_t = np.concatenate([y_1, pre15])\n",
    "y_t = list(y_t)\n",
    "y_train_change=pd.Series(y_t)\n",
    "\n",
    "lgb.fit(X_train_2,y_train_change)\n",
    "\n",
    "pre16 = lgb.predict(X_test)\n",
    "# kaggle 양식 불러오기\n",
    "rs =  pd.read_csv('./data/kaggle/sample_submission.csv')\n",
    "rs['income'] = pre16 # 내 모델의 예측 결과를 양식에 넣기\n",
    "rs.to_csv('Last16.csv', index = False)\n",
    "\n",
    "scores = cross_val_score(lgb, X_train_2, y_train_change, cv=5, scoring='accuracy')\n",
    "\n",
    "# 교차 검증 결과 출력\n",
    "print(\"교차 검증 정확도:\", scores)\n",
    "print(\"평균 정확도:\", scores.mean())"
   ]
  },
  {
   "cell_type": "code",
   "execution_count": 43,
   "id": "8d0fd137",
   "metadata": {
    "ExecuteTime": {
     "end_time": "2023-05-31T07:34:12.374903Z",
     "start_time": "2023-05-31T07:34:09.096648Z"
    }
   },
   "outputs": [
    {
     "name": "stdout",
     "output_type": "stream",
     "text": [
      "교차 검증 정확도: [0.88054049 0.87972157 0.87848075 0.9790131  0.99191237]\n",
      "평균 정확도: 0.9219336555681116\n"
     ]
    }
   ],
   "source": [
    "y_t = np.concatenate([y_1, pre16])\n",
    "y_t = list(y_t)\n",
    "y_train_change=pd.Series(y_t)\n",
    "\n",
    "lgb.fit(X_train_2,y_train_change)\n",
    "\n",
    "pre17 = lgb.predict(X_test)\n",
    "# kaggle 양식 불러오기\n",
    "rs =  pd.read_csv('./data/kaggle/sample_submission.csv')\n",
    "rs['income'] = pre17 # 내 모델의 예측 결과를 양식에 넣기\n",
    "rs.to_csv('Last17.csv', index = False)\n",
    "\n",
    "scores = cross_val_score(lgb, X_train_2, y_train_change, cv=5, scoring='accuracy')\n",
    "\n",
    "# 교차 검증 결과 출력\n",
    "print(\"교차 검증 정확도:\", scores)\n",
    "print(\"평균 정확도:\", scores.mean())"
   ]
  },
  {
   "cell_type": "code",
   "execution_count": 44,
   "id": "ba0b7ae4",
   "metadata": {
    "ExecuteTime": {
     "end_time": "2023-05-31T07:34:15.781815Z",
     "start_time": "2023-05-31T07:34:12.376898Z"
    }
   },
   "outputs": [
    {
     "name": "stdout",
     "output_type": "stream",
     "text": [
      "교차 검증 정확도: [0.8816665  0.87941447 0.87817363 0.98044636 0.99314087]\n",
      "평균 정확도: 0.9225683644354952\n"
     ]
    }
   ],
   "source": [
    "y_t = np.concatenate([y_1, pre17])\n",
    "y_t = list(y_t)\n",
    "y_train_change=pd.Series(y_t)\n",
    "\n",
    "lgb.fit(X_train_2,y_train_change)\n",
    "\n",
    "pre18 = lgb.predict(X_test)\n",
    "# kaggle 양식 불러오기\n",
    "rs =  pd.read_csv('./data/kaggle/sample_submission.csv')\n",
    "rs['income'] = pre18 # 내 모델의 예측 결과를 양식에 넣기\n",
    "rs.to_csv('Last18.csv', index = False)\n",
    "\n",
    "scores = cross_val_score(lgb, X_train_2, y_train_change, cv=5, scoring='accuracy')\n",
    "\n",
    "# 교차 검증 결과 출력\n",
    "print(\"교차 검증 정확도:\", scores)\n",
    "print(\"평균 정확도:\", scores.mean())"
   ]
  },
  {
   "cell_type": "code",
   "execution_count": 45,
   "id": "2bf78f2e",
   "metadata": {
    "ExecuteTime": {
     "end_time": "2023-05-31T07:34:19.225136Z",
     "start_time": "2023-05-31T07:34:15.783810Z"
    }
   },
   "outputs": [
    {
     "name": "stdout",
     "output_type": "stream",
     "text": [
      "교차 검증 정확도: [0.88187123 0.87880029 0.87848075 0.97850123 0.99201474]\n",
      "평균 정확도: 0.9219336471844406\n"
     ]
    }
   ],
   "source": [
    "y_t = np.concatenate([y_1, pre18])\n",
    "y_t = list(y_t)\n",
    "y_train_change=pd.Series(y_t)\n",
    "\n",
    "lgb.fit(X_train_2,y_train_change)\n",
    "\n",
    "pre19 = lgb.predict(X_test)\n",
    "# kaggle 양식 불러오기\n",
    "rs =  pd.read_csv('./data/kaggle/sample_submission.csv')\n",
    "rs['income'] = pre19 # 내 모델의 예측 결과를 양식에 넣기\n",
    "rs.to_csv('Last19.csv', index = False)\n",
    "\n",
    "scores = cross_val_score(lgb, X_train_2, y_train_change, cv=5, scoring='accuracy')\n",
    "\n",
    "# 교차 검증 결과 출력\n",
    "print(\"교차 검증 정확도:\", scores)\n",
    "print(\"평균 정확도:\", scores.mean())"
   ]
  },
  {
   "cell_type": "code",
   "execution_count": 46,
   "id": "034fed61",
   "metadata": {
    "ExecuteTime": {
     "end_time": "2023-05-31T07:34:22.594150Z",
     "start_time": "2023-05-31T07:34:19.227132Z"
    }
   },
   "outputs": [
    {
     "name": "stdout",
     "output_type": "stream",
     "text": [
      "교차 검증 정확도: [0.88105231 0.88023339 0.87837838 0.97993448 0.99201474]\n",
      "평균 정확도: 0.9223226599979594\n"
     ]
    }
   ],
   "source": [
    "y_t = np.concatenate([y_1, pre19])\n",
    "y_t = list(y_t)\n",
    "y_train_change=pd.Series(y_t)\n",
    "\n",
    "lgb.fit(X_train_2,y_train_change)\n",
    "\n",
    "pre20 = lgb.predict(X_test)\n",
    "# kaggle 양식 불러오기\n",
    "rs =  pd.read_csv('./data/kaggle/sample_submission.csv')\n",
    "rs['income'] = pre20 # 내 모델의 예측 결과를 양식에 넣기\n",
    "rs.to_csv('Last20.csv', index = False)\n",
    "\n",
    "scores = cross_val_score(lgb, X_train_2, y_train_change, cv=5, scoring='accuracy')\n",
    "\n",
    "# 교차 검증 결과 출력\n",
    "print(\"교차 검증 정확도:\", scores)\n",
    "print(\"평균 정확도:\", scores.mean())"
   ]
  },
  {
   "cell_type": "code",
   "execution_count": 47,
   "id": "34b5f327",
   "metadata": {
    "ExecuteTime": {
     "end_time": "2023-05-31T07:34:26.016022Z",
     "start_time": "2023-05-31T07:34:22.596145Z"
    }
   },
   "outputs": [
    {
     "name": "stdout",
     "output_type": "stream",
     "text": [
      "교차 검증 정확도: [0.88156413 0.87951684 0.879095   0.97911548 0.99221949]\n",
      "평균 정확도: 0.9223021891693198\n"
     ]
    }
   ],
   "source": [
    "y_t = np.concatenate([y_1, pre20])\n",
    "y_t = list(y_t)\n",
    "y_train_change=pd.Series(y_t)\n",
    "\n",
    "lgb.fit(X_train_2,y_train_change)\n",
    "\n",
    "pre21 = lgb.predict(X_test)\n",
    "# kaggle 양식 불러오기\n",
    "rs =  pd.read_csv('./data/kaggle/sample_submission.csv')\n",
    "rs['income'] = pre21 # 내 모델의 예측 결과를 양식에 넣기\n",
    "rs.to_csv('Last21.csv', index = False)\n",
    "\n",
    "scores = cross_val_score(lgb, X_train_2, y_train_change, cv=5, scoring='accuracy')\n",
    "\n",
    "# 교차 검증 결과 출력\n",
    "print(\"교차 검증 정확도:\", scores)\n",
    "print(\"평균 정확도:\", scores.mean())"
   ]
  },
  {
   "cell_type": "code",
   "execution_count": 48,
   "id": "a9152fe2",
   "metadata": {
    "ExecuteTime": {
     "end_time": "2023-05-31T07:34:29.245407Z",
     "start_time": "2023-05-31T07:34:26.018017Z"
    }
   },
   "outputs": [
    {
     "name": "stdout",
     "output_type": "stream",
     "text": [
      "교차 검증 정확도: [0.88084758 0.87941447 0.87817363 0.97880835 0.99242424]\n",
      "평균 정확도: 0.9219336555681114\n"
     ]
    }
   ],
   "source": [
    "y_t = np.concatenate([y_1, pre21])\n",
    "y_t = list(y_t)\n",
    "y_train_change=pd.Series(y_t)\n",
    "\n",
    "lgb.fit(X_train_2,y_train_change)\n",
    "\n",
    "pre22 = lgb.predict(X_test)\n",
    "# kaggle 양식 불러오기\n",
    "rs =  pd.read_csv('./data/kaggle/sample_submission.csv')\n",
    "rs['income'] = pre22 # 내 모델의 예측 결과를 양식에 넣기\n",
    "rs.to_csv('Last22.csv', index = False)\n",
    "\n",
    "scores = cross_val_score(lgb, X_train_2, y_train_change, cv=5, scoring='accuracy')\n",
    "\n",
    "# 교차 검증 결과 출력\n",
    "print(\"교차 검증 정확도:\", scores)\n",
    "print(\"평균 정확도:\", scores.mean())"
   ]
  },
  {
   "cell_type": "code",
   "execution_count": 49,
   "id": "bae2b0ce",
   "metadata": {
    "ExecuteTime": {
     "end_time": "2023-05-31T07:34:32.432904Z",
     "start_time": "2023-05-31T07:34:29.247402Z"
    }
   },
   "outputs": [
    {
     "name": "stdout",
     "output_type": "stream",
     "text": [
      "교차 검증 정확도: [0.88094994 0.87951684 0.87807125 0.9798321  0.99191237]\n",
      "평균 정확도: 0.9220565014991262\n"
     ]
    }
   ],
   "source": [
    "y_t = np.concatenate([y_1, pre22])\n",
    "y_t = list(y_t)\n",
    "y_train_change=pd.Series(y_t)\n",
    "\n",
    "lgb.fit(X_train_2,y_train_change)\n",
    "\n",
    "pre23 = lgb.predict(X_test)\n",
    "# kaggle 양식 불러오기\n",
    "rs =  pd.read_csv('./data/kaggle/sample_submission.csv')\n",
    "rs['income'] = pre23 # 내 모델의 예측 결과를 양식에 넣기\n",
    "rs.to_csv('Last23.csv', index = False)\n",
    "\n",
    "scores = cross_val_score(lgb, X_train_2, y_train_change, cv=5, scoring='accuracy')\n",
    "\n",
    "# 교차 검증 결과 출력\n",
    "print(\"교차 검증 정확도:\", scores)\n",
    "print(\"평균 정확도:\", scores.mean())"
   ]
  },
  {
   "cell_type": "code",
   "execution_count": 50,
   "id": "8f2e1d90",
   "metadata": {
    "ExecuteTime": {
     "end_time": "2023-05-31T07:34:35.661799Z",
     "start_time": "2023-05-31T07:34:32.434899Z"
    }
   },
   "outputs": [
    {
     "name": "stdout",
     "output_type": "stream",
     "text": [
      "교차 검증 정확도: [0.8816665  0.87890265 0.87735463 0.97952498 0.99191237]\n",
      "평균 정확도: 0.9218722242189331\n"
     ]
    }
   ],
   "source": [
    "y_t = np.concatenate([y_1, pre23])\n",
    "y_t = list(y_t)\n",
    "y_train_change=pd.Series(y_t)\n",
    "\n",
    "lgb.fit(X_train_2,y_train_change)\n",
    "\n",
    "pre24 = lgb.predict(X_test)\n",
    "# kaggle 양식 불러오기\n",
    "rs =  pd.read_csv('./data/kaggle/sample_submission.csv')\n",
    "rs['income'] = pre24 # 내 모델의 예측 결과를 양식에 넣기\n",
    "rs.to_csv('Last24.csv', index = False)\n",
    "\n",
    "scores = cross_val_score(lgb, X_train_2, y_train_change, cv=5, scoring='accuracy')\n",
    "\n",
    "# 교차 검증 결과 출력\n",
    "print(\"교차 검증 정확도:\", scores)\n",
    "print(\"평균 정확도:\", scores.mean())"
   ]
  },
  {
   "cell_type": "code",
   "execution_count": 51,
   "id": "86584808",
   "metadata": {
    "ExecuteTime": {
     "end_time": "2023-05-31T07:34:38.912129Z",
     "start_time": "2023-05-31T07:34:35.663794Z"
    }
   },
   "outputs": [
    {
     "name": "stdout",
     "output_type": "stream",
     "text": [
      "교차 검증 정확도: [0.88094994 0.87941447 0.87817363 0.9794226  0.99191237]\n",
      "평균 정확도: 0.9219746035131438\n"
     ]
    }
   ],
   "source": [
    "y_t = np.concatenate([y_1, pre24])\n",
    "y_t = list(y_t)\n",
    "y_train_change=pd.Series(y_t)\n",
    "\n",
    "lgb.fit(X_train_2,y_train_change)\n",
    "\n",
    "pre25 = lgb.predict(X_test)\n",
    "# kaggle 양식 불러오기\n",
    "rs =  pd.read_csv('./data/kaggle/sample_submission.csv')\n",
    "rs['income'] = pre25 # 내 모델의 예측 결과를 양식에 넣기\n",
    "rs.to_csv('Last25.csv', index = False)\n",
    "\n",
    "scores = cross_val_score(lgb, X_train_2, y_train_change, cv=5, scoring='accuracy')\n",
    "\n",
    "# 교차 검증 결과 출력\n",
    "print(\"교차 검증 정확도:\", scores)\n",
    "print(\"평균 정확도:\", scores.mean())"
   ]
  },
  {
   "cell_type": "code",
   "execution_count": 52,
   "id": "c74bbd42",
   "metadata": {
    "ExecuteTime": {
     "end_time": "2023-05-31T07:34:42.158469Z",
     "start_time": "2023-05-31T07:34:38.914124Z"
    }
   },
   "outputs": [
    {
     "name": "stdout",
     "output_type": "stream",
     "text": [
      "교차 검증 정확도: [0.88084758 0.8796192  0.87776413 0.98024161 0.99221949]\n",
      "평균 정확도: 0.9221384015810262\n"
     ]
    }
   ],
   "source": [
    "y_t = np.concatenate([y_1, pre25])\n",
    "y_t = list(y_t)\n",
    "y_train_change=pd.Series(y_t)\n",
    "\n",
    "lgb.fit(X_train_2,y_train_change)\n",
    "\n",
    "pre26 = lgb.predict(X_test)\n",
    "# kaggle 양식 불러오기\n",
    "rs =  pd.read_csv('./data/kaggle/sample_submission.csv')\n",
    "rs['income'] = pre26 # 내 모델의 예측 결과를 양식에 넣기\n",
    "rs.to_csv('Last26.csv', index = False)\n",
    "\n",
    "scores = cross_val_score(lgb, X_train_2, y_train_change, cv=5, scoring='accuracy')\n",
    "\n",
    "# 교차 검증 결과 출력\n",
    "print(\"교차 검증 정확도:\", scores)\n",
    "print(\"평균 정확도:\", scores.mean())"
   ]
  },
  {
   "cell_type": "code",
   "execution_count": null,
   "id": "71dd2565",
   "metadata": {},
   "outputs": [],
   "source": []
  },
  {
   "cell_type": "code",
   "execution_count": null,
   "id": "a3a9f721",
   "metadata": {},
   "outputs": [],
   "source": []
  },
  {
   "cell_type": "code",
   "execution_count": null,
   "id": "1914f9bd",
   "metadata": {},
   "outputs": [],
   "source": []
  }
 ],
 "metadata": {
  "kernelspec": {
   "display_name": "Python 3 (ipykernel)",
   "language": "python",
   "name": "python3"
  },
  "language_info": {
   "codemirror_mode": {
    "name": "ipython",
    "version": 3
   },
   "file_extension": ".py",
   "mimetype": "text/x-python",
   "name": "python",
   "nbconvert_exporter": "python",
   "pygments_lexer": "ipython3",
   "version": "3.9.13"
  },
  "toc": {
   "base_numbering": 1,
   "nav_menu": {},
   "number_sections": true,
   "sideBar": true,
   "skip_h1_title": false,
   "title_cell": "Table of Contents",
   "title_sidebar": "Contents",
   "toc_cell": false,
   "toc_position": {},
   "toc_section_display": true,
   "toc_window_display": false
  },
  "varInspector": {
   "cols": {
    "lenName": 16,
    "lenType": 16,
    "lenVar": 40
   },
   "kernels_config": {
    "python": {
     "delete_cmd_postfix": "",
     "delete_cmd_prefix": "del ",
     "library": "var_list.py",
     "varRefreshCmd": "print(var_dic_list())"
    },
    "r": {
     "delete_cmd_postfix": ") ",
     "delete_cmd_prefix": "rm(",
     "library": "var_list.r",
     "varRefreshCmd": "cat(var_dic_list()) "
    }
   },
   "types_to_exclude": [
    "module",
    "function",
    "builtin_function_or_method",
    "instance",
    "_Feature"
   ],
   "window_display": false
  }
 },
 "nbformat": 4,
 "nbformat_minor": 5
}
