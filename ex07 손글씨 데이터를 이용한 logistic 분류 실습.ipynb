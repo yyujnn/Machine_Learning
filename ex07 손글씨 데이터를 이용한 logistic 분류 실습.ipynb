{
 "cells": [
  {
   "cell_type": "markdown",
   "id": "8e520bd5",
   "metadata": {},
   "source": [
    "### 목표 설정\n",
    "- 0~9까지의 손글씨 숫자를 분류하는 모델을 만들어보자\n",
    "- 선형 분류모델의 불확실성\n",
    "- 이미지 데이터의 형태를 파악하고 이해해보자"
   ]
  },
  {
   "cell_type": "code",
   "execution_count": 1,
   "id": "421f06f7",
   "metadata": {
    "ExecuteTime": {
     "end_time": "2023-06-01T06:17:11.556042Z",
     "start_time": "2023-06-01T06:17:10.140361Z"
    }
   },
   "outputs": [],
   "source": [
    "# 필요한 라이브러리 불러오기\n",
    "import pandas as pd\n",
    "import numpy as np\n",
    "from matplotlib import pyplot as plt"
   ]
  },
  {
   "cell_type": "code",
   "execution_count": 2,
   "id": "3cf1633b",
   "metadata": {
    "ExecuteTime": {
     "end_time": "2023-06-01T06:17:13.773485Z",
     "start_time": "2023-06-01T06:17:11.556042Z"
    }
   },
   "outputs": [],
   "source": [
    "# 데이터 불러오기\n",
    "digit_data = pd.read_csv('./data/digit_train.csv')"
   ]
  },
  {
   "cell_type": "code",
   "execution_count": 3,
   "id": "aba471da",
   "metadata": {
    "ExecuteTime": {
     "end_time": "2023-06-01T06:17:13.807532Z",
     "start_time": "2023-06-01T06:17:13.775217Z"
    },
    "scrolled": true
   },
   "outputs": [
    {
     "data": {
      "text/html": [
       "<div>\n",
       "<style scoped>\n",
       "    .dataframe tbody tr th:only-of-type {\n",
       "        vertical-align: middle;\n",
       "    }\n",
       "\n",
       "    .dataframe tbody tr th {\n",
       "        vertical-align: top;\n",
       "    }\n",
       "\n",
       "    .dataframe thead th {\n",
       "        text-align: right;\n",
       "    }\n",
       "</style>\n",
       "<table border=\"1\" class=\"dataframe\">\n",
       "  <thead>\n",
       "    <tr style=\"text-align: right;\">\n",
       "      <th></th>\n",
       "      <th>label</th>\n",
       "      <th>pixel0</th>\n",
       "      <th>pixel1</th>\n",
       "      <th>pixel2</th>\n",
       "      <th>pixel3</th>\n",
       "      <th>pixel4</th>\n",
       "      <th>pixel5</th>\n",
       "      <th>pixel6</th>\n",
       "      <th>pixel7</th>\n",
       "      <th>pixel8</th>\n",
       "      <th>...</th>\n",
       "      <th>pixel774</th>\n",
       "      <th>pixel775</th>\n",
       "      <th>pixel776</th>\n",
       "      <th>pixel777</th>\n",
       "      <th>pixel778</th>\n",
       "      <th>pixel779</th>\n",
       "      <th>pixel780</th>\n",
       "      <th>pixel781</th>\n",
       "      <th>pixel782</th>\n",
       "      <th>pixel783</th>\n",
       "    </tr>\n",
       "  </thead>\n",
       "  <tbody>\n",
       "    <tr>\n",
       "      <th>0</th>\n",
       "      <td>1</td>\n",
       "      <td>0</td>\n",
       "      <td>0</td>\n",
       "      <td>0</td>\n",
       "      <td>0</td>\n",
       "      <td>0</td>\n",
       "      <td>0</td>\n",
       "      <td>0</td>\n",
       "      <td>0</td>\n",
       "      <td>0</td>\n",
       "      <td>...</td>\n",
       "      <td>0</td>\n",
       "      <td>0</td>\n",
       "      <td>0</td>\n",
       "      <td>0</td>\n",
       "      <td>0</td>\n",
       "      <td>0</td>\n",
       "      <td>0</td>\n",
       "      <td>0</td>\n",
       "      <td>0</td>\n",
       "      <td>0</td>\n",
       "    </tr>\n",
       "    <tr>\n",
       "      <th>1</th>\n",
       "      <td>0</td>\n",
       "      <td>0</td>\n",
       "      <td>0</td>\n",
       "      <td>0</td>\n",
       "      <td>0</td>\n",
       "      <td>0</td>\n",
       "      <td>0</td>\n",
       "      <td>0</td>\n",
       "      <td>0</td>\n",
       "      <td>0</td>\n",
       "      <td>...</td>\n",
       "      <td>0</td>\n",
       "      <td>0</td>\n",
       "      <td>0</td>\n",
       "      <td>0</td>\n",
       "      <td>0</td>\n",
       "      <td>0</td>\n",
       "      <td>0</td>\n",
       "      <td>0</td>\n",
       "      <td>0</td>\n",
       "      <td>0</td>\n",
       "    </tr>\n",
       "    <tr>\n",
       "      <th>2</th>\n",
       "      <td>1</td>\n",
       "      <td>0</td>\n",
       "      <td>0</td>\n",
       "      <td>0</td>\n",
       "      <td>0</td>\n",
       "      <td>0</td>\n",
       "      <td>0</td>\n",
       "      <td>0</td>\n",
       "      <td>0</td>\n",
       "      <td>0</td>\n",
       "      <td>...</td>\n",
       "      <td>0</td>\n",
       "      <td>0</td>\n",
       "      <td>0</td>\n",
       "      <td>0</td>\n",
       "      <td>0</td>\n",
       "      <td>0</td>\n",
       "      <td>0</td>\n",
       "      <td>0</td>\n",
       "      <td>0</td>\n",
       "      <td>0</td>\n",
       "    </tr>\n",
       "    <tr>\n",
       "      <th>3</th>\n",
       "      <td>4</td>\n",
       "      <td>0</td>\n",
       "      <td>0</td>\n",
       "      <td>0</td>\n",
       "      <td>0</td>\n",
       "      <td>0</td>\n",
       "      <td>0</td>\n",
       "      <td>0</td>\n",
       "      <td>0</td>\n",
       "      <td>0</td>\n",
       "      <td>...</td>\n",
       "      <td>0</td>\n",
       "      <td>0</td>\n",
       "      <td>0</td>\n",
       "      <td>0</td>\n",
       "      <td>0</td>\n",
       "      <td>0</td>\n",
       "      <td>0</td>\n",
       "      <td>0</td>\n",
       "      <td>0</td>\n",
       "      <td>0</td>\n",
       "    </tr>\n",
       "    <tr>\n",
       "      <th>4</th>\n",
       "      <td>0</td>\n",
       "      <td>0</td>\n",
       "      <td>0</td>\n",
       "      <td>0</td>\n",
       "      <td>0</td>\n",
       "      <td>0</td>\n",
       "      <td>0</td>\n",
       "      <td>0</td>\n",
       "      <td>0</td>\n",
       "      <td>0</td>\n",
       "      <td>...</td>\n",
       "      <td>0</td>\n",
       "      <td>0</td>\n",
       "      <td>0</td>\n",
       "      <td>0</td>\n",
       "      <td>0</td>\n",
       "      <td>0</td>\n",
       "      <td>0</td>\n",
       "      <td>0</td>\n",
       "      <td>0</td>\n",
       "      <td>0</td>\n",
       "    </tr>\n",
       "  </tbody>\n",
       "</table>\n",
       "<p>5 rows × 785 columns</p>\n",
       "</div>"
      ],
      "text/plain": [
       "   label  pixel0  pixel1  pixel2  pixel3  pixel4  pixel5  pixel6  pixel7  \\\n",
       "0      1       0       0       0       0       0       0       0       0   \n",
       "1      0       0       0       0       0       0       0       0       0   \n",
       "2      1       0       0       0       0       0       0       0       0   \n",
       "3      4       0       0       0       0       0       0       0       0   \n",
       "4      0       0       0       0       0       0       0       0       0   \n",
       "\n",
       "   pixel8  ...  pixel774  pixel775  pixel776  pixel777  pixel778  pixel779  \\\n",
       "0       0  ...         0         0         0         0         0         0   \n",
       "1       0  ...         0         0         0         0         0         0   \n",
       "2       0  ...         0         0         0         0         0         0   \n",
       "3       0  ...         0         0         0         0         0         0   \n",
       "4       0  ...         0         0         0         0         0         0   \n",
       "\n",
       "   pixel780  pixel781  pixel782  pixel783  \n",
       "0         0         0         0         0  \n",
       "1         0         0         0         0  \n",
       "2         0         0         0         0  \n",
       "3         0         0         0         0  \n",
       "4         0         0         0         0  \n",
       "\n",
       "[5 rows x 785 columns]"
      ]
     },
     "execution_count": 3,
     "metadata": {},
     "output_type": "execute_result"
    }
   ],
   "source": [
    "digit_data.head() "
   ]
  },
  {
   "cell_type": "code",
   "execution_count": 4,
   "id": "b8e0d7c0",
   "metadata": {
    "ExecuteTime": {
     "end_time": "2023-06-01T06:17:13.827937Z",
     "start_time": "2023-06-01T06:17:13.809555Z"
    }
   },
   "outputs": [
    {
     "data": {
      "text/plain": [
       "(42000, 785)"
      ]
     },
     "execution_count": 4,
     "metadata": {},
     "output_type": "execute_result"
    }
   ],
   "source": [
    "digit_data.shape"
   ]
  },
  {
   "cell_type": "markdown",
   "id": "ad091b41",
   "metadata": {},
   "source": [
    "### EDA(탐색적 데이터 분석)"
   ]
  },
  {
   "cell_type": "code",
   "execution_count": 5,
   "id": "503bb499",
   "metadata": {
    "ExecuteTime": {
     "end_time": "2023-06-01T06:17:13.842902Z",
     "start_time": "2023-06-01T06:17:13.827937Z"
    }
   },
   "outputs": [],
   "source": [
    "img0 = digit_data.iloc[ 0, 1:] # 0번째 행의 정답 제외한 모든 컬럼"
   ]
  },
  {
   "cell_type": "code",
   "execution_count": 6,
   "id": "efe394e5",
   "metadata": {
    "ExecuteTime": {
     "end_time": "2023-06-01T06:17:13.850113Z",
     "start_time": "2023-06-01T06:17:13.844898Z"
    }
   },
   "outputs": [
    {
     "name": "stdout",
     "output_type": "stream",
     "text": [
      "255\n",
      "0\n"
     ]
    }
   ],
   "source": [
    "# img0의 최대값과 최소값 알아보자\n",
    "print(img0.max())\n",
    "print(img0.min()) # RGB 255 -white/ 0-black"
   ]
  },
  {
   "cell_type": "code",
   "execution_count": 7,
   "id": "79d7648c",
   "metadata": {
    "ExecuteTime": {
     "end_time": "2023-06-01T06:17:14.424278Z",
     "start_time": "2023-06-01T06:17:13.850113Z"
    }
   },
   "outputs": [
    {
     "data": {
      "image/png": "[encoded data removed]",
      "text/plain": [
       "<Figure size 640x480 with 1 Axes>"
      ]
     },
     "metadata": {},
     "output_type": "display_data"
    }
   ],
   "source": [
    "# 데이터의 분포도 확인하기(히스토그램)  = 도수분포표 : 데이터가 얼마나 있는지 표로 확인\n",
    "plt.hist(img0, bins=255)\n",
    "plt.show()"
   ]
  },
  {
   "cell_type": "code",
   "execution_count": 8,
   "id": "81056c89",
   "metadata": {
    "ExecuteTime": {
     "end_time": "2023-06-01T06:17:14.576978Z",
     "start_time": "2023-06-01T06:17:14.427949Z"
    }
   },
   "outputs": [
    {
     "data": {
      "text/plain": [
       "<function matplotlib.pyplot.show(close=None, block=None)>"
      ]
     },
     "execution_count": 8,
     "metadata": {},
     "output_type": "execute_result"
    },
    {
     "data": {
      "image/png": "[encoded data removed]",
      "text/plain": [
       "<Figure size 640x480 with 1 Axes>"
      ]
     },
     "metadata": {},
     "output_type": "display_data"
    }
   ],
   "source": [
    "# 이미지로 출력해보기\n",
    "plt.imshow(img0.values.reshape(28,28), cmap='gray')\n",
    "plt.show"
   ]
  },
  {
   "cell_type": "code",
   "execution_count": 9,
   "id": "0f368223",
   "metadata": {
    "ExecuteTime": {
     "end_time": "2023-06-01T06:17:14.741809Z",
     "start_time": "2023-06-01T06:17:14.578966Z"
    },
    "scrolled": true
   },
   "outputs": [
    {
     "data": {
      "text/plain": [
       "<function matplotlib.pyplot.show(close=None, block=None)>"
      ]
     },
     "execution_count": 9,
     "metadata": {},
     "output_type": "execute_result"
    },
    {
     "data": {
      "image/png": "[encoded data removed]",
      "text/plain": [
       "<Figure size 640x480 with 1 Axes>"
      ]
     },
     "metadata": {},
     "output_type": "display_data"
    }
   ],
   "source": [
    "img0 = digit_data.iloc[22222,1:]\n",
    "# 이미지로 출력해보기\n",
    "plt.imshow(img0.values.reshape(28,28), cmap='gray')\n",
    "plt.show"
   ]
  },
  {
   "cell_type": "code",
   "execution_count": 10,
   "id": "c58cdc0c",
   "metadata": {
    "ExecuteTime": {
     "end_time": "2023-06-01T06:17:14.750343Z",
     "start_time": "2023-06-01T06:17:14.743806Z"
    }
   },
   "outputs": [
    {
     "name": "stdout",
     "output_type": "stream",
     "text": [
      "7\n"
     ]
    }
   ],
   "source": [
    "print(digit_data.iloc[22222,0])"
   ]
  },
  {
   "cell_type": "code",
   "execution_count": 11,
   "id": "75560bc3",
   "metadata": {
    "ExecuteTime": {
     "end_time": "2023-06-01T06:17:14.892183Z",
     "start_time": "2023-06-01T06:17:14.750343Z"
    }
   },
   "outputs": [
    {
     "data": {
      "text/plain": [
       "<function matplotlib.pyplot.show(close=None, block=None)>"
      ]
     },
     "execution_count": 11,
     "metadata": {},
     "output_type": "execute_result"
    },
    {
     "data": {
      "image/png": "[encoded data removed]",
      "text/plain": [
       "<Figure size 640x480 with 1 Axes>"
      ]
     },
     "metadata": {},
     "output_type": "display_data"
    }
   ],
   "source": [
    "img0 = digit_data.iloc[179,1:]\n",
    "# 이미지로 출력해보기\n",
    "plt.imshow(img0.values.reshape(28,28), cmap='gray')\n",
    "plt.show"
   ]
  },
  {
   "cell_type": "code",
   "execution_count": 12,
   "id": "04e4d43c",
   "metadata": {
    "ExecuteTime": {
     "end_time": "2023-06-01T06:17:14.898753Z",
     "start_time": "2023-06-01T06:17:14.894202Z"
    }
   },
   "outputs": [
    {
     "name": "stdout",
     "output_type": "stream",
     "text": [
      "6\n"
     ]
    }
   ],
   "source": [
    "print(digit_data.iloc[179,0])"
   ]
  },
  {
   "cell_type": "markdown",
   "id": "da0cce58",
   "metadata": {},
   "source": [
    "### 5000장 추출"
   ]
  },
  {
   "cell_type": "code",
   "execution_count": 13,
   "id": "34975e2b",
   "metadata": {
    "ExecuteTime": {
     "end_time": "2023-06-01T06:17:14.914450Z",
     "start_time": "2023-06-01T06:17:14.898753Z"
    }
   },
   "outputs": [
    {
     "name": "stdout",
     "output_type": "stream",
     "text": [
      "(5000, 784)\n",
      "(5000,)\n"
     ]
    }
   ],
   "source": [
    "X = digit_data.iloc[:5000, 1:]\n",
    "y = digit_data.iloc[:5000, 0]\n",
    "print(X.shape)\n",
    "print(y.shape)"
   ]
  },
  {
   "cell_type": "code",
   "execution_count": 14,
   "id": "97f3260e",
   "metadata": {
    "ExecuteTime": {
     "end_time": "2023-06-01T06:17:15.750690Z",
     "start_time": "2023-06-01T06:17:14.915936Z"
    }
   },
   "outputs": [],
   "source": [
    "# 데이터 분할\n",
    "# train_test_split, 7:3, 랜덤시드 : 7\n",
    "from sklearn.model_selection import train_test_split\n",
    "X_train, X_test, y_train, y_test = train_test_split(X, y, test_size = 0.3, random_state= 7 )"
   ]
  },
  {
   "cell_type": "code",
   "execution_count": 15,
   "id": "0dd36404",
   "metadata": {
    "ExecuteTime": {
     "end_time": "2023-06-01T06:17:15.765421Z",
     "start_time": "2023-06-01T06:17:15.752087Z"
    }
   },
   "outputs": [
    {
     "name": "stdout",
     "output_type": "stream",
     "text": [
      "(3500, 784)\n",
      "(1500, 784)\n",
      "(3500,)\n",
      "(1500,)\n"
     ]
    }
   ],
   "source": [
    "print(X_train.shape)\n",
    "print(X_test.shape)\n",
    "print(y_train.shape)\n",
    "print(y_test.shape)"
   ]
  },
  {
   "cell_type": "markdown",
   "id": "944661ab",
   "metadata": {},
   "source": [
    "### 모델링(교차검증)"
   ]
  },
  {
   "cell_type": "markdown",
   "id": "f3cc87e8",
   "metadata": {},
   "source": [
    "1. KNN\n",
    "2. Decision Tree\n",
    "3. Logistic Regression"
   ]
  },
  {
   "cell_type": "code",
   "execution_count": 16,
   "id": "1c48694e",
   "metadata": {
    "ExecuteTime": {
     "end_time": "2023-06-01T06:36:25.148751Z",
     "start_time": "2023-06-01T06:36:25.129807Z"
    }
   },
   "outputs": [],
   "source": [
    "# 필요한 모델 import(모델은 기본)\n",
    "# KNN\n",
    "from sklearn.neighbors import KNeighborsClassifier\n",
    "# Tree\n",
    "from sklearn.tree import DecisionTreeClassifier\n",
    "# Logistic \n",
    "from sklearn.linear_model import LogisticRegression"
   ]
  },
  {
   "cell_type": "code",
   "execution_count": 17,
   "id": "4c1cfc4d",
   "metadata": {
    "ExecuteTime": {
     "end_time": "2023-06-01T06:39:54.774308Z",
     "start_time": "2023-06-01T06:39:54.769346Z"
    }
   },
   "outputs": [],
   "source": [
    "# 모델 객체 생성(모델은 기본 모델)\n",
    "knn_model = KNeighborsClassifier()\n",
    "tree_model = DecisionTreeClassifier()\n",
    "logi_model = LogisticRegression()"
   ]
  },
  {
   "cell_type": "code",
   "execution_count": 20,
   "id": "3ea41b71",
   "metadata": {
    "ExecuteTime": {
     "end_time": "2023-06-01T06:43:27.091603Z",
     "start_time": "2023-06-01T06:43:27.073595Z"
    }
   },
   "outputs": [],
   "source": [
    "# 경고창 무시\n",
    "import warnings\n",
    "warnings.filterwarnings('ignore')"
   ]
  },
  {
   "cell_type": "code",
   "execution_count": 21,
   "id": "8a4b8660",
   "metadata": {
    "ExecuteTime": {
     "end_time": "2023-06-01T06:43:36.583038Z",
     "start_time": "2023-06-01T06:43:29.504186Z"
    }
   },
   "outputs": [],
   "source": [
    "# 교차검증\n",
    "from sklearn.model_selection import cross_val_score\n",
    "knn_model.fit(X_train, y_train)\n",
    "tree_model.fit(X_train, y_train)\n",
    "logi_model.fit(X_train, y_train)\n",
    "\n",
    "knn_result = cross_val_score(knn_model, X_train, y_train, cv= 5)\n",
    "tree_result = cross_val_score(tree_model, X_train, y_train, cv= 5)\n",
    "logi_result = cross_val_score(logi_model, X_train, y_train, cv= 5)"
   ]
  },
  {
   "cell_type": "code",
   "execution_count": 22,
   "id": "fb9f8579",
   "metadata": {
    "ExecuteTime": {
     "end_time": "2023-06-01T06:43:38.307160Z",
     "start_time": "2023-06-01T06:43:38.288842Z"
    }
   },
   "outputs": [
    {
     "name": "stdout",
     "output_type": "stream",
     "text": [
      "[0.92142857 0.91857143 0.90857143 0.93285714 0.91142857]\n",
      "0.9185714285714285\n",
      "[0.76428571 0.71142857 0.72857143 0.76       0.73      ]\n",
      "0.7388571428571429\n",
      "[0.89285714 0.85714286 0.87428571 0.87428571 0.88142857]\n",
      "0.8760000000000001\n"
     ]
    }
   ],
   "source": [
    "# 교차검증 결과 출력\n",
    "print(knn_result)\n",
    "print(knn_result.mean())\n",
    "print(tree_result)\n",
    "print(tree_result.mean())\n",
    "print(logi_result)\n",
    "print(logi_result.mean())"
   ]
  },
  {
   "cell_type": "markdown",
   "id": "4772cfa2",
   "metadata": {},
   "source": [
    "### 스케일링"
   ]
  },
  {
   "cell_type": "code",
   "execution_count": 23,
   "id": "fcd24f24",
   "metadata": {
    "ExecuteTime": {
     "end_time": "2023-06-01T06:57:08.652768Z",
     "start_time": "2023-06-01T06:57:08.640610Z"
    }
   },
   "outputs": [],
   "source": [
    "# MinMaxScaler\n",
    "from sklearn.preprocessing import MinMaxScaler"
   ]
  },
  {
   "cell_type": "code",
   "execution_count": 24,
   "id": "66981abf",
   "metadata": {
    "ExecuteTime": {
     "end_time": "2023-06-01T06:57:24.447869Z",
     "start_time": "2023-06-01T06:57:24.439882Z"
    }
   },
   "outputs": [],
   "source": [
    "# 스케일러 객체 생성\n",
    "minmax = MinMaxScaler()"
   ]
  },
  {
   "cell_type": "code",
   "execution_count": 25,
   "id": "15a163b8",
   "metadata": {
    "ExecuteTime": {
     "end_time": "2023-06-01T06:57:50.198805Z",
     "start_time": "2023-06-01T06:57:50.159366Z"
    }
   },
   "outputs": [
    {
     "data": {
      "text/plain": [
       "MinMaxScaler()"
      ]
     },
     "execution_count": 25,
     "metadata": {},
     "output_type": "execute_result"
    }
   ],
   "source": [
    "# 학습진행\n",
    "minmax.fit(X_train)"
   ]
  },
  {
   "cell_type": "code",
   "execution_count": 26,
   "id": "c62e1879",
   "metadata": {
    "ExecuteTime": {
     "end_time": "2023-06-01T07:00:50.455206Z",
     "start_time": "2023-06-01T07:00:50.415056Z"
    }
   },
   "outputs": [],
   "source": [
    "# 데이터 변환 -> 스케일링 적용\n",
    "X_train_scale = minmax.transform(X_train)\n",
    "X_test_scale = minmax.transform(X_test)"
   ]
  },
  {
   "cell_type": "code",
   "execution_count": 27,
   "id": "1848867b",
   "metadata": {
    "ExecuteTime": {
     "end_time": "2023-06-01T07:16:44.958186Z",
     "start_time": "2023-06-01T07:16:44.822531Z"
    }
   },
   "outputs": [
    {
     "data": {
      "text/plain": [
       "(array([570.,  16.,  11.,   8.,   6.,  20.,  15.,   8.,  11., 119.]),\n",
       " array([0. , 0.1, 0.2, 0.3, 0.4, 0.5, 0.6, 0.7, 0.8, 0.9, 1. ]),\n",
       " <BarContainer object of 10 artists>)"
      ]
     },
     "execution_count": 27,
     "metadata": {},
     "output_type": "execute_result"
    },
    {
     "data": {
      "image/png": "[encoded data removed]",
      "text/plain": [
       "<Figure size 640x480 with 1 Axes>"
      ]
     },
     "metadata": {},
     "output_type": "display_data"
    }
   ],
   "source": [
    "# 스케일링 된 데이터를 시각화 해보자\n",
    "plt.hist(X_train_scale[0])"
   ]
  },
  {
   "cell_type": "code",
   "execution_count": 28,
   "id": "10c719ac",
   "metadata": {
    "ExecuteTime": {
     "end_time": "2023-06-01T07:21:43.718518Z",
     "start_time": "2023-06-01T07:21:40.437172Z"
    }
   },
   "outputs": [],
   "source": [
    "# 스케일링을 적용한 데이터로 교차검증을 해보자(KNN, Logistic)\n",
    "knn_model2 = cross_val_score(knn_model, X_train_scale, y_train, cv=5)\n",
    "logi_model2 = cross_val_score(logi_model, X_train_scale, y_train, cv=5)"
   ]
  },
  {
   "cell_type": "code",
   "execution_count": 29,
   "id": "4c962d7b",
   "metadata": {
    "ExecuteTime": {
     "end_time": "2023-06-01T07:22:04.004689Z",
     "start_time": "2023-06-01T07:22:03.988920Z"
    }
   },
   "outputs": [
    {
     "name": "stdout",
     "output_type": "stream",
     "text": [
      "0.9179999999999999\n",
      "0.8960000000000001\n"
     ]
    }
   ],
   "source": [
    "print(knn_model2.mean())\n",
    "print(logi_model2.mean())"
   ]
  },
  {
   "cell_type": "markdown",
   "id": "e4e8d733",
   "metadata": {},
   "source": [
    "### test score 확인"
   ]
  },
  {
   "cell_type": "code",
   "execution_count": 31,
   "id": "48fb31a5",
   "metadata": {
    "ExecuteTime": {
     "end_time": "2023-06-01T07:33:32.768394Z",
     "start_time": "2023-06-01T07:33:31.547471Z"
    }
   },
   "outputs": [
    {
     "data": {
      "text/plain": [
       "LogisticRegression()"
      ]
     },
     "execution_count": 31,
     "metadata": {},
     "output_type": "execute_result"
    }
   ],
   "source": [
    "# 모델 학습 진행(데이터가 어떤 게 들어가야할지 생각하면서 학습을 진행해보자)\n",
    "# 거리기반 모델은 스케일링을 해주면 좋다.\n",
    "knn_model.fit(X_train_scale, y_train) # 최근접 이웃 알고리즘 -> 거리기반 -> O\n",
    "tree_model.fit(X_train, y_train) # 의사결정나무 -> 거리기반 X\n",
    "logi_model.fit(X_train_scale, y_train) # 거리기반 모델 -> 스케일링한 데이터"
   ]
  },
  {
   "cell_type": "code",
   "execution_count": 33,
   "id": "1c6e22b7",
   "metadata": {
    "ExecuteTime": {
     "end_time": "2023-06-01T07:34:28.586377Z",
     "start_time": "2023-06-01T07:34:28.349250Z"
    }
   },
   "outputs": [
    {
     "name": "stdout",
     "output_type": "stream",
     "text": [
      "0.9113333333333333\n",
      "0.754\n",
      "0.8846666666666667\n"
     ]
    }
   ],
   "source": [
    "# 모델 평가(score 함수 이용)\n",
    "print (knn_model.score(X_test_scale, y_test))\n",
    "print (tree_model.score(X_test, y_test))\n",
    "print (logi_model.score(X_test_scale, y_test))"
   ]
  },
  {
   "cell_type": "markdown",
   "id": "83df69c3",
   "metadata": {},
   "source": [
    "### 분류 예측의 불 확실성"
   ]
  },
  {
   "cell_type": "code",
   "execution_count": 34,
   "id": "c266123e",
   "metadata": {
    "ExecuteTime": {
     "end_time": "2023-06-01T07:42:52.844064Z",
     "start_time": "2023-06-01T07:42:52.806156Z"
    },
    "collapsed": true
   },
   "outputs": [
    {
     "data": {
      "text/plain": [
       "array([[0.2, 0. , 0. , 0. , 0. , 0. , 0. , 0. , 0. , 0.8],\n",
       "       [0. , 0. , 0. , 0. , 0.2, 0. , 0. , 0.4, 0.2, 0.2],\n",
       "       [0.2, 0.2, 0. , 0. , 0. , 0.2, 0. , 0. , 0.4, 0. ],\n",
       "       [0. , 0. , 0. , 0. , 0.2, 0. , 0. , 0.6, 0. , 0.2],\n",
       "       [1. , 0. , 0. , 0. , 0. , 0. , 0. , 0. , 0. , 0. ],\n",
       "       [0.6, 0. , 0. , 0. , 0. , 0. , 0.4, 0. , 0. , 0. ],\n",
       "       [0.2, 0. , 0.2, 0. , 0. , 0. , 0.2, 0. , 0.2, 0.2],\n",
       "       [0. , 0. , 0.2, 0. , 0. , 0. , 0. , 0.8, 0. , 0. ],\n",
       "       [0. , 0. , 0. , 0. , 0. , 0. , 0. , 0. , 0.8, 0.2],\n",
       "       [0. , 0. , 0. , 0. , 1. , 0. , 0. , 0. , 0. , 0. ],\n",
       "       [0. , 0. , 0. , 0.2, 0. , 0.2, 0. , 0.2, 0.4, 0. ],\n",
       "       [0. , 0. , 1. , 0. , 0. , 0. , 0. , 0. , 0. , 0. ],\n",
       "       [0. , 0. , 0.8, 0. , 0. , 0. , 0. , 0. , 0. , 0.2],\n",
       "       [0. , 0. , 0. , 0. , 0.4, 0.2, 0. , 0.2, 0. , 0.2],\n",
       "       [0. , 0. , 0.4, 0. , 0. , 0.2, 0.2, 0. , 0. , 0.2],\n",
       "       [0.8, 0. , 0. , 0. , 0. , 0. , 0. , 0. , 0. , 0.2],\n",
       "       [1. , 0. , 0. , 0. , 0. , 0. , 0. , 0. , 0. , 0. ],\n",
       "       [0. , 0. , 0. , 0. , 1. , 0. , 0. , 0. , 0. , 0. ],\n",
       "       [0. , 0. , 0. , 0. , 0. , 0. , 0. , 1. , 0. , 0. ],\n",
       "       [0.2, 0. , 0.8, 0. , 0. , 0. , 0. , 0. , 0. , 0. ],\n",
       "       [0. , 0. , 1. , 0. , 0. , 0. , 0. , 0. , 0. , 0. ],\n",
       "       [1. , 0. , 0. , 0. , 0. , 0. , 0. , 0. , 0. , 0. ],\n",
       "       [0.2, 0. , 0. , 0. , 0. , 0. , 0.8, 0. , 0. , 0. ],\n",
       "       [0.2, 0. , 0. , 0. , 0. , 0.2, 0. , 0. , 0.4, 0.2],\n",
       "       [0. , 0. , 0. , 0. , 0.8, 0. , 0. , 0. , 0. , 0.2],\n",
       "       [0.2, 0. , 0. , 0. , 0.6, 0. , 0. , 0. , 0. , 0.2],\n",
       "       [1. , 0. , 0. , 0. , 0. , 0. , 0. , 0. , 0. , 0. ],\n",
       "       [0. , 0.2, 0.2, 0. , 0. , 0. , 0. , 0.2, 0.4, 0. ],\n",
       "       [0. , 1. , 0. , 0. , 0. , 0. , 0. , 0. , 0. , 0. ],\n",
       "       [0. , 0. , 0. , 0.4, 0. , 0. , 0. , 0.4, 0.2, 0. ]])"
      ]
     },
     "execution_count": 34,
     "metadata": {},
     "output_type": "execute_result"
    }
   ],
   "source": [
    "# predict_proba : 분류모델의 예측 확률을 보여주는 기능\n",
    "knn_model.predict_proba(X_test[50:80])"
   ]
  },
  {
   "cell_type": "code",
   "execution_count": 35,
   "id": "5feed655",
   "metadata": {
    "ExecuteTime": {
     "end_time": "2023-06-01T07:53:58.932588Z",
     "start_time": "2023-06-01T07:53:58.791490Z"
    }
   },
   "outputs": [
    {
     "data": {
      "image/png": "[encoded data removed]",
      "text/plain": [
       "<Figure size 640x480 with 1 Axes>"
      ]
     },
     "metadata": {},
     "output_type": "display_data"
    }
   ],
   "source": [
    "img0 = X_test.iloc[50]\n",
    "plt.imshow(img0.values.reshape(28,28),cmap='gray' )\n",
    "plt.show()"
   ]
  },
  {
   "cell_type": "code",
   "execution_count": null,
   "id": "27317359",
   "metadata": {},
   "outputs": [],
   "source": []
  },
  {
   "cell_type": "code",
   "execution_count": null,
   "id": "368a42ce",
   "metadata": {},
   "outputs": [],
   "source": []
  },
  {
   "cell_type": "code",
   "execution_count": null,
   "id": "8af1a2ea",
   "metadata": {},
   "outputs": [],
   "source": []
  },
  {
   "cell_type": "code",
   "execution_count": null,
   "id": "e9d2d870",
   "metadata": {},
   "outputs": [],
   "source": []
  },
  {
   "cell_type": "code",
   "execution_count": null,
   "id": "56869599",
   "metadata": {},
   "outputs": [],
   "source": []
  },
  {
   "cell_type": "code",
   "execution_count": null,
   "id": "ba3e0f10",
   "metadata": {},
   "outputs": [],
   "source": []
  },
  {
   "cell_type": "code",
   "execution_count": null,
   "id": "a3e6b040",
   "metadata": {},
   "outputs": [],
   "source": []
  },
  {
   "cell_type": "code",
   "execution_count": null,
   "id": "2d2845ba",
   "metadata": {},
   "outputs": [],
   "source": []
  },
  {
   "cell_type": "code",
   "execution_count": null,
   "id": "712a56aa",
   "metadata": {},
   "outputs": [],
   "source": []
  },
  {
   "cell_type": "code",
   "execution_count": null,
   "id": "e1817506",
   "metadata": {},
   "outputs": [],
   "source": []
  },
  {
   "cell_type": "code",
   "execution_count": null,
   "id": "c20ae639",
   "metadata": {},
   "outputs": [],
   "source": []
  },
  {
   "cell_type": "code",
   "execution_count": null,
   "id": "91397d83",
   "metadata": {},
   "outputs": [],
   "source": []
  },
  {
   "cell_type": "code",
   "execution_count": null,
   "id": "a97c7faf",
   "metadata": {},
   "outputs": [],
   "source": []
  },
  {
   "cell_type": "code",
   "execution_count": null,
   "id": "2cb9e78f",
   "metadata": {},
   "outputs": [],
   "source": []
  },
  {
   "cell_type": "code",
   "execution_count": null,
   "id": "c7c332d2",
   "metadata": {},
   "outputs": [],
   "source": []
  },
  {
   "cell_type": "code",
   "execution_count": null,
   "id": "c1ca505b",
   "metadata": {},
   "outputs": [],
   "source": []
  },
  {
   "cell_type": "code",
   "execution_count": null,
   "id": "1df07a90",
   "metadata": {},
   "outputs": [],
   "source": []
  },
  {
   "cell_type": "code",
   "execution_count": null,
   "id": "938f2486",
   "metadata": {},
   "outputs": [],
   "source": []
  },
  {
   "cell_type": "code",
   "execution_count": null,
   "id": "f1f05e02",
   "metadata": {},
   "outputs": [],
   "source": []
  },
  {
   "cell_type": "code",
   "execution_count": null,
   "id": "37ffa109",
   "metadata": {},
   "outputs": [],
   "source": []
  },
  {
   "cell_type": "code",
   "execution_count": null,
   "id": "f7801e9d",
   "metadata": {},
   "outputs": [],
   "source": []
  },
  {
   "cell_type": "code",
   "execution_count": null,
   "id": "edf9ff4b",
   "metadata": {},
   "outputs": [],
   "source": []
  },
  {
   "cell_type": "code",
   "execution_count": null,
   "id": "ae9643e5",
   "metadata": {},
   "outputs": [],
   "source": []
  },
  {
   "cell_type": "code",
   "execution_count": null,
   "id": "52c85527",
   "metadata": {},
   "outputs": [],
   "source": []
  },
  {
   "cell_type": "code",
   "execution_count": null,
   "id": "a9ce3a18",
   "metadata": {},
   "outputs": [],
   "source": []
  },
  {
   "cell_type": "code",
   "execution_count": null,
   "id": "cd5b05e9",
   "metadata": {},
   "outputs": [],
   "source": []
  }
 ],
 "metadata": {
  "kernelspec": {
   "display_name": "Python 3 (ipykernel)",
   "language": "python",
   "name": "python3"
  },
  "language_info": {
   "codemirror_mode": {
    "name": "ipython",
    "version": 3
   },
   "file_extension": ".py",
   "mimetype": "text/x-python",
   "name": "python",
   "nbconvert_exporter": "python",
   "pygments_lexer": "ipython3",
   "version": "3.9.13"
  },
  "toc": {
   "base_numbering": 1,
   "nav_menu": {},
   "number_sections": true,
   "sideBar": true,
   "skip_h1_title": false,
   "title_cell": "Table of Contents",
   "title_sidebar": "Contents",
   "toc_cell": false,
   "toc_position": {},
   "toc_section_display": true,
   "toc_window_display": false
  },
  "varInspector": {
   "cols": {
    "lenName": 16,
    "lenType": 16,
    "lenVar": 40
   },
   "kernels_config": {
    "python": {
     "delete_cmd_postfix": "",
     "delete_cmd_prefix": "del ",
     "library": "var_list.py",
     "varRefreshCmd": "print(var_dic_list())"
    },
    "r": {
     "delete_cmd_postfix": ") ",
     "delete_cmd_prefix": "rm(",
     "library": "var_list.r",
     "varRefreshCmd": "cat(var_dic_list()) "
    }
   },
   "types_to_exclude": [
    "module",
    "function",
    "builtin_function_or_method",
    "instance",
    "_Feature"
   ],
   "window_display": false
  }
 },
 "nbformat": 4,
 "nbformat_minor": 5
}
